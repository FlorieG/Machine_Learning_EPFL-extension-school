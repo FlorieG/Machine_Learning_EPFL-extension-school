{
 "cells": [
  {
   "cell_type": "markdown",
   "id": "0dd819cb-2cad-4b5c-8b28-285e84812224",
   "metadata": {},
   "source": [
    "# Advanced Scikit- learn\n",
    "## 01 Welcome\n",
    "\n",
    "In the previous chapters you learned about multiple individual ways of how you can use scikit-learn to do machine learning. In this next subject we want to go one step further and show you a few tips and tricks of how you can optimize and streamline this procedure.\n",
    "\n",
    "Except for the first unit about Pipelines, all the other units are optional. While they teach you great ways of how you can automate your machine learning training, they might not always be needed at the beginning of a new data science project."
   ]
  },
  {
   "cell_type": "markdown",
   "id": "41857002-0e21-4844-ad62-72f61c29cd5e",
   "metadata": {},
   "source": [
    "## 02 Piepelines\n",
    "\n",
    "So far, we used Scikit-learn for its ML **estimators** like the LinearRegression or Ridge ones and saw a few examples of **transformers** with the StandardScaler and PolynomialFeatures objects. In this unit and the next ones, we will see how to assemble Scikit-learn estimators and transformers into a full **ML pipeline**.\n",
    "\n",
    "In this unit, we will see how to use the **Pipeline** object from Scikit-learn using the bike sharing data.\n",
    "\n",
    "### Encapsulating preprocessing steps\n",
    "\n",
    "Let’s start by loading the data.\n"
   ]
  },
  {
   "cell_type": "code",
   "execution_count": 2,
   "id": "79b69e28-940b-453e-86df-862665c16e98",
   "metadata": {},
   "outputs": [
    {
     "data": {
      "text/html": [
       "<div>\n",
       "<style scoped>\n",
       "    .dataframe tbody tr th:only-of-type {\n",
       "        vertical-align: middle;\n",
       "    }\n",
       "\n",
       "    .dataframe tbody tr th {\n",
       "        vertical-align: top;\n",
       "    }\n",
       "\n",
       "    .dataframe thead th {\n",
       "        text-align: right;\n",
       "    }\n",
       "</style>\n",
       "<table border=\"1\" class=\"dataframe\">\n",
       "  <thead>\n",
       "    <tr style=\"text-align: right;\">\n",
       "      <th></th>\n",
       "      <th>temp</th>\n",
       "      <th>hum</th>\n",
       "      <th>windspeed</th>\n",
       "      <th>yr</th>\n",
       "      <th>workingday</th>\n",
       "      <th>holiday</th>\n",
       "      <th>weekday</th>\n",
       "      <th>season</th>\n",
       "      <th>weathersit</th>\n",
       "      <th>casual</th>\n",
       "    </tr>\n",
       "  </thead>\n",
       "  <tbody>\n",
       "    <tr>\n",
       "      <th>0</th>\n",
       "      <td>0.344</td>\n",
       "      <td>0.806</td>\n",
       "      <td>0.160</td>\n",
       "      <td>2011</td>\n",
       "      <td>no</td>\n",
       "      <td>no</td>\n",
       "      <td>6</td>\n",
       "      <td>spring</td>\n",
       "      <td>cloudy</td>\n",
       "      <td>331</td>\n",
       "    </tr>\n",
       "    <tr>\n",
       "      <th>1</th>\n",
       "      <td>0.363</td>\n",
       "      <td>0.696</td>\n",
       "      <td>0.249</td>\n",
       "      <td>2011</td>\n",
       "      <td>no</td>\n",
       "      <td>no</td>\n",
       "      <td>0</td>\n",
       "      <td>spring</td>\n",
       "      <td>cloudy</td>\n",
       "      <td>131</td>\n",
       "    </tr>\n",
       "    <tr>\n",
       "      <th>2</th>\n",
       "      <td>0.196</td>\n",
       "      <td>0.437</td>\n",
       "      <td>0.248</td>\n",
       "      <td>2011</td>\n",
       "      <td>yes</td>\n",
       "      <td>no</td>\n",
       "      <td>1</td>\n",
       "      <td>spring</td>\n",
       "      <td>clear</td>\n",
       "      <td>120</td>\n",
       "    </tr>\n",
       "    <tr>\n",
       "      <th>3</th>\n",
       "      <td>0.200</td>\n",
       "      <td>0.590</td>\n",
       "      <td>0.160</td>\n",
       "      <td>2011</td>\n",
       "      <td>yes</td>\n",
       "      <td>no</td>\n",
       "      <td>2</td>\n",
       "      <td>spring</td>\n",
       "      <td>clear</td>\n",
       "      <td>108</td>\n",
       "    </tr>\n",
       "    <tr>\n",
       "      <th>4</th>\n",
       "      <td>0.227</td>\n",
       "      <td>0.437</td>\n",
       "      <td>0.187</td>\n",
       "      <td>2011</td>\n",
       "      <td>yes</td>\n",
       "      <td>no</td>\n",
       "      <td>3</td>\n",
       "      <td>spring</td>\n",
       "      <td>clear</td>\n",
       "      <td>82</td>\n",
       "    </tr>\n",
       "  </tbody>\n",
       "</table>\n",
       "</div>"
      ],
      "text/plain": [
       "    temp    hum  windspeed    yr workingday holiday  weekday  season  \\\n",
       "0  0.344  0.806      0.160  2011         no      no        6  spring   \n",
       "1  0.363  0.696      0.249  2011         no      no        0  spring   \n",
       "2  0.196  0.437      0.248  2011        yes      no        1  spring   \n",
       "3  0.200  0.590      0.160  2011        yes      no        2  spring   \n",
       "4  0.227  0.437      0.187  2011        yes      no        3  spring   \n",
       "\n",
       "  weathersit  casual  \n",
       "0     cloudy     331  \n",
       "1     cloudy     131  \n",
       "2      clear     120  \n",
       "3      clear     108  \n",
       "4      clear      82  "
      ]
     },
     "execution_count": 2,
     "metadata": {},
     "output_type": "execute_result"
    }
   ],
   "source": [
    "import pandas as pd\n",
    "\n",
    "data_df = pd.read_csv(\"Ressources/c3_bike-sharing-data.csv\")\n",
    "data_df.head()"
   ]
  },
  {
   "cell_type": "markdown",
   "id": "0c06b505-94ad-4966-a1bb-9856ffaa8367",
   "metadata": {},
   "source": [
    "As we can see, the data contains a few categorical variables. Let’s encode them with the get_dummies() function from Pandas and create the X and y train/test variables."
   ]
  },
  {
   "cell_type": "code",
   "execution_count": 3,
   "id": "ccdda1af-6637-4deb-8d68-3dc9f399cb21",
   "metadata": {},
   "outputs": [],
   "source": [
    "from sklearn.model_selection import train_test_split\n",
    "\n",
    "# One-hot encoding\n",
    "encoded_df = pd.get_dummies(data_df)\n",
    "\n",
    "# Split into train/test sets\n",
    "X = encoded_df.drop(\"casual\", axis=1).values\n",
    "y = data_df.casual.values\n",
    "X_tr, X_te, y_tr, y_te = train_test_split(X, y, test_size=0.3, random_state=0)"
   ]
  },
  {
   "cell_type": "markdown",
   "id": "b35d38fe-eddd-4822-8c80-0ea7d8fd3738",
   "metadata": {},
   "source": [
    "The data is not ready yet! We are going to fit a ridge regression model, so we first need to standardize the data with a StandardScaler transformer."
   ]
  },
  {
   "cell_type": "code",
   "execution_count": 4,
   "id": "7629074b-70dc-4357-80f2-8fa0db6b7804",
   "metadata": {},
   "outputs": [],
   "source": [
    "from sklearn.preprocessing import StandardScaler\n",
    "\n",
    "# Standardize data\n",
    "scaler = StandardScaler()\n",
    "X_tr_rescaled = scaler.fit_transform(X_tr)\n",
    "X_te_rescaled = scaler.transform(X_te)"
   ]
  },
  {
   "cell_type": "markdown",
   "id": "663fbd6e-5ce5-415f-8b73-9edad5b6e50e",
   "metadata": {},
   "source": [
    "It’s important to note that we fit the scaler on the train data by calling the fit() operation on X_tr and then use the computed train mean and standard deviations (featurewise) to standardize both train/test sets with the transform() one.\n",
    "\n",
    "Let’s now fit the ridge regression model and see how it performs."
   ]
  },
  {
   "cell_type": "code",
   "execution_count": 5,
   "id": "a32c1a63-0bf6-4d4c-81ec-b18251eaa302",
   "metadata": {},
   "outputs": [
    {
     "name": "stdout",
     "output_type": "stream",
     "text": [
      "MAE: 255890.12\n"
     ]
    }
   ],
   "source": [
    "from sklearn.metrics import mean_absolute_error as MAE\n",
    "from sklearn.linear_model import Ridge\n",
    "\n",
    "ridge = Ridge()\n",
    "ridge.fit(X_tr_rescaled, y_tr)\n",
    "print(\"MAE: {:.2f}\".format(MAE(y_te, ridge.predict(X_te))))"
   ]
  },
  {
   "cell_type": "markdown",
   "id": "9c880217-36da-472c-80f1-237cbc4dcf73",
   "metadata": {},
   "source": [
    "Using this MAE metric, we can see that the predictions are, on average, 255,890 users away from the observed value! If we compare this result to the median baseline\n",
    "\n"
   ]
  },
  {
   "cell_type": "code",
   "execution_count": 6,
   "id": "7ee36376-27dd-4ab6-9cba-0d4a672afe6a",
   "metadata": {},
   "outputs": [
    {
     "name": "stdout",
     "output_type": "stream",
     "text": [
      "Median baseline: 523.47\n"
     ]
    }
   ],
   "source": [
    "import numpy as np\n",
    "\n",
    "median_predictions = np.full_like(y_te, np.median(y_tr))\n",
    "print(\"Median baseline: {:.2f}\".format(MAE(y_te, median_predictions)))"
   ]
  },
  {
   "cell_type": "markdown",
   "id": "0e5870bb-c327-4908-8fbd-c27e25a40ae4",
   "metadata": {},
   "source": [
    "we can clearly see that there is an issue with our code! Can you find it?\n",
    "\n",
    "The mistake isn’t with our model - this part is correct. In fact, we simply used the wrong variable when computing predictions. Instead of passing X_te_rescaled to our model, we passed the untransformed X_te test input data."
   ]
  },
  {
   "cell_type": "code",
   "execution_count": 7,
   "id": "18f6dec2-cc20-4710-98c8-249ae551089f",
   "metadata": {},
   "outputs": [
    {
     "name": "stdout",
     "output_type": "stream",
     "text": [
      "MAE: 279.80\n"
     ]
    }
   ],
   "source": [
    "print(\"MAE: {:.2f}\".format(MAE(y_te, ridge.predict(X_te_rescaled))))"
   ]
  },
  {
   "cell_type": "markdown",
   "id": "f07bc7f1-30c3-4b38-b675-3245620010a1",
   "metadata": {},
   "source": [
    "After fixing this issue, we get the correct predictions with an MAE of 280.\n",
    "\n",
    "Applying different preprocessing steps to the train/test data is a common mistake which can be hard to detect when we have a long sequence of transformations. To solve this issue, we can use the Pipeline object to encapsulate them with the estimator. Let’s see how to use this object.\n",
    "\n",
    "### Pipeline object\n",
    "To create a Scikit-learn pipeline, we simply need to list the sequence of preprocessing steps and the final model.\n",
    "\n"
   ]
  },
  {
   "cell_type": "code",
   "execution_count": 9,
   "id": "5bdc0964-3302-443a-a8c0-3fbd0cf1a8ea",
   "metadata": {},
   "outputs": [],
   "source": [
    "from sklearn.pipeline import Pipeline\n",
    "\n",
    "# Create pipeline\n",
    "pipe = Pipeline([(\"scaler\", StandardScaler()), (\"ridge\", Ridge())])"
   ]
  },
  {
   "cell_type": "markdown",
   "id": "9d0f93f7-3b3f-4dd8-a3f8-3e04e7bd0ce3",
   "metadata": {},
   "source": [
    "The steps are simply (name, object) pairs. For each object, we can choose a name that we can then use later to refer to the step. In this case, we simply name the StandardScaler() step scaler and the Ridge() one ridge.\n",
    "\n",
    "We can then retrieve the list of steps with the named_steps attribute."
   ]
  },
  {
   "cell_type": "code",
   "execution_count": 10,
   "id": "c3303324-6777-4d37-833b-94d85e46820a",
   "metadata": {},
   "outputs": [
    {
     "data": {
      "text/plain": [
       "{'scaler': StandardScaler(), 'ridge': Ridge()}"
      ]
     },
     "execution_count": 10,
     "metadata": {},
     "output_type": "execute_result"
    }
   ],
   "source": [
    "# Get a dictionary with each step\n",
    "pipe.named_steps"
   ]
  },
  {
   "cell_type": "markdown",
   "id": "07e29ec7-6484-4cd5-9e6c-7213d1abc981",
   "metadata": {},
   "source": [
    "The pipeline object can be used as a standard Scikit-learn estimator i.e. it implements the usual fit(), predict() and score() functions from the estimator API."
   ]
  },
  {
   "cell_type": "code",
   "execution_count": 11,
   "id": "fec0b829-846a-405a-9d13-ffae51c4b0f2",
   "metadata": {},
   "outputs": [
    {
     "name": "stdout",
     "output_type": "stream",
     "text": [
      "MAE: 279.80\n"
     ]
    }
   ],
   "source": [
    "# Fit on the train set\n",
    "pipe.fit(X_tr, y_tr)\n",
    "\n",
    "# Evaluate on the test set\n",
    "print(\"MAE: {:.2f}\".format(MAE(y_te, pipe.predict(X_te))))"
   ]
  },
  {
   "cell_type": "markdown",
   "id": "77b14843-4bb2-48b2-b439-e1ce1fcea7ea",
   "metadata": {},
   "source": [
    "Note that this time, we pass the unstandardized data to the pipeline which implicitly applies the scaler before ridge regression without creating intermediate variables that can lead to mistakes!\n",
    "\n",
    "### Multiple preprocessing steps\n",
    "In the example above, we have a single preprocessing step. The pipe.fit() call is equivalent to applying the following handmade function"
   ]
  },
  {
   "cell_type": "code",
   "execution_count": 13,
   "id": "630db3b1-b7f9-4ab3-8786-7b0d045b4ee1",
   "metadata": {},
   "outputs": [],
   "source": [
    "def pipe_fit(X, y):\n",
    "    # Fit and apply the transformation\n",
    "    X1 = scaler.fit_transform(X)\n",
    "\n",
    "    # Fit the estimator\n",
    "    ridge.fit(X1, y)\n",
    "\n",
    "\n",
    "# Fit to the train data\n",
    "pipe_fit(X_tr, y_tr)"
   ]
  },
  {
   "cell_type": "markdown",
   "id": "9ad7d3f6-161d-4d62-a6cb-d0e67a996e89",
   "metadata": {},
   "source": [
    "Similarly, the pipe.predict() call above is equivalent to"
   ]
  },
  {
   "cell_type": "code",
   "execution_count": 14,
   "id": "97706cd3-acee-4a92-9a98-89beed1029b0",
   "metadata": {},
   "outputs": [
    {
     "name": "stdout",
     "output_type": "stream",
     "text": [
      "MAE: 279.80\n"
     ]
    }
   ],
   "source": [
    "def pipe_predict(X):\n",
    "    # Apply the transformation\n",
    "    X1 = scaler.transform(X)\n",
    "\n",
    "    # Make predictions\n",
    "    return ridge.predict(X1)\n",
    "\n",
    "\n",
    "# Evaluate on the test set\n",
    "print(\"MAE: {:.2f}\".format(MAE(y_te, pipe_predict(X_te))))"
   ]
  },
  {
   "cell_type": "markdown",
   "id": "bf785920-f1c8-456f-b465-8e66892112b0",
   "metadata": {},
   "source": [
    "In practice, we sometimes need to encapsulate several transformers into a more complex pipeline."
   ]
  },
  {
   "cell_type": "code",
   "execution_count": null,
   "id": "006c7513-82ce-4bb8-8ba2-6789df80ed79",
   "metadata": {},
   "outputs": [],
   "source": [
    "# Pipeline with three transformations\n",
    "pipe = Pipeline([\n",
    "    ('transform1', ...),\n",
    "    ('transform2', ...),\n",
    "    ('transform3', ...),\n",
    "    ('estimator', ...)\n",
    "])"
   ]
  },
  {
   "cell_type": "markdown",
   "id": "2d1d7a5b-3a27-46bb-bd94-bbbc2fdddd93",
   "metadata": {},
   "source": [
    "In such cases, Scikit-learn simply fits and applies each transformer one after the other before fitting the estimator to the result. To illustrate this, here is the equivalent function to pipe.fit()"
   ]
  },
  {
   "cell_type": "code",
   "execution_count": 16,
   "id": "c63968a2-75f5-4da9-ba1a-75f6f7b09a57",
   "metadata": {},
   "outputs": [],
   "source": [
    "# Example with three transformations\n",
    "def pipe_fit(X, y):\n",
    "\n",
    "    # Fit and apply the transformations\n",
    "    X1 = transform1.fit_transform(X)\n",
    "    X2 = transform2.fit_transform(X1)\n",
    "    X3 = transform3.fit_transform(X2)\n",
    "\n",
    "    # Fit the estimator\n",
    "    estimator.fit(X3, y)"
   ]
  },
  {
   "cell_type": "markdown",
   "id": "994383de-d720-4654-9502-66f8aea2fa9c",
   "metadata": {},
   "source": [
    "At prediction time, the pipeline would apply the transformations and call the predict() function with the result."
   ]
  },
  {
   "cell_type": "code",
   "execution_count": 17,
   "id": "6981fdeb-78bd-4a49-9d11-4b1ff23d25dd",
   "metadata": {},
   "outputs": [],
   "source": [
    "def pipe_predict(X, y):\n",
    "\n",
    "    # Apply the transformations\n",
    "    X1 = transform1.transform(X)\n",
    "    X2 = transform2.transform(X1)\n",
    "    X3 = transform3.transform(X2)\n",
    "\n",
    "    # Make predictions\n",
    "    return estimator.predict(X3)"
   ]
  },
  {
   "cell_type": "markdown",
   "id": "050af9b2-b681-4cdb-8e4b-e73380a05ed2",
   "metadata": {},
   "source": [
    "### Optional steps\n",
    "It can be interesting to try fitting an estimator with and without a preprocessing step to see if it improves to results. We will see a few scenarios in the next course where this is helpful. To achieve this, we can simply set the step to None"
   ]
  },
  {
   "cell_type": "code",
   "execution_count": 18,
   "id": "7ea5e09e-8f68-4c52-afd0-f6754c0b4809",
   "metadata": {},
   "outputs": [
    {
     "name": "stdout",
     "output_type": "stream",
     "text": [
      "MAE: 282.48\n"
     ]
    }
   ],
   "source": [
    "# Create a pipeline\n",
    "pipe = Pipeline([(\"scaler\", None), (\"ridge\", Ridge())])  # Disable this step\n",
    "\n",
    "# Fit pipeline to the train set\n",
    "pipe.fit(X_tr, y_tr)\n",
    "\n",
    "# Accuracy on the test set\n",
    "print(\"MAE: {:.2f}\".format(MAE(y_te, pipe.predict(X_te))))"
   ]
  },
  {
   "cell_type": "markdown",
   "id": "4cad7ae5-c87c-49d3-922c-b01d21b54f1b",
   "metadata": {},
   "source": [
    "In this case, we cannot really conclude that we get worse results since we didn’t tune the regularization strength hyperparameter of our ridge regression model.\n",
    "\n",
    "### Grid search with pipelines\n",
    "Let’s see how we would tune the alpha hyperparameter using grid search on our pipeline"
   ]
  },
  {
   "cell_type": "code",
   "execution_count": 19,
   "id": "ff72e7ef-d638-4150-9c72-09b83c42fc3a",
   "metadata": {},
   "outputs": [
    {
     "data": {
      "text/html": [
       "<div>\n",
       "<style scoped>\n",
       "    .dataframe tbody tr th:only-of-type {\n",
       "        vertical-align: middle;\n",
       "    }\n",
       "\n",
       "    .dataframe tbody tr th {\n",
       "        vertical-align: top;\n",
       "    }\n",
       "\n",
       "    .dataframe thead th {\n",
       "        text-align: right;\n",
       "    }\n",
       "</style>\n",
       "<table border=\"1\" class=\"dataframe\">\n",
       "  <thead>\n",
       "    <tr style=\"text-align: right;\">\n",
       "      <th></th>\n",
       "      <th>alpha</th>\n",
       "      <th>train_mae</th>\n",
       "      <th>test_mae</th>\n",
       "    </tr>\n",
       "  </thead>\n",
       "  <tbody>\n",
       "    <tr>\n",
       "      <th>0</th>\n",
       "      <td>0.000100</td>\n",
       "      <td>262.057394</td>\n",
       "      <td>279.754483</td>\n",
       "    </tr>\n",
       "    <tr>\n",
       "      <th>1</th>\n",
       "      <td>0.000120</td>\n",
       "      <td>262.057392</td>\n",
       "      <td>279.754483</td>\n",
       "    </tr>\n",
       "    <tr>\n",
       "      <th>2</th>\n",
       "      <td>0.000145</td>\n",
       "      <td>262.057391</td>\n",
       "      <td>279.754485</td>\n",
       "    </tr>\n",
       "    <tr>\n",
       "      <th>3</th>\n",
       "      <td>0.000175</td>\n",
       "      <td>262.057389</td>\n",
       "      <td>279.754486</td>\n",
       "    </tr>\n",
       "    <tr>\n",
       "      <th>4</th>\n",
       "      <td>0.000210</td>\n",
       "      <td>262.057386</td>\n",
       "      <td>279.754487</td>\n",
       "    </tr>\n",
       "  </tbody>\n",
       "</table>\n",
       "</div>"
      ],
      "text/plain": [
       "      alpha   train_mae    test_mae\n",
       "0  0.000100  262.057394  279.754483\n",
       "1  0.000120  262.057392  279.754483\n",
       "2  0.000145  262.057391  279.754485\n",
       "3  0.000175  262.057389  279.754486\n",
       "4  0.000210  262.057386  279.754487"
      ]
     },
     "execution_count": 19,
     "metadata": {},
     "output_type": "execute_result"
    }
   ],
   "source": [
    "import numpy as np\n",
    "\n",
    "# Variable to store the results\n",
    "gs_results = []\n",
    "\n",
    "# Grid search\n",
    "for alpha in np.logspace(-4, 4, num=100):\n",
    "    # Create/fit the pipeline\n",
    "    pipe = Pipeline([(\"scaler\", StandardScaler()), (\"ridge\", Ridge(alpha))])\n",
    "    pipe.fit(X_tr, y_tr)\n",
    "\n",
    "    # Save model and its performance on train/test sets\n",
    "    gs_results.append(\n",
    "        {\n",
    "            \"alpha\": alpha,\n",
    "            \"train_mae\": MAE(y_tr, pipe.predict(X_tr)),\n",
    "            \"test_mae\": MAE(y_te, pipe.predict(X_te)),\n",
    "        }\n",
    "    )\n",
    "\n",
    "# Convert results to DataFrame\n",
    "gs_results = pd.DataFrame(gs_results)\n",
    "gs_results.head()"
   ]
  },
  {
   "cell_type": "markdown",
   "id": "322abd5d-ed4e-4127-829a-f0363515142b",
   "metadata": {},
   "source": [
    "In this code, we simply create a new pipe object for each value and get the table above.\n",
    "\n",
    "Let’s visualize the train/test scores by plotting the validation curves."
   ]
  },
  {
   "cell_type": "code",
   "execution_count": 20,
   "id": "28a97ae7-ad71-4e44-9352-f3216f4891bd",
   "metadata": {},
   "outputs": [
    {
     "data": {
      "image/png": "[encoded data removed]",
      "text/plain": [
       "<Figure size 640x480 with 1 Axes>"
      ]
     },
     "metadata": {},
     "output_type": "display_data"
    }
   ],
   "source": [
    "%matplotlib inline\n",
    "import matplotlib.pyplot as plt\n",
    "\n",
    "# Plot the validation curves\n",
    "plt.semilogx(gs_results[\"alpha\"], gs_results[\"train_mae\"], label=\"train curve\")\n",
    "plt.semilogx(gs_results[\"alpha\"], gs_results[\"test_mae\"], label=\"test curve\")\n",
    "plt.xlabel(\"$alpha$\")\n",
    "plt.ylabel(\"MAE\")\n",
    "plt.legend()\n",
    "plt.show()"
   ]
  },
  {
   "cell_type": "markdown",
   "id": "791cd04f-9e21-41dc-9343-2156ea1d9d22",
   "metadata": {},
   "source": [
    "The model is not overfitting: the test curve remains flat when releasing the regularization constraint i.e. alpha values close to zero. On the other hand, we can see that the performance quickly drops when increasing alpha. This corresponds to the underfitting case.\n",
    "\n",
    "If we don’t want to create a new pipeline object in the for loop (ex. for readability), we can also use the get_params() and set_params() functions which are available in every Scikit-learn estimator including the Pipeline one."
   ]
  },
  {
   "cell_type": "code",
   "execution_count": 21,
   "id": "b21df440-297e-4415-aff8-a134662d9da7",
   "metadata": {},
   "outputs": [
    {
     "data": {
      "text/plain": [
       "{'memory': None,\n",
       " 'steps': [('scaler', StandardScaler()), ('ridge', Ridge())],\n",
       " 'verbose': False,\n",
       " 'scaler': StandardScaler(),\n",
       " 'ridge': Ridge(),\n",
       " 'scaler__copy': True,\n",
       " 'scaler__with_mean': True,\n",
       " 'scaler__with_std': True,\n",
       " 'ridge__alpha': 1.0,\n",
       " 'ridge__copy_X': True,\n",
       " 'ridge__fit_intercept': True,\n",
       " 'ridge__max_iter': None,\n",
       " 'ridge__normalize': 'deprecated',\n",
       " 'ridge__positive': False,\n",
       " 'ridge__random_state': None,\n",
       " 'ridge__solver': 'auto',\n",
       " 'ridge__tol': 0.001}"
      ]
     },
     "execution_count": 21,
     "metadata": {},
     "output_type": "execute_result"
    }
   ],
   "source": [
    "# Create the pipeline\n",
    "pipe = Pipeline([(\"scaler\", StandardScaler()), (\"ridge\", Ridge())])\n",
    "pipe.get_params()"
   ]
  },
  {
   "cell_type": "markdown",
   "id": "33a8663f-5d71-4c4e-9813-52d93bafb260",
   "metadata": {},
   "source": [
    "In this case, the dictionary of parameters from our pipe estimator contains all the steps with their hyperparameters prefixed by the name of the step and two underscores _. For instance, ridge__alpha corresponds to the regularization strength of the ridge step.\n",
    "\n",
    "We can use the same syntax to set each hyperparameter value. For instance, let’s set the alpha one in our grid-search loop."
   ]
  },
  {
   "cell_type": "code",
   "execution_count": 22,
   "id": "f38e7730-c73c-4733-bc05-ff26c70aebea",
   "metadata": {},
   "outputs": [
    {
     "data": {
      "image/png": "[encoded data removed]",
      "text/plain": [
       "<Figure size 640x480 with 1 Axes>"
      ]
     },
     "metadata": {},
     "output_type": "display_data"
    }
   ],
   "source": [
    "# Variable to store the results\n",
    "gs_results = []\n",
    "\n",
    "# Grid search\n",
    "for alpha in np.logspace(-4, 4, num=100):\n",
    "    # Fit the pipeline\n",
    "    pipe.set_params(ridge__alpha=alpha)\n",
    "    pipe.fit(X_tr, y_tr)\n",
    "\n",
    "    # Save model and its performance on train/test sets\n",
    "    gs_results.append(\n",
    "        {\n",
    "            \"alpha\": alpha,\n",
    "            \"train_mae\": MAE(y_tr, pipe.predict(X_tr)),\n",
    "            \"test_mae\": MAE(y_te, pipe.predict(X_te)),\n",
    "        }\n",
    "    )\n",
    "\n",
    "# Convert results to DataFrame\n",
    "gs_results = pd.DataFrame(gs_results)\n",
    "\n",
    "# Plot the validation curves\n",
    "plt.semilogx(gs_results[\"alpha\"], gs_results[\"train_mae\"], label=\"train curve\")\n",
    "plt.semilogx(gs_results[\"alpha\"], gs_results[\"test_mae\"], label=\"test curve\")\n",
    "plt.xlabel(\"$alpha$\")\n",
    "plt.ylabel(\"MAE\")\n",
    "plt.legend()\n",
    "plt.show()"
   ]
  },
  {
   "cell_type": "markdown",
   "id": "192ebc3a-72f8-4759-b1ef-8201e47a29e0",
   "metadata": {},
   "source": [
    "Both approaches are correct and produce the same results. However, the set_params() one can be useful to quickly test different hyperparameter values without having to define new pipeline objects.\n",
    "\n",
    "### Summary\n",
    "In this unit, we saw how to encapsulate a set of preprocessing steps and an estimator into a single Pipeline object. It’s interesting to note that we included only the standardization step in the pipeline and not the one-hot encoding one which was performed outside Scikit-learn with the get_dummies() function from Pandas.\n",
    "\n",
    "In the next unit, we will see how to encode categorical variables directly in Scikit-learn. To achieve this, we will use the ColumnTransformer object which is part of a new workflow that tries to consolidate the data manipulation steps, usually done in Pandas, with the modeling part from Scikit-learn."
   ]
  },
  {
   "cell_type": "markdown",
   "id": "15ca4e12-60b5-4a18-a859-147fcb1f8632",
   "metadata": {},
   "source": [
    "## 03 Column transformations\n",
    "### This unit is optional\n",
    "> **Note**: **TL;DR** - Perform the data preparation, exploratory data analysis (EDA), feature encoding/engineering, outliers removal in Pandas before the ML modeling as we have seen so far in this course. When the data is in a good format and ready for the ML models, convert the DataFrame to a Numpy 2d float array with .values and pass it to the sklearn estimator .fit/predict/score methods or Pipeline object if a StandardScaler is needed.\n",
    "\n",
    "> **Explanation**: So far in this program, we have seen how to structure our data analysis into (1) data preparation (2) exploratory data analysis (EDA) and (3) machine learning parts. The first two steps (1) and (2) involve a lot of data manipulation and are done in Pandas and the last one (3) with Scikit-learn. Because ML models only work with numerical data, we usually convert our DataFrame into a Numpy float 2d array only at step (3) for sklearn estimators. It’s important to understand that the data preprocessing (1) and (2) are done in Pandas. The only exception is for common preprocessing steps that are very specific to ML such as StandardScaler or dimensionality reduction such as PCA (more about this in the next course) - those are usually encapsulated into a Pipeline object as shown in the last unit. The reason for this exception is simple: those ML operations are independent of the nature of the column unlike the data manipulation steps from (1) and (2) that are usually very specific to each variable. For instance, feature engineering and outliers removal are done in Pandas because they depend on the type of variable and their meaning ex. it doesn’t make sense to create polynomial features for categories or apply z-score outliers removal to ordinal variables or skewed ones.\n",
    "\n",
    "> **In this unit and the next ones**: Jupyter notebooks are a great way to develop/share a data analysis pipeline and document each step with Markdown cells and plots in an iterative way. At the end of this “prototyping” work, we sometimes want to encapsulate our code from (1) and (2) into a “clean” ML pipeline. In this unit and the next ones from this Advanced Scikit-learn chapter, we will see tools to achieve this. However, note that it’s not required to use those tools - they are only helpful to do this extra step of encapsulating the Pandas code from steps (1) and (2) into Scikit-learn objects at the end of the analysis/prototyping work. For this reason, this unit and the next ones from this chapter are entirely optional. You can skip those units and start working now on the final course project. When you are happy with your work, you can optionally read this unit and the next ones and think about how you could apply those tools to your analysis. However, this is entirely optional and requires good programming/debugging experience.\n",
    "\n",
    "### Column transformations\n",
    "In this unit, we will see how to use the ColumnTransformer object from Scikit-learn to perform a few common preprocessing steps such as ordinal and one-hot encoding.\n",
    "\n",
    "Before going into the code, it’s important to understand that this tool is part of a new workflow in Scikit-learn that tries to consolidate the data manipulation steps, usually done in Pandas, with the modeling part. As we will see in this unit and the next ones, this new Pandas/Scikit-learn workflow can be very powerful - however - Scikit-learn only provides partial support for DataFrames at the moment, so it can be difficult to model complex sequences of data manipulations with it.\n",
    "\n",
    "In such cases, don’t hesitate to do part or all of the data manipulation work in Pandas as we saw previously. Also, keep an eye on the upcoming Scikit-learn releases to see how these new features evolve.\n",
    "\n",
    "### One-hot encoding with Scikit-learn\n",
    "Let’s start by loading the data.\n"
   ]
  },
  {
   "cell_type": "code",
   "execution_count": 24,
   "id": "5a7ac34a-9003-40f4-b2c7-236bf37fea5a",
   "metadata": {},
   "outputs": [
    {
     "data": {
      "text/html": [
       "<div>\n",
       "<style scoped>\n",
       "    .dataframe tbody tr th:only-of-type {\n",
       "        vertical-align: middle;\n",
       "    }\n",
       "\n",
       "    .dataframe tbody tr th {\n",
       "        vertical-align: top;\n",
       "    }\n",
       "\n",
       "    .dataframe thead th {\n",
       "        text-align: right;\n",
       "    }\n",
       "</style>\n",
       "<table border=\"1\" class=\"dataframe\">\n",
       "  <thead>\n",
       "    <tr style=\"text-align: right;\">\n",
       "      <th></th>\n",
       "      <th>temp</th>\n",
       "      <th>hum</th>\n",
       "      <th>windspeed</th>\n",
       "      <th>yr</th>\n",
       "      <th>workingday</th>\n",
       "      <th>holiday</th>\n",
       "      <th>weekday</th>\n",
       "      <th>season</th>\n",
       "      <th>weathersit</th>\n",
       "      <th>casual</th>\n",
       "    </tr>\n",
       "  </thead>\n",
       "  <tbody>\n",
       "    <tr>\n",
       "      <th>0</th>\n",
       "      <td>0.344</td>\n",
       "      <td>0.806</td>\n",
       "      <td>0.160</td>\n",
       "      <td>2011</td>\n",
       "      <td>no</td>\n",
       "      <td>no</td>\n",
       "      <td>6</td>\n",
       "      <td>spring</td>\n",
       "      <td>cloudy</td>\n",
       "      <td>331</td>\n",
       "    </tr>\n",
       "    <tr>\n",
       "      <th>1</th>\n",
       "      <td>0.363</td>\n",
       "      <td>0.696</td>\n",
       "      <td>0.249</td>\n",
       "      <td>2011</td>\n",
       "      <td>no</td>\n",
       "      <td>no</td>\n",
       "      <td>0</td>\n",
       "      <td>spring</td>\n",
       "      <td>cloudy</td>\n",
       "      <td>131</td>\n",
       "    </tr>\n",
       "    <tr>\n",
       "      <th>2</th>\n",
       "      <td>0.196</td>\n",
       "      <td>0.437</td>\n",
       "      <td>0.248</td>\n",
       "      <td>2011</td>\n",
       "      <td>yes</td>\n",
       "      <td>no</td>\n",
       "      <td>1</td>\n",
       "      <td>spring</td>\n",
       "      <td>clear</td>\n",
       "      <td>120</td>\n",
       "    </tr>\n",
       "    <tr>\n",
       "      <th>3</th>\n",
       "      <td>0.200</td>\n",
       "      <td>0.590</td>\n",
       "      <td>0.160</td>\n",
       "      <td>2011</td>\n",
       "      <td>yes</td>\n",
       "      <td>no</td>\n",
       "      <td>2</td>\n",
       "      <td>spring</td>\n",
       "      <td>clear</td>\n",
       "      <td>108</td>\n",
       "    </tr>\n",
       "    <tr>\n",
       "      <th>4</th>\n",
       "      <td>0.227</td>\n",
       "      <td>0.437</td>\n",
       "      <td>0.187</td>\n",
       "      <td>2011</td>\n",
       "      <td>yes</td>\n",
       "      <td>no</td>\n",
       "      <td>3</td>\n",
       "      <td>spring</td>\n",
       "      <td>clear</td>\n",
       "      <td>82</td>\n",
       "    </tr>\n",
       "  </tbody>\n",
       "</table>\n",
       "</div>"
      ],
      "text/plain": [
       "    temp    hum  windspeed    yr workingday holiday  weekday  season  \\\n",
       "0  0.344  0.806      0.160  2011         no      no        6  spring   \n",
       "1  0.363  0.696      0.249  2011         no      no        0  spring   \n",
       "2  0.196  0.437      0.248  2011        yes      no        1  spring   \n",
       "3  0.200  0.590      0.160  2011        yes      no        2  spring   \n",
       "4  0.227  0.437      0.187  2011        yes      no        3  spring   \n",
       "\n",
       "  weathersit  casual  \n",
       "0     cloudy     331  \n",
       "1     cloudy     131  \n",
       "2      clear     120  \n",
       "3      clear     108  \n",
       "4      clear      82  "
      ]
     },
     "execution_count": 24,
     "metadata": {},
     "output_type": "execute_result"
    }
   ],
   "source": [
    "import pandas as pd\n",
    "\n",
    "data_df = pd.read_csv(\"Ressources/c3_bike-sharing-data.csv\")\n",
    "data_df.head()"
   ]
  },
  {
   "cell_type": "markdown",
   "id": "90f3c5ea-21df-4c90-92c7-59838a14ec50",
   "metadata": {},
   "source": [
    "Scikit-learn implements a OneHotEncoder transformer to handle categorical variables. Like the other objects from Scikit-learn, it accepts array-like objects, including DataFrames, as input but always returns Numpy arrays or related objects as we are will see below.\n",
    "\n",
    "Let’s test it on our data_df DataFrame."
   ]
  },
  {
   "cell_type": "code",
   "execution_count": 25,
   "id": "7a8d32b7-129f-4d7f-9349-1f89794fcb0c",
   "metadata": {},
   "outputs": [
    {
     "data": {
      "text/plain": [
       "<731x1714 sparse matrix of type '<class 'numpy.float64'>'\n",
       "\twith 7310 stored elements in Compressed Sparse Row format>"
      ]
     },
     "execution_count": 25,
     "metadata": {},
     "output_type": "execute_result"
    }
   ],
   "source": [
    "from sklearn.preprocessing import OneHotEncoder\n",
    "\n",
    "# Create encoder\n",
    "encoder = OneHotEncoder()\n",
    "encoder.fit_transform(data_df)\n"
   ]
  },
  {
   "cell_type": "markdown",
   "id": "29b8b47c-e17c-44fd-aa99-f64932c42267",
   "metadata": {},
   "source": [
    "The result can be a bit surprising at first sight: we pass a DataFrame object and get a sparse matrix with 1,714 columns! In fact, the transformer encodes all the columns from the input data, including the numerical ones. So it creates a new one-hot encoded column for each distinct value in the DataFrame.\n",
    "\n",
    "Let’s see how to fix this.\n",
    "\n",
    "### ColumnTransformer object\n",
    "So far, we always converted the input data into Numpy arrays to avoid any issues during the ml part. However, Scikit-learn recently released a ColumnTransformer object that can apply different transformations to the columns of a Pandas DataFrame object.\n",
    "\n",
    "In our case, we can use it to apply one-hot encoding to the categorical variables."
   ]
  },
  {
   "cell_type": "code",
   "execution_count": 27,
   "id": "9f8292e5-a060-4fc3-8d18-ae043d012cd2",
   "metadata": {},
   "outputs": [],
   "source": [
    "from sklearn.compose import ColumnTransformer\n",
    "\n",
    "# Handle categorical variables\n",
    "cat_columns = [\"yr\", \"workingday\", \"holiday\", \"weekday\", \"season\", \"weathersit\"]\n",
    "cat_transformer = OneHotEncoder(sparse=False)\n",
    "\n",
    "# Create the column transformer\n",
    "preprocessor = ColumnTransformer(\n",
    "    [(\"categorical\", cat_transformer, cat_columns)], remainder=\"passthrough\"\n",
    ")"
   ]
  },
  {
   "cell_type": "markdown",
   "id": "3bf0e657-67df-419d-a801-6e163c24036c",
   "metadata": {},
   "source": [
    "In this code, we first list the categorical columns in a cat_columns variable and create the OneHotEncoder() object. This time, we specify sparse=False when creating the encoder to get Numpy arrays instead of sparse matrices. We then create the ColumnTransformer object and specify the different transformations - one in our case - by defining (name, transformer, vars) triplets. We pass the list of categorical variables with the one-hot encoder and tell the object to leave the other columns unchanged by setting its remainder attribute to 'passthrough'.\n",
    "\n",
    "Let’s test it on our input DataFrame"
   ]
  },
  {
   "cell_type": "code",
   "execution_count": 28,
   "id": "d570a2cc-c3aa-4756-a701-a3119a1ac6c7",
   "metadata": {},
   "outputs": [
    {
     "data": {
      "text/plain": [
       "array([[1.00e+00, 0.00e+00, 1.00e+00, ..., 8.06e-01, 1.60e-01, 3.31e+02],\n",
       "       [1.00e+00, 0.00e+00, 1.00e+00, ..., 6.96e-01, 2.49e-01, 1.31e+02],\n",
       "       [1.00e+00, 0.00e+00, 0.00e+00, ..., 4.37e-01, 2.48e-01, 1.20e+02],\n",
       "       ...,\n",
       "       [0.00e+00, 1.00e+00, 1.00e+00, ..., 7.53e-01, 1.24e-01, 1.59e+02],\n",
       "       [0.00e+00, 1.00e+00, 1.00e+00, ..., 4.83e-01, 3.51e-01, 3.64e+02],\n",
       "       [0.00e+00, 1.00e+00, 0.00e+00, ..., 5.78e-01, 1.55e-01, 4.39e+02]])"
      ]
     },
     "execution_count": 28,
     "metadata": {},
     "output_type": "execute_result"
    }
   ],
   "source": [
    "encoded = preprocessor.fit_transform(data_df)\n",
    "encoded"
   ]
  },
  {
   "cell_type": "markdown",
   "id": "d2054a55-19e1-4aa8-8162-6f451f1f8a34",
   "metadata": {},
   "source": [
    "It’s important to note that we pass a DataFrame object as input and get a Numpy array. By looking at the values, we can see that the first columns correspond to the one-hot encoded columns and the last ones to the untransformed ones.\n",
    "\n",
    "Let’s check the type and size of our encoded data."
   ]
  },
  {
   "cell_type": "code",
   "execution_count": 29,
   "id": "bcb27145-7fcd-42f0-96c0-790fd03a180b",
   "metadata": {},
   "outputs": [
    {
     "name": "stdout",
     "output_type": "stream",
     "text": [
      "Shape: (731, 24)\n",
      "Type: <class 'numpy.ndarray'>\n",
      "Data type: float64\n"
     ]
    }
   ],
   "source": [
    "print(\"Shape:\", encoded.shape)\n",
    "print(\"Type:\", type(encoded))\n",
    "print(\"Data type:\", encoded.dtype)"
   ]
  },
  {
   "cell_type": "markdown",
   "id": "c329cafd-0d85-4a9f-bce5-7de2e428482d",
   "metadata": {},
   "source": [
    "This time, we get a reasonable number of columns. The result is now a (731, 24) Numpy array with the usual uniform float data type.\n",
    "\n",
    "> **Note**: The encoded data is ready for the ML estimators, but not for additional Pandas data manipulation steps since we lost the column names in the conversion. This is why we said above that it can be complex to model sequences of data manipulation steps in Scikit-learn.\n",
    "\n",
    "If we want to convert the result back into a DataFrame, we need to use the get_feature_names_out() method from our encoder."
   ]
  },
  {
   "cell_type": "code",
   "execution_count": 30,
   "id": "b5e15d9a-4b0e-4985-8786-a1bb918c62fe",
   "metadata": {},
   "outputs": [
    {
     "name": "stdout",
     "output_type": "stream",
     "text": [
      "This OneHotEncoder instance is not fitted yet. Call 'fit' with appropriate arguments before using this estimator.\n"
     ]
    }
   ],
   "source": [
    "try:\n",
    "    cat_transformer.get_feature_names_out()\n",
    "except Exception as e:\n",
    "    print(e)"
   ]
  },
  {
   "cell_type": "markdown",
   "id": "5e767f34-7fba-4f30-9ed8-a0b1379161a1",
   "metadata": {},
   "source": [
    "We get an error saying that the transformer is not fitted yet. Just like Pipeline objects, the ColumnTransformer works on copies and not on the original objects directly. To access the copies, we need to use the named_transformers_ attribute which returns the steps. This is similar to the named_steps attribute from Pipeline objects"
   ]
  },
  {
   "cell_type": "code",
   "execution_count": 31,
   "id": "f0add1ae-de24-41aa-8a85-a3a3342899b3",
   "metadata": {},
   "outputs": [
    {
     "data": {
      "text/plain": [
       "{'categorical': OneHotEncoder(sparse=False), 'remainder': 'passthrough'}"
      ]
     },
     "execution_count": 31,
     "metadata": {},
     "output_type": "execute_result"
    }
   ],
   "source": [
    "preprocessor.named_transformers_"
   ]
  },
  {
   "cell_type": "markdown",
   "id": "04ac9432-8931-4c72-bff1-b9d30a67c62c",
   "metadata": {},
   "source": [
    "To get the feature names, we simply need to retrieve the encoder copy and call its get_feature_names_out()"
   ]
  },
  {
   "cell_type": "code",
   "execution_count": 32,
   "id": "15d1f4d0-26e1-4e63-90c2-a7c66bea58c0",
   "metadata": {},
   "outputs": [
    {
     "data": {
      "text/plain": [
       "array(['yr_2011', 'yr_2012', 'workingday_no', 'workingday_yes',\n",
       "       'holiday_no', 'holiday_yes', 'weekday_0', 'weekday_1', 'weekday_2',\n",
       "       'weekday_3', 'weekday_4', 'weekday_5', 'weekday_6', 'season_fall',\n",
       "       'season_spring', 'season_summer', 'season_winter',\n",
       "       'weathersit_clear', 'weathersit_cloudy', 'weathersit_rainy'],\n",
       "      dtype=object)"
      ]
     },
     "execution_count": 32,
     "metadata": {},
     "output_type": "execute_result"
    }
   ],
   "source": [
    "preprocessor.named_transformers_[\"categorical\"].get_feature_names_out()"
   ]
  },
  {
   "cell_type": "markdown",
   "id": "12938b05-790f-4e56-a81b-6395eb6d0766",
   "metadata": {},
   "source": [
    "Scikit-learn names the columns by order: x0 corresponds to the first column in cat_columns which is yr.\n",
    "\n",
    "### Issue with missing categories\n",
    "The one-hot encoder creates a new column for each categorical value. A common issue is to have new, previously unknown, categories in the test data. For instance, let’s see what happens if we create a new storm category for the weathersit feature."
   ]
  },
  {
   "cell_type": "code",
   "execution_count": 33,
   "id": "5340915a-f8c2-4240-ae86-28baec54727c",
   "metadata": {},
   "outputs": [
    {
     "data": {
      "text/html": [
       "<div>\n",
       "<style scoped>\n",
       "    .dataframe tbody tr th:only-of-type {\n",
       "        vertical-align: middle;\n",
       "    }\n",
       "\n",
       "    .dataframe tbody tr th {\n",
       "        vertical-align: top;\n",
       "    }\n",
       "\n",
       "    .dataframe thead th {\n",
       "        text-align: right;\n",
       "    }\n",
       "</style>\n",
       "<table border=\"1\" class=\"dataframe\">\n",
       "  <thead>\n",
       "    <tr style=\"text-align: right;\">\n",
       "      <th></th>\n",
       "      <th>temp</th>\n",
       "      <th>hum</th>\n",
       "      <th>windspeed</th>\n",
       "      <th>yr</th>\n",
       "      <th>workingday</th>\n",
       "      <th>holiday</th>\n",
       "      <th>weekday</th>\n",
       "      <th>season</th>\n",
       "      <th>weathersit</th>\n",
       "      <th>casual</th>\n",
       "    </tr>\n",
       "  </thead>\n",
       "  <tbody>\n",
       "    <tr>\n",
       "      <th>0</th>\n",
       "      <td>0.344</td>\n",
       "      <td>0.806</td>\n",
       "      <td>0.16</td>\n",
       "      <td>2011</td>\n",
       "      <td>no</td>\n",
       "      <td>no</td>\n",
       "      <td>6</td>\n",
       "      <td>spring</td>\n",
       "      <td>storm</td>\n",
       "      <td>331</td>\n",
       "    </tr>\n",
       "  </tbody>\n",
       "</table>\n",
       "</div>"
      ],
      "text/plain": [
       "    temp    hum  windspeed    yr workingday holiday  weekday  season  \\\n",
       "0  0.344  0.806       0.16  2011         no      no        6  spring   \n",
       "\n",
       "  weathersit  casual  \n",
       "0      storm     331  "
      ]
     },
     "execution_count": 33,
     "metadata": {},
     "output_type": "execute_result"
    }
   ],
   "source": [
    "new_data = data_df.iloc[:1].copy()\n",
    "new_data[\"weathersit\"] = \"storm\"\n",
    "new_data"
   ]
  },
  {
   "cell_type": "markdown",
   "id": "cf261d50-ef68-4de1-9389-36415c7a83aa",
   "metadata": {},
   "source": [
    "If you take a look at the column names retrieved with the get_feature_names_out() call from above, you can see that the encoder only knows about the clear, cloudy and rainy categories. Let’s see how it handles this new storm category.\n",
    "\n"
   ]
  },
  {
   "cell_type": "code",
   "execution_count": 34,
   "id": "836ec512-b9b6-4352-84b3-56241f0e183b",
   "metadata": {},
   "outputs": [
    {
     "name": "stdout",
     "output_type": "stream",
     "text": [
      "Found unknown categories ['storm'] in column 5 during transform\n"
     ]
    }
   ],
   "source": [
    "try:\n",
    "    preprocessor.transform(new_data)\n",
    "except Exception as e:\n",
    "    print(e)"
   ]
  },
  {
   "cell_type": "markdown",
   "id": "c07b95a6-2911-4a41-bb5f-579a02ee05cd",
   "metadata": {},
   "source": [
    "The one-hot encoder returns an exception saying that 'storm' is an unknown value. A common practice is to simply ignore unseen values and set all the corresponding one-hot encoded variables to zero i.e. x5_clear, x5_cloudy and x5_rainy.\n",
    "\n",
    "We can specify this behavior by setting the handle_unknown attribute of our OneHotEncoder\n",
    "\n"
   ]
  },
  {
   "cell_type": "code",
   "execution_count": 35,
   "id": "74ae68e4-a7e8-4c49-9424-9ec8e8d7dd9b",
   "metadata": {},
   "outputs": [
    {
     "data": {
      "text/plain": [
       "array([[1.00e+00, 0.00e+00, 1.00e+00, 0.00e+00, 1.00e+00, 0.00e+00,\n",
       "        0.00e+00, 0.00e+00, 0.00e+00, 0.00e+00, 0.00e+00, 0.00e+00,\n",
       "        1.00e+00, 0.00e+00, 1.00e+00, 0.00e+00, 0.00e+00, 0.00e+00,\n",
       "        0.00e+00, 0.00e+00, 3.44e-01, 8.06e-01, 1.60e-01, 3.31e+02]])"
      ]
     },
     "execution_count": 35,
     "metadata": {},
     "output_type": "execute_result"
    }
   ],
   "source": [
    "# Handle categorical variables\n",
    "cat_transformer = OneHotEncoder(handle_unknown=\"ignore\", sparse=False)\n",
    "\n",
    "# Create the column transformer\n",
    "preprocessor = ColumnTransformer(\n",
    "    [(\"categorical\", cat_transformer, cat_columns)], remainder=\"passthrough\"\n",
    ")\n",
    "preprocessor.fit_transform(data_df)\n",
    "preprocessor.transform(new_data)\n"
   ]
  },
  {
   "cell_type": "markdown",
   "id": "e301e835-6d3e-42a6-936d-046cc586f835",
   "metadata": {},
   "source": [
    "If we look at the entries with index 17, 18, 19 that correspond to the weathersit variable, we can see that they all have a value of zero.\n",
    "\n",
    "### Ordinal encoding with Scikit-learn\n",
    "Scikit-learn also provides an OrdinalEncoder object to encode ordinal variables. It takes the list of ordinal values and encodes them using a 0 to N integer scale. Let’s test it on the weathersit variable."
   ]
  },
  {
   "cell_type": "code",
   "execution_count": 37,
   "id": "eb665fbf-7024-49f9-914e-5d2938d7aa52",
   "metadata": {},
   "outputs": [],
   "source": [
    "from sklearn.preprocessing import OrdinalEncoder\n",
    "\n",
    "# Handle ordinal variables\n",
    "ord_columns = [\"weathersit\"]\n",
    "ord_transformer = OrdinalEncoder(categories=[[\"clear\", \"cloudy\", \"rainy\"]])"
   ]
  },
  {
   "cell_type": "code",
   "execution_count": null,
   "id": "120047cd-834c-4cab-af0d-251662cf68ab",
   "metadata": {},
   "outputs": [],
   "source": []
  }
 ],
 "metadata": {
  "kernelspec": {
   "display_name": "Python [conda env:adsml] *",
   "language": "python",
   "name": "conda-env-adsml-py"
  },
  "language_info": {
   "codemirror_mode": {
    "name": "ipython",
    "version": 3
   },
   "file_extension": ".py",
   "mimetype": "text/x-python",
   "name": "python",
   "nbconvert_exporter": "python",
   "pygments_lexer": "ipython3",
   "version": "3.9.16"
  }
 },
 "nbformat": 4,
 "nbformat_minor": 5
}
