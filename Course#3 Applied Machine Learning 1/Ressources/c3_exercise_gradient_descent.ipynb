{
 "cells": [
  {
   "cell_type": "markdown",
   "metadata": {},
   "source": [
    "Gradient descent\n",
    "---"
   ]
  },
  {
   "cell_type": "markdown",
   "metadata": {},
   "source": [
    "Exercise - Fit a linear regression with OLS\n",
    "---\n",
    "\n",
    "> **Exercise**: Load the train and test sets. Fit a linear regression using OLS with the `LinearRegression` object from Scikit-learn. Compute the train and test RMSE scores."
   ]
  },
  {
   "cell_type": "code",
   "execution_count": 5,
   "metadata": {},
   "outputs": [
    {
     "data": {
      "text/html": [
       "<div>\n",
       "<style scoped>\n",
       "    .dataframe tbody tr th:only-of-type {\n",
       "        vertical-align: middle;\n",
       "    }\n",
       "\n",
       "    .dataframe tbody tr th {\n",
       "        vertical-align: top;\n",
       "    }\n",
       "\n",
       "    .dataframe thead th {\n",
       "        text-align: right;\n",
       "    }\n",
       "</style>\n",
       "<table border=\"1\" class=\"dataframe\">\n",
       "  <thead>\n",
       "    <tr style=\"text-align: right;\">\n",
       "      <th></th>\n",
       "      <th>temp</th>\n",
       "      <th>temp_C</th>\n",
       "      <th>hum</th>\n",
       "      <th>windspeed</th>\n",
       "      <th>atemp</th>\n",
       "      <th>atemp_C</th>\n",
       "      <th>yr</th>\n",
       "      <th>workingday</th>\n",
       "      <th>holiday</th>\n",
       "      <th>casual</th>\n",
       "    </tr>\n",
       "  </thead>\n",
       "  <tbody>\n",
       "    <tr>\n",
       "      <th>0</th>\n",
       "      <td>0.368</td>\n",
       "      <td>9.296</td>\n",
       "      <td>0.569</td>\n",
       "      <td>0.148</td>\n",
       "      <td>0.379</td>\n",
       "      <td>9.014</td>\n",
       "      <td>1</td>\n",
       "      <td>1</td>\n",
       "      <td>0</td>\n",
       "      <td>1603</td>\n",
       "    </tr>\n",
       "    <tr>\n",
       "      <th>1</th>\n",
       "      <td>0.700</td>\n",
       "      <td>24.900</td>\n",
       "      <td>0.761</td>\n",
       "      <td>0.084</td>\n",
       "      <td>0.660</td>\n",
       "      <td>27.560</td>\n",
       "      <td>0</td>\n",
       "      <td>1</td>\n",
       "      <td>0</td>\n",
       "      <td>768</td>\n",
       "    </tr>\n",
       "    <tr>\n",
       "      <th>2</th>\n",
       "      <td>0.282</td>\n",
       "      <td>5.254</td>\n",
       "      <td>0.538</td>\n",
       "      <td>0.187</td>\n",
       "      <td>0.282</td>\n",
       "      <td>2.612</td>\n",
       "      <td>0</td>\n",
       "      <td>0</td>\n",
       "      <td>0</td>\n",
       "      <td>424</td>\n",
       "    </tr>\n",
       "    <tr>\n",
       "      <th>3</th>\n",
       "      <td>0.335</td>\n",
       "      <td>7.745</td>\n",
       "      <td>0.450</td>\n",
       "      <td>0.308</td>\n",
       "      <td>0.320</td>\n",
       "      <td>5.120</td>\n",
       "      <td>0</td>\n",
       "      <td>1</td>\n",
       "      <td>0</td>\n",
       "      <td>231</td>\n",
       "    </tr>\n",
       "    <tr>\n",
       "      <th>4</th>\n",
       "      <td>0.398</td>\n",
       "      <td>10.706</td>\n",
       "      <td>0.466</td>\n",
       "      <td>0.290</td>\n",
       "      <td>0.388</td>\n",
       "      <td>9.608</td>\n",
       "      <td>1</td>\n",
       "      <td>1</td>\n",
       "      <td>0</td>\n",
       "      <td>663</td>\n",
       "    </tr>\n",
       "  </tbody>\n",
       "</table>\n",
       "</div>"
      ],
      "text/plain": [
       "    temp  temp_C    hum  windspeed  atemp  atemp_C  yr  workingday  holiday  \\\n",
       "0  0.368   9.296  0.569      0.148  0.379    9.014   1           1        0   \n",
       "1  0.700  24.900  0.761      0.084  0.660   27.560   0           1        0   \n",
       "2  0.282   5.254  0.538      0.187  0.282    2.612   0           0        0   \n",
       "3  0.335   7.745  0.450      0.308  0.320    5.120   0           1        0   \n",
       "4  0.398  10.706  0.466      0.290  0.388    9.608   1           1        0   \n",
       "\n",
       "   casual  \n",
       "0    1603  \n",
       "1     768  \n",
       "2     424  \n",
       "3     231  \n",
       "4     663  "
      ]
     },
     "execution_count": 5,
     "metadata": {},
     "output_type": "execute_result"
    }
   ],
   "source": [
    "import pandas as pd\n",
    "import numpy as np\n",
    "\n",
    "# Load train/test data\n",
    "\n",
    "train_df = pd.read_csv(\"c3_bike-train.csv\")\n",
    "test_df = pd.read_csv(\"c3_bike-test.csv\")\n",
    "train_df.head()"
   ]
  },
  {
   "cell_type": "code",
   "execution_count": 7,
   "metadata": {},
   "outputs": [
    {
     "name": "stdout",
     "output_type": "stream",
     "text": [
      "[[ 0.368  9.296  0.569 ...  1.     1.     0.   ]\n",
      " [ 0.7   24.9    0.761 ...  0.     1.     0.   ]\n",
      " [ 0.282  5.254  0.538 ...  0.     0.     0.   ]\n",
      " ...\n",
      " [ 0.599 20.153  0.669 ...  1.     1.     0.   ]\n",
      " [ 0.732 26.404  0.486 ...  1.     1.     0.   ]\n",
      " [ 0.322  7.134  0.62  ...  1.     1.     0.   ]]\n"
     ]
    }
   ],
   "source": [
    "# Create input matrices and output vectors\n",
    "X_tr = train_df.drop(\"casual\", axis=1).values\n",
    "y_tr = train_df.casual.values\n",
    "\n",
    "X_te = test_df.drop(\"casual\", axis=1).values\n",
    "y_te = test_df.casual.values\n",
    "\n",
    "print(X_tr)"
   ]
  },
  {
   "cell_type": "code",
   "execution_count": 8,
   "metadata": {},
   "outputs": [
    {
     "name": "stdout",
     "output_type": "stream",
     "text": [
      "[1603  768  424  231  663  438   73  555 2290  538  606  819  394  863\n",
      "   64 1319 2512 1026  456 1198 1196 1050  863  614 1869  706  137  767\n",
      "  410  439  939  502  314  376 3155  676  195 1017  620  655  255  325\n",
      "  796  846 1156  321 1514  518   82 1065 1182  834 3031   88 1576  968\n",
      "  773  120  333  922  150  830  486  217  480  246  243 2397  317  907\n",
      "  841  139  599 1138  203  212   54 2469  247  951  815  425  226  284\n",
      "  846  282  548 1027 1455 1318  723  547 1032  205  727 1558  117  640\n",
      "  115  326  121 2494  922 1249  143 2015  227  829  734 2551  447  300\n",
      "  709  181 2544 2301  841  758  618  673 1263   53  872  653    2  921\n",
      "  943 1633  760 2634  433  155  247  120   50  884 1097  871  713  775\n",
      "  140 1829  773  533  766    9 1483 1920 1807  178  269  787 2806 2166\n",
      " 1920 1988  678 1334  611  690  874  637  534 1070 1249   61  168  208\n",
      "  150  123  362  752  203  126  695  289  558 1139 1022 2352 1045 1521\n",
      " 2657  989  515  735  729 1557  832  618 1281  191  186  127 1023  694\n",
      "  178  177  545  755  997 1366  616 1054 1278 2708 1899 2795  112  847\n",
      "  819  668 1122  569  905   34  745 1549  736  477 1807  909 1353  787\n",
      " 1008  204  795  141   83 1095  699  477  775  167  745 2235  529 2182\n",
      "  327 1051 3065 1070  315  310  330  484 2204   72  460  470   25  397\n",
      "  222  354   81  149   74 1088  670 2355 1483  255 2234  879  174  550\n",
      "   86 2589  998  307 3283  130  632   95 1203 2613  145  471  647 1177\n",
      " 2006  413  331 1639 2345  370 2355  106  721  659 1027  695  123  259\n",
      "  220  987  981  845  888 1965  310  898  166  221 1965  254  694  245\n",
      "  428  309 2207  288 2570  439  268  480  764 2562  139 1313  664  123\n",
      " 2282 1058 1417  466  513  875 1077  921  763  258 1748  229 2001 2132\n",
      "  854 1188 1033  432  678  359  778  340  333  969  317 1405  653  340\n",
      "  440  304 1363  989  724 1094  559  174   41  430 1153  662 1250 1511\n",
      "  320]\n"
     ]
    }
   ],
   "source": [
    "print(y_tr)"
   ]
  },
  {
   "cell_type": "code",
   "execution_count": 9,
   "metadata": {},
   "outputs": [],
   "source": [
    "# Implement RMSE\n",
    "def rmse(y, y_pred):\n",
    "    return np.sqrt(np.mean(np.square(y - y_pred)))"
   ]
  },
  {
   "cell_type": "code",
   "execution_count": 10,
   "metadata": {},
   "outputs": [
    {
     "name": "stdout",
     "output_type": "stream",
     "text": [
      "Linear regression (OLS) - train RMSE: 397.42\n",
      "Linear regression (OLS) - test RMSE: 388.67\n"
     ]
    }
   ],
   "source": [
    "from sklearn.linear_model import LinearRegression\n",
    "\n",
    "# Fit a linear regression using OLS\n",
    "lr = LinearRegression()  # Create object\n",
    "lr.fit(X_tr, y_tr)  # Fit it to train data\n",
    "\n",
    "# Evaluate model\n",
    "y_pred_tr = lr.predict(X_tr)  # Train data\n",
    "lr_rmse_tr = rmse(y_tr, y_pred_tr)\n",
    "\n",
    "y_pred_te = lr.predict(X_te)  # Test data\n",
    "lr_rmse_te = rmse(y_te, y_pred_te)\n",
    "\n",
    "print(\"Linear regression (OLS) - train RMSE: {:.2f}\".format(lr_rmse_tr))\n",
    "print(\"Linear regression (OLS) - test RMSE: {:.2f}\".format(lr_rmse_te))"
   ]
  },
  {
   "cell_type": "markdown",
   "metadata": {},
   "source": [
    "Exercise - Fit a linear regression with gradient descent\n",
    "---\n",
    "\n",
    "> **Exercise**: Standardize the features using the train data, i.e., train mean and standard deviation. Fit a linear regression to the train data with gradient descent and evaluate its performance on the test data.\n",
    "\n",
    "**Hint**: Test different different learning rates, e.g., 0.01, 0.1, 0.5"
   ]
  },
  {
   "cell_type": "code",
   "execution_count": 11,
   "metadata": {},
   "outputs": [],
   "source": [
    "# Standardize features using train mean and standard deviation\n",
    "X_tr_stand = (X_tr - X_tr.mean(axis=0)) / X_tr.std(axis=0)\n",
    "X_te_stand = (X_te - X_tr.mean(axis=0)) / X_tr.std(axis=0)"
   ]
  },
  {
   "cell_type": "code",
   "execution_count": 12,
   "metadata": {},
   "outputs": [],
   "source": [
    "# Add column of ones\n",
    "X_tr_stand1 = np.c_[np.ones(X_tr_stand.shape[0]), X_tr_stand]\n",
    "X_te_stand1 = np.c_[np.ones(X_te_stand.shape[0]), X_te_stand]"
   ]
  },
  {
   "cell_type": "code",
   "execution_count": 14,
   "metadata": {},
   "outputs": [
    {
     "name": "stdout",
     "output_type": "stream",
     "text": [
      "Linear regression (GD) - train RMSE: 397.42\n",
      "Linear regression (GD) - test RMSE: 388.47\n"
     ]
    }
   ],
   "source": [
    "# Implement gradient descent\n",
    "def gd(X, y, lr, n_steps):\n",
    "    # Initialize vector of parameters\n",
    "    w = np.zeros(X.shape[1])\n",
    "\n",
    "    # Log RMSE at each step\n",
    "    log_rmse = []\n",
    "\n",
    "    # Perform n_steps iterations\n",
    "    for step in range(n_steps):\n",
    "        # Compute the predictions\n",
    "        y_pred = np.matmul(X, w)\n",
    "\n",
    "        # Gradient for linear regression with MSE\n",
    "        error = y - y_pred\n",
    "        gradient = -2 * np.matmul(X.T, error) / X.shape[0]\n",
    "\n",
    "        # Update the vector of parameters\n",
    "        w -= lr * gradient\n",
    "\n",
    "        # Log RMSE value\n",
    "        log_rmse.append(rmse(y, y_pred))\n",
    "\n",
    "    # Return vector of parameters and last RMSE value\n",
    "    return w, log_rmse[-1]\n",
    "\n",
    "\n",
    "# Fit linear regression\n",
    "w, gd_rmse_tr = gd(X_tr_stand1, y_tr, lr=0.1, n_steps=500)\n",
    "\n",
    "# Evaluate model\n",
    "y_pred_te = np.matmul(X_te_stand1, w)\n",
    "gd_rmse_te = rmse(y_te, y_pred_te)\n",
    "\n",
    "print(\"Linear regression (GD) - train RMSE: {:.2f}\".format(gd_rmse_tr))\n",
    "print(\"Linear regression (GD) - test RMSE: {:.2f}\".format(gd_rmse_te))"
   ]
  },
  {
   "cell_type": "code",
   "execution_count": null,
   "metadata": {},
   "outputs": [],
   "source": []
  }
 ],
 "metadata": {
  "kernelspec": {
   "display_name": "Python 3 (ipykernel)",
   "language": "python",
   "name": "python3"
  },
  "language_info": {
   "codemirror_mode": {
    "name": "ipython",
    "version": 3
   },
   "file_extension": ".py",
   "mimetype": "text/x-python",
   "name": "python",
   "nbconvert_exporter": "python",
   "pygments_lexer": "ipython3",
   "version": "3.9.16"
  }
 },
 "nbformat": 4,
 "nbformat_minor": 4
}
