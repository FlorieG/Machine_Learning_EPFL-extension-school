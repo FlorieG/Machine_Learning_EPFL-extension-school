{
 "cells": [
  {
   "cell_type": "code",
   "execution_count": 1,
   "id": "a7fabf71-385c-42d7-ba79-ee8226bd3ddb",
   "metadata": {},
   "outputs": [],
   "source": [
    "# Mean absolute error\n",
    "def MAE(y, y_pred):\n",
    "    return np.mean(np.abs(y - y_pred))"
   ]
  },
  {
   "cell_type": "code",
   "execution_count": null,
   "id": "566fbce8-3c6e-47ad-a71f-6df0484204c8",
   "metadata": {},
   "outputs": [],
   "source": []
  },
  {
   "cell_type": "code",
   "execution_count": null,
   "id": "66736615-cf36-405b-8915-c500d8c2436d",
   "metadata": {},
   "outputs": [],
   "source": []
  },
  {
   "cell_type": "code",
   "execution_count": null,
   "id": "4abd56bb-6bb8-4ab2-9667-72de343258b7",
   "metadata": {},
   "outputs": [],
   "source": [
    "# from LinearRegression\n",
    "# Root mean squared error\n",
    "def RMSE(y, y_pred):\n",
    "    mse = np.mean(np.square(y - y_pred))  # MSE\n",
    "    return np.sqrt(mse)  # RMSE\n"
   ]
  },
  {
   "cell_type": "code",
   "execution_count": null,
   "id": "54530e66-1004-42cc-89d2-423f21954a76",
   "metadata": {},
   "outputs": [],
   "source": [
    "# from LinearRegression\n",
    "# Verify RSS score\n",
    "def RSS(y, y_pred):\n",
    "    return np.sum(np.square(np.subtract(y, y_pred)))"
   ]
  },
  {
   "cell_type": "code",
   "execution_count": null,
   "id": "e0e95018-aa34-46a5-b74a-908883b07209",
   "metadata": {},
   "outputs": [],
   "source": [
    "#preprocess data :\n",
    "# remove na column and hot-encoded the qualitative ones.\n",
    "\n",
    "def preprocess(df):\n",
    "    # Work on a copy \n",
    "    df = df.copy()\n",
    "    \n",
    "    # One-hot encoding\n",
    "    df = pd.get_dummies(df, dummy_na = True)\n",
    "    \n",
    "    # Fill missing values\n",
    "    for c in df.columns:\n",
    "        df[c] = df[c].fillna(df[c].median())\n",
    "    \n",
    "    return df"
   ]
  },
  {
   "cell_type": "code",
   "execution_count": null,
   "id": "e937e313-7210-4667-b964-7b97a5c01d01",
   "metadata": {},
   "outputs": [],
   "source": []
  },
  {
   "cell_type": "code",
   "execution_count": null,
   "id": "b000e68c-73f7-420f-9f7b-5e20b26f3940",
   "metadata": {},
   "outputs": [],
   "source": [
    "#Standardize feature (mean = 0, sd= 1):\n",
    "from sklearn.preprocessing import StandardScaler\n",
    "\n",
    "# Standardize features\n",
    "scaler = StandardScaler()\n",
    "X_tr_rescaled = scaler.fit_transform(X_tr)\n",
    "X_val_rescaled = scaler.transform(X_val)"
   ]
  },
  {
   "cell_type": "code",
   "execution_count": null,
   "id": "eeec63f4-8cde-482f-834e-20743269c00b",
   "metadata": {},
   "outputs": [],
   "source": [
    "#Linear regression \n",
    "from sklearn.linear_model import LinearRegression\n",
    "\n",
    "# Try with a linear regression\n",
    "lr = LinearRegression()\n",
    "lr.fit(X_tr_rescaled, y_tr)\n",
    "\n",
    "# Compute predictions\n",
    "y_val_lr =lr.predict(X_val_rescaled)\n",
    "\n",
    "# Plot the model\n",
    "plt.scatter(y_val_lr, y_val) #pred vs obs"
   ]
  },
  {
   "cell_type": "code",
   "execution_count": null,
   "id": "9a2966da-4ef6-41d1-bc96-c842f81bec67",
   "metadata": {},
   "outputs": [],
   "source": [
    "#Ridge regression\n",
    "ridge2 = Ridge(alpha=1e-4)\n",
    "ridge2.fit(X_rescaled, y)\n",
    "\n",
    "# Compute predictions\n",
    "y_values_ridge2 = ridge2.predict(X_values_rescaled)\n",
    "\n",
    "# Plot the model\n",
    "plt.scatter(X_rescaled[:, 0], y)\n",
    "plt.plot(X_values_rescaled[:, 0], y_values_ridge2, c=\"C3\", label=\"tuned ridge\")\n",
    "plt.legend()\n",
    "plt.show()\n",
    "\n",
    "# Ridge regression coefficients\n",
    "for feature, coef in zip(features, ridge2.coef_):\n",
    "    print(\"{:<6}: {:>4.1f}\".format(feature,coef))"
   ]
  },
  {
   "cell_type": "code",
   "execution_count": null,
   "id": "9ef6295d-aa2b-472f-aa79-ba2f77c58a22",
   "metadata": {},
   "outputs": [],
   "source": [
    "#Lasso regression :\n",
    "from sklearn.linear_model import Lasso\n",
    "\n",
    "# Lasso regression\n",
    "lasso = Lasso(alpha=1e-4, max_iter=1e5) # need iteration max and  alpha to set the regularization strength\n",
    "lasso.fit(X_rescaled, y)\n",
    "\n",
    "# Compute predictions\n",
    "y_values_lasso = lasso.predict(X_values_rescaled)\n",
    "\n",
    "# Plot the model\n",
    "plt.scatter(X_rescaled[:, 0], y)\n",
    "plt.plot(X_values_rescaled[:, 0], y_values_lasso, c=\"C3\", label=\"lasso\")\n",
    "plt.legend()\n",
    "plt.show()\n",
    "\n",
    "# Lasso regression coefficients\n",
    "for feature, coef in zip(features, lasso.coef_):\n",
    "    print(\"{:<6}: {:>4.1f}\".format(feature, coef))"
   ]
  },
  {
   "cell_type": "code",
   "execution_count": null,
   "id": "90e2cbed-43e6-4dd1-b9bc-67709eee5c1d",
   "metadata": {},
   "outputs": [],
   "source": []
  },
  {
   "cell_type": "code",
   "execution_count": null,
   "id": "4a31ac49-d1d6-4e11-83a6-b5f61474fe4f",
   "metadata": {},
   "outputs": [],
   "source": [
    "#Ordinary least square from LinearRegression\n",
    "def compute_ols_with_noise(temp_C, users):\n",
    "\n",
    "    # Convert to degrees Fahrenheit\n",
    "    temp_F = 1.8 * temp_C + 32\n",
    "\n",
    "    # Add small variations\n",
    "    noise = np.random.normal(loc=0, scale=0.01, size=temp_F.shape)\n",
    "    temp_F += noise\n",
    "\n",
    "    # Create input matrix X\n",
    "    X = np.c_[temp_C, temp_F]\n",
    "\n",
    "    # Compute OLS using lstsq\n",
    "    X1 = np.c_[np.ones(X.shape[0]), X]  # Create X1 matrix\n",
    "    w, rss, rank, _ = lstsq(X1, users)  # OLS\n",
    "\n",
    "    return w, rss, rank, X1"
   ]
  },
  {
   "cell_type": "code",
   "execution_count": null,
   "id": "8a6a948f-019e-463e-9621-40992bdc1ccb",
   "metadata": {},
   "outputs": [],
   "source": [
    "#Ridge  with Regularization from LinearRegression\n",
    "from sklearn.linear_model import Ridge\n",
    "\n",
    "\n",
    "def compute_with_regularization(temp_C, users):\n",
    "\n",
    "    # Add small variations\n",
    "    noise = np.random.normal(loc=0, scale=0.01, size=temp_C.shape)\n",
    "    temp_F = (1.8 * temp_C + 32) + noise\n",
    "\n",
    "    # Create input matrix X\n",
    "    X = np.c_[temp_C, temp_F]\n",
    "\n",
    "    # Fit a Ridge regression\n",
    "    ridge = Ridge(alpha=100)\n",
    "    ridge.fit(X, users)\n",
    "\n",
    "    return ridge, X\n"
   ]
  },
  {
   "cell_type": "code",
   "execution_count": null,
   "id": "4971e20c-0573-40f8-a66c-1977dfd79182",
   "metadata": {},
   "outputs": [],
   "source": [
    "#Error surface fron gradientDescent\n",
    "# Plot the error surface\n",
    "def visualize_steps(fig, axis, log_a, log_b, x, y):\n",
    "    # Define a grid of a,b parameters\n",
    "    min_ab = min(min(log_a), min(log_b))\n",
    "    max_ab = max(max(log_a), max(log_b))\n",
    "\n",
    "    d = max_ab - min_ab\n",
    "    min_ab -= d * 0.1\n",
    "    max_ab += d * 0.1\n",
    "\n",
    "    a = np.linspace(min_ab, max_ab, num=40)\n",
    "    b = np.linspace(min_ab, max_ab, num=40)\n",
    "    a_grid, b_grid = np.meshgrid(a, b)\n",
    "\n",
    "    # Compute the RMSE score for each a,b pair on that grid\n",
    "    rmse_grid = np.zeros_like(a_grid)\n",
    "\n",
    "    for i in range(40):\n",
    "        for j in range(40):\n",
    "            a, b = a_grid[i, j], b_grid[i, j]\n",
    "            rmse_grid[i, j] = rmse(a * x + b, y)\n",
    "\n",
    "    # RMSE surface\n",
    "    axis.set_aspect(\"equal\", adjustable=\"box\")\n",
    "    mpl_contourset = axis.contourf(a_grid, b_grid, rmse_grid, 20, cmap=plt.cm.coolwarm)\n",
    "    fig.colorbar(mpl_contourset, ax=axis, label=\"RMSE\")\n",
    "\n",
    "    # Plot the GD steps\n",
    "    axis.plot(log_a, log_b, c=\"#00abe9\")\n",
    "    axis.scatter(log_a, log_b, c=\"#00abe9\")\n",
    "\n",
    "    # Set titles and labels\n",
    "    axis.set_xlabel(\"parameter a\")\n",
    "    axis.set_ylabel(\"parameter b\")\n",
    "\n",
    "    axis.set_xlim(min_ab, max_ab)\n",
    "    axis.set_ylim(min_ab, max_ab)"
   ]
  },
  {
   "cell_type": "code",
   "execution_count": null,
   "id": "ca15f92c-87c1-417e-967d-3ab7a31ea46b",
   "metadata": {},
   "outputs": [],
   "source": [
    "#https://medium.com/nerd-for-tech/dealing-with-missing-data-using-python-3fd785b77a05\n",
    "def plot_missingdata(df:pd.DataFrame, title:str, xlabel:str, ylabel:str):\n",
    "    ''' This function takes a data frame as input plots the list of columns with corresponding total number of missing values'''\n",
    "    # Let us see what columns have missing values\n",
    "    # Total number of entries (rows X columns) in the dataset\n",
    "    total= df.size\n",
    "    #Number of missing values per column\n",
    "    missingCount = df.isnull().sum()\n",
    "    #Total number of missing values\n",
    "    missing_tot = missingCount.sum()\n",
    "    # Calculate percentage of missing values\n",
    "    print(\"The dataset contains\", round(((missing_tot/total) * 100), 2), \"%\", \"missing values\")\n",
    "\n",
    "    # keeping only the columns with missing values>0 \n",
    "    missing = missingCount[missingCount > 0] \n",
    "    print(missing)\n",
    "    # sorting in order of missing values and making the change to original missing series\n",
    "    missing.sort_values(inplace=True) \n",
    "    missing.plot.bar()\n",
    "    plt.title(title, size=15,loc='left')\n",
    "    plt.xticks(fontsize=11,rotation=45)\n",
    "    plt.yticks(fontsize=11)\n",
    "    plt.xlabel(xlabel, fontsize=13)\n",
    "    plt.ylabel(ylabel, fontsize=13)\n",
    "    plt.show()\n",
    "    \n",
    "import matplotlib.pyplot as plt\n",
    "plot_missingdata(df, 'Dataset columns with missing values','Column Name','No. of Missing values')\n"
   ]
  }
 ],
 "metadata": {
  "kernelspec": {
   "display_name": "Python 3 (ipykernel)",
   "language": "python",
   "name": "python3"
  },
  "language_info": {
   "codemirror_mode": {
    "name": "ipython",
    "version": 3
   },
   "file_extension": ".py",
   "mimetype": "text/x-python",
   "name": "python",
   "nbconvert_exporter": "python",
   "pygments_lexer": "ipython3",
   "version": "3.9.16"
  }
 },
 "nbformat": 4,
 "nbformat_minor": 5
}
