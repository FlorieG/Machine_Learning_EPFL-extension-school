{
 "cells": [
  {
   "cell_type": "code",
   "execution_count": 1,
   "id": "a7fabf71-385c-42d7-ba79-ee8226bd3ddb",
   "metadata": {},
   "outputs": [],
   "source": [
    "# Mean absolute error\n",
    "def MAE(y, y_pred):\n",
    "    return np.mean(np.abs(y - y_pred))"
   ]
  },
  {
   "cell_type": "code",
   "execution_count": null,
   "id": "4abd56bb-6bb8-4ab2-9667-72de343258b7",
   "metadata": {},
   "outputs": [],
   "source": [
    "# from LinearRegression\n",
    "# Root mean squared error\n",
    "def RMSE(y, y_pred):\n",
    "    mse = np.mean(np.square(y - y_pred))  # MSE\n",
    "    return np.sqrt(mse)  # RMSE\n"
   ]
  },
  {
   "cell_type": "code",
   "execution_count": null,
   "id": "54530e66-1004-42cc-89d2-423f21954a76",
   "metadata": {},
   "outputs": [],
   "source": [
    "# from LinearRegression\n",
    "# Verify RSS score\n",
    "def RSS(y, y_pred):\n",
    "    return np.sum(np.square(np.subtract(y, y_pred)))"
   ]
  },
  {
   "cell_type": "code",
   "execution_count": null,
   "id": "e0e95018-aa34-46a5-b74a-908883b07209",
   "metadata": {},
   "outputs": [],
   "source": []
  },
  {
   "cell_type": "code",
   "execution_count": null,
   "id": "90e2cbed-43e6-4dd1-b9bc-67709eee5c1d",
   "metadata": {},
   "outputs": [],
   "source": []
  },
  {
   "cell_type": "code",
   "execution_count": null,
   "id": "4a31ac49-d1d6-4e11-83a6-b5f61474fe4f",
   "metadata": {},
   "outputs": [],
   "source": [
    "#Ordinary least square from LinearRegression\n",
    "def compute_ols_with_noise(temp_C, users):\n",
    "\n",
    "    # Convert to degrees Fahrenheit\n",
    "    temp_F = 1.8 * temp_C + 32\n",
    "\n",
    "    # Add small variations\n",
    "    noise = np.random.normal(loc=0, scale=0.01, size=temp_F.shape)\n",
    "    temp_F += noise\n",
    "\n",
    "    # Create input matrix X\n",
    "    X = np.c_[temp_C, temp_F]\n",
    "\n",
    "    # Compute OLS using lstsq\n",
    "    X1 = np.c_[np.ones(X.shape[0]), X]  # Create X1 matrix\n",
    "    w, rss, rank, _ = lstsq(X1, users)  # OLS\n",
    "\n",
    "    return w, rss, rank, X1"
   ]
  },
  {
   "cell_type": "code",
   "execution_count": null,
   "id": "8a6a948f-019e-463e-9621-40992bdc1ccb",
   "metadata": {},
   "outputs": [],
   "source": [
    "#Ridge  with Regularization from LinearRegression\n",
    "from sklearn.linear_model import Ridge\n",
    "\n",
    "\n",
    "def compute_with_regularization(temp_C, users):\n",
    "\n",
    "    # Add small variations\n",
    "    noise = np.random.normal(loc=0, scale=0.01, size=temp_C.shape)\n",
    "    temp_F = (1.8 * temp_C + 32) + noise\n",
    "\n",
    "    # Create input matrix X\n",
    "    X = np.c_[temp_C, temp_F]\n",
    "\n",
    "    # Fit a Ridge regression\n",
    "    ridge = Ridge(alpha=100)\n",
    "    ridge.fit(X, users)\n",
    "\n",
    "    return ridge, X\n"
   ]
  },
  {
   "cell_type": "code",
   "execution_count": null,
   "id": "4971e20c-0573-40f8-a66c-1977dfd79182",
   "metadata": {},
   "outputs": [],
   "source": [
    "#Error surface fron gradientDescent\n",
    "# Plot the error surface\n",
    "def visualize_steps(fig, axis, log_a, log_b, x, y):\n",
    "    # Define a grid of a,b parameters\n",
    "    min_ab = min(min(log_a), min(log_b))\n",
    "    max_ab = max(max(log_a), max(log_b))\n",
    "\n",
    "    d = max_ab - min_ab\n",
    "    min_ab -= d * 0.1\n",
    "    max_ab += d * 0.1\n",
    "\n",
    "    a = np.linspace(min_ab, max_ab, num=40)\n",
    "    b = np.linspace(min_ab, max_ab, num=40)\n",
    "    a_grid, b_grid = np.meshgrid(a, b)\n",
    "\n",
    "    # Compute the RMSE score for each a,b pair on that grid\n",
    "    rmse_grid = np.zeros_like(a_grid)\n",
    "\n",
    "    for i in range(40):\n",
    "        for j in range(40):\n",
    "            a, b = a_grid[i, j], b_grid[i, j]\n",
    "            rmse_grid[i, j] = rmse(a * x + b, y)\n",
    "\n",
    "    # RMSE surface\n",
    "    axis.set_aspect(\"equal\", adjustable=\"box\")\n",
    "    mpl_contourset = axis.contourf(a_grid, b_grid, rmse_grid, 20, cmap=plt.cm.coolwarm)\n",
    "    fig.colorbar(mpl_contourset, ax=axis, label=\"RMSE\")\n",
    "\n",
    "    # Plot the GD steps\n",
    "    axis.plot(log_a, log_b, c=\"#00abe9\")\n",
    "    axis.scatter(log_a, log_b, c=\"#00abe9\")\n",
    "\n",
    "    # Set titles and labels\n",
    "    axis.set_xlabel(\"parameter a\")\n",
    "    axis.set_ylabel(\"parameter b\")\n",
    "\n",
    "    axis.set_xlim(min_ab, max_ab)\n",
    "    axis.set_ylim(min_ab, max_ab)"
   ]
  }
 ],
 "metadata": {
  "kernelspec": {
   "display_name": "Python 3 (ipykernel)",
   "language": "python",
   "name": "python3"
  },
  "language_info": {
   "codemirror_mode": {
    "name": "ipython",
    "version": 3
   },
   "file_extension": ".py",
   "mimetype": "text/x-python",
   "name": "python",
   "nbconvert_exporter": "python",
   "pygments_lexer": "ipython3",
   "version": "3.9.16"
  }
 },
 "nbformat": 4,
 "nbformat_minor": 5
}
