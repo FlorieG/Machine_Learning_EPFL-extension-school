{
 "cells": [
  {
   "cell_type": "markdown",
   "id": "f77afb4a-008b-498d-81c9-6c17c29f67ce",
   "metadata": {
    "tags": []
   },
   "source": [
    "## Exercice : Distance matrix\n",
    "Compute a 2 dimensional distance array"
   ]
  },
  {
   "cell_type": "code",
   "execution_count": 14,
   "id": "947b4a73-b74b-4c68-8633-05245d8b57cc",
   "metadata": {},
   "outputs": [
    {
     "data": {
      "text/plain": [
       "array([[0., 0., 0., 0., 0., 0., 0., 0., 0., 0.],\n",
       "       [0., 0., 0., 0., 0., 0., 0., 0., 0., 0.],\n",
       "       [0., 0., 0., 0., 0., 0., 0., 0., 0., 0.],\n",
       "       [0., 0., 0., 0., 0., 0., 0., 0., 0., 0.],\n",
       "       [0., 0., 0., 0., 0., 0., 0., 0., 0., 0.],\n",
       "       [0., 0., 0., 0., 0., 0., 0., 0., 0., 0.],\n",
       "       [0., 0., 0., 0., 0., 0., 0., 0., 0., 0.],\n",
       "       [0., 0., 0., 0., 0., 0., 0., 0., 0., 0.],\n",
       "       [0., 0., 0., 0., 0., 0., 0., 0., 0., 0.],\n",
       "       [0., 0., 0., 0., 0., 0., 0., 0., 0., 0.]])"
      ]
     },
     "execution_count": 14,
     "metadata": {},
     "output_type": "execute_result"
    }
   ],
   "source": [
    "import numpy as np\n",
    "dist_to_origin = [0, 1498, 1063, 1968, 1498, 1758, 1469, 1472, 2230, 2391]\n",
    "len_dist_to_rigin = len(dist_to_origin)\n"
   ]
  },
  {
   "cell_type": "code",
   "execution_count": 27,
   "id": "ddb6a332-8552-4f00-bfe7-305c85e325af",
   "metadata": {},
   "outputs": [
    {
     "data": {
      "text/plain": [
       "1498"
      ]
     },
     "execution_count": 27,
     "metadata": {},
     "output_type": "execute_result"
    }
   ],
   "source": [
    "def dist(X1,X2):\n",
    "    return abs(X2-X1) #Too lazy to express the distance with 2 coordinate\n",
    "\n",
    "dist(0,1498)"
   ]
  },
  {
   "cell_type": "code",
   "execution_count": 19,
   "id": "1787e9af-a056-4303-b3ba-1993cc3a1e8c",
   "metadata": {
    "tags": []
   },
   "outputs": [
    {
     "data": {
      "text/plain": [
       "array([[0., 0., 0., 0., 0., 0., 0., 0., 0., 0.],\n",
       "       [0., 0., 0., 0., 0., 0., 0., 0., 0., 0.],\n",
       "       [0., 0., 0., 0., 0., 0., 0., 0., 0., 0.],\n",
       "       [0., 0., 0., 0., 0., 0., 0., 0., 0., 0.],\n",
       "       [0., 0., 0., 0., 0., 0., 0., 0., 0., 0.],\n",
       "       [0., 0., 0., 0., 0., 0., 0., 0., 0., 0.],\n",
       "       [0., 0., 0., 0., 0., 0., 0., 0., 0., 0.],\n",
       "       [0., 0., 0., 0., 0., 0., 0., 0., 0., 0.],\n",
       "       [0., 0., 0., 0., 0., 0., 0., 0., 0., 0.],\n",
       "       [0., 0., 0., 0., 0., 0., 0., 0., 0., 0.]])"
      ]
     },
     "execution_count": 19,
     "metadata": {},
     "output_type": "execute_result"
    }
   ],
   "source": [
    "dist_matrix = np.zeros((len_dist_to_rigin, len_dist_to_rigin))\n",
    "dist_matrix"
   ]
  },
  {
   "cell_type": "code",
   "execution_count": 26,
   "id": "bce833b5-05b0-468b-8b60-9e10066a35f6",
   "metadata": {},
   "outputs": [
    {
     "data": {
      "text/plain": [
       "array([[   0., 1498., 1063., 1968., 1498., 1758., 1469., 1472., 2230.,\n",
       "        2391.],\n",
       "       [1498.,    0.,  435.,  470.,    0.,  260.,   29.,   26.,  732.,\n",
       "         893.],\n",
       "       [1063.,  435.,    0.,  905.,  435.,  695.,  406.,  409., 1167.,\n",
       "        1328.],\n",
       "       [1968.,  470.,  905.,    0.,  470.,  210.,  499.,  496.,  262.,\n",
       "         423.],\n",
       "       [1498.,    0.,  435.,  470.,    0.,  260.,   29.,   26.,  732.,\n",
       "         893.],\n",
       "       [1758.,  260.,  695.,  210.,  260.,    0.,  289.,  286.,  472.,\n",
       "         633.],\n",
       "       [1469.,   29.,  406.,  499.,   29.,  289.,    0.,    3.,  761.,\n",
       "         922.],\n",
       "       [1472.,   26.,  409.,  496.,   26.,  286.,    3.,    0.,  758.,\n",
       "         919.],\n",
       "       [2230.,  732., 1167.,  262.,  732.,  472.,  761.,  758.,    0.,\n",
       "         161.],\n",
       "       [2391.,  893., 1328.,  423.,  893.,  633.,  922.,  919.,  161.,\n",
       "           0.]])"
      ]
     },
     "execution_count": 26,
     "metadata": {},
     "output_type": "execute_result"
    }
   ],
   "source": [
    "for i in range(len_dist_to_rigin): \n",
    "    for j in range(len_dist_to_rigin):\n",
    "        val = dist(dist_to_origin[i],dist_to_origin[j])\n",
    "        dist_matrix[i][j] = val\n",
    "dist_matrix"
   ]
  },
  {
   "cell_type": "markdown",
   "id": "798d8f3b-b10c-48a2-80a1-2786f5c23908",
   "metadata": {},
   "source": [
    "### Correction :"
   ]
  },
  {
   "cell_type": "code",
   "execution_count": 28,
   "id": "5f998a33-0ccc-4544-b70c-93b261dcd2e6",
   "metadata": {},
   "outputs": [
    {
     "data": {
      "text/plain": [
       "array([   0, 1498, 1063, 1968, 1498, 1758, 1469, 1472, 2230, 2391])"
      ]
     },
     "execution_count": 28,
     "metadata": {},
     "output_type": "execute_result"
    }
   ],
   "source": [
    "dist = np.array(dist_to_origin)\n",
    "dist"
   ]
  },
  {
   "cell_type": "code",
   "execution_count": 30,
   "id": "68db41e0-d82a-457d-a4e4-c1c94cc6bf68",
   "metadata": {},
   "outputs": [
    {
     "data": {
      "text/plain": [
       "array([[   0, 1498, 1063, 1968, 1498, 1758, 1469, 1472, 2230, 2391],\n",
       "       [1498,    0,  435,  470,    0,  260,   29,   26,  732,  893],\n",
       "       [1063,  435,    0,  905,  435,  695,  406,  409, 1167, 1328],\n",
       "       [1968,  470,  905,    0,  470,  210,  499,  496,  262,  423],\n",
       "       [1498,    0,  435,  470,    0,  260,   29,   26,  732,  893],\n",
       "       [1758,  260,  695,  210,  260,    0,  289,  286,  472,  633],\n",
       "       [1469,   29,  406,  499,   29,  289,    0,    3,  761,  922],\n",
       "       [1472,   26,  409,  496,   26,  286,    3,    0,  758,  919],\n",
       "       [2230,  732, 1167,  262,  732,  472,  761,  758,    0,  161],\n",
       "       [2391,  893, 1328,  423,  893,  633,  922,  919,  161,    0]])"
      ]
     },
     "execution_count": 30,
     "metadata": {},
     "output_type": "execute_result"
    }
   ],
   "source": [
    "dist_T = dist.reshape(10, 1)\n",
    "dist_matrix = np.abs(dist - dist_T) #Better and faster\n",
    "dist_matrix \n"
   ]
  },
  {
   "cell_type": "markdown",
   "id": "c71760df-1271-45df-81f8-dcd26fbdf950",
   "metadata": {},
   "source": [
    "## Copies and views \n",
    "\n",
    "We conclude this short introduction to NumPy with a very important concept. When performing operations with arrays, sometimes the data is copied into a new array, and sometimes the modifications are made on the original array.\n",
    "\n",
    "### Name binding\n",
    "\n",
    "First of all, when we make an assignment, it is important to recall that in Python, this doesn’t create a new object, but instead it assigns two names to the same object."
   ]
  },
  {
   "cell_type": "code",
   "execution_count": 31,
   "id": "d3b5742d-28f7-4bfa-942b-f1ed23d47ba5",
   "metadata": {},
   "outputs": [
    {
     "data": {
      "text/plain": [
       "array([0, 1, 2, 3, 4])"
      ]
     },
     "execution_count": 31,
     "metadata": {},
     "output_type": "execute_result"
    }
   ],
   "source": [
    "a = np.arange(5)\n",
    "a"
   ]
  },
  {
   "cell_type": "code",
   "execution_count": 32,
   "id": "04cb2e82-31d7-4a83-96e2-fca7c7e3a208",
   "metadata": {},
   "outputs": [
    {
     "data": {
      "text/plain": [
       "array([5, 1, 2, 3, 4])"
      ]
     },
     "execution_count": 32,
     "metadata": {},
     "output_type": "execute_result"
    }
   ],
   "source": [
    "b = a  # \"a\" and \"b\" are bound to the same array\n",
    "b[0] = 5\n",
    "a"
   ]
  },
  {
   "cell_type": "markdown",
   "id": "967462a9-11cf-4847-8956-719dc6a75e00",
   "metadata": {},
   "source": [
    "### Views vs. copies\n",
    "Another important point to keep in mind is that slicing an array in NumPy returns a view and not a separate copy of it."
   ]
  },
  {
   "cell_type": "code",
   "execution_count": 35,
   "id": "c158fc00-d861-4ecb-85dd-fa37c442e178",
   "metadata": {},
   "outputs": [
    {
     "data": {
      "text/plain": [
       "array([0, 1])"
      ]
     },
     "execution_count": 35,
     "metadata": {},
     "output_type": "execute_result"
    }
   ],
   "source": [
    "a = np.arange(10)\n",
    "b = a[:2]  # \"b\" is a narrower view of the array\n",
    "b\n"
   ]
  },
  {
   "cell_type": "code",
   "execution_count": 34,
   "id": "a4fe319b-387e-4218-8e79-4ced62d835a4",
   "metadata": {},
   "outputs": [
    {
     "data": {
      "text/plain": [
       "array([10,  1,  2,  3,  4,  5,  6,  7,  8,  9])"
      ]
     },
     "execution_count": 34,
     "metadata": {},
     "output_type": "execute_result"
    }
   ],
   "source": [
    "b[0] = 10\n",
    "a"
   ]
  },
  {
   "cell_type": "code",
   "execution_count": 36,
   "id": "7eb13dd8-908b-4052-ada4-6ec7c4baca99",
   "metadata": {},
   "outputs": [
    {
     "data": {
      "text/plain": [
       "array([0, 1, 2, 3, 4, 5, 6, 7, 8, 9])"
      ]
     },
     "execution_count": 36,
     "metadata": {},
     "output_type": "execute_result"
    }
   ],
   "source": [
    "a = np.arange(10)\n",
    "b = a.copy()[:2]  # \"b\" is bound to a new copy of the array\n",
    "b[0] = 10\n",
    "a"
   ]
  },
  {
   "cell_type": "markdown",
   "id": "528ab9d8-48ce-4661-8376-e81abcc9487b",
   "metadata": {},
   "source": [
    "### Reshaping\n",
    "The difference between a view and a copy can be a bit subtle. For instance, the reshape() function returns a view of the array, but with a new shape."
   ]
  },
  {
   "cell_type": "code",
   "execution_count": 37,
   "id": "07455177-0d25-46d3-bf39-1560ea6b9360",
   "metadata": {},
   "outputs": [
    {
     "data": {
      "text/plain": [
       "array([ 0,  1,  2,  3,  4,  5,  6,  7,  8,  9, 10, 11])"
      ]
     },
     "execution_count": 37,
     "metadata": {},
     "output_type": "execute_result"
    }
   ],
   "source": [
    "a = np.arange(12)\n",
    "a"
   ]
  },
  {
   "cell_type": "code",
   "execution_count": 38,
   "id": "3dfad78c-4c17-4ded-b7f7-e0f65dd24f77",
   "metadata": {},
   "outputs": [
    {
     "data": {
      "text/plain": [
       "array([[ 0,  1,  2,  3],\n",
       "       [ 4,  5,  6,  7],\n",
       "       [ 8,  9, 10, 11]])"
      ]
     },
     "execution_count": 38,
     "metadata": {},
     "output_type": "execute_result"
    }
   ],
   "source": [
    "b = a.reshape(3, 4)  # reshape() returns a view of the array, but with a new shape\n",
    "b"
   ]
  },
  {
   "cell_type": "code",
   "execution_count": 39,
   "id": "b7b77ba5-3560-49f9-97ea-7b66664fe569",
   "metadata": {},
   "outputs": [
    {
     "data": {
      "text/plain": [
       "array([10, 10, 10, 10,  4,  5,  6,  7,  8,  9, 10, 11])"
      ]
     },
     "execution_count": 39,
     "metadata": {},
     "output_type": "execute_result"
    }
   ],
   "source": [
    "b[0] = 10  # changes the underlying data of both \"a\" and \"b\"\n",
    "a"
   ]
  },
  {
   "cell_type": "code",
   "execution_count": 40,
   "id": "b2164b9d-8d20-41c5-a7a8-9d154f9674c9",
   "metadata": {},
   "outputs": [
    {
     "data": {
      "text/plain": [
       "array([[10, 10, 10, 10],\n",
       "       [ 4,  5,  6,  7],\n",
       "       [ 8,  9, 10, 11]])"
      ]
     },
     "execution_count": 40,
     "metadata": {},
     "output_type": "execute_result"
    }
   ],
   "source": [
    "b"
   ]
  },
  {
   "cell_type": "code",
   "execution_count": null,
   "id": "2010156c-d9f0-453d-bf2b-72d2f1490e0b",
   "metadata": {},
   "outputs": [],
   "source": []
  }
 ],
 "metadata": {
  "kernelspec": {
   "display_name": "Python [conda env:adsml] *",
   "language": "python",
   "name": "conda-env-adsml-py"
  },
  "language_info": {
   "codemirror_mode": {
    "name": "ipython",
    "version": 3
   },
   "file_extension": ".py",
   "mimetype": "text/x-python",
   "name": "python",
   "nbconvert_exporter": "python",
   "pygments_lexer": "ipython3",
   "version": "3.9.16"
  }
 },
 "nbformat": 4,
 "nbformat_minor": 5
}
