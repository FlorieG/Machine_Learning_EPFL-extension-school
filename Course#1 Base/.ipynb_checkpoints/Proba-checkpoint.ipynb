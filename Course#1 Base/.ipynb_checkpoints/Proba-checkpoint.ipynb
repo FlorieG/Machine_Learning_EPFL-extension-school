{
 "cells": [
  {
   "cell_type": "markdown",
   "id": "5fb08e2d-ca94-422b-8a9a-135357d41ff2",
   "metadata": {},
   "source": [
    "# Probability\n",
    "\n",
    "## Exercice :\n",
    "\n",
    "Suppose we throw two distinct dice and record the two scores. Answer the questions below\n",
    "\n",
    "- a) What is the size of the outcome space ? \n",
    "6 * 6 = 36 \n",
    "\n",
    "- b) Let Y be the sum of the scores. Is Y a random variable? If so, express Y  as a function of the outcome space Ω and give the set of possible values.\n",
    "\n",
    "Y(w) = sum(2 * w)\n",
    "Y(w) = w1 + w2\n",
    "\n",
    "- c) Let A be the event that the first score is 1 and B the event that the sum of the scores is 7. List the elements of the events A, A∪B and A∩B.\n",
    "\n",
    "A = {(1,1),(1,2),(1,3)...(1,6)}\n",
    "AUB = A + B\n",
    "AnB = (1,6)\n",
    "\n",
    "## Independance and conditional probabilities\n",
    "\n"
   ]
  },
  {
   "cell_type": "code",
   "execution_count": 1,
   "id": "84253ee3-9367-4c28-b280-7d1a6a9263ad",
   "metadata": {},
   "outputs": [],
   "source": [
    "import random"
   ]
  },
  {
   "cell_type": "code",
   "execution_count": 2,
   "id": "37ea5dde-0611-4d93-a001-f75d3cd97028",
   "metadata": {},
   "outputs": [
    {
     "data": {
      "text/plain": [
       "4"
      ]
     },
     "execution_count": 2,
     "metadata": {},
     "output_type": "execute_result"
    }
   ],
   "source": [
    "bag = ['r','r','r','g','g','g','g']\n",
    "random.randrange(len(bag))\n",
    "# returns a random value between 0 and 7 (excluding 7)"
   ]
  },
  {
   "cell_type": "code",
   "execution_count": 3,
   "id": "4e743049-4ef5-4433-9561-50bac0fbe7ab",
   "metadata": {},
   "outputs": [
    {
     "data": {
      "text/plain": [
       "'g'"
      ]
     },
     "execution_count": 3,
     "metadata": {},
     "output_type": "execute_result"
    }
   ],
   "source": [
    "color1 = bag[random.randrange(len(bag))]\n",
    "color1"
   ]
  },
  {
   "cell_type": "code",
   "execution_count": 9,
   "id": "504f08c3-a60b-4fef-bb84-8cc99a50148e",
   "metadata": {},
   "outputs": [],
   "source": [
    "color1 = bag[random.randrange(len(bag))]\n",
    "color2 = bag[random.randrange(len(bag))]\n",
    "\n",
    "if color1=='r' and color2=='r':\n",
    "    print(\"alls red\")#Happen almost never"
   ]
  },
  {
   "cell_type": "code",
   "execution_count": 11,
   "id": "cc9bf93a-6702-45ff-8cdc-0e0eba40aab6",
   "metadata": {},
   "outputs": [
    {
     "data": {
      "text/plain": [
       "0.18377"
      ]
     },
     "execution_count": 11,
     "metadata": {},
     "output_type": "execute_result"
    }
   ],
   "source": [
    "#Test with replace\n",
    "bag = ['r','r','r','g','g','g','g']\n",
    "experiments = 100000\n",
    "counter = 0\n",
    "for i in range(experiments):\n",
    "    color1 = bag[random.randrange(len(bag))]\n",
    "    color2 = bag[random.randrange(len(bag))]\n",
    "    if color1=='r' and color2=='r':\n",
    "        counter += 1\n",
    "    \n",
    "counter / experiments\n",
    "\n",
    "# outputs a value close to the expected value of 3/7 * 3/7, e.g. 0.18367"
   ]
  },
  {
   "cell_type": "code",
   "execution_count": 12,
   "id": "0bd496a1-e318-4267-9c49-54a478aae489",
   "metadata": {},
   "outputs": [],
   "source": [
    "bag.remove(color1) #remove an element of a list\n",
    "bag.append(color1) #added an element in a list"
   ]
  },
  {
   "cell_type": "code",
   "execution_count": 13,
   "id": "912de1c2-0e9a-4a00-9d10-892997b51bba",
   "metadata": {},
   "outputs": [
    {
     "data": {
      "text/plain": [
       "0.1484"
      ]
     },
     "execution_count": 13,
     "metadata": {},
     "output_type": "execute_result"
    }
   ],
   "source": [
    "#Test without replace\n",
    "bag = ['r','r','r','g','g','g','g']\n",
    "experiments = 10000\n",
    "counter = 0\n",
    "for i in range(experiments):\n",
    "    color1 = bag[random.randrange(len(bag))]\n",
    "    # let's remove the marble from the bag\n",
    "    bag.remove(color1)\n",
    "    color2 = bag[random.randrange(len(bag))]\n",
    "    if color1=='r' and color2=='r':\n",
    "        counter += 1\n",
    "    # let's put the first marble back for the next experiment!\n",
    "    bag.append(color1)\n",
    "    \n",
    "counter / experiments\n",
    "# outputs a value close to the expected value of, e.g. 0.1407"
   ]
  },
  {
   "cell_type": "markdown",
   "id": "cd77d729-2e6c-4645-93de-43f1d1e282ca",
   "metadata": {},
   "source": [
    "## Expected values "
   ]
  },
  {
   "cell_type": "code",
   "execution_count": 14,
   "id": "cd1e51e7-be40-4d25-8af6-c043b99111f8",
   "metadata": {},
   "outputs": [
    {
     "data": {
      "text/plain": [
       "1.5098"
      ]
     },
     "execution_count": 14,
     "metadata": {},
     "output_type": "execute_result"
    }
   ],
   "source": [
    "import random\n",
    "\n",
    "outcome_space = ['H','T']\n",
    "experiments = 10000\n",
    "tails = 0\n",
    "for i in range(experiments):\n",
    "    for toss in range(3):\n",
    "        result = outcome_space[random.randrange(len(outcome_space))]\n",
    "        if result=='T':\n",
    "            tails += 1\n",
    "    \n",
    "tails / experiments\n",
    "# a value very close to 1.5, e.g. 1.501"
   ]
  },
  {
   "cell_type": "code",
   "execution_count": 15,
   "id": "5788f165-f0f6-4222-8594-7e2f278d18f1",
   "metadata": {},
   "outputs": [
    {
     "data": {
      "text/plain": [
       "2.0218"
      ]
     },
     "execution_count": 15,
     "metadata": {},
     "output_type": "execute_result"
    }
   ],
   "source": [
    "import random\n",
    "\n",
    "outcome_space = ['H','T']\n",
    "experiments = 10000\n",
    "trials = 0\n",
    "for i in range(experiments):\n",
    "    seen_heads = False\n",
    "    while not seen_heads:\n",
    "        trials += 1\n",
    "        result = outcome_space[random.randrange(len(outcome_space))]\n",
    "        if result=='H': \n",
    "            break\n",
    "    \n",
    "trials / experiments\n",
    "# a value very close to 2, e.g. 2.0059"
   ]
  },
  {
   "cell_type": "code",
   "execution_count": 16,
   "id": "3c1dbc57-64bf-4594-8720-fa50b4f78946",
   "metadata": {},
   "outputs": [
    {
     "data": {
      "text/plain": [
       "0.9982"
      ]
     },
     "execution_count": 16,
     "metadata": {},
     "output_type": "execute_result"
    }
   ],
   "source": [
    "import random\n",
    "\n",
    "experiments = 10000\n",
    "proper_hats = 0\n",
    "men = list(range(10))\n",
    "for i in range(experiments):\n",
    "    hats = list(range(len(men)))\n",
    "    for man in men:\n",
    "        hat = hats[random.randrange(len(hats))]\n",
    "        if man == hat:\n",
    "            proper_hats += 1\n",
    "        hats.remove(hat)\n",
    "        \n",
    "proper_hats / experiments\n",
    "# output will be a value close to 1, e.g. 0.9866"
   ]
  },
  {
   "cell_type": "markdown",
   "id": "042f0f2a-a6bb-431b-9b42-42ee3f9123e4",
   "metadata": {
    "tags": []
   },
   "source": [
    "## Discrete probability distributions"
   ]
  },
  {
   "cell_type": "code",
   "execution_count": 17,
   "id": "b8aa9cc1-5c0f-4682-a07c-bfb090698576",
   "metadata": {},
   "outputs": [
    {
     "data": {
      "text/plain": [
       "0.0435"
      ]
     },
     "execution_count": 17,
     "metadata": {},
     "output_type": "execute_result"
    }
   ],
   "source": [
    "import random\n",
    "\n",
    "experiments = 10000\n",
    "experiments_k2 = 0\n",
    "coinflips = 10\n",
    "for i in range(experiments):\n",
    "    heads = 0\n",
    "    for flip in range(coinflips):\n",
    "        if random.random() < 0.5:\n",
    "            heads += 1\n",
    "    if heads == 2:\n",
    "        experiments_k2 += 1\n",
    "\n",
    "experiments_k2 / experiments\n",
    "# outputs a number close to 0.0439453125, e.g 0.0452"
   ]
  },
  {
   "cell_type": "markdown",
   "id": "6f5e5ede-1b87-4d29-81f9-2ff1fad94b5d",
   "metadata": {},
   "source": [
    "Correct! A binomial(n,p) random variable counts the number of successes in n independent trials, where each trial has probability p of success.\n",
    "\n",
    "## The normal distribution and the central limit theorem"
   ]
  },
  {
   "cell_type": "code",
   "execution_count": 1,
   "id": "85919710-3660-46ae-b42e-3e9c4a1e239c",
   "metadata": {},
   "outputs": [
    {
     "data": {
      "image/png": "[encoded data removed]",
      "text/plain": [
       "<Figure size 640x480 with 1 Axes>"
      ]
     },
     "metadata": {},
     "output_type": "display_data"
    }
   ],
   "source": [
    "import matplotlib.pyplot as plt\n",
    "\n",
    "%matplotlib inline\n",
    "import random\n",
    "import numpy as np\n",
    "\n",
    "# fill a list with 100,000 random numbers between 0 and 1\n",
    "random_numbers = [random.random() for i in range(100000)] \n",
    "# plot to show that numbers are not normally distributed\n",
    "plt.hist(random_numbers, bins=np.linspace(0, 1, 101))\n",
    "plt.xlabel('random values')\n",
    "plt.ylabel('frequency')\n",
    "plt.show()"
   ]
  },
  {
   "cell_type": "code",
   "execution_count": 5,
   "id": "5b1d22ca-30e9-4c48-ac20-f4dd2f1a884d",
   "metadata": {},
   "outputs": [
    {
     "data": {
      "image/png": "[encoded data removed]",
      "text/plain": [
       "<Figure size 640x480 with 1 Axes>"
      ]
     },
     "metadata": {},
     "output_type": "display_data"
    }
   ],
   "source": [
    "import matplotlib.pyplot as plt\n",
    "\n",
    "%matplotlib inline\n",
    "import random\n",
    "import numpy as np\n",
    "\n",
    "means = []\n",
    "samplesize = 10\n",
    "experiments = 100000\n",
    "for i in range(experiments):\n",
    "    total = 0\n",
    "    for ii in range(samplesize):\n",
    "        total += random.random()\n",
    "    mean = total / samplesize\n",
    "    means.append(mean)\n",
    "plt.hist(means,bins=np.linspace(0,1,101));\n",
    "plt.xlabel('sample means')\n",
    "plt.ylabel('frequency')\n",
    "plt.show()"
   ]
  },
  {
   "cell_type": "code",
   "execution_count": null,
   "id": "8a31a235-5ec0-4517-911b-04d212554f9b",
   "metadata": {},
   "outputs": [],
   "source": []
  }
 ],
 "metadata": {
  "kernelspec": {
   "display_name": "Python [conda env:adsml] *",
   "language": "python",
   "name": "conda-env-adsml-py"
  },
  "language_info": {
   "codemirror_mode": {
    "name": "ipython",
    "version": 3
   },
   "file_extension": ".py",
   "mimetype": "text/x-python",
   "name": "python",
   "nbconvert_exporter": "python",
   "pygments_lexer": "ipython3",
   "version": "3.9.16"
  }
 },
 "nbformat": 4,
 "nbformat_minor": 5
}
