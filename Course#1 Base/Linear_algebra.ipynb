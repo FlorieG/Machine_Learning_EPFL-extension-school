{
 "cells": [
  {
   "cell_type": "markdown",
   "id": "e1920e44-8583-4e74-8f8e-13b5f609a604",
   "metadata": {},
   "source": [
    "# Linear algebra for data science \n",
    "## Why do we need linear algebra for data science ?\n",
    "\n",
    "We will then rely on the concepts from linear algebra to manipulate these vectors and matrices and build algorithms, such as:\n",
    "\n",
    "- Principal Component Analysis (PCA),\n",
    "- Singular Value Decomposition (SVD)\n",
    "- Support vector machines\n",
    "- Kernel methods\n",
    "- Gradient descent\n",
    "\n",
    "## Vectors and matrices\n"
   ]
  },
  {
   "cell_type": "code",
   "execution_count": 1,
   "id": "4c052b7f-d83b-48d1-aac3-449a429ec21b",
   "metadata": {},
   "outputs": [],
   "source": [
    "import numpy as np\n",
    "\n",
    "x = [5, 7, -2, 2]\n",
    "y = [4, 5, 12, 0]"
   ]
  },
  {
   "cell_type": "markdown",
   "id": "fe8f7724-f72c-4aa1-8812-b09f84b2d222",
   "metadata": {},
   "source": [
    "How to multiply by pairs ?"
   ]
  },
  {
   "cell_type": "code",
   "execution_count": 3,
   "id": "7a25b56a-28dd-49d1-82e9-3da868ad26ca",
   "metadata": {},
   "outputs": [
    {
     "data": {
      "text/plain": [
       "[20, 35, -24, 0]"
      ]
     },
     "execution_count": 3,
     "metadata": {},
     "output_type": "execute_result"
    }
   ],
   "source": [
    "product = []\n",
    "for i in range(len(x)):\n",
    "    product.append(x[i] * y[i])\n",
    "product"
   ]
  },
  {
   "cell_type": "code",
   "execution_count": 5,
   "id": "eba0e000-a3a4-407e-a752-aec2fca77226",
   "metadata": {},
   "outputs": [
    {
     "data": {
      "text/plain": [
       "array([ 20,  35, -24,   0])"
      ]
     },
     "execution_count": 5,
     "metadata": {},
     "output_type": "execute_result"
    }
   ],
   "source": [
    "np.array(x) * np.array(y)"
   ]
  },
  {
   "cell_type": "markdown",
   "id": "d8236e73-f52c-4ce6-a148-87a2619b3548",
   "metadata": {},
   "source": [
    "### Vectors\n",
    "A vector is essentially an ordered collection of numbers that are written in a column.\n",
    "\n",
    "**Vector addition**\n",
    "\n",
    "We can add two vectors as long as they have the same size. \n",
    "\n",
    "**Vector multiplication by a scalar**\n",
    "\n",
    "We can also multiply a vector by a scalar. This is equivalent to multiplying each component by the respective scalar."
   ]
  },
  {
   "cell_type": "code",
   "execution_count": 9,
   "id": "5c97ca47-938c-43dc-986d-86816f84eca7",
   "metadata": {},
   "outputs": [
    {
     "data": {
      "text/plain": [
       "array([ 25,  35, -10,  10])"
      ]
     },
     "execution_count": 9,
     "metadata": {},
     "output_type": "execute_result"
    }
   ],
   "source": [
    "np.array(x) * 5"
   ]
  },
  {
   "cell_type": "markdown",
   "id": "8d411402-d7ea-473a-9203-bca604cf8a2c",
   "metadata": {},
   "source": [
    "**Vector Hadamard product**\n",
    "\n",
    "Recall the multiplication of two vectors that we saw at the beginning of this unit. What we computed in that example is called the Hadamard product. \n",
    "\n",
    "**Inner product**\n",
    "\n",
    "While the Hadamard product can be quite useful, in linear algebra there is a much more commonly used product called the inner product, or dot product. We can compute the inner product between two vectors as long as the two vectors have the same length. It is defined as follows:\n",
    "\n",
    "<u,v> = u1v1+u2v2+u3v3 + ... + unvn\n",
    "\n",
    "### Matrices \n",
    "\n",
    "**Matrice addition**\n",
    "\n",
    "by pair\n",
    "\n",
    "**Matrice Transpose**\n",
    "\n",
    "order change\n",
    "\n",
    "**Matrice Hadamard Product**\n",
    "\n",
    "by pair\n",
    "\n",
    "**Matrice multiplication**\n",
    "\n",
    "row 1*col1 ; row1 *col2;<br>\n",
    "row2*col1; row2*col2;\n",
    "\n",
    "**Properties of matrix multiplication**\n",
    "\n",
    "The following properties are very important to keep in mind about matrix multiplication:\n",
    "\n",
    " - associative: A(BC)=(AB)C\n",
    " - distributive: A(B+C)=AB+AC\n",
    " - not commutative : AB≠BA\n"
   ]
  },
  {
   "cell_type": "markdown",
   "id": "d62bae1a-999a-429a-8ce8-ff05164d8fde",
   "metadata": {},
   "source": [
    "## Vectors and matrices in NumPy\n",
    "\n",
    "### Matrices in NumPy\n"
   ]
  },
  {
   "cell_type": "code",
   "execution_count": 11,
   "id": "f8f0e688-a5aa-4872-bdf5-ad8161db660b",
   "metadata": {},
   "outputs": [
    {
     "data": {
      "text/plain": [
       "array([[ 6, 27],\n",
       "       [ 2, 11]])"
      ]
     },
     "execution_count": 11,
     "metadata": {},
     "output_type": "execute_result"
    }
   ],
   "source": [
    "A = np.array([[1, 2], [2, 1]])\n",
    "B = np.array([[1, 5], [0, 2]])\n",
    "A + 5 * B"
   ]
  },
  {
   "cell_type": "markdown",
   "id": "1a7823fb-141d-4774-b30b-af3e2c629fdb",
   "metadata": {},
   "source": [
    "### Matrix multiplication using np.dot()"
   ]
  },
  {
   "cell_type": "code",
   "execution_count": 13,
   "id": "f9ea09e5-feb0-4eb2-9ae4-ed3dcb3f02f6",
   "metadata": {},
   "outputs": [
    {
     "data": {
      "text/plain": [
       "array([[ 1, 10],\n",
       "       [ 0,  2]])"
      ]
     },
     "execution_count": 13,
     "metadata": {},
     "output_type": "execute_result"
    }
   ],
   "source": [
    "A * B"
   ]
  },
  {
   "cell_type": "code",
   "execution_count": 15,
   "id": "dd441396-5781-439e-829e-6f77a028027f",
   "metadata": {},
   "outputs": [
    {
     "data": {
      "text/plain": [
       "array([[ 1,  9],\n",
       "       [ 2, 12]])"
      ]
     },
     "execution_count": 15,
     "metadata": {},
     "output_type": "execute_result"
    }
   ],
   "source": [
    "np.dot(A, B)"
   ]
  },
  {
   "cell_type": "markdown",
   "id": "41883011-bac3-487c-b06b-6660d15d2a11",
   "metadata": {},
   "source": [
    "### Vectors as one-dimensional arrays"
   ]
  },
  {
   "cell_type": "code",
   "execution_count": 16,
   "id": "09f6f8e3-a606-4ccb-99ae-be35b5d2123b",
   "metadata": {},
   "outputs": [],
   "source": [
    "a = np.array([0, 1, 2])"
   ]
  },
  {
   "cell_type": "code",
   "execution_count": 17,
   "id": "da76417f-8eea-48dc-b62f-d2bab3373e47",
   "metadata": {},
   "outputs": [
    {
     "data": {
      "text/plain": [
       "array([0, 1, 2])"
      ]
     },
     "execution_count": 17,
     "metadata": {},
     "output_type": "execute_result"
    }
   ],
   "source": [
    "a"
   ]
  },
  {
   "cell_type": "code",
   "execution_count": 18,
   "id": "e6dfada7-8ec9-43b6-9241-20f8f17fa75e",
   "metadata": {},
   "outputs": [
    {
     "data": {
      "text/plain": [
       "array([0, 1, 2])"
      ]
     },
     "execution_count": 18,
     "metadata": {},
     "output_type": "execute_result"
    }
   ],
   "source": [
    "a.T"
   ]
  },
  {
   "cell_type": "code",
   "execution_count": 22,
   "id": "b75273a3-9f6a-4b66-9ad4-6fc398f1fd64",
   "metadata": {},
   "outputs": [
    {
     "data": {
      "text/plain": [
       "5"
      ]
     },
     "execution_count": 22,
     "metadata": {},
     "output_type": "execute_result"
    }
   ],
   "source": [
    "np.dot(a,a)"
   ]
  },
  {
   "cell_type": "code",
   "execution_count": 19,
   "id": "06c6ad03-fee3-4ba3-aabd-f53c74d10f01",
   "metadata": {},
   "outputs": [],
   "source": [
    "b = np.array([[0], [1], [2]])"
   ]
  },
  {
   "cell_type": "code",
   "execution_count": 20,
   "id": "0803195d-52c5-493e-8b30-4927f4c42cf8",
   "metadata": {},
   "outputs": [
    {
     "data": {
      "text/plain": [
       "array([[0],\n",
       "       [1],\n",
       "       [2]])"
      ]
     },
     "execution_count": 20,
     "metadata": {},
     "output_type": "execute_result"
    }
   ],
   "source": [
    "b"
   ]
  },
  {
   "cell_type": "code",
   "execution_count": 23,
   "id": "a7844364-fe42-4974-83de-89f5338bc51a",
   "metadata": {},
   "outputs": [
    {
     "data": {
      "text/plain": [
       "array([[0, 1, 2]])"
      ]
     },
     "execution_count": 23,
     "metadata": {},
     "output_type": "execute_result"
    }
   ],
   "source": [
    "b.T"
   ]
  },
  {
   "cell_type": "code",
   "execution_count": 24,
   "id": "0e6b9f06-ee73-4ae4-aa75-7fc3589a9e31",
   "metadata": {},
   "outputs": [
    {
     "data": {
      "text/plain": [
       "(3, 1)"
      ]
     },
     "execution_count": 24,
     "metadata": {},
     "output_type": "execute_result"
    }
   ],
   "source": [
    "b.shape"
   ]
  },
  {
   "cell_type": "code",
   "execution_count": 25,
   "id": "a2154634-28f4-4783-9ed2-6ababd7298ec",
   "metadata": {},
   "outputs": [
    {
     "data": {
      "text/plain": [
       "(1, 3)"
      ]
     },
     "execution_count": 25,
     "metadata": {},
     "output_type": "execute_result"
    }
   ],
   "source": [
    "b.T.shape"
   ]
  },
  {
   "cell_type": "code",
   "execution_count": 26,
   "id": "0de276b0-0a68-44f4-87d2-54169e186589",
   "metadata": {},
   "outputs": [
    {
     "ename": "ValueError",
     "evalue": "shapes (3,1) and (3,1) not aligned: 1 (dim 1) != 3 (dim 0)",
     "output_type": "error",
     "traceback": [
      "\u001b[1;31m---------------------------------------------------------------------------\u001b[0m",
      "\u001b[1;31mValueError\u001b[0m                                Traceback (most recent call last)",
      "\u001b[1;32m~\\AppData\\Local\\Temp\\ipykernel_1728\\636795380.py\u001b[0m in \u001b[0;36m<module>\u001b[1;34m\u001b[0m\n\u001b[1;32m----> 1\u001b[1;33m \u001b[0mnp\u001b[0m\u001b[1;33m.\u001b[0m\u001b[0mdot\u001b[0m\u001b[1;33m(\u001b[0m\u001b[0mb\u001b[0m\u001b[1;33m,\u001b[0m\u001b[0mb\u001b[0m\u001b[1;33m)\u001b[0m\u001b[1;33m\u001b[0m\u001b[1;33m\u001b[0m\u001b[0m\n\u001b[0m\u001b[0;32m      2\u001b[0m \u001b[1;31m# Out: ValueError: shapes (3,1) and (3,1) not aligned: 1 (dim 1) != 3 (dim 0)\u001b[0m\u001b[1;33m\u001b[0m\u001b[1;33m\u001b[0m\u001b[0m\n",
      "\u001b[1;32m<__array_function__ internals>\u001b[0m in \u001b[0;36mdot\u001b[1;34m(*args, **kwargs)\u001b[0m\n",
      "\u001b[1;31mValueError\u001b[0m: shapes (3,1) and (3,1) not aligned: 1 (dim 1) != 3 (dim 0)"
     ]
    }
   ],
   "source": [
    "np.dot(b,b)\n",
    "# Out: ValueError: shapes (3,1) and (3,1) not aligned: 1 (dim 1) != 3 (dim 0)"
   ]
  },
  {
   "cell_type": "code",
   "execution_count": 27,
   "id": "0a831517-cecd-45ef-9f13-16319cead01f",
   "metadata": {},
   "outputs": [
    {
     "data": {
      "text/plain": [
       "array([[5]])"
      ]
     },
     "execution_count": 27,
     "metadata": {},
     "output_type": "execute_result"
    }
   ],
   "source": [
    "np.dot(b.T, b)"
   ]
  },
  {
   "cell_type": "code",
   "execution_count": 28,
   "id": "6d361cdd-ca74-45cb-a265-0327bfc1dcb7",
   "metadata": {},
   "outputs": [
    {
     "data": {
      "text/plain": [
       "array([[0, 0, 0],\n",
       "       [0, 1, 2],\n",
       "       [0, 2, 4]])"
      ]
     },
     "execution_count": 28,
     "metadata": {},
     "output_type": "execute_result"
    }
   ],
   "source": [
    "np.dot(b, b.T)"
   ]
  },
  {
   "cell_type": "markdown",
   "id": "30918152-817d-4f2d-9658-bf3f7ff5d57e",
   "metadata": {},
   "source": [
    "### NumPy broadcasting revisited\n",
    "\n",
    "Broadcasting it's when one dimension of an array is = 1"
   ]
  },
  {
   "cell_type": "code",
   "execution_count": 30,
   "id": "a79864da-d3f1-40fa-9153-1230742545ba",
   "metadata": {},
   "outputs": [
    {
     "data": {
      "text/plain": [
       "(2, 1)"
      ]
     },
     "execution_count": 30,
     "metadata": {},
     "output_type": "execute_result"
    }
   ],
   "source": [
    "a = np.array([[0], [7]])\n",
    "b = np.array([[1, 2], [0, 6]])\n",
    "c = np.array([[2, 2]])\n",
    "a.shape"
   ]
  },
  {
   "cell_type": "code",
   "execution_count": 31,
   "id": "8ad4f0e4-8098-4ba9-ba11-c01c94c1ccc1",
   "metadata": {},
   "outputs": [
    {
     "data": {
      "text/plain": [
       "(2, 2)"
      ]
     },
     "execution_count": 31,
     "metadata": {},
     "output_type": "execute_result"
    }
   ],
   "source": [
    "b.shape"
   ]
  },
  {
   "cell_type": "code",
   "execution_count": 32,
   "id": "e4a0a828-9f04-4836-91c5-79aa21f456d3",
   "metadata": {},
   "outputs": [
    {
     "data": {
      "text/plain": [
       "(1, 2)"
      ]
     },
     "execution_count": 32,
     "metadata": {},
     "output_type": "execute_result"
    }
   ],
   "source": [
    "c.shape"
   ]
  },
  {
   "cell_type": "code",
   "execution_count": 33,
   "id": "2ec9c762-b768-4e35-9670-d1b0d117f601",
   "metadata": {},
   "outputs": [
    {
     "data": {
      "text/plain": [
       "array([[2, 2],\n",
       "       [9, 9]])"
      ]
     },
     "execution_count": 33,
     "metadata": {},
     "output_type": "execute_result"
    }
   ],
   "source": [
    "a + c"
   ]
  },
  {
   "cell_type": "markdown",
   "id": "9dd86f4e-cb9c-43f1-a8ad-cae06ce8efe2",
   "metadata": {},
   "source": [
    "a= [0]  It's broadcast as : [0,0] sames for c = [2,2] become [2,2] and the sum is by element : [0+2,0+2]<br>\n",
    "\\_\\_\\_[7]\\_\\_\\_\\_\\_\\_\\_\\_\\_\\_\\_\\_\\_\\_\\_\\_\\_\\_\\_\\_[7,7]\\_\\_\\_\\_\\_\\_\\_\\_\\_\\_\\_\\_\\_\\_\\_\\_\\_\\_\\_\\_\\_\\_\\_\\_\\_\\_\\_\\_\\_\\_[2,2]\\_\\______________________________[7+2,7+2]"
   ]
  },
  {
   "cell_type": "code",
   "execution_count": 34,
   "id": "b0b88856-6a21-4e4a-b691-0bfebcc46674",
   "metadata": {},
   "outputs": [
    {
     "data": {
      "text/plain": [
       "array([[ 0,  0],\n",
       "       [ 0, 42]])"
      ]
     },
     "execution_count": 34,
     "metadata": {},
     "output_type": "execute_result"
    }
   ],
   "source": [
    "a * b"
   ]
  },
  {
   "cell_type": "markdown",
   "id": "2b29114c-73e3-4b9f-801b-ae37147a0c2b",
   "metadata": {},
   "source": [
    "## The inverse of a matrix \n",
    "### The identity matrix\n",
    "The identity matrix is a square matrix that has 1’s on the diagonal and 0’s everywhere.\n",
    "\n",
    "### Defining the inverse\n",
    "Let A be a square n×n matrix. The inverse of A is the matrix A−1 with the property:<br>\n",
    "A = [3,4] A-1 = [3,-4] <br>\n",
    "\\_\\_\\_\\_[2,3]\\_\\_\\_\\_\\_\\_\\_[-2,3]\n"
   ]
  },
  {
   "cell_type": "code",
   "execution_count": 36,
   "id": "acd7acfb-0ae8-4701-bcda-2ac9f59af334",
   "metadata": {},
   "outputs": [
    {
     "data": {
      "text/plain": [
       "array([[  9, -16],\n",
       "       [ -4,   9]])"
      ]
     },
     "execution_count": 36,
     "metadata": {},
     "output_type": "execute_result"
    }
   ],
   "source": [
    "A = np.array([[3, 4], [2, 3]])\n",
    "V = np.array([[3,-4], [-2, 3]])\n",
    "A*V"
   ]
  },
  {
   "cell_type": "code",
   "execution_count": 37,
   "id": "cdcee43c-4b2c-48a1-9ecd-e8df299d21de",
   "metadata": {},
   "outputs": [
    {
     "data": {
      "text/plain": [
       "array([[1, 0],\n",
       "       [0, 1]])"
      ]
     },
     "execution_count": 37,
     "metadata": {},
     "output_type": "execute_result"
    }
   ],
   "source": [
    "np.dot(A, V)"
   ]
  },
  {
   "cell_type": "markdown",
   "id": "9c0de799-6e0a-4ee0-a439-525dd22370f2",
   "metadata": {},
   "source": [
    "### Linear independence\n",
    "When the columns are linearly independent, the matrix is invertible, and when the columns are not linearly independent, the matrix is not invertible.\n",
    "### The rank of a matrix\n",
    "Actually, the maximum number of linearly independent columns of a matrix is known as the rank of the matrix and it is a concept that we encounter a lot in linear algebra.\n",
    "\n",
    "***Theorem*** A square matrix is invertible if and only if it has full rank.\n",
    "\n",
    "### Application: solving linear equations\n",
    "\n",
    "A=bB\n",
    "\n",
    "## The linalg module in NumPy\n",
    "\n"
   ]
  },
  {
   "cell_type": "code",
   "execution_count": 38,
   "id": "e2e6e402-3f4e-4306-a8a7-b7ac3bf2789f",
   "metadata": {},
   "outputs": [
    {
     "data": {
      "text/plain": [
       "array([[3, 4],\n",
       "       [2, 3]])"
      ]
     },
     "execution_count": 38,
     "metadata": {},
     "output_type": "execute_result"
    }
   ],
   "source": [
    "A = np.array([[3, 4], [2, 3]])\n",
    "A"
   ]
  },
  {
   "cell_type": "code",
   "execution_count": 39,
   "id": "d9cc66a0-bfc3-4d04-a4e1-211b0f187b6a",
   "metadata": {},
   "outputs": [
    {
     "data": {
      "text/plain": [
       "array([[3, 2],\n",
       "       [4, 3]])"
      ]
     },
     "execution_count": 39,
     "metadata": {},
     "output_type": "execute_result"
    }
   ],
   "source": [
    "A.T"
   ]
  },
  {
   "cell_type": "code",
   "execution_count": 40,
   "id": "2991b79a-34eb-4528-b707-75413e64605e",
   "metadata": {},
   "outputs": [
    {
     "data": {
      "text/plain": [
       "array([[ 3., -4.],\n",
       "       [-2.,  3.]])"
      ]
     },
     "execution_count": 40,
     "metadata": {},
     "output_type": "execute_result"
    }
   ],
   "source": [
    "np.linalg.inv(A)"
   ]
  },
  {
   "cell_type": "code",
   "execution_count": 41,
   "id": "a14fe538-d4dd-4564-89b2-b139ae2b4b05",
   "metadata": {},
   "outputs": [
    {
     "data": {
      "text/plain": [
       "array([[1., 0.],\n",
       "       [0., 1.]])"
      ]
     },
     "execution_count": 41,
     "metadata": {},
     "output_type": "execute_result"
    }
   ],
   "source": [
    "np.dot(A, np.linalg.inv(A))"
   ]
  },
  {
   "cell_type": "code",
   "execution_count": 42,
   "id": "5414cde6-ba0e-4d4c-905b-efc95ef51878",
   "metadata": {},
   "outputs": [
    {
     "data": {
      "text/plain": [
       "2"
      ]
     },
     "execution_count": 42,
     "metadata": {},
     "output_type": "execute_result"
    }
   ],
   "source": [
    "np.linalg.matrix_rank(A)"
   ]
  },
  {
   "cell_type": "code",
   "execution_count": 43,
   "id": "1d846ad2-611e-4e58-8e9a-04c5655c83c0",
   "metadata": {},
   "outputs": [
    {
     "data": {
      "text/plain": [
       "array([[1, 0],\n",
       "       [0, 0]])"
      ]
     },
     "execution_count": 43,
     "metadata": {},
     "output_type": "execute_result"
    }
   ],
   "source": [
    "B = np.array([[1, 0], [0, 0]])\n",
    "B"
   ]
  },
  {
   "cell_type": "code",
   "execution_count": 44,
   "id": "7778dd80-8b58-4b51-aca2-9dcc4f1171b9",
   "metadata": {},
   "outputs": [
    {
     "ename": "LinAlgError",
     "evalue": "Singular matrix",
     "output_type": "error",
     "traceback": [
      "\u001b[1;31m---------------------------------------------------------------------------\u001b[0m",
      "\u001b[1;31mLinAlgError\u001b[0m                               Traceback (most recent call last)",
      "\u001b[1;32m~\\AppData\\Local\\Temp\\ipykernel_1728\\754986231.py\u001b[0m in \u001b[0;36m<module>\u001b[1;34m\u001b[0m\n\u001b[1;32m----> 1\u001b[1;33m \u001b[0mnp\u001b[0m\u001b[1;33m.\u001b[0m\u001b[0mlinalg\u001b[0m\u001b[1;33m.\u001b[0m\u001b[0minv\u001b[0m\u001b[1;33m(\u001b[0m\u001b[0mB\u001b[0m\u001b[1;33m)\u001b[0m\u001b[1;33m\u001b[0m\u001b[1;33m\u001b[0m\u001b[0m\n\u001b[0m",
      "\u001b[1;32m<__array_function__ internals>\u001b[0m in \u001b[0;36minv\u001b[1;34m(*args, **kwargs)\u001b[0m\n",
      "\u001b[1;32m~\\Anaconda3\\envs\\adsml\\lib\\site-packages\\numpy\\linalg\\linalg.py\u001b[0m in \u001b[0;36minv\u001b[1;34m(a)\u001b[0m\n\u001b[0;32m    544\u001b[0m     \u001b[0msignature\u001b[0m \u001b[1;33m=\u001b[0m \u001b[1;34m'D->D'\u001b[0m \u001b[1;32mif\u001b[0m \u001b[0misComplexType\u001b[0m\u001b[1;33m(\u001b[0m\u001b[0mt\u001b[0m\u001b[1;33m)\u001b[0m \u001b[1;32melse\u001b[0m \u001b[1;34m'd->d'\u001b[0m\u001b[1;33m\u001b[0m\u001b[1;33m\u001b[0m\u001b[0m\n\u001b[0;32m    545\u001b[0m     \u001b[0mextobj\u001b[0m \u001b[1;33m=\u001b[0m \u001b[0mget_linalg_error_extobj\u001b[0m\u001b[1;33m(\u001b[0m\u001b[0m_raise_linalgerror_singular\u001b[0m\u001b[1;33m)\u001b[0m\u001b[1;33m\u001b[0m\u001b[1;33m\u001b[0m\u001b[0m\n\u001b[1;32m--> 546\u001b[1;33m     \u001b[0mainv\u001b[0m \u001b[1;33m=\u001b[0m \u001b[0m_umath_linalg\u001b[0m\u001b[1;33m.\u001b[0m\u001b[0minv\u001b[0m\u001b[1;33m(\u001b[0m\u001b[0ma\u001b[0m\u001b[1;33m,\u001b[0m \u001b[0msignature\u001b[0m\u001b[1;33m=\u001b[0m\u001b[0msignature\u001b[0m\u001b[1;33m,\u001b[0m \u001b[0mextobj\u001b[0m\u001b[1;33m=\u001b[0m\u001b[0mextobj\u001b[0m\u001b[1;33m)\u001b[0m\u001b[1;33m\u001b[0m\u001b[1;33m\u001b[0m\u001b[0m\n\u001b[0m\u001b[0;32m    547\u001b[0m     \u001b[1;32mreturn\u001b[0m \u001b[0mwrap\u001b[0m\u001b[1;33m(\u001b[0m\u001b[0mainv\u001b[0m\u001b[1;33m.\u001b[0m\u001b[0mastype\u001b[0m\u001b[1;33m(\u001b[0m\u001b[0mresult_t\u001b[0m\u001b[1;33m,\u001b[0m \u001b[0mcopy\u001b[0m\u001b[1;33m=\u001b[0m\u001b[1;32mFalse\u001b[0m\u001b[1;33m)\u001b[0m\u001b[1;33m)\u001b[0m\u001b[1;33m\u001b[0m\u001b[1;33m\u001b[0m\u001b[0m\n\u001b[0;32m    548\u001b[0m \u001b[1;33m\u001b[0m\u001b[0m\n",
      "\u001b[1;32m~\\Anaconda3\\envs\\adsml\\lib\\site-packages\\numpy\\linalg\\linalg.py\u001b[0m in \u001b[0;36m_raise_linalgerror_singular\u001b[1;34m(err, flag)\u001b[0m\n\u001b[0;32m     86\u001b[0m \u001b[1;33m\u001b[0m\u001b[0m\n\u001b[0;32m     87\u001b[0m \u001b[1;32mdef\u001b[0m \u001b[0m_raise_linalgerror_singular\u001b[0m\u001b[1;33m(\u001b[0m\u001b[0merr\u001b[0m\u001b[1;33m,\u001b[0m \u001b[0mflag\u001b[0m\u001b[1;33m)\u001b[0m\u001b[1;33m:\u001b[0m\u001b[1;33m\u001b[0m\u001b[1;33m\u001b[0m\u001b[0m\n\u001b[1;32m---> 88\u001b[1;33m     \u001b[1;32mraise\u001b[0m \u001b[0mLinAlgError\u001b[0m\u001b[1;33m(\u001b[0m\u001b[1;34m\"Singular matrix\"\u001b[0m\u001b[1;33m)\u001b[0m\u001b[1;33m\u001b[0m\u001b[1;33m\u001b[0m\u001b[0m\n\u001b[0m\u001b[0;32m     89\u001b[0m \u001b[1;33m\u001b[0m\u001b[0m\n\u001b[0;32m     90\u001b[0m \u001b[1;32mdef\u001b[0m \u001b[0m_raise_linalgerror_nonposdef\u001b[0m\u001b[1;33m(\u001b[0m\u001b[0merr\u001b[0m\u001b[1;33m,\u001b[0m \u001b[0mflag\u001b[0m\u001b[1;33m)\u001b[0m\u001b[1;33m:\u001b[0m\u001b[1;33m\u001b[0m\u001b[1;33m\u001b[0m\u001b[0m\n",
      "\u001b[1;31mLinAlgError\u001b[0m: Singular matrix"
     ]
    }
   ],
   "source": [
    "np.linalg.inv(B) # Pas inversible"
   ]
  },
  {
   "cell_type": "code",
   "execution_count": 46,
   "id": "0d35ba8b-6791-46bb-899c-15d63e8e50b5",
   "metadata": {},
   "outputs": [
    {
     "data": {
      "text/plain": [
       "array([-5.,  4.])"
      ]
     },
     "execution_count": 46,
     "metadata": {},
     "output_type": "execute_result"
    }
   ],
   "source": [
    "b = np.array([[1], [2]])\n",
    "b = np.array([1, 2]) #both work\n",
    "x = np.linalg.solve(A, b)\n",
    "x"
   ]
  },
  {
   "cell_type": "code",
   "execution_count": 47,
   "id": "2cd1251c-dc81-44b2-9267-eac1a2dede20",
   "metadata": {},
   "outputs": [
    {
     "data": {
      "text/plain": [
       "array([1., 2.])"
      ]
     },
     "execution_count": 47,
     "metadata": {},
     "output_type": "execute_result"
    }
   ],
   "source": [
    "np.dot(A, x)"
   ]
  },
  {
   "cell_type": "markdown",
   "id": "71d70cc0-002c-4ed9-bb11-2db8899520df",
   "metadata": {},
   "source": [
    "## Exercise : Solving a system of linear equations\n",
    "\n"
   ]
  },
  {
   "cell_type": "code",
   "execution_count": 58,
   "id": "b9467319-aa17-472b-aad0-986ff234211c",
   "metadata": {},
   "outputs": [],
   "source": [
    " #Define A and b\n",
    "A= np.array([[2,1,1], [-5,-3, 0],[1,1,-1]])\n",
    "b=  np.array([-1, 1, -2]) "
   ]
  },
  {
   "cell_type": "code",
   "execution_count": 54,
   "id": "4d63309c-dbe3-4df3-be2e-74e9c4e12221",
   "metadata": {},
   "outputs": [
    {
     "data": {
      "text/plain": [
       "3"
      ]
     },
     "execution_count": 54,
     "metadata": {},
     "output_type": "execute_result"
    }
   ],
   "source": [
    "#3. rank of A :\n",
    "np.linalg.matrix_rank(A)#function : give the rank : 3 (full rank)"
   ]
  },
  {
   "cell_type": "code",
   "execution_count": 60,
   "id": "a0860370-e35d-4c5a-823e-3f249228ada7",
   "metadata": {},
   "outputs": [
    {
     "data": {
      "text/plain": [
       "array([[-3., -2., -3.],\n",
       "       [ 5.,  3.,  5.],\n",
       "       [ 2.,  1.,  1.]])"
      ]
     },
     "execution_count": 60,
     "metadata": {},
     "output_type": "execute_result"
    }
   ],
   "source": [
    "#3. inv of A\n",
    "A_inv= np.linalg.inv(A)\n",
    "A_inv"
   ]
  },
  {
   "cell_type": "code",
   "execution_count": 61,
   "id": "5801b6ef-eb94-4b60-9aea-7a852da2d311",
   "metadata": {},
   "outputs": [
    {
     "data": {
      "text/plain": [
       "array([  7., -12.,  -3.])"
      ]
     },
     "execution_count": 61,
     "metadata": {},
     "output_type": "execute_result"
    }
   ],
   "source": [
    "#4.Use the inv of A\n",
    "np.dot(A_inv,b)"
   ]
  },
  {
   "cell_type": "code",
   "execution_count": 59,
   "id": "94504c6d-5df2-42f5-b42a-cbed6e8fdac0",
   "metadata": {},
   "outputs": [
    {
     "data": {
      "text/plain": [
       "array([  7., -12.,  -3.])"
      ]
     },
     "execution_count": 59,
     "metadata": {},
     "output_type": "execute_result"
    }
   ],
   "source": [
    "#5. Re-compute x\n",
    "x = np.linalg.solve(A, b) #1 step\n",
    "x"
   ]
  },
  {
   "cell_type": "code",
   "execution_count": 63,
   "id": "0d1ea66f-136a-4859-88e7-be29088b87a4",
   "metadata": {},
   "outputs": [
    {
     "ename": "LinAlgError",
     "evalue": "Last 2 dimensions of the array must be square",
     "output_type": "error",
     "traceback": [
      "\u001b[1;31m---------------------------------------------------------------------------\u001b[0m",
      "\u001b[1;31mLinAlgError\u001b[0m                               Traceback (most recent call last)",
      "\u001b[1;32m~\\AppData\\Local\\Temp\\ipykernel_1728\\4022743309.py\u001b[0m in \u001b[0;36m<module>\u001b[1;34m\u001b[0m\n\u001b[0;32m      2\u001b[0m \u001b[0mA\u001b[0m\u001b[1;33m=\u001b[0m \u001b[0mnp\u001b[0m\u001b[1;33m.\u001b[0m\u001b[0marray\u001b[0m\u001b[1;33m(\u001b[0m\u001b[1;33m[\u001b[0m\u001b[1;33m[\u001b[0m\u001b[1;36m2\u001b[0m\u001b[1;33m,\u001b[0m\u001b[1;36m1\u001b[0m\u001b[1;33m,\u001b[0m\u001b[1;36m1\u001b[0m\u001b[1;33m]\u001b[0m\u001b[1;33m,\u001b[0m \u001b[1;33m[\u001b[0m\u001b[1;33m-\u001b[0m\u001b[1;36m5\u001b[0m\u001b[1;33m,\u001b[0m\u001b[1;33m-\u001b[0m\u001b[1;36m3\u001b[0m\u001b[1;33m,\u001b[0m \u001b[1;36m0\u001b[0m\u001b[1;33m]\u001b[0m\u001b[1;33m,\u001b[0m\u001b[1;33m[\u001b[0m\u001b[1;36m1\u001b[0m\u001b[1;33m,\u001b[0m\u001b[1;36m1\u001b[0m\u001b[1;33m,\u001b[0m\u001b[1;33m-\u001b[0m\u001b[1;36m1\u001b[0m\u001b[1;33m]\u001b[0m\u001b[1;33m,\u001b[0m\u001b[1;33m[\u001b[0m\u001b[1;36m0\u001b[0m\u001b[1;33m,\u001b[0m\u001b[1;36m5\u001b[0m\u001b[1;33m,\u001b[0m\u001b[1;33m-\u001b[0m\u001b[1;36m1\u001b[0m\u001b[1;33m]\u001b[0m\u001b[1;33m]\u001b[0m\u001b[1;33m)\u001b[0m\u001b[1;33m\u001b[0m\u001b[1;33m\u001b[0m\u001b[0m\n\u001b[0;32m      3\u001b[0m \u001b[0mb\u001b[0m\u001b[1;33m=\u001b[0m  \u001b[0mnp\u001b[0m\u001b[1;33m.\u001b[0m\u001b[0marray\u001b[0m\u001b[1;33m(\u001b[0m\u001b[1;33m[\u001b[0m\u001b[1;33m-\u001b[0m\u001b[1;36m1\u001b[0m\u001b[1;33m,\u001b[0m \u001b[1;36m1\u001b[0m\u001b[1;33m,\u001b[0m \u001b[1;33m-\u001b[0m\u001b[1;36m2\u001b[0m\u001b[1;33m,\u001b[0m\u001b[1;36m1\u001b[0m\u001b[1;33m]\u001b[0m\u001b[1;33m)\u001b[0m\u001b[1;33m\u001b[0m\u001b[1;33m\u001b[0m\u001b[0m\n\u001b[1;32m----> 4\u001b[1;33m \u001b[0mx\u001b[0m \u001b[1;33m=\u001b[0m \u001b[0mnp\u001b[0m\u001b[1;33m.\u001b[0m\u001b[0mlinalg\u001b[0m\u001b[1;33m.\u001b[0m\u001b[0msolve\u001b[0m\u001b[1;33m(\u001b[0m\u001b[0mA\u001b[0m\u001b[1;33m,\u001b[0m \u001b[0mb\u001b[0m\u001b[1;33m)\u001b[0m\u001b[1;33m\u001b[0m\u001b[1;33m\u001b[0m\u001b[0m\n\u001b[0m\u001b[0;32m      5\u001b[0m \u001b[0mx\u001b[0m \u001b[1;31m# There is different set of eigen value\u001b[0m\u001b[1;33m\u001b[0m\u001b[1;33m\u001b[0m\u001b[0m\n",
      "\u001b[1;32m<__array_function__ internals>\u001b[0m in \u001b[0;36msolve\u001b[1;34m(*args, **kwargs)\u001b[0m\n",
      "\u001b[1;32m~\\Anaconda3\\envs\\adsml\\lib\\site-packages\\numpy\\linalg\\linalg.py\u001b[0m in \u001b[0;36msolve\u001b[1;34m(a, b)\u001b[0m\n\u001b[0;32m    379\u001b[0m     \u001b[0ma\u001b[0m\u001b[1;33m,\u001b[0m \u001b[0m_\u001b[0m \u001b[1;33m=\u001b[0m \u001b[0m_makearray\u001b[0m\u001b[1;33m(\u001b[0m\u001b[0ma\u001b[0m\u001b[1;33m)\u001b[0m\u001b[1;33m\u001b[0m\u001b[1;33m\u001b[0m\u001b[0m\n\u001b[0;32m    380\u001b[0m     \u001b[0m_assert_stacked_2d\u001b[0m\u001b[1;33m(\u001b[0m\u001b[0ma\u001b[0m\u001b[1;33m)\u001b[0m\u001b[1;33m\u001b[0m\u001b[1;33m\u001b[0m\u001b[0m\n\u001b[1;32m--> 381\u001b[1;33m     \u001b[0m_assert_stacked_square\u001b[0m\u001b[1;33m(\u001b[0m\u001b[0ma\u001b[0m\u001b[1;33m)\u001b[0m\u001b[1;33m\u001b[0m\u001b[1;33m\u001b[0m\u001b[0m\n\u001b[0m\u001b[0;32m    382\u001b[0m     \u001b[0mb\u001b[0m\u001b[1;33m,\u001b[0m \u001b[0mwrap\u001b[0m \u001b[1;33m=\u001b[0m \u001b[0m_makearray\u001b[0m\u001b[1;33m(\u001b[0m\u001b[0mb\u001b[0m\u001b[1;33m)\u001b[0m\u001b[1;33m\u001b[0m\u001b[1;33m\u001b[0m\u001b[0m\n\u001b[0;32m    383\u001b[0m     \u001b[0mt\u001b[0m\u001b[1;33m,\u001b[0m \u001b[0mresult_t\u001b[0m \u001b[1;33m=\u001b[0m \u001b[0m_commonType\u001b[0m\u001b[1;33m(\u001b[0m\u001b[0ma\u001b[0m\u001b[1;33m,\u001b[0m \u001b[0mb\u001b[0m\u001b[1;33m)\u001b[0m\u001b[1;33m\u001b[0m\u001b[1;33m\u001b[0m\u001b[0m\n",
      "\u001b[1;32m~\\Anaconda3\\envs\\adsml\\lib\\site-packages\\numpy\\linalg\\linalg.py\u001b[0m in \u001b[0;36m_assert_stacked_square\u001b[1;34m(*arrays)\u001b[0m\n\u001b[0;32m    202\u001b[0m         \u001b[0mm\u001b[0m\u001b[1;33m,\u001b[0m \u001b[0mn\u001b[0m \u001b[1;33m=\u001b[0m \u001b[0ma\u001b[0m\u001b[1;33m.\u001b[0m\u001b[0mshape\u001b[0m\u001b[1;33m[\u001b[0m\u001b[1;33m-\u001b[0m\u001b[1;36m2\u001b[0m\u001b[1;33m:\u001b[0m\u001b[1;33m]\u001b[0m\u001b[1;33m\u001b[0m\u001b[1;33m\u001b[0m\u001b[0m\n\u001b[0;32m    203\u001b[0m         \u001b[1;32mif\u001b[0m \u001b[0mm\u001b[0m \u001b[1;33m!=\u001b[0m \u001b[0mn\u001b[0m\u001b[1;33m:\u001b[0m\u001b[1;33m\u001b[0m\u001b[1;33m\u001b[0m\u001b[0m\n\u001b[1;32m--> 204\u001b[1;33m             \u001b[1;32mraise\u001b[0m \u001b[0mLinAlgError\u001b[0m\u001b[1;33m(\u001b[0m\u001b[1;34m'Last 2 dimensions of the array must be square'\u001b[0m\u001b[1;33m)\u001b[0m\u001b[1;33m\u001b[0m\u001b[1;33m\u001b[0m\u001b[0m\n\u001b[0m\u001b[0;32m    205\u001b[0m \u001b[1;33m\u001b[0m\u001b[0m\n\u001b[0;32m    206\u001b[0m \u001b[1;32mdef\u001b[0m \u001b[0m_assert_finite\u001b[0m\u001b[1;33m(\u001b[0m\u001b[1;33m*\u001b[0m\u001b[0marrays\u001b[0m\u001b[1;33m)\u001b[0m\u001b[1;33m:\u001b[0m\u001b[1;33m\u001b[0m\u001b[1;33m\u001b[0m\u001b[0m\n",
      "\u001b[1;31mLinAlgError\u001b[0m: Last 2 dimensions of the array must be square"
     ]
    }
   ],
   "source": [
    "#6. if b=  np.array([1, 1, -2]) \n",
    "A= np.array([[2,1,1], [-5,-3, 0],[1,1,-1],[0,5,-1]])\n",
    "b=  np.array([-1, 1, -2,1]) \n",
    "x = np.linalg.solve(A, b)\n",
    "x # The matrix is not inversible"
   ]
  },
  {
   "cell_type": "code",
   "execution_count": null,
   "id": "294027ae-6fdd-46c9-aa21-0e027d7833df",
   "metadata": {},
   "outputs": [],
   "source": []
  }
 ],
 "metadata": {
  "kernelspec": {
   "display_name": "Python [conda env:adsml] *",
   "language": "python",
   "name": "conda-env-adsml-py"
  },
  "language_info": {
   "codemirror_mode": {
    "name": "ipython",
    "version": 3
   },
   "file_extension": ".py",
   "mimetype": "text/x-python",
   "name": "python",
   "nbconvert_exporter": "python",
   "pygments_lexer": "ipython3",
   "version": "3.9.16"
  }
 },
 "nbformat": 4,
 "nbformat_minor": 5
}
