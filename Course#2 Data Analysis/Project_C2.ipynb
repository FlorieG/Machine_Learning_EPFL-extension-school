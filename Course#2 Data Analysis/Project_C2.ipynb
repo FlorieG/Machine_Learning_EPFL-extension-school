{
 "cells": [
  {
   "cell_type": "code",
   "execution_count": null,
   "id": "170bb123-b191-43b5-a212-bcf4c1c468dc",
   "metadata": {},
   "outputs": [],
   "source": [
    "#TO remove :\n",
    "import os\n",
    "directory = os.getcwd()\n",
    "print(directory)"
   ]
  },
  {
   "cell_type": "code",
   "execution_count": null,
   "id": "f89957fa-306d-471f-ab64-652d1e481f84",
   "metadata": {
    "tags": []
   },
   "outputs": [],
   "source": [
    "#os.chdir(\"Machine_Learning_EPFL-extension-school\\Course#2 Data Analysis\")\n",
    "#directory = os.getcwd()\n",
    "#print(directory)"
   ]
  },
  {
   "cell_type": "markdown",
   "id": "928b6a77-3d49-4a50-9bff-3197ff61a393",
   "metadata": {},
   "source": [
    "**Note:**\n",
    "This notebook covers all the tasks from course 2. \n",
    "\n",
    "Some of the functions used have been borrowed from forums. When this is the case, a link to the page is provided in the comments. In most cases, the borrowed codes or functions have been modified to fit the needs of the exercise. \n",
    "\n",
    "Task \"C\" runs slowly, it take more than 30 minutes. In the procedure, I write the file at the end of section C."
   ]
  },
  {
   "cell_type": "markdown",
   "id": "915f83fd-0128-44c7-826c-abfeacb9031b",
   "metadata": {},
   "source": [
    "<a id=\"function_def\"></a>\n",
    "### Functions :"
   ]
  },
  {
   "cell_type": "code",
   "execution_count": null,
   "id": "ea724a80-8ac6-4786-b696-759a05415c0f",
   "metadata": {},
   "outputs": [],
   "source": [
    "# print a complete table : (source: https://stackoverflow.com/questions/19124601/pretty-print-an-entire-pandas-series-dataframe )\n",
    "def print_full(x):\n",
    "    pd.set_option('display.max_rows', len(x))\n",
    "    pd.options.display.max_colwidth = 150# (source : https://stackoverflow.com/questions/29902714/print-very-long-string-completely-in-pandas-dataframe)\n",
    "    display(x)\n",
    "    pd.reset_option('display.max_rows') \n",
    "    pd.options.display.max_colwidth = 50 "
   ]
  },
  {
   "cell_type": "markdown",
   "id": "e464f148-4671-4ea6-b5b0-7d65ed6404ce",
   "metadata": {
    "tags": []
   },
   "source": [
    "<a id=\"top\"></a>\n",
    "# Project Course 2 \n",
    "\n",
    "### Task : \n",
    "\n",
    "- A) [An overview of the dataset](#TaskA)\n",
    "- B) [Data Cleaning](#TaskB)\n",
    "- C) [Preliminary Exploratory Data Analysis (EDA)](#TaskC)\n",
    "- D) [EDA: Text data](#TaskD)\n",
    "- E) [EDA: Time-series data](#TaskE)\n",
    "- F) [EDA: Correlation analysis](#TaskF)\n",
    "- G) [Advanced EDA](#TaskG)\n"
   ]
  },
  {
   "cell_type": "markdown",
   "id": "b96d2fe5-b6b4-4063-a54f-21c095b956ee",
   "metadata": {},
   "source": [
    "<a id=\"TaskA\"></a>\n",
    "## OpenFood database : Task A\n",
    "[top](#top)\n",
    "\n",
    "The dataset was collected from the Open Food repo, a community-driven open database for barcoded food products. This dataset contains the ingredients and nutritional facts of approximately 385k food products, from several countries worldwide.\n",
    "\n",
    "- **id:** The ID used by the OpenFood database for this Product.\n",
    "- **barcode:** Product barcode.\n",
    "- **ingredients_en:** The ingredients of the Product in English as provided by the manufacturer.\n",
    "- **quantity:** The dry net weight or volume of the Product. To be used in conjunction with the unit.\n",
    "- **unit**: The unit used by quantity to measure the weight or volume of the Product (usually g or ml).\n",
    "- **portion_quantity:** The dry net weight or volume of a serving size of the Product. To be used in conjunction with portion_unit.\n",
    "- **portion_unit:** The unit used by portion_quantity to measure the weight or volume of a serving size of the Product (usually g or ml).\n",
    "- **hundred_unit:** The unit used for the “per hundred” product nutrients (usually g or ml).\n",
    "- **alcohol_by_volume:** The percentage of alcohol in the Product.\n",
    "- **nutrients:** The Product’s nutrients as described by the manufacturer.\n",
    "- **created_at:** UTC DateTime at which this Product was added to the OpenFood database.\n",
    "- **updated_at:** UTC DateTime at which this Product (or one of its subordinate objects, including images nutrients) was last modified.\n"
   ]
  },
  {
   "cell_type": "code",
   "execution_count": null,
   "id": "ee2ab943-517f-4aed-9e00-ed584e20ce27",
   "metadata": {},
   "outputs": [],
   "source": [
    "#Task A library : \n",
    "import pandas as pd"
   ]
  },
  {
   "cell_type": "markdown",
   "id": "20b5ac64-2959-4e9e-89ca-257237729423",
   "metadata": {},
   "source": [
    "### Tasks : \n",
    "\n",
    "- 1.Import the data as a pandas DataFrame into your notebook.\n",
    "- 2.Check the number of rows and columns. You should have 385’384 samples and 99 columns.\n",
    "- 3.Display a few entries from the DataFrame.\n",
    "- 4.Check the data type for each column. Create separate lists to hold the names of columns of the same data type.\n",
    "- 5.Check the data by the type of information they hold. Create 3 lists that hold _per_hundred, _per_portion and _unit columns. Put the remaining column names in a 4th list named other_cols. Note that you should create these 4 lists without manually selecting the column names.\n",
    "\n",
    "### 1. Import the data as a pandas DataFrame\n",
    "We recommend loading it using the pandas read_pickle function and setting the compression parameter to ‘zip’:"
   ]
  },
  {
   "cell_type": "code",
   "execution_count": null,
   "id": "c56c9aab-d499-44e7-8c84-83a2e9e7d280",
   "metadata": {},
   "outputs": [],
   "source": [
    "filename = \"Ressources/data_385k.pkl\"\n",
    "df = pd.read_pickle(filename, compression='zip') #Un peu long"
   ]
  },
  {
   "cell_type": "markdown",
   "id": "de01f7e6-1a8e-44c2-b6c0-356b7f07ec6d",
   "metadata": {},
   "source": [
    "### 2. Check the number of rows and columns"
   ]
  },
  {
   "cell_type": "code",
   "execution_count": null,
   "id": "33c862d7-42b1-4e5e-91c7-86456b5a29b7",
   "metadata": {},
   "outputs": [],
   "source": [
    "df.shape"
   ]
  },
  {
   "cell_type": "markdown",
   "id": "2aec7d54-8362-47ba-8bec-2e27a29dbc29",
   "metadata": {},
   "source": [
    "### 3. Display a few entries from the DataFrame"
   ]
  },
  {
   "cell_type": "code",
   "execution_count": null,
   "id": "743fdab4-e447-4248-9af2-3b61b230f934",
   "metadata": {
    "tags": []
   },
   "outputs": [],
   "source": [
    "df.head()"
   ]
  },
  {
   "cell_type": "markdown",
   "id": "fdd830d5-5148-4bf6-9519-cb29cb0157fa",
   "metadata": {},
   "source": [
    "### 4. Check the data type for each column\n",
    "``` df.dtypes``` didn't display the type of each column but with this function we will get the type and create lists of columns  per type :"
   ]
  },
  {
   "cell_type": "code",
   "execution_count": null,
   "id": "860a8f04-d017-4107-8a49-969ba2f0af6d",
   "metadata": {
    "tags": []
   },
   "outputs": [],
   "source": [
    "df.info() #Show the Type for each column 'float64' or 'object'"
   ]
  },
  {
   "cell_type": "code",
   "execution_count": null,
   "id": "e3fd49db-258f-4e39-b93f-bd21393b230f",
   "metadata": {},
   "outputs": [],
   "source": [
    "df_types = df.dtypes.unique()\n",
    "myVars = locals()\n",
    "print(\"New vars which list column names with the same type :\") \n",
    "for t in df_types :\n",
    "    print(\"df_\"+str(t))\n",
    "    myVars[\"df_\"+str(t)] = list(df.columns[df.dtypes == t])\n",
    "    "
   ]
  },
  {
   "cell_type": "markdown",
   "id": "b36d664b-dafd-44ba-9619-ba8d4eace056",
   "metadata": {},
   "source": [
    "For example the list of column with the type float 64 :"
   ]
  },
  {
   "cell_type": "code",
   "execution_count": null,
   "id": "0f45fd03-73ee-4649-af82-16fcf4fb56b5",
   "metadata": {
    "tags": []
   },
   "outputs": [],
   "source": [
    "print(df_float64)"
   ]
  },
  {
   "cell_type": "markdown",
   "id": "6017f473-737e-492b-9b30-820b705fb2c3",
   "metadata": {},
   "source": [
    "### 5. Check the data by the type of information they hold "
   ]
  },
  {
   "cell_type": "code",
   "execution_count": null,
   "id": "518da972-0f49-4f18-934d-e6a2bb7b92c4",
   "metadata": {},
   "outputs": [],
   "source": [
    "New_lists = ['_per_hundred', '_per_portion', '_unit', '_other_cols']\n",
    "\n",
    "print(\"New variables which list column names with the same type of informations :\") \n",
    "\n",
    "for suffix in New_lists : # 1 I create the empty variables\n",
    "    print(\"df\"+str(suffix))\n",
    "    myVars[\"df\"+str(suffix)] = list()\n",
    "\n",
    "for colname in  list(df.columns): #each name of column is placed into the different list \n",
    "    \n",
    "    if New_lists[0] in colname :\n",
    "        myVars[\"df\"+str(New_lists[0])].append(colname) #.split(str(New_lists[0]))[0] # To keep only the part before the suffix\n",
    "    elif New_lists[1] in colname :\n",
    "        myVars[\"df\"+str(New_lists[1])].append(colname)\n",
    "    elif New_lists[2] in colname :\n",
    "        myVars[\"df\"+str(New_lists[2])].append(colname)\n",
    "    else :\n",
    "        myVars[\"df\"+str(New_lists[3])].append(colname)\n",
    "        \n",
    " "
   ]
  },
  {
   "cell_type": "code",
   "execution_count": null,
   "id": "d7a6aa43-da59-4e6c-98a8-8edc3014780a",
   "metadata": {},
   "outputs": [],
   "source": [
    "print(df_per_hundred)"
   ]
  },
  {
   "cell_type": "code",
   "execution_count": null,
   "id": "e6a0aa08-5872-436a-9728-e7c60c534207",
   "metadata": {},
   "outputs": [],
   "source": [
    "print(df_other_cols) "
   ]
  },
  {
   "cell_type": "markdown",
   "id": "6784a819-776b-4ba1-aea1-a42837944f3a",
   "metadata": {},
   "source": [
    "<a id=\"TaskB\"></a>\n",
    "## OpenFood database: Task B\n",
    "[top](#top)\n",
    "\n",
    "### Data Cleaning Tasks:\n",
    "\n",
    "- 1. Are there any duplicate entries ? Can we remove them ? What is the shape of the remaining data?\n",
    "- 2. This data set contains a lot of missing values. Find out where they are: \n",
    "    - a) Create a table that shows both the number and the percentage of missing values for all columns sorted from largest to smallest. Make sure all the column names are visible.\n",
    "    - b) In the subject on “Advanced data analysis” we will introduce the missingno library. But you can already install it and try it out if you want. Use missingno to help you visualize where the missing are in the whole data frame and when missing values overlap between columns or not.\n",
    "    - c) In task A5 we created 4 lists for the _per_hundred, _per_portion and _unit columns, and the remaining columns. Use these 4 lists to create 4 line plots or bar charts that show the percentages of missing values in each list. (In addition, you can also use missingno on these 4 reduced data frames)\n",
    "- 3.Now that you know the extent of missing values in the data, it is time to address them. Your goal is to keep as much data as possible in your data frame. At each step report how many samples and features remain.\n",
    "    - a) As a first step, remove rows and columns that are completely empty (if there is any).\n",
    "    - b) Start with your list of _unit columns, and check some of them and show what information they hold. One simple approach to fill up missing values in categorical columns is to use the most frequent value as a proxy for the missing value. Apply this approach to the _unit columns.\n",
    "    - c) As a second strategy, let’s fill up the missing values of a column using other columns that hold similar information. Apply this approach to the product_name_en column. Find columns that hold similar information and use them to replace the missing value in product_name_en. Report the number of rows that you managed to fill up.\n",
    "    - d) As a third strategy, let’s fill up missing values based on common knowledge. Take the column named iron_per_hundred which has about 30% missing values. One possible explanation for its missing values could be that those products are iron-free (like ice cream). Based on this assumption address the missing values for iron_per_hundred.\n",
    "    - e) Another strategy for text-based columns is to indicate that some of the fields are missing. For instance, the column ingredients_en has about 10% of missing values. Let’s replace them with the term ingredient_missing.\n",
    "    - f) Finally, let’s assume that you want to build up your data analysis pipeline based on at least 20,000 rows of non-missing data. This amounts to about 5% of the data set. Your task is to drop the columns that have more than 95% of missing values. What is the shape of the remaining data?\n"
   ]
  },
  {
   "cell_type": "code",
   "execution_count": null,
   "id": "1d65bf8d-365b-432c-87f6-6ad1e74209ba",
   "metadata": {},
   "outputs": [],
   "source": [
    "#Task B: library \n",
    "import matplotlib.pyplot as plt\n",
    "import seaborn as sns\n",
    "import numpy as np\n",
    "import pandas as pd\n",
    "\n",
    "%matplotlib inline"
   ]
  },
  {
   "cell_type": "markdown",
   "id": "2bde6109-801c-44c0-84cb-3db6f458a424",
   "metadata": {},
   "source": [
    "### 1. Duplicated entry :\n",
    "The first question is : Are there any duplicate entries ? "
   ]
  },
  {
   "cell_type": "code",
   "execution_count": null,
   "id": "51812b49-79d3-428f-b39d-4f63a93a56da",
   "metadata": {},
   "outputs": [],
   "source": [
    "df.loc[df.duplicated(), :].shape"
   ]
  },
  {
   "cell_type": "markdown",
   "id": "f5e5416c-2aed-401b-b9c3-65ae92fef230",
   "metadata": {},
   "source": [
    "Yes on the 385384 entries 10500 are repeated."
   ]
  },
  {
   "cell_type": "code",
   "execution_count": null,
   "id": "07baabb9-cfef-49b8-825c-174a9a8354b9",
   "metadata": {},
   "outputs": [],
   "source": [
    "df = df.drop_duplicates()\n",
    "df.shape"
   ]
  },
  {
   "cell_type": "markdown",
   "id": "6e9b56a8-091e-47a0-bde9-231f6c14ed0e",
   "metadata": {},
   "source": [
    "### 2. Missing values :\n",
    " - Create a table that shows both the number and the percentage of missing values for all columns sorted from largest to smallest : \n",
    " \n",
    " ```print_full``` is a function set at the begining of this notebook([↑](#function_def)). It displays all entries in a dataframe."
   ]
  },
  {
   "cell_type": "code",
   "execution_count": null,
   "id": "3a8c03a6-eab6-4fb0-9bf7-f4fe5822142f",
   "metadata": {
    "tags": []
   },
   "outputs": [],
   "source": [
    "df_summarize_missing_values = pd.DataFrame(\n",
    "    {\n",
    "        \"missing_values_#\": df.isnull().sum(),\n",
    "        \"missing_values_percent\": round((df.isnull().sum()/df.shape[0])*100,3),\n",
    "    }\n",
    ")\n",
    "print_full(df_summarize_missing_values.sort_values(by = [\"missing_values_percent\"], ascending=False)) "
   ]
  },
  {
   "cell_type": "markdown",
   "id": "6c78cb4b-4fe0-4363-8dc2-c180dcb8a193",
   "metadata": {},
   "source": [
    "- In task A5 we created 4 lists for the _per_hundred, _per_portion and _unit columns, and the remaining columns. Use these 4 lists to create 4 line plots or bar charts that show the percentages of missing values in each list:"
   ]
  },
  {
   "cell_type": "code",
   "execution_count": null,
   "id": "7f0a3ce3-907d-4ff8-a0b1-0c9a301328cd",
   "metadata": {},
   "outputs": [],
   "source": [
    "fig, axes = plt.subplots(nrows = 2, # sets the number of rows in the subplot grid\n",
    "                         ncols = 2, # sets the number of columns in the subplot grid\n",
    "                         #figsize = (6,4), # sets the width and height of the figure (in inches)\n",
    "                         sharey=True,\n",
    "                         gridspec_kw={'width_ratios': [3, 1]}) # let the plots share the same y-axis\n",
    "\n",
    "fig.suptitle('Percent of missing values per categories of columns', fontsize=16)\n",
    "\n",
    "nb_miss = df_summarize_missing_values.loc[df_per_hundred,[\"missing_values_percent\"]].shape[0]\n",
    "x = np.linspace(0, nb_miss, nb_miss)\n",
    "x = np.round(x,0)\n",
    "axes[0,0].plot(x,df_summarize_missing_values.loc[df_per_hundred,[\"missing_values_percent\"]].sort_values(by = [\"missing_values_percent\"], ascending=False))   # draw the plot on the first axes\n",
    "mean_miss = np.round(np.mean(df_summarize_missing_values.loc[df_per_hundred,[\"missing_values_percent\"]])[0],2)\n",
    "axes[0,0].axhline(y = mean_miss, color = 'r', linestyle = '-')\n",
    "axes[0,0].text(0, mean_miss+5, 'mean = '+ str(mean_miss))\n",
    "axes[0,0].set_xlabel('per hundred columns')\n",
    "\n",
    "nb_miss = df_summarize_missing_values.loc[df_per_portion,[\"missing_values_percent\"]].shape[0]\n",
    "x = np.linspace(0, nb_miss, nb_miss)\n",
    "x = np.round(x,0)\n",
    "axes[0,1].plot(x, df_summarize_missing_values.loc[df_per_portion,[\"missing_values_percent\"]].sort_values(by = [\"missing_values_percent\"], ascending=False))   # draw the plot on the first axes\n",
    "mean_miss = np.round(np.mean(df_summarize_missing_values.loc[df_per_portion,[\"missing_values_percent\"]])[0],2)\n",
    "axes[0,1].axhline(y = mean_miss, color = 'r', linestyle = '-')\n",
    "axes[0,1].text(0, mean_miss-10, 'mean = '+ str(mean_miss))\n",
    "axes[0,1].set_xlabel('per portion columns')\n",
    "\n",
    "nb_miss = df_summarize_missing_values.loc[df_unit,[\"missing_values_percent\"]].shape[0]\n",
    "x = np.linspace(0, nb_miss, nb_miss)\n",
    "x = np.round(x,0)\n",
    "axes[1,0].plot(x, df_summarize_missing_values.loc[df_unit,[\"missing_values_percent\"]].sort_values(by = [\"missing_values_percent\"], ascending=False))   # draw the plot on the first axes\n",
    "mean_miss = np.round(np.mean(df_summarize_missing_values.loc[df_unit,[\"missing_values_percent\"]])[0],2)\n",
    "axes[1,0].axhline(y = mean_miss, color = 'r', linestyle = '-')\n",
    "axes[1,0].text(0, mean_miss+5, 'mean = '+ str(mean_miss))\n",
    "axes[1,0].set_xlabel('unit columns')\n",
    "\n",
    "nb_miss = df_summarize_missing_values.loc[df_other_cols,[\"missing_values_percent\"]].shape[0]\n",
    "x = np.linspace(0, nb_miss, nb_miss)\n",
    "x = np.round(x,0)\n",
    "axes[1,1].plot(x, df_summarize_missing_values.loc[df_other_cols,[\"missing_values_percent\"]].sort_values(by = [\"missing_values_percent\"], ascending=False))   # draw the plot on the first axes\n",
    "mean_miss = np.round(np.mean(df_summarize_missing_values.loc[df_other_cols,[\"missing_values_percent\"]])[0],2)\n",
    "axes[1,1].axhline(y = mean_miss, color = 'r', linestyle = '-')\n",
    "axes[1,1].text(0, mean_miss+5, 'mean = '+ str(mean_miss))\n",
    "axes[1,1].set_xlabel('other columns')\n",
    "\n",
    "fig.tight_layout()\n",
    "plt.show()"
   ]
  },
  {
   "cell_type": "markdown",
   "id": "33fc6cab-9a7a-4fa0-81dd-9892978224f1",
   "metadata": {},
   "source": [
    "This graph show the percentage of missing values per columns for the different categories of columns. For example, in the columns \"_per_portion\" the average percent of missing value is of 97.62% The blue line represent the percent for each column and it's always high. There is almost none informations into the columns \"_per_portion\" and more than half of values of the columns \"_per_hundred\" and \"_unit\" are missing."
   ]
  },
  {
   "cell_type": "markdown",
   "id": "206b92a0-f8f8-4eaa-885d-c64d3e591177",
   "metadata": {},
   "source": [
    "### 3. Transformation of missing values\n",
    "- Removing rows and columns *completely* empty :\n",
    "\n",
    "Firstly we identify empty rows (We check columns during the part 2 and no columns have 100% of missing values)."
   ]
  },
  {
   "cell_type": "code",
   "execution_count": null,
   "id": "46daa92a-f72c-401c-9879-5080c38f4dee",
   "metadata": {},
   "outputs": [],
   "source": [
    "# Identify empty rows :\n",
    "df.dropna(how=\"all\", axis=0).shape"
   ]
  },
  {
   "cell_type": "code",
   "execution_count": null,
   "id": "4928811a-e520-4bf2-8db8-ababc5aaf6c3",
   "metadata": {},
   "outputs": [],
   "source": [
    "df.shape"
   ]
  },
  {
   "cell_type": "markdown",
   "id": "143bdfb1-4ed9-42ed-80fa-0bea57a3ff31",
   "metadata": {},
   "source": [
    "No completely empty rows.\n",
    "\n",
    "- With the list of _unit columns : \n",
    "    - check some of them and show what information they hold. \n",
    "    - Use the most frequent value as a proxy for the missing value. \n",
    "\n",
    "Thanks to the table that give us the percent of missing data we can select the 4 columns \"_unit\" with the lesser missing data to check what is the type of their contant : portion_unit, protein_unit, carbohydrates_unit, fat_unit."
   ]
  },
  {
   "cell_type": "code",
   "execution_count": null,
   "id": "a28c8632-1fa1-482a-bdf3-10b66601847c",
   "metadata": {},
   "outputs": [],
   "source": [
    "df[[\"portion_unit\", \"protein_unit\", \"carbohydrates_unit\", \"fat_unit\"]].drop_duplicates()"
   ]
  },
  {
   "cell_type": "markdown",
   "id": "1d55133b-3e4e-4b01-9613-f6a67cd890af",
   "metadata": {},
   "source": [
    "Except for portion_unit (were there is no missing value), all the value in the column \"protein_unit\", \"carbohydrates_unit\", \"fat_unit\" are identical : \"g\" even if the portion unit is in \"ml\" or \"l\" or \"Floz\".  For each _unit column we will identyfy the most commun value (WO) empty rows and replace the missing value per this information.\n",
    "\n",
    "For this we create a function to apply on each df_unit column :"
   ]
  },
  {
   "cell_type": "code",
   "execution_count": null,
   "id": "98c10638-5dd0-4d42-9991-24d061cfb27a",
   "metadata": {},
   "outputs": [],
   "source": [
    "# Program to find most frequent element in a list : (source: https://www.geeksforgeeks.org/python-find-most-frequent-element-in-a-list/): \n",
    "def most_frequent(List):\n",
    "    if not isinstance(List, list):\n",
    "        List = List.tolist()\n",
    "    List = [element for element in List if str(element) != \"nan\"] # source: https://java2blog.com/remove-nan-from-list-python/\n",
    "    unique, counts = np.unique(List, return_counts=True) # need numpy\n",
    "    index = np.argmax(counts)\n",
    "    return unique[index]\n",
    "\n",
    "df[df_unit].apply(most_frequent, axis=0)"
   ]
  },
  {
   "cell_type": "code",
   "execution_count": null,
   "id": "526742e8-8920-4009-8699-9309515ca9fa",
   "metadata": {},
   "outputs": [],
   "source": [
    "for col_unit in df_unit:\n",
    "    df[col_unit].fillna(value=most_frequent(df[col_unit]), inplace=True)\n",
    "df[df_unit].head()"
   ]
  },
  {
   "cell_type": "markdown",
   "id": "cc3603f8-c1f1-4aec-b213-fa5aaf0cf847",
   "metadata": {},
   "source": [
    "- For product_name_en column : Find columns that hold similar information and use them to replace the missing value in product_name_en. Report the number of rows that you managed to fill up.\n",
    "\n",
    "Firstly we show df_other_cols, to identify from which other column we could take a product_name :"
   ]
  },
  {
   "cell_type": "code",
   "execution_count": null,
   "id": "b701ae2b-2afc-4b48-9ccf-433ed3ddc733",
   "metadata": {},
   "outputs": [],
   "source": [
    "#id, product_name_fr,\n",
    "df[df_other_cols].head()"
   ]
  },
  {
   "cell_type": "markdown",
   "id": "c54909bd-f166-4d7c-8297-f60ced3337d2",
   "metadata": {},
   "source": [
    "Two others columns contain a name for the entry : product_name_de and product_name_fr. when we check the percent of missing data there is more entries into DE and FR name than in EN name. Some missing name can be recover from this column: "
   ]
  },
  {
   "cell_type": "code",
   "execution_count": null,
   "id": "d2edfaa1-313f-4c9a-bdd4-0b40dfb6e811",
   "metadata": {},
   "outputs": [],
   "source": [
    "df[df[\"product_name_en\"].isnull()][df_other_cols]"
   ]
  },
  {
   "cell_type": "markdown",
   "id": "64835f3e-3086-469a-930d-43ab784c53db",
   "metadata": {},
   "source": [
    "We see that we can found name information into  product_name_de and product_name_fr. This 2 columns can't fullfill product_name_en and we have to choose when name exist in FR and in DE from which column we recover the entry. We will based our choice on the \"country\" column :"
   ]
  },
  {
   "cell_type": "code",
   "execution_count": null,
   "id": "5a9051ab-a12f-472b-b1cd-f0de2b0318f5",
   "metadata": {},
   "outputs": [],
   "source": [
    "df[df[\"product_name_en\"].isnull()][\"country\"].value_counts(normalize=True) #There we check the proportion of each country into the \"product_name_en\" missing data"
   ]
  },
  {
   "cell_type": "markdown",
   "id": "bd8e6c7f-2aef-4f2c-9eac-88c130dc9d53",
   "metadata": {},
   "source": [
    "We propose a function to identify from which colnum pick the name :\n",
    "\n",
    "If the missing product_name_en exist in FR and in DE. We check the column country. For FR we pick the fr name, for AT and DE we pick the DE name and for CH we pick the DE name. (For UK product FR have been pick)"
   ]
  },
  {
   "cell_type": "code",
   "execution_count": null,
   "id": "26e1b28e-035a-48eb-bb14-55b77c3953b8",
   "metadata": {},
   "outputs": [],
   "source": [
    "df_row = df.loc[374880] #374880 : example with 2 values,  374882 : example with 0 values, 374881 : example with 1 value;\n",
    "dico_country = {'CH': \"product_name_de\", 'DE': \"product_name_de\", 'AT': \"product_name_de\", 'FR': \"product_name_fr\", 'UK' : \"product_name_fr\"}\n",
    "\n",
    "def product_name_replacement(df_row):\n",
    "    if df_row[[\"product_name_fr\",\"product_name_de\"]].dropna().shape[0] == 2:\n",
    "        val_replacement =  df_row[dico_country[df_row[\"country\"]]]\n",
    "    elif df_row[[\"product_name_fr\",\"product_name_de\"]].dropna().shape[0] == 1:\n",
    "        col_name = str(df_row[[\"product_name_fr\",\"product_name_de\"]].dropna()).split(\" \", 1)[0]\n",
    "        val_replacement = df_row[col_name]\n",
    "    else :\n",
    "        val_replacement = np.nan\n",
    "    return val_replacement\n",
    "\n",
    "print(\"Example:\")\n",
    "print(df_row[[\"product_name_fr\",\"product_name_de\",\"product_name_en\",\"country\"]])\n",
    "print(product_name_replacement(df_row))\n"
   ]
  },
  {
   "cell_type": "markdown",
   "id": "3dde4aa3-29ff-478e-951b-0fc1e1c5a902",
   "metadata": {},
   "source": [
    "We apply our new function :"
   ]
  },
  {
   "cell_type": "code",
   "execution_count": null,
   "id": "05849b79-ea2d-4c39-9c94-3aed2477e2c6",
   "metadata": {},
   "outputs": [],
   "source": [
    "row_to_fill = df[df[\"product_name_en\"].isnull()].apply(lambda row : product_name_replacement(row), axis = 1) # Error with UK and 2 vals # df[df[\"country\"] == 'UK'][[\"product_name_fr\",\"product_name_de\",\"product_name_en\"]] # No value for product_name_en for this product \n",
    "row_to_fill"
   ]
  },
  {
   "cell_type": "code",
   "execution_count": null,
   "id": "28a91e8d-f29c-4c7b-94a3-e47cb01123da",
   "metadata": {},
   "outputs": [],
   "source": [
    "row_to_fill.dropna().shape"
   ]
  },
  {
   "cell_type": "code",
   "execution_count": null,
   "id": "d31e4177-9ddd-4ed7-bc51-866f21d8ed15",
   "metadata": {},
   "outputs": [],
   "source": [
    "df[df[\"product_name_en\"].isnull()].shape"
   ]
  },
  {
   "cell_type": "markdown",
   "id": "ce222f6b-408e-4dac-b4d5-9bff0fb9bef1",
   "metadata": {},
   "source": [
    "With this function we can fillup 14299 rows on the 33165 with missing values."
   ]
  },
  {
   "cell_type": "code",
   "execution_count": null,
   "id": "b41fd391-48b6-4b70-8061-3063c54b7dc0",
   "metadata": {},
   "outputs": [],
   "source": [
    "df.loc[df[\"product_name_en\"].isnull(),\"product_name_en\"] = df.loc[df[\"product_name_en\"].isnull()].apply(lambda row : product_name_replacement(row), axis = 1) \n",
    "df[df[\"product_name_en\"].isnull()].shape"
   ]
  },
  {
   "cell_type": "markdown",
   "id": "ff5bd8bc-d0c0-49e3-96f4-41a87a55accd",
   "metadata": {},
   "source": [
    "There is now only 18866 missing values in the column \"product_name_en\".\n",
    "\n",
    "- For the column named iron_per_hundred : A possible explanation for its missing values could be that those products are iron-free (like ice cream). Based on this assumption address the missing values for iron_per_hundred.\n",
    "\n",
    "We replace missing value by 0.\n"
   ]
  },
  {
   "cell_type": "code",
   "execution_count": null,
   "id": "d4c2c2a0-d43c-4b83-8135-660e09e4e2cf",
   "metadata": {},
   "outputs": [],
   "source": [
    "df_summarize_missing_values.loc[\"iron_per_hundred\"]"
   ]
  },
  {
   "cell_type": "code",
   "execution_count": null,
   "id": "663afefe-dcc4-4b35-97e0-4ff10d68ed90",
   "metadata": {},
   "outputs": [],
   "source": [
    "df[\"iron_per_hundred\"].fillna(value=0, inplace=True)"
   ]
  },
  {
   "cell_type": "code",
   "execution_count": null,
   "id": "a61c8c89-0026-4ea8-af2d-18a05cfc107b",
   "metadata": {},
   "outputs": [],
   "source": [
    "df[\"iron_per_hundred\"].max()"
   ]
  },
  {
   "cell_type": "markdown",
   "id": "49939ba1-4e3c-4b8e-b9af-2c5477d275fe",
   "metadata": {},
   "source": [
    "- For the column ingredients_en : Let’s replace them with the \"term ingredient_missing\"."
   ]
  },
  {
   "cell_type": "code",
   "execution_count": null,
   "id": "58da7d3a-16bb-419b-978a-8df9ea3c44fb",
   "metadata": {},
   "outputs": [],
   "source": [
    "df[\"ingredients_en\"].fillna(value=\"ingredient_missing\", inplace=True)"
   ]
  },
  {
   "cell_type": "markdown",
   "id": "a5679469-bc35-4266-a0ce-bd0567f3ec67",
   "metadata": {},
   "source": [
    "- We drop the columns that have more than 95% of missing values :"
   ]
  },
  {
   "cell_type": "code",
   "execution_count": null,
   "id": "b62d36e5-6fc2-4f09-96fe-50689a01462f",
   "metadata": {},
   "outputs": [],
   "source": [
    "nb_row_ml=df.shape[0]*0.95\n",
    "nb_row_ml  "
   ]
  },
  {
   "cell_type": "code",
   "execution_count": null,
   "id": "26837257-5c8d-401c-b796-bae97a43a0b9",
   "metadata": {},
   "outputs": [],
   "source": [
    "df_summarize_missing_values[df_summarize_missing_values[\"missing_values_#\"]>=nb_row_ml] #column to drop"
   ]
  },
  {
   "cell_type": "code",
   "execution_count": null,
   "id": "a747e7c2-be80-4f7c-8a90-7932741af5b2",
   "metadata": {},
   "outputs": [],
   "source": [
    "col_index = df_summarize_missing_values[df_summarize_missing_values[\"missing_values_#\"]<=nb_row_ml].index\n",
    "col_index"
   ]
  },
  {
   "cell_type": "code",
   "execution_count": null,
   "id": "1872861f-7618-42b1-bbbf-e423fd642f3e",
   "metadata": {},
   "outputs": [],
   "source": [
    "df[col_index].shape "
   ]
  },
  {
   "cell_type": "markdown",
   "id": "3b9c9f63-ab2b-4781-a79e-043b76c56271",
   "metadata": {},
   "source": [
    "We keep 65 columns on 99."
   ]
  },
  {
   "cell_type": "code",
   "execution_count": null,
   "id": "9ed7a6fa-feca-4929-abb9-ca0b8b8f4ccd",
   "metadata": {},
   "outputs": [],
   "source": [
    "df = df[col_index]"
   ]
  },
  {
   "attachments": {
    "3eb7881b-6d70-45a1-b3a4-5dd1e45aaf13.png": {
     "image/png": "[encoded data removed]"
    }
   },
   "cell_type": "markdown",
   "id": "218b1c6a-709a-4fa3-a2a8-6d7b99b624f1",
   "metadata": {
    "tags": []
   },
   "source": [
    "<a id=\"TaskC\"></a>\n",
    "## OpenFood database : Task C\n",
    "[top](#top)\n",
    "\n",
    "###  Preliminary Exploratory Data Analysis (EDA) Tasks :\n",
    "\n",
    "1. Into categorical variables : \n",
    "    * a. What is the number of unique values in categorical variables? \n",
    "    * b. Show the proportion of samples in each categorical level in the variables country and unit using appropriate visualizations.\n",
    "\n",
    "2. Into numerical variables : Provide descriptive statistics (e.g., min/max/mean) with informative plots (e.g., histograms) of the numerical variables. You should obtain these plots as subplots.\n",
    "\n",
    "3. Errors and unrealistic values are a problem : Identify and address problematic values of the per_hundred columns (e.g. protein_per_hundred, fat_per_hundred, etc.). Afterwards re-run the descriptive statistics and plots to check everything is ok now.\n",
    "    Below are some additional tips and hints.\n",
    "    - Work with the lists of columns ending in per_hundred and _unit. Each nutrient should have an associated per_hundred-column and a _unit-column.\n",
    "    - The range of acceptable values in each per_hundred-column depends on the unit given in the associated _unit-column. For example, the unit for the protein_per_hundred column is found in the protein_unit column, etc.\n",
    "    - As the unit of the protein_per_hundred column is g the values in the protein_per_hundred column should range between 0  and 100.\n",
    "    - If a column’s unit is mg, then the values should range between 0 and 10^5.\n",
    "    - If a column’s unit is in International units (IU), you can use the “Mass equivalents of 1 IU” indicated on this [Wikipedia page on IU](https://en.wikipedia.org/wiki/International_unit) and this [Wikipedia page on Food energy](https://en.wikipedia.org/wiki/Food_energy) to define an upper threshold value.\n",
    "\n",
    "![image.png](attachment:3eb7881b-6d70-45a1-b3a4-5dd1e45aaf13.png) \n",
    "\n",
    "\n",
    "4. Columns in our data set may be related to each other or pose constraints on one another. Unfortunately, this may also give rise to inconsistencies. Allowing for some rounding errors, your task is to investigate the three cases below and address any problems.\n",
    "    * a. The column energy_per_hundred measures the energy content in kJ. Analyse its relationship with the column energy_kcal_per_hundred, for example using a scatterplot, identify potential problems and address them.\n",
    "    * b. The column energy_per_hundred is also related to the macronutrient columns (protein, fat, carbohydrates, salt, and fiber), because these macronutrients have a specific energy content in kJ per hundred gram (e.g. fat 37 kJ/g, protein and carbohydrates 17 kJ/g). Check these columns for potential inconsistency.\n",
    "    * c. The main macronutrients (protein, fat, carbohydrates, and fiber) make up the bulk of a product. However, the overall contribution per hundred gram is limited by the presence of other macronutrients. Check for inconsistency.\n",
    "\n",
    "5. Despite removing recording errors from the per_hundred columns, some of them still contain “extreme” values, which are distinct from the rest of the data points. Your goal is to pick a few variables from the per_hundred list and address outliers. Be mindful that some outlier detection approaches are not reliable when the underlying variables are strongly skewed.\n",
    "\n",
    "### 1. Categorical variables :\n",
    "    * Number of unique values in each categorical variables: "
   ]
  },
  {
   "cell_type": "code",
   "execution_count": null,
   "id": "1d69ad34-b4a5-4cce-bd31-703a9373c0d6",
   "metadata": {
    "tags": []
   },
   "outputs": [],
   "source": [
    "df_categorical_variables = pd.DataFrame(\n",
    "    {\n",
    "        \"Categorie\": df[df.columns.intersection(df_object)].apply(lambda x: x.unique() ,axis=0),\n",
    "        \"Count\": df[df.columns.intersection(df_object)].apply(lambda x: len(x.unique()) ,axis=0)\n",
    "    }\n",
    ")\n",
    "print_full(df_categorical_variables.sort_values(by = [\"Count\"], ascending=False)) "
   ]
  },
  {
   "cell_type": "markdown",
   "id": "7ac43a6a-06ff-4f84-8662-bd48954af4ca",
   "metadata": {},
   "source": [
    "  * Show the proportion of samples in each categorical level in the variables country and unit using appropriate visualizations."
   ]
  },
  {
   "cell_type": "code",
   "execution_count": null,
   "id": "5651f6e9-6a38-42db-ab09-a9186479f621",
   "metadata": {},
   "outputs": [],
   "source": [
    "# df[[\"country\", \"barcode\"]].groupby(\"country\").count()\n",
    "# df[[\"unit\", \"barcode\"]].groupby(\"unit\").count()"
   ]
  },
  {
   "cell_type": "markdown",
   "id": "e23ee576-69b6-47aa-a05a-fd7d3b73f8d6",
   "metadata": {},
   "source": [
    "Plots of proportion for the variables country and unit : "
   ]
  },
  {
   "cell_type": "code",
   "execution_count": null,
   "id": "7293518d-249c-439e-b2ed-7b1e8f3432f5",
   "metadata": {
    "tags": []
   },
   "outputs": [],
   "source": [
    "def addlabels(plt, x, colormap): #function coming from : https://www.geeksforgeeks.org/adding-value-labels-on-a-matplotlib-bar-chart/; with modifications\n",
    "    for i in range(len(x)):\n",
    "        plt.text(x[i]//2 + 25000,i-0.06, x[i], ha = 'left', bbox = dict(facecolor = colormap[i], alpha =.5))#, color = \"white\")\n",
    "\n",
    "\n",
    "fig, axes = plt.subplots(nrows = 1, ncols = 2 , figsize = (10,4)) # sets the width and height of the figure (in inches)\n",
    "                \n",
    "#First plot : proportion per country\n",
    "df_to_plot = df[[\"country\", \"unit\"]].groupby(\"country\").count()\n",
    "\n",
    "values = df_to_plot.sort_values(by = ['unit'], ascending=False)['unit']\n",
    "colormap = plt.cm.tab20(range(0, len(values)))\n",
    "axes[0].barh(values.index,values,color=colormap)\n",
    "addlabels(axes[0], values, colormap)\n",
    "axes[0].set_title(\"Country proportions\")\n",
    "axes[0].set_xlabel(\"numbers of samples per country\")\n",
    "\n",
    "#Second plot : proportion per unit\n",
    "df_to_plot = df[[\"country\", \"unit\"]].groupby(\"unit\").count()\n",
    "\n",
    "values = df_to_plot.sort_values(by = ['country'], ascending=False)['country']\n",
    "colormap = plt.cm.tab20(range(0, len(values)))\n",
    "axes[1].barh(values.index,values,color=colormap)\n",
    "addlabels(axes[1], values, colormap)\n",
    "axes[1].set_title(\"Units proportions\")\n",
    "axes[1].set_xlabel(\"numbers of samples per unit type\")\n",
    "\n",
    "\n",
    "fig.tight_layout()\n",
    "plt.show()"
   ]
  },
  {
   "cell_type": "markdown",
   "id": "4f7538a1-a1d2-43c6-9ca3-809a155919b7",
   "metadata": {},
   "source": [
    "One major categorie  is present for this two variables.\n",
    "\n",
    "### 2. Numerical variables : \n",
    "\n",
    "Provide descriptive statistics (e.g., min/max/mean) with informative plots (e.g., histograms) of the numerical variables. You should obtain these plots as subplots.\n",
    "\n",
    "First we have two list of numerical columns df_flot64 and df_int :"
   ]
  },
  {
   "cell_type": "code",
   "execution_count": null,
   "id": "f3eeed61-680b-473e-b7a2-fdcb4d254a61",
   "metadata": {
    "tags": []
   },
   "outputs": [],
   "source": [
    "df_numerical_variable = pd.DataFrame(\n",
    "    {\n",
    "        \"min\": round(df[df.columns.intersection(df_float64 + df_int64)].min(),3),\n",
    "        \"mean\": round(df[df.columns.intersection(df_float64 + df_int64)].mean(),3),\n",
    "        \"max\": round(df[df.columns.intersection(df_float64 + df_int64)].max(),3),\n",
    "    }\n",
    ")\n",
    "print_full(df_numerical_variable)"
   ]
  },
  {
   "cell_type": "markdown",
   "id": "1024f8a7-d258-44cf-a5de-f972eefae687",
   "metadata": {},
   "source": [
    "Subplot of distribution for each variable :"
   ]
  },
  {
   "cell_type": "code",
   "execution_count": null,
   "id": "5357924c-507d-490a-9b5c-176f32fe72d0",
   "metadata": {},
   "outputs": [],
   "source": [
    "list_numerical_col = df.columns.intersection(df_float64 + df_int64)\n",
    "\n",
    "nb_cols = int(np.sqrt(len(list_numerical_col)))\n",
    "nb_rows = int(np.sqrt(len(list_numerical_col))) + 1\n",
    "\n",
    "fig, axes = plt.subplots(nrows = nb_rows, \n",
    "                         ncols = nb_cols, \n",
    "                         figsize = (3*nb_cols,3*nb_rows)) # sets the width and height of the figure (in inches)\n",
    "x = 0\n",
    "y = 0\n",
    "for i in range(len(list_numerical_col)):\n",
    "    values = df[list_numerical_col[i]]\n",
    "    axes[x,y].hist(values)\n",
    "    axes[x,y].set_xlabel(list_numerical_col[i], fontsize=7)\n",
    "    \n",
    "    if (y+1)/nb_cols == 1:\n",
    "        y = -1\n",
    "        x = x + 1\n",
    "    y = y + 1\n",
    "    \n",
    "        \n",
    "fig.tight_layout()\n",
    "\n",
    "plt.show()"
   ]
  },
  {
   "cell_type": "markdown",
   "id": "feeb823a-7690-4553-88f8-13c479168d86",
   "metadata": {},
   "source": [
    "The distribution of values aren't centered. We have a high peak at the begining of the distribution and visibly a really small amount of samples with high values.\n",
    "\n",
    "### Errors and unrealistic values : \n",
    "\n",
    "Identify and address problematic values of the per_hundred columns (e.g. protein_per_hundred, fat_per_hundred, etc.). Afterwards re-run the descriptive statistics and plots to check everything is ok now.\n",
    "    \n",
    "- Below are some additional tips and hints.\n",
    "    - Work with the lists of columns ending in per_hundred and _unit. Each nutrient should have an associated per_hundred-column and a _unit-column.\n",
    "    - The range of acceptable values in each per_hundred-column depends on the unit given in the associated _unit-column. For example, the unit for the protein_per_hundred column is found in the protein_unit column, etc.\n",
    "    - As the unit of the protein_per_hundred column is g the values in the protein_per_hundred column should range between 0  and 100.\n",
    "    - If a column’s unit is mg, then the values should range between 0 and 10^5.\n",
    "    - If a column’s unit is in International units (IU), you can use the “Mass equivalents of 1 IU” indicated on this [Wikipedia page on IU](https://en.wikipedia.org/wiki/International_unit) and this [Wikipedia page on Food energy](https://en.wikipedia.org/wiki/Food_energy) to define an upper threshold value."
   ]
  },
  {
   "cell_type": "markdown",
   "id": "238403c6-9d50-435b-a07d-084e5a7e74d5",
   "metadata": {},
   "source": [
    "We focus on column 'per_hundred' : \n",
    "- 1. We list the properties concerned\n",
    "- 2. We check the first assumption : each column 'per_hundred' have a column '_unit'\n",
    "- 3. We establish a dataframe with the min and max rules \n",
    "- 4. We check that the value are comprise into our dataframe rules functon of the unit if not we replace it with a NaN"
   ]
  },
  {
   "cell_type": "code",
   "execution_count": null,
   "id": "794eff57-7de7-4831-b60f-03bb0e43f809",
   "metadata": {
    "tags": []
   },
   "outputs": [],
   "source": [
    "#1. List of sample potential properties :\n",
    "list_sp_property = list()\n",
    "\n",
    "for colname in df[df.columns.intersection(df_per_hundred)] :\n",
    "    x = colname.split('_per')\n",
    "    list_sp_property.append(x[0])\n",
    "\n",
    "list_sp_property\n",
    " "
   ]
  },
  {
   "cell_type": "code",
   "execution_count": null,
   "id": "fb317c03-c4d0-43a0-bf2e-9495fc1c65c0",
   "metadata": {
    "tags": []
   },
   "outputs": [],
   "source": [
    "#2. which columns are associated to this property :\n",
    "for i in range(len(list_sp_property)) :\n",
    "    list_sp_property[i]\n",
    "    print(list_sp_property[i])\n",
    "    l =len(list(filter(lambda colname: list_sp_property[i] in colname, list(df.columns))))\n",
    "    print(l)\n",
    "    col =list(filter(lambda colname: list_sp_property[i] in colname, list(df.columns)))\n",
    "    print(col)\n",
    "   \n",
    "# Every element have a unit column"
   ]
  },
  {
   "cell_type": "code",
   "execution_count": null,
   "id": "af64302a-9388-4e69-88e7-68a45be29fab",
   "metadata": {},
   "outputs": [],
   "source": [
    "#3. We list the unit  and create a table of rules based on wikipedia info:\n",
    "# When we check the unit variables, from the catagorical varaible analysis, we saw that they are consistent : Each column have only one unit type into this list of unit : UI, g, mg, μg, kCal, kJ.\n",
    "\n",
    "list_unit =['IU', 'g','mg', 'µg', 'kCal', 'kJ']\n",
    "list_min = [0,0,0,0,0,0]\n",
    "list_max = [0.4*(10**9),100,10**5,10**8,885,3700]\n",
    "\n",
    "df_unit_rules = pd.DataFrame(\n",
    "    {\n",
    "        \"unit\": list_unit,\n",
    "        \"min\": list_min,\n",
    "        \"max\": list_max,\n",
    "    }\n",
    ")\n",
    "df_unit_rules"
   ]
  },
  {
   "cell_type": "code",
   "execution_count": null,
   "id": "fdf890e5-3cd6-4f57-962a-6db15bc3092d",
   "metadata": {
    "tags": []
   },
   "outputs": [],
   "source": [
    "## It take 30 min \n",
    "## count_replacement = list()\n",
    "#df_copy = df#[48989:48992] #To remove here and replace df_copy by df into the section [284]\n",
    "#df_copy\n",
    "\n",
    "def match_unit(df_test):\n",
    "    unit = df_test[1]\n",
    "    value = float(df_test[0])\n",
    "    if not pd.isna(value) :\n",
    "        max_range = df_unit_rules[df_unit_rules['unit'] == unit]['max']\n",
    "        if float(value) < float(max_range) :\n",
    "            return value\n",
    "        \n",
    "# This section take time :        \n",
    "for i in range(len(list_sp_property)) :\n",
    "    df[list_sp_property[i]+'_per_hundred'] = df[[list_sp_property[i]+'_per_hundred',list_sp_property[i]+'_unit']].apply(match_unit, axis = 1)\n",
    "    \n",
    "#i=27\n",
    "#list_sp_property[i]\n",
    "#df_copy[[list_sp_property[i]+'_per_hundred',list_sp_property[i]+'_unit']].apply(match_unit, axis = 1)\n",
    "\n",
    "# for i in range(len(list_sp_property)) :\n",
    "#   df_copy[list_sp_property[i]+'_per_hundred'] = df[[list_sp_property[i]+'_per_hundred',list_sp_property[i]+'_unit']].apply(match_unit, axis = 1)"
   ]
  },
  {
   "cell_type": "code",
   "execution_count": null,
   "id": "b9854a61-56b6-40c2-8b00-1f39413a25d0",
   "metadata": {},
   "outputs": [],
   "source": [
    "#Too long : ALternate solution should be for each colonne drop out row who didn't respect the test: \n",
    "list_per_hundred_col = df.columns.intersection(df_per_hundred)\n",
    "int(np.sqrt(len(list_per_hundred_col))) + 1"
   ]
  },
  {
   "cell_type": "markdown",
   "id": "a4a53584-d2a2-4797-a20d-1f3215159503",
   "metadata": {},
   "source": [
    "***Note to myself : come back here if necessaries. I'm not convince at all by my work but i will not spend more time on this exercice now.***"
   ]
  },
  {
   "cell_type": "code",
   "execution_count": null,
   "id": "a881c4b5-8dd2-4fb3-a7f3-49b27f2b248e",
   "metadata": {},
   "outputs": [],
   "source": [
    "list_per_hundred_col = df.columns.intersection(df_per_hundred)\n",
    "\n",
    "nb_cols = int(np.sqrt(len(list_per_hundred_col)))\n",
    "nb_rows = int(np.sqrt(len(list_per_hundred_col))) #+ 1\n",
    "\n",
    "fig, axes = plt.subplots(nrows = nb_rows, \n",
    "                         ncols = nb_cols, \n",
    "                         figsize = (3*nb_cols,3*nb_rows)) \n",
    "\n",
    "x = 0\n",
    "y = 0\n",
    "for i in range(len(list_per_hundred_col)):\n",
    "    values = df[list_per_hundred_col[i]] #df_copy[list_per_hundred_col[i]]\n",
    "    axes[x,y].hist(values)\n",
    "    axes[x,y].set_xlabel(list_per_hundred_col[i], fontsize=7)\n",
    "    \n",
    "    if (y+1)/nb_cols == 1:\n",
    "        y = -1\n",
    "        x = x + 1\n",
    "    y = y + 1\n",
    "    \n",
    "        \n",
    "fig.tight_layout()\n",
    "\n",
    "plt.show()"
   ]
  },
  {
   "cell_type": "markdown",
   "id": "0be891e3-c6b5-4ace-bbde-9a40e52f4693",
   "metadata": {},
   "source": [
    "For the distribution we observed some changes for certains column not all. ***Describe changes*** No big visible changes execpt for the energ\n",
    "\n",
    "4. Inconsistency between energy columns :\n",
    "    * a. The column energy_per_hundred measures the energy content in kJ. Analyse its relationship with the column energy_kcal_per_hundred, for example using a scatterplot, identify potential problems and address them.\n",
    "    * b. The column energy_per_hundred is also related to the macronutrient columns (protein, fat, carbohydrates, salt, and fiber), because these macronutrients have a specific energy content in kJ per hundred gram (e.g. fat 37 kJ/g, protein and carbohydrates 17 kJ/g). Check these columns for potential inconsistency.\n",
    "    * c. The main macronutrients (protein, fat, carbohydrates, and fiber) make up the bulk of a product. However, the overall contribution per hundred gram is limited by the presence of other macronutrients. Check for inconsistency.\n",
    "\n"
   ]
  },
  {
   "cell_type": "code",
   "execution_count": null,
   "id": "b68a942a-882b-4eb0-96b2-e1bf9b063d75",
   "metadata": {},
   "outputs": [],
   "source": [
    "plt.plot(df['energy_per_hundred'],df['energy_kcal_per_hundred'], 'o')\n",
    "plt.xlabel(\"energy per hundred (kJ)\")\n",
    "plt.ylabel(\"energy per hundred (kCal)\")\n",
    "\n",
    "plt.show()"
   ]
  },
  {
   "cell_type": "markdown",
   "id": "8e5534c3-d5e3-47b8-80f4-207b2728c345",
   "metadata": {},
   "source": [
    "Between energy in kJ and energy in kCal the difference is linear : 1 KJ = 1/4.184 kCal. We expect that the comparison between this two columns show point distributed on a straight line. Some points aren't on the diagonal, which means they have either a wrong estimate of energy in kcal or a wrong estimate of energy in kJ or both. We have to re-estimate this points base on their content in fat carbohydrates, fiber and protein. \n",
    "\n",
    "We will re-estimate the enegertic values :"
   ]
  },
  {
   "cell_type": "code",
   "execution_count": null,
   "id": "d08e2bf6-32a8-464d-97cd-5b46aa8aafbc",
   "metadata": {},
   "outputs": [],
   "source": [
    "def energy_kJ(df_test):\n",
    "    #print(df_test)\n",
    "    df_test.fillna(0, inplace=True)\n",
    "    #print(df_test)\n",
    "    if(sum([df_test['carbohydrates_per_hundred'], df_test['fat_per_hundred'], df_test['fiber_per_hundred'], df_test['protein_per_hundred']]) <= 100):# if this is above 100 it's mean there is an error\n",
    "        value = sum([df_test['carbohydrates_per_hundred'] * 17, df_test['fat_per_hundred'] * 37, df_test['fiber_per_hundred'] * 8, df_test['protein_per_hundred'] * 17])\n",
    "        #print(value)\n",
    "        return value\n",
    "\n",
    "\n",
    "df['energy_per_hundred_estimated']= df[['energy_per_hundred','energy_kcal_per_hundred','carbohydrates_per_hundred','fat_per_hundred', 'fiber_per_hundred','protein_per_hundred' ]].apply(energy_kJ, axis=1)\n",
    "\n",
    "\n",
    "plt.plot(df['energy_per_hundred'],df['energy_per_hundred_estimated'], 'o')\n",
    "plt.xlabel(\"energy per hundred (kJ)\")\n",
    "plt.ylabel(\"energy per hundred (kJ) estimated\")\n",
    "\n",
    "plt.show()"
   ]
  },
  {
   "cell_type": "markdown",
   "id": "7181ece5-28cd-46c7-a776-1674e9dda836",
   "metadata": {},
   "source": [
    "We find that the energy value is often underestimated, sometimes even reduced to 0. We don't want to introduce any new missing values. Futhermore, by taking only macronutrients into account, the energy value may be underestimated. \n",
    "\n",
    "In other cases, we find that we estimate a value for certain elements with energy values at 0 or lower than the energy value of macronutrients alone. \n",
    "\n",
    "Replacing only the energy values in kJ of those elements whose value is estimated to be higher than the present value enables us to complete and correct erroneous values based on other indicators. The kCal value is corrected to the kJ value."
   ]
  },
  {
   "cell_type": "code",
   "execution_count": null,
   "id": "8bc639c2-5da5-47fa-9bbf-485f85be9dfe",
   "metadata": {},
   "outputs": [],
   "source": [
    "def energy_kJ(df_test):\n",
    "    #print(df_test)\n",
    "    df_test.fillna(0, inplace=True)\n",
    "    #print(df_test)\n",
    "    if(sum([df_test['carbohydrates_per_hundred'], df_test['fat_per_hundred'], df_test['fiber_per_hundred'], df_test['protein_per_hundred']]) <= 100):# if this is above 100 it's mean there is an error\n",
    "        value = sum([df_test['carbohydrates_per_hundred'] * 17, df_test['fat_per_hundred'] * 37, df_test['fiber_per_hundred'] * 8, df_test['protein_per_hundred'] * 17])        \n",
    "        if value < df_test['energy_per_hundred']: \n",
    "            value = df_test['energy_per_hundred']\n",
    "        #print(value)\n",
    "        return value\n",
    "\n",
    "#df_copy = df[1:10]     \n",
    "df['energy_per_hundred_estimated']= df[['energy_per_hundred','energy_kcal_per_hundred','carbohydrates_per_hundred','fat_per_hundred', 'fiber_per_hundred','protein_per_hundred' ]].apply(energy_kJ, axis=1)\n",
    "#df['energy_kcal_per_hundred_estimated']=df['energy_per_hundred']/4.184\n",
    "\n",
    "plt.plot(df['energy_per_hundred'],df['energy_per_hundred_estimated'], 'o')\n",
    "plt.xlabel(\"energy per hundred (kJ)\")\n",
    "plt.ylabel(\"energy per hundred (kJ) estimated\")\n",
    "\n",
    "plt.show()"
   ]
  },
  {
   "cell_type": "code",
   "execution_count": null,
   "id": "0f6aa44e-aad5-490a-90bb-a6e870ef283c",
   "metadata": {},
   "outputs": [],
   "source": [
    "df['energy_per_hundred']= df['energy_per_hundred_estimated']\n",
    "df['energy_kcal_per_hundred']=df['energy_per_hundred']/4.184"
   ]
  },
  {
   "cell_type": "markdown",
   "id": "4bc574d3-0211-499d-9baa-28c930763efb",
   "metadata": {},
   "source": [
    "5. Despite removing recording errors from the per_hundred columns, some of them still contain “extreme” values, which are distinct from the rest of the data points. Your goal is to pick a few variables from the per_hundred list and address outliers. Be mindful that some outlier detection approaches are not reliable when the underlying variables are strongly skewed."
   ]
  },
  {
   "cell_type": "markdown",
   "id": "99850fb0-2350-4bd3-a08d-5d663c5fb8c8",
   "metadata": {},
   "source": [
    "We will not come back on energy columns or on macronutriment column (with sugaer too, the distribution is mono-modal). \n",
    "\n",
    "We focus on this columns : \n"
   ]
  },
  {
   "cell_type": "code",
   "execution_count": null,
   "id": "d14026bd-4793-42cb-b335-d49b39d81522",
   "metadata": {},
   "outputs": [],
   "source": [
    "col_outlier = ['calcium_per_hundred', 'cholesterol_per_hundred', 'fatty_acids_total_saturated_per_hundred', \n",
    "               'fatty_acids_total_trans_per_hundred', 'fiber_per_hundred', 'iron_per_hundred', 'monounsaturated_fatty_acids_per_hundred', \n",
    "               'polyunsaturated_fatty_acids_per_hundred', 'potassium_k_per_hundred', 'salt_per_hundred', 'sodium_per_hundred', \n",
    "               'vitamin_a_iu_per_hundred', 'vitamin_b1_thiamin_per_hundred', 'vitamin_b2_riboflavin_per_hundred', 'vitamin_b3_niacin_per_hundred', \n",
    "               'vitamin_c_ascorbic_acid_per_hundred', 'vitamin_d_d2_d3_international_units_per_hundred']\n",
    "\n",
    "df[col_outlier].shape"
   ]
  },
  {
   "cell_type": "markdown",
   "id": "6951bc13-1bc0-44c1-99bb-3e81c45b3291",
   "metadata": {},
   "source": [
    "All data are skewed (right-skewed) so in place of using a filter based on the standard deviation ((x-x.mean()) < 3 * x.std()) we will discard values > to the quantile(0.9) 10% of max value) :"
   ]
  },
  {
   "cell_type": "code",
   "execution_count": null,
   "id": "ea385372-edd9-4846-9ff1-8a28702a3948",
   "metadata": {},
   "outputs": [],
   "source": [
    "# df_copy[col_outlier].apply(lambda x:  np.NaN if np.abs(x - x.mean()) > (3 * x.std()) else x, axis = 1  ) # NaN unsupported\n",
    "\n",
    "for col in col_outlier:\n",
    "    \n",
    "    print(col)\n",
    "    #zfilter_df = np.abs(df[col] - df[col].mean()) > (3 * df[col].std())\n",
    "    #df[col][zfilter_df] = np.NaN\n",
    "    threshold = df[col].quantile(0.90)\n",
    "    df.loc[df[col] > threshold ,col] = np.NaN\n",
    "    \n",
    "    #plt.boxplot(df[col].dropna())\n",
    "    #plt.hist(df[col])\n",
    "    #plt.xlabel(col)\n",
    "    #plt.show()\n",
    "\n"
   ]
  },
  {
   "cell_type": "code",
   "execution_count": null,
   "id": "932a38f0-4f33-4a7e-a0b2-ab945044de4c",
   "metadata": {},
   "outputs": [],
   "source": [
    "list_per_hundred_col = df.columns.intersection(df_per_hundred)\n",
    "\n",
    "nb_cols = int(np.sqrt(len(list_per_hundred_col)))\n",
    "nb_rows = int(np.sqrt(len(list_per_hundred_col))) #+ 1\n",
    "\n",
    "fig, axes = plt.subplots(nrows = nb_rows, \n",
    "                         ncols = nb_cols, \n",
    "                         figsize = (3*nb_cols,3*nb_rows)) \n",
    " \n",
    "\n",
    "x = 0\n",
    "y = 0\n",
    "for i in range(len(list_per_hundred_col)):\n",
    "    values = df[list_per_hundred_col[i]] #df_copy[list_per_hundred_col[i]]\n",
    "    axes[x,y].hist(values)\n",
    "    axes[x,y].set_xlabel(list_per_hundred_col[i], fontsize=7)\n",
    "    \n",
    "    if (y+1)/nb_cols == 1:\n",
    "        y = -1\n",
    "        x = x + 1\n",
    "    y = y + 1\n",
    "    \n",
    "        \n",
    "fig.tight_layout()\n",
    "\n",
    "plt.show()"
   ]
  },
  {
   "cell_type": "markdown",
   "id": "5c139feb-8a4b-4e99-95ee-9193758128b4",
   "metadata": {
    "tags": []
   },
   "source": [
    "Everything isn't perfect but data are more contain, less outlier are visible. vitamin b1 d d2 d3 seems multi-modal. That could be outlier but that could indicate that some kind of product have typical vitamin content. \n",
    "\n",
    "The task C is long to execute: So we save the output and we will redownload it for the next task :"
   ]
  },
  {
   "cell_type": "code",
   "execution_count": null,
   "id": "edb68dbf-5201-4cc3-b67a-aa8811a7113b",
   "metadata": {
    "tags": []
   },
   "outputs": [],
   "source": [
    "f = 'Ressources/df_taskC.csv'\n",
    "df.to_csv(f, index=False) \n",
    "\n",
    "# compression_opts = dict(method='zip', archive_name= f)\n",
    "# df.to_csv('Ressources/df_taskC.zip', index=False, compression=compression_opts) "
   ]
  },
  {
   "cell_type": "markdown",
   "id": "aae7efa5-da71-4196-bf6a-ca4dc783f21f",
   "metadata": {
    "tags": []
   },
   "source": [
    "<a id=\"TaskD\"></a>\n",
    "## OpenFood database : Task D\n",
    "[top](#top)\n",
    "\n",
    "###  EDA : Text data \n",
    "\n",
    "In this task, you will work with the ingredients_en column; your goal is to preprocess the text data in this column and answer the following questions.\n",
    "\n",
    "1. Find the product with the longest ingredients list, i.e. the largest number of ingredients. Print the product name and its ingredient list.\n",
    "2. Find the products with the shortest ingredients list, i.e. the fewest ingredients. Display some examples and comment on your observation.\n",
    "3. Which are the most frequent ingredients in products? You will also choose an appropriate method to visualize your findings.\n",
    "\n",
    "Be careful with text normalization:\n",
    "\n",
    "- punctuation, e.g., “water.” vs. “water”\n",
    "- capitalization, e.g., “water” vs. “Water”\n",
    "- white spaces removal, e.g., “ water” vs. “water”\n",
    "- special characters, e.g. “raw beef [soja sauce (with ble), …]”\n"
   ]
  },
  {
   "cell_type": "markdown",
   "id": "0b2a8808-327f-4af7-9d43-dbee2b3b699c",
   "metadata": {
    "tags": []
   },
   "source": [
    "\n"
   ]
  },
  {
   "cell_type": "code",
   "execution_count": null,
   "id": "0fbb2143-fdd0-4390-961d-12b1211b9113",
   "metadata": {},
   "outputs": [],
   "source": [
    "#Task D library : \n",
    "import matplotlib.pyplot as plt\n",
    "import seaborn as sns\n",
    "#import numpy as np\n",
    "import pandas as pd\n",
    "import re\n",
    "import nltk\n",
    "\n",
    "%matplotlib inline"
   ]
  },
  {
   "cell_type": "code",
   "execution_count": null,
   "id": "4a3f0325-dd9a-454d-bb1d-b4169121e7e2",
   "metadata": {
    "tags": []
   },
   "outputs": [],
   "source": [
    "filename = \"Ressources/df_taskC.csv\"\n",
    "df_C = pd.read_csv(filename,low_memory=False) #to remove it was to check if the import was OK. Even with the error below\n",
    "df=df_C"
   ]
  },
  {
   "cell_type": "markdown",
   "id": "10b1470b-8a1b-4479-a8b2-53c2cbd2bbd2",
   "metadata": {},
   "source": [
    "### Ingredient list format : preproccess  \n",
    "- Firstly we need to see how ingredient is listed :  "
   ]
  },
  {
   "cell_type": "code",
   "execution_count": null,
   "id": "c699c7df-6ff7-4a76-bd82-3f0e3a44e550",
   "metadata": {},
   "outputs": [],
   "source": [
    "print_full(df.loc[0:10,'ingredients_en'])\n",
    "print_full(df['ingredients_en'].sample(10))"
   ]
  },
  {
   "cell_type": "markdown",
   "id": "09cb4755-f83e-449d-af3a-187d145ae394",
   "metadata": {},
   "source": [
    "By choosing random samples, we find that, in most cases, ingredients are separated by a comma."
   ]
  },
  {
   "cell_type": "code",
   "execution_count": null,
   "id": "663740cb-abe8-4e4a-bcfb-3ddab0703780",
   "metadata": {},
   "outputs": [],
   "source": [
    "#25 elements with the shortest list of ingredients\n",
    "list_ingredients = df['ingredients_en']\n",
    "type(list_ingredients)\n",
    "list_ingredients = sorted(list_ingredients, key=len)\n",
    "list_ingredients[0:25]  #what is COD ? a fish "
   ]
  },
  {
   "cell_type": "code",
   "execution_count": null,
   "id": "00600f5f-d6f8-48b8-882a-2131bf607c12",
   "metadata": {},
   "outputs": [],
   "source": [
    "#5 elements with the longest list of ingredients\n",
    "list_ingredients = sorted(list_ingredients, key=len, reverse=True)\n",
    "list_ingredients[0:5] "
   ]
  },
  {
   "cell_type": "markdown",
   "id": "9cb5062b-61a0-4db4-9bdc-b72348785f0f",
   "metadata": {},
   "source": [
    "ingredients are often word composed. we should remove : \n",
    "- \\r \\n\n",
    "- special caracters as : ()*\\%[]\" except : ***,***\n",
    "- numbers\n",
    "- stopword\n",
    "- word \"following\" and others not ingredient related word as contain, contains, preserve, freshness, ingredient, ingredients, traces ...\n",
    "\n",
    "Then we group as token between two comma \",\""
   ]
  },
  {
   "cell_type": "code",
   "execution_count": null,
   "id": "5a4bd663-c6bc-43e3-88fa-85459a627db3",
   "metadata": {},
   "outputs": [],
   "source": [
    "# Load English stopwords from nltk\n",
    "#import nltk\n",
    "\n",
    "nltk.download(\"stopwords\", quiet=True)\n",
    "\n",
    "from nltk.corpus import stopwords\n",
    "\n",
    "stopwords_english = stopwords.words(\"english\")\n",
    "print(stopwords_english)"
   ]
  },
  {
   "cell_type": "code",
   "execution_count": null,
   "id": "78c7f04f-93d0-4ffe-8d12-ae47bf504692",
   "metadata": {},
   "outputs": [],
   "source": [
    "def transform(s): # remove - \\r \\n, - special caracters as : ()*\\%[]\" except : ***,***, - numbers\n",
    "    s = s.str.replace(\"\\n\", \" \", regex=True)\n",
    "    s = s.str.replace(\"\\r\", \" \", regex=True)\n",
    "    s = s.str.replace(\":\", \",\", regex=True) #\":\", \"and\", \".\", \"(\",\")\",\"[\",\"]\" are replace by comma\n",
    "    s = s.str.replace(\"^and\", \",\", regex=True)\n",
    "    s = s.str.replace(\".\", \",\", regex=True)\n",
    "    s = s.str.replace(\"(\", \",\", regex=True)\n",
    "    s = s.str.replace(\")\", \",\", regex=True)\n",
    "    s = s.str.replace(\"[\", \",\", regex=True)\n",
    "    s = s.str.replace(\"]\", \",\", regex=True)\n",
    "    s = s.str.replace(r'[^a-zA-Z, ]', \" \", regex=True)\n",
    "    s = s.str.replace(r'[0-9]', \"\", regex=True)\n",
    "   \n",
    "    return s"
   ]
  },
  {
   "cell_type": "code",
   "execution_count": null,
   "id": "ce0756fe-6bf1-48f8-af0b-df10d0e5271d",
   "metadata": {},
   "outputs": [],
   "source": [
    "from collections import Counter\n",
    "\n",
    "def flatten_extend(matrix): #code source : https://realpython.com/python-flatten-list/\n",
    "    flat_list = []\n",
    "    for row in matrix:\n",
    "        flat_list.extend(row)\n",
    "    return flat_list\n",
    "\n",
    "\n",
    "list_ingredients = df['ingredients_en']\n",
    "list_ingredients3 = transform(list_ingredients.str.lower())\n",
    "list_ingredients3 = list_ingredients3.str.replace(',', ' ', regex=True)\n",
    "list_ingredients3 = list_ingredients3.str.replace(' +', ' ', regex=True)\n",
    "list_ingredients4 = [tok for tok in flatten_extend(list_ingredients3.str.split()) if tok not in stopwords_english]\n",
    "\n",
    "len(list_ingredients4)"
   ]
  },
  {
   "cell_type": "code",
   "execution_count": null,
   "id": "a5f1c61a-f4ba-4ca1-ba7b-7607157650a6",
   "metadata": {},
   "outputs": [],
   "source": [
    "#print_full(list_ingredients3[0:5])\n",
    "Counter(list_ingredients4).most_common(100)#200"
   ]
  },
  {
   "cell_type": "markdown",
   "id": "afcfaf50-e02b-41bf-862e-d665627fb6f4",
   "metadata": {},
   "source": [
    "list of word  to add to the words to remove : 'less','contain', 'contains','ingredient', 'ingredients', 'freshness','following', 'culture', 'cultures', 'cultured','missing', 'preservative'."
   ]
  },
  {
   "cell_type": "code",
   "execution_count": null,
   "id": "80e66f1f-4f7c-49fb-99c2-f78f8aa7b0fd",
   "metadata": {},
   "outputs": [],
   "source": [
    "#List upadated by word seeing\n",
    "stopwords_english.extend(('less','contain', 'contains','ingredient', 'ingredients', 'freshness','following', 'culture', 'cultures', 'cultured','missing', \n",
    "                          'preservative','trace','traces', 'agricultural', 'products','farming', 'minimum','accordance','st', 'ards', 'total', 'weight', 'mass', 'balance',\n",
    "                          'come', 'farms', 'é', 'er', '---', 'content', 'fairtrade', 'standards','converted'))\n",
    "print(stopwords_english)"
   ]
  },
  {
   "cell_type": "markdown",
   "id": "f8382d9e-df61-4a44-840e-c093ec6ac5be",
   "metadata": {},
   "source": [
    "Now we compile our preprcocessing work into one function :"
   ]
  },
  {
   "cell_type": "code",
   "execution_count": null,
   "id": "31f5a71f-c32c-4020-8e7f-608e817deeae",
   "metadata": {},
   "outputs": [],
   "source": [
    "def process_text_to_token(text):\n",
    "    \n",
    "    '''\n",
    "    This function :\n",
    "    - Removes stop words\n",
    "    - Splits text on comma\n",
    "    \n",
    "    INPUT: \n",
    "    - text: \"raw\" text (string)\n",
    "    \n",
    "    OUTPUT:\n",
    "    - processed_sample_tokens: list of tokens (list of strings)\n",
    "    '''\n",
    "    #text = text.replace(\",\", \" ,\")\n",
    "   # text = re.sub(' +', ' ',text)\n",
    "    \n",
    "\n",
    "    #s = re.sub('\\b|^'.join(stopwords_english),'',s) #ne fonctionne pas\n",
    "    wordsToRemove = (r'\\b%s\\b' % r'\\b|\\b'.join(map(re.escape,stopwords_english)))\n",
    "    text =re.sub(wordsToRemove, \"\", str(text))\n",
    "    text = re.sub(' +', ' ',text)\n",
    "   \n",
    "    # Remove stop words and split on whitespace\n",
    "    processed_sample_tokens = [tok.strip() for tok in text.split(',')]# if tok not in stopwords_english]\n",
    "    \n",
    "    #processed_sample_tokens = re.sub(' +', ' ',str(processed_sample_tokens))\n",
    "    \n",
    "    while(\"\" in processed_sample_tokens):\n",
    "        processed_sample_tokens.remove('')\n",
    "    \n",
    "    # remove duplicate ingredients\n",
    "    processed_sample_tokens = list(dict.fromkeys(processed_sample_tokens))\n",
    "    \n",
    "    return processed_sample_tokens"
   ]
  },
  {
   "cell_type": "code",
   "execution_count": null,
   "id": "1e117080-28a7-4a89-af47-8a3805236f8c",
   "metadata": {},
   "outputs": [],
   "source": [
    "list_ingredients = df['ingredients_en']\n",
    "\n",
    "# remove sepcial characters and more\n",
    "list_ingredients = transform(list_ingredients.str.lower())\n",
    "\n",
    "# To identify a list of word used not in relation with ingredient :\n",
    "list_ingredients = [process_text_to_token(ingredients) for ingredients  in  list_ingredients]\n",
    "\n",
    "#Remove duplicate ingredient in lists \n",
    "df['ingredients_en'] = list_ingredients\n",
    "print(df['ingredients_en'][0])\n"
   ]
  },
  {
   "cell_type": "code",
   "execution_count": null,
   "id": "f8e6ba39-a80d-4848-86ee-81d56e0ceccd",
   "metadata": {},
   "outputs": [],
   "source": [
    "print_full(df['ingredients_en'][0:5]) #I'm retaining my self to comment on water organic... Because if your \"Bio spaghetti\" are organic because it has organic water in it, that's debatable."
   ]
  },
  {
   "cell_type": "markdown",
   "id": "599bfdbd-09e1-4406-bda3-60fa3efd495f",
   "metadata": {},
   "source": [
    "### 1. Product with the longest ingredients list : \n",
    "- We can looking for the product with the longest list of ingredients: "
   ]
  },
  {
   "cell_type": "code",
   "execution_count": null,
   "id": "ed2c7077-af78-460b-8508-9efeedf4ef7a",
   "metadata": {},
   "outputs": [],
   "source": [
    "s = df.ingredients_en.str.len().sort_values(ascending=False).index\n",
    "print_full(df.loc[s[0:1],['product_name_en','ingredients_en']].head())\n",
    "print(df.loc[s[0:1],['product_name_en','ingredients_en']].values) #To show the entierety of the ingredients_en cell\n"
   ]
  },
  {
   "cell_type": "markdown",
   "id": "ffcd97a2-8d2a-4102-913f-924c9cc43470",
   "metadata": {},
   "source": [
    "Even after removing duplicate ingredient (token) we saw some repetition in this list as with : \n",
    "- 'cheddar cheese', \n",
    "- 'cheese'\n",
    "- 'cheddar'\n",
    "- 'blue semi soft cheese'\n",
    "- 'cheddar club cheese' <- this one mean nothing\n",
    "\n",
    "- 'buttermilk solids'\n",
    "- 'buttermilk'\n",
    "\n",
    "- 'whey protein concentrate'\n",
    "- 'whey'\n",
    "\n",
    "or : \n",
    "- 'bleached enriched wheat flour'\n",
    "- 'bleached wheat flour'\n",
    "- 'wheat'\n",
    "\n",
    "or:\n",
    "- 'cooked ham', \n",
    "- 'ham'\n",
    "\n",
    "or :\n",
    "- 'bacon bits' \n",
    "- 'bacon'\n",
    "\n",
    "The ingredient is duplicate but the token is not the same. \n",
    "\n",
    "And we have this token: \n",
    "- 'soybean canola oil'\n",
    "which is a bit weird\n",
    "\n",
    "and this one which is not related to an ingredient :\n",
    "- 'may'\n",
    "\n",
    "The transformation introduce some error as : 'di', 'triglycerides' and this could refer to 'di and triglycerides'\n",
    "\n",
    "Somes element refer to nothing understandable as : 'x', 'l'\n",
    "\n",
    "This ingredient list is not perfect.  \n",
    "\n",
    "### 2. Products with the shortest ingredients list : \n",
    "- We can looking for the (20) products with the shortest list of ingredients: "
   ]
  },
  {
   "cell_type": "code",
   "execution_count": null,
   "id": "98cd3c31-8b00-4236-82f8-eed062de24b2",
   "metadata": {},
   "outputs": [],
   "source": [
    "df2 = df[['product_name_en','ingredients_en']].assign(ingredient_length=df['ingredients_en'].str.len()).sort_values('ingredient_length')\n",
    "df2[df2['ingredient_length'] > 0].head(20)"
   ]
  },
  {
   "cell_type": "markdown",
   "id": "21f55f3e-7921-4057-9283-bb16ad831f87",
   "metadata": {},
   "source": [
    "The element with the fewest ingredient have 1 ingredient. \n",
    "I saw one error : 100% PURE PREMIUM ORANGE JUICE FROM CONCENTRATE\t ->[filtered water orange juice concentrate], this element should have two ingredients listed : 'filtered water', 'orange juice concentrate'. In this case it's highly probable that the ingredient have not been separete by a comma or any other separator. But as we can see in this list. There is more entry with one ingredient describe by many word than entry with many ingredient list in one token.\n",
    "\n",
    "### 3. Most frequent ingredients in products :\n",
    "\n",
    "We will display the 50 most frequent ingredients with a bar chart :"
   ]
  },
  {
   "cell_type": "code",
   "execution_count": null,
   "id": "840a1ace-89bc-4cde-a4a4-16b4f52ee2ed",
   "metadata": {},
   "outputs": [],
   "source": [
    "list_ingredients = flatten_extend(df['ingredients_en'])\n",
    "ingredient = Counter(list_ingredients).most_common(50)#200\n",
    "\n",
    "# Barplot and font specifications\n",
    "barplot_specs   = {\"color\": \"mediumpurple\", \"alpha\": 0.7, \"edgecolor\": \"grey\"}\n",
    "title_specs     = {\"fontsize\": 14, \"fontweight\": \"bold\", \"y\": 1.2}\n",
    "label_specs     = {\"fontsize\": 13}\n",
    "\n",
    "plt.figure(figsize=(15,3))\n",
    "plt.bar(*zip(*ingredient), **barplot_specs)\n",
    "plt.title('Most frequent ingredients', **title_specs)\n",
    "plt.ylabel('Word counts', **label_specs)\n",
    "plt.xticks(rotation=90)\n",
    "plt.show()"
   ]
  },
  {
   "cell_type": "markdown",
   "id": "bd643a39-02ca-4788-b768-14971b8fef38",
   "metadata": {},
   "source": [
    "The three most pressent ingredients are : salt, sugar and water. "
   ]
  },
  {
   "cell_type": "markdown",
   "id": "1f26e028-33c8-4922-8297-9b60345c66ba",
   "metadata": {},
   "source": [
    "<a id=\"TaskE\"></a>\n",
    "## OpenFood database : Task E\n",
    "[top](#top)\n",
    "\n",
    "### EDA times-series data\n",
    "\n",
    "In this task, you will work with the created_at column that stores the date and time at which products were added to the Open Food database. You will analyze the total number of products added to the database.\n",
    "- 1. Draw heatmap with the hours on x axis qnd month on y axis the color should show the number of items created at each month_hour pair. \n",
    "- 2. Draw a bar plot  of the total number of items over time. Each bar in the plot should stack the number of items created by each country each month.\n",
    "\n",
    "### 1. Draw heatmap "
   ]
  },
  {
   "cell_type": "markdown",
   "id": "1e49b93c-7dfb-4b9f-8f42-18971994e43e",
   "metadata": {},
   "source": [
    "Firstly we will check in which form information is save into created_at column. we need to check the type and if it'snot the case to attributed the date type to this column"
   ]
  },
  {
   "cell_type": "code",
   "execution_count": null,
   "id": "972f6c66-44cb-4476-ae3e-330006d3cd7f",
   "metadata": {},
   "outputs": [],
   "source": [
    "df[\"created_at\"].head()"
   ]
  },
  {
   "cell_type": "markdown",
   "id": "ae4f8faf-2fba-4e58-a26e-5d69a0d52f2a",
   "metadata": {},
   "source": [
    "We convert the created_at column in a datetime format :"
   ]
  },
  {
   "cell_type": "code",
   "execution_count": null,
   "id": "e3a32b79-4fe5-44a5-901d-d40a4c05fb78",
   "metadata": {},
   "outputs": [],
   "source": [
    "dates = pd.to_datetime(df[\"created_at\"])\n",
    "df[\"created_at\"] = dates\n",
    "df[\"created_at\"].head()"
   ]
  },
  {
   "cell_type": "markdown",
   "id": "33f40cab-46fe-442b-a612-4314f4a8c758",
   "metadata": {},
   "source": [
    "We will create our own dataframe to generate  an heatmap plot :"
   ]
  },
  {
   "cell_type": "code",
   "execution_count": null,
   "id": "21ff824b-e8e9-4284-8e5b-ec430c0d96ac",
   "metadata": {},
   "outputs": [],
   "source": [
    "df_dates = pd.DataFrame(\n",
    "    {\n",
    "        \"dates\": pd.to_datetime(df[\"created_at\"]),\n",
    "        \"year\": pd.DatetimeIndex(pd.to_datetime(df[\"created_at\"])).year,\n",
    "        \"month\": pd.DatetimeIndex(pd.to_datetime(df[\"created_at\"])).month,\n",
    "        \"hour\": pd.DatetimeIndex(pd.to_datetime(df[\"created_at\"])).hour,\n",
    "        \"country\": df[\"country\"] #this column will serve for the second task\n",
    "    }\n",
    ")\n",
    "df_dates.head()"
   ]
  },
  {
   "cell_type": "code",
   "execution_count": null,
   "id": "bb3ca456-0c47-4a90-8b74-162437c0471b",
   "metadata": {},
   "outputs": [],
   "source": [
    "# We create a pivot_table to get the count per month per hour\n",
    "pivot_table = df_dates.pivot_table(index='hour', columns='month', aggfunc='size', fill_value=0)\n",
    "\n",
    "plt.figure(figsize=(10, 6))\n",
    "sns.heatmap(pivot_table, cmap='YlGnBu', annot=True, fmt='d', cbar=True)\n",
    "plt.xlabel('Month')\n",
    "plt.ylabel('Hour')\n",
    "\n",
    "plt.show()"
   ]
  },
  {
   "cell_type": "markdown",
   "id": "37456dfe-e491-4854-8e3c-0ca0d1a73b00",
   "metadata": {},
   "source": [
    "We saw that most of the entry have been made at a specific combinaison of month-hour around 10 AM in April.Except this we saw that in generall the input are done between 7 Am and 8 PM Some have been made later in june and july, until midnight.  It's difficult to detailled more or identify some others information du to big difference of values between the importqnt number of entry done around 10 AM in April in comparaison to the rest.\n",
    "\n",
    "### 2. Draw barplot"
   ]
  },
  {
   "cell_type": "code",
   "execution_count": null,
   "id": "d7f8f25c-f093-4978-8fa2-8c5197dc7e4e",
   "metadata": {},
   "outputs": [],
   "source": [
    "count_per_month = df_dates.groupby(['year','month','country'])['dates'].count().reset_index(name='counts')\n",
    "count_per_month.head()"
   ]
  },
  {
   "cell_type": "markdown",
   "id": "2203af34-be52-4e23-b824-8cee4fbc766a",
   "metadata": {},
   "source": [
    "The countries UK and AT are not plot on the bar plot in the example So we will discard them for the barplot."
   ]
  },
  {
   "cell_type": "code",
   "execution_count": null,
   "id": "53a1bdcd-f452-43cb-ae5e-0e8146003242",
   "metadata": {},
   "outputs": [],
   "source": [
    "count_per_month = count_per_month.loc[~count_per_month['country'].isin(['UK','AT'])]"
   ]
  },
  {
   "cell_type": "code",
   "execution_count": null,
   "id": "ad9988a5-61a5-4fbf-b105-6d36239c5f01",
   "metadata": {},
   "outputs": [],
   "source": [
    "df_count_per_month = pd.pivot_table(count_per_month, values='counts',  index=['year', 'month'], columns=['country'], aggfunc=\"sum\").reset_index()\n",
    "df_count_per_month"
   ]
  },
  {
   "cell_type": "code",
   "execution_count": null,
   "id": "b389cde8-78ed-4966-af72-7a061e8145bb",
   "metadata": {},
   "outputs": [],
   "source": [
    "#df_count_per_month.index = pd.to_datetime(df_count_per_month.month.astype(str) + \"-\" + df_count_per_month.year.astype(str))\n",
    "df_count_per_month.index =df_count_per_month.year.astype(str)+\"-\"+df_count_per_month.month.astype(str).str.zfill(2)\n",
    "df_count_per_month.head()"
   ]
  },
  {
   "cell_type": "code",
   "execution_count": null,
   "id": "cef9d04f-7687-4f63-a75a-ce2b889294e1",
   "metadata": {},
   "outputs": [],
   "source": [
    "# plot data in stack manner of bar type\n",
    "df_count_per_month[count_per_month.country.unique()].plot( kind='bar', stacked=True,figsize=(14, 4))\n",
    "plt.yscale(\"log\")\n",
    "\n",
    "plt.xlabel('Date')\n",
    "plt.ylabel('Number of product created')\n",
    "plt.title('Number of Entries per Month and per Country')\n",
    "\n",
    "plt.show()"
   ]
  },
  {
   "cell_type": "markdown",
   "id": "deb3d8ac-4d04-4d2e-8fb4-48e602352186",
   "metadata": {},
   "source": [
    "We see that they are a high pick of entries in april 2024 from US. We can do an heatmap without the US data to better see how other country entries are accross hour and month."
   ]
  },
  {
   "cell_type": "code",
   "execution_count": null,
   "id": "2924e2e3-e90b-4435-8cee-37483b798dad",
   "metadata": {},
   "outputs": [],
   "source": [
    "df_dates = df_dates[df_dates.country != \"US\"]\n",
    "\n",
    "# We create a pivot_table to get the count per month per hour\n",
    "pivot_table = df_dates.pivot_table(index='hour', columns='month', aggfunc='size', fill_value=0)\n",
    "\n",
    "plt.figure(figsize=(10, 6))\n",
    "sns.heatmap(pivot_table, cmap='YlGnBu', annot=True, fmt='d', cbar=True)\n",
    "plt.xlabel('Month')\n",
    "plt.ylabel('Hour')\n",
    "\n",
    "plt.show()"
   ]
  },
  {
   "cell_type": "markdown",
   "id": "3ade7f16-2106-46ea-840f-af9678cf737f",
   "metadata": {},
   "source": [
    "<a id=\"TaskF\"></a>\n",
    "## OpenFood database : Task F\n",
    "[top](#top)\n",
    "\n",
    "### EDA Correlation analysis\n",
    "\n",
    "In this task, you will do quantitative and qualitative correlation analysis for some of the columns in the data: \n",
    "\n",
    "1. Quantify the **linear** relationships between the energy_per_hundred and the per_hundred columns by analysing their correlation with each other.\n",
    "2. Reveal the true nature of the relationship, **linear or non-linear**, between variables, using visualizations. Based on the correlation coefficients you found in the previous task, pick the three most correlated and the three least correlated nutrients (in absolute terms) with the energy_per_hundred column. Plot them against the energy_per_hundred column, using scatterplots. You should obtain these plots as subplots (with 2 rows and 3 columns) or as seaborn pairplots. Please comment on the visual relationships in a markdown cell. Are they all linear? Are there still extreme values that, once removed, relationships would change?\n",
    "3. Test the independence of two **categorical variables statistically**. Use the energy_per_hundred column to create a new variable that holds equal proportion of values in three categories low energy, medium energy and high energy. Test if the level of energy in the product is associated with the country where the product is produced.\n",
    "\n",
    "### 1. A linear relationship between energy_per_hundred and the others per_hundred columns\n",
    "\n",
    "A linear relationship can be seen with a correlation analysis. \n",
    "Firstly we will quantify the correlation between the per_hundred coluns and verifiyed the ones that interested us, the one between energy_per_hundred and the others :"
   ]
  },
  {
   "cell_type": "code",
   "execution_count": null,
   "id": "aa6557f1-9700-496a-9049-b290559d784a",
   "metadata": {},
   "outputs": [],
   "source": [
    "#Library\n",
    "import numpy as np\n",
    "import pandas as pd\n",
    "import seaborn as sns\n",
    "import scipy.stats as stats\n",
    "from scipy.stats import pearsonr \n",
    "import matplotlib.pyplot as plt\n",
    "%matplotlib inline "
   ]
  },
  {
   "cell_type": "markdown",
   "id": "1f3a507f-639e-4a79-8b76-cc0d87f97362",
   "metadata": {},
   "source": [
    "We have define in **task A** the list of per_hundred columns from thye df dataframe, and in task B reduce the number of columns :"
   ]
  },
  {
   "cell_type": "code",
   "execution_count": null,
   "id": "133cce1a-3fbe-45e1-845b-ea33467e9392",
   "metadata": {},
   "outputs": [],
   "source": [
    "df_per_hundred = df.columns.intersection(df_per_hundred)\n",
    "print(df_per_hundred)"
   ]
  },
  {
   "cell_type": "markdown",
   "id": "5fd4e90b-4755-4250-a540-167c48109d01",
   "metadata": {},
   "source": [
    "Thanks to this list and the pandas function corr() we can generate a correlation matrix between this columns :"
   ]
  },
  {
   "cell_type": "code",
   "execution_count": null,
   "id": "23664c02-52e0-4ddd-be18-0dd319a37f13",
   "metadata": {
    "tags": []
   },
   "outputs": [],
   "source": [
    "corr_matrix = df[df_per_hundred].corr()\n",
    "df_corr_to_energy_per_hundred = pd.DataFrame({\"Corr\": corr_matrix['energy_per_hundred']},\n",
    "                  index=df_per_hundred)\n",
    "#df_corr_to_energy_per_hundred"
   ]
  },
  {
   "cell_type": "markdown",
   "id": "3ddf0ad1-8618-4efa-badc-476c8fb36eb5",
   "metadata": {},
   "source": [
    "By selecting only the column 'energy_per_hundred' we can see the correlation specific to this column : "
   ]
  },
  {
   "cell_type": "code",
   "execution_count": null,
   "id": "cd42f87b-fe95-4412-ae35-c3cb82d07f7b",
   "metadata": {},
   "outputs": [],
   "source": [
    "fig, ax = plt.subplots(figsize=(5,8))         \n",
    "sns.heatmap(df_corr_to_energy_per_hundred, annot=True, fmt=\"g\", cmap='YlGnBu', cbar=True)\n",
    "plt.show()"
   ]
  },
  {
   "cell_type": "markdown",
   "id": "476ce740-7014-49e5-b66c-0dca40085c9d",
   "metadata": {},
   "source": [
    "We can analyze the linear correlation based on this correlation value. Between 2 variables, a correlation is considerate as low between from -0.5 to 0.5 and strong below -0.5 to 1 and above 0.5 to 1. If we look in detail in the result, we don't see strong negative correlation, but we can see some strong positive correlation between 'energy_per_hundred' and :"
   ]
  },
  {
   "cell_type": "code",
   "execution_count": null,
   "id": "697e964f-edb8-49a8-b02c-4659e33f3880",
   "metadata": {},
   "outputs": [],
   "source": [
    "#ls_corr = df_corr_to_energy_per_hundred.loc[(df_corr_to_energy_per_hundred[\"Corr\"]> 0.5)].index\n",
    "df_corr_to_energy_per_hundred.loc[(df_corr_to_energy_per_hundred[\"Corr\"]> 0.5)]\n"
   ]
  },
  {
   "cell_type": "markdown",
   "id": "4f57ab15-52ef-4bd9-85a6-46dc363391a0",
   "metadata": {},
   "source": [
    "### 2. Linear and non-linear relationship: \n",
    "We will select the three most correlated and least correlated in absolute value to the energy_per_hundred column and plot them :\n",
    "I decide to remove the energy_per_hundred and the energy_kcal_per_hundred correlation analyse. The energy_kcal_per_hundred is a linear transformation of the energy_per_hundred. "
   ]
  },
  {
   "cell_type": "code",
   "execution_count": null,
   "id": "e54db5da-48f1-4430-b274-aebd66e6021a",
   "metadata": {},
   "outputs": [],
   "source": [
    "df_corr_to_energy_per_hundred = df_corr_to_energy_per_hundred.loc[~df_corr_to_energy_per_hundred.index.isin(['energy_per_hundred','energy_kcal_per_hundred'])]\n",
    "\n",
    "df_corr_to_energy_per_hundred[\"abs_corr\"] = df_corr_to_energy_per_hundred[\"Corr\"].abs() \n",
    "df_corr_to_energy_per_hundred"
   ]
  },
  {
   "cell_type": "markdown",
   "id": "3a3a3fdc-f8d1-471f-a631-be17ef959d38",
   "metadata": {},
   "source": [
    "We select the 3 most and least correlated:"
   ]
  },
  {
   "cell_type": "code",
   "execution_count": null,
   "id": "fc13faa0-f7e1-4631-a3d7-65db6a24c84d",
   "metadata": {},
   "outputs": [],
   "source": [
    "list_most_corr = df_corr_to_energy_per_hundred.sort_values(by=['abs_corr'], ascending=False)[0:3].index\n",
    "list_least_corr = df_corr_to_energy_per_hundred.sort_values(by=['abs_corr'])[0:3].sort_values(by=['abs_corr'], ascending=False).index # There, I sort a second time to reorder the 3 least correlated from the most to the least.\n",
    "list_most_least_corr = list_most_corr.append(list_least_corr)\n",
    "df_corr_to_energy_per_hundred.loc[list_most_least_corr]"
   ]
  },
  {
   "cell_type": "markdown",
   "id": "57baa74b-eaca-4124-9e18-b00216cd0c2f",
   "metadata": {},
   "source": [
    "With pairplot we plot this six variable against 'energy_per_hundred':"
   ]
  },
  {
   "cell_type": "code",
   "execution_count": null,
   "id": "a0ae3e63-3281-4725-a075-224759bf2062",
   "metadata": {
    "tags": []
   },
   "outputs": [],
   "source": [
    "#https://stackoverflow.com/questions/50832204/show-correlation-values-in-pairplot\n",
    "def corrfunc(x, y, hue=None, ax=None, **kws):\n",
    "    \"\"\"Plot the correlation coefficient in the top left hand corner of a plot.\"\"\"\n",
    "    nas = np.logical_or(x.isna(), y.isna())#To dropna\n",
    "    r, _ = pearsonr(x[~nas], y[~nas])\n",
    "    ax = ax or plt.gca()\n",
    "    ax.annotate(f'r = {r:.2f}', xy=(.1, .9), xycoords=ax.transAxes)"
   ]
  },
  {
   "cell_type": "code",
   "execution_count": null,
   "id": "0c9bf5ee-6c4d-4270-9732-e5cd88335d31",
   "metadata": {},
   "outputs": [],
   "source": [
    "sns.set_palette(palette=\"pastel\")\n",
    "\n",
    "g = sns.pairplot( \n",
    "    df,\n",
    "    y_vars=list_most_least_corr,\n",
    "    x_vars='energy_per_hundred'\n",
    ")\n",
    "\n",
    "g.map_lower(corrfunc) # I don't understand why no correlation is plot on the first plot.\n",
    "g.fig.set_size_inches(4,4*len(list_most_least_corr))\n",
    "\n",
    "plt.show()"
   ]
  },
  {
   "cell_type": "markdown",
   "id": "fd96b9fe-3fa8-429c-b67d-48437a53ef77",
   "metadata": {
    "tags": []
   },
   "source": [
    "- We saw that the first plot seems correlated. It's explained by the fact that we correct 'energy_per_hundred' with fat_per_hundred column and it's the element which could have potentially the most important impact on the 'energy_per_hundred' of each entry.\n",
    "- The 'saturated_fat_per_hundred ' and 'polyunsaturated_fatty_acids_per_hundred' attribute are components of 'fat_per_hundred'. Seeing a correlation between them and energy_per_hundred make sens. \n",
    "- calcium_per_hundred, salt_per_hundred and cholesterol_per_hundred share the same respond shape to 'energy_per_hundred' it's a large cloud of point without any respond pattern visible. \n",
    "\n",
    "The graph give some clue to understand how an element respond to an other.\n",
    "\n",
    "At the question : **Are there still extreme values that, once removed, relationships would change?**\n",
    "\n",
    "For energy_per_hundred at or close to 0, we observed high value point for 'saturated_fat_per_hundred ' and 'polyunsaturated_fatty_acids_per_hundred'. May be the value were missing in the fat_per_hundred column when information was there for this 2 columns and so the energy_per_hundred wasn't well estimated by us earlier. If we discard the point with a really low energy_per_hundred value we should increase correlation between energy_per_hundred and 'saturated_fat_per_hundred ' or 'polyunsaturated_fatty_acids_per_hundred'.\n"
   ]
  },
  {
   "cell_type": "code",
   "execution_count": null,
   "id": "4570fde4-62c8-49d2-878c-2d92be94c0b9",
   "metadata": {},
   "outputs": [],
   "source": [
    "## Should I plot and evaluate the correlation between mn and energy without the last mod of mn ???\n",
    "df_en = df[df['energy_per_hundred'] > 0.5]\n",
    "g = sns.pairplot( \n",
    "    df_en,\n",
    "    y_vars=['fat_per_hundred', 'saturated_fat_per_hundred', 'polyunsaturated_fatty_acids_per_hundred'],\n",
    "    x_vars='energy_per_hundred'\n",
    ")\n",
    "\n",
    "g.map_lower(corrfunc) # I don't understand why no correlation is plot on the first plot.\n",
    "\n",
    "plt.show()"
   ]
  },
  {
   "cell_type": "markdown",
   "id": "848e176c-769a-4f00-9c69-5819ad7696f7",
   "metadata": {},
   "source": [
    "The correlation gain is to 0.02 and 0.01 for 'saturated_fat_per_hundred' and 'polyunsaturated_fatty_acids_per_hundred'. The relationship didn't change"
   ]
  },
  {
   "cell_type": "markdown",
   "id": "26936035-f92e-41a1-bc47-dcaca61c60e3",
   "metadata": {},
   "source": [
    "### 3. Independence of two categorical variables statistically : energy_per_hundred vs country\n",
    "\n",
    "1. We have to transform the quantitative variable energy_per_hundred into a qualitative variable :\n",
    "\n",
    "To do that we will attribute the catagory based on the quantile : \n",
    "- \"low energy\" for entry with  energy_per_hundred <  quantile(energy_per_hundred)1/3\n",
    "- \"medium energy\" for entry with  energy_per_hundred <   quantile(energy_per_hundred)2/3\n",
    "- \"high energy\" for entry with  energy_per_hundred >   quantile(energy_per_hundred)2/3\n",
    "\n",
    "Like this we should have 1/3 of each entry into one of this three category"
   ]
  },
  {
   "cell_type": "code",
   "execution_count": null,
   "id": "dd701a93-896d-4635-8e56-ef02534ec051",
   "metadata": {},
   "outputs": [],
   "source": [
    "sns.displot(df, x='energy_per_hundred')\n",
    "plt.show()"
   ]
  },
  {
   "cell_type": "markdown",
   "id": "02913828-24f4-4576-a736-ffbb6efc1f8b",
   "metadata": {},
   "source": [
    "As we can see a large part of the data have a energy_per_hundred at 0. We will discard this entry for this analysis. "
   ]
  },
  {
   "cell_type": "code",
   "execution_count": null,
   "id": "daf5a792-9151-4cb4-87e4-c29924ad63b7",
   "metadata": {},
   "outputs": [],
   "source": [
    "df_country_energy = df.loc[df['energy_per_hundred'] >0][['country','energy_per_hundred']]\n",
    "\n",
    "sns.displot(df_country_energy, x='energy_per_hundred')\n",
    "plt.show()"
   ]
  },
  {
   "cell_type": "code",
   "execution_count": null,
   "id": "a2687a3d-512d-44f7-94c5-7236763ad7f2",
   "metadata": {},
   "outputs": [],
   "source": [
    "onethird_energy_per_hundred = np.quantile(a=df_country_energy['energy_per_hundred'].dropna(), q=0.33)\n",
    "twothird_energy_per_hundred = np.quantile(a=df_country_energy['energy_per_hundred'].dropna(), q=0.66)\n",
    "median_energy_per_hundred = np.quantile(a=df_country_energy['energy_per_hundred'].dropna(), q=0.5)\n",
    "print(onethird_energy_per_hundred, median_energy_per_hundred, twothird_energy_per_hundred) "
   ]
  },
  {
   "cell_type": "code",
   "execution_count": null,
   "id": "31159191-3e64-470a-b8ab-4e2c8233ee93",
   "metadata": {},
   "outputs": [],
   "source": [
    "df_country_energy['energy_level'] = df_country_energy['energy_per_hundred'].apply(lambda x: \"low energy\" if x < onethird_energy_per_hundred else (\"medium energy\" if  x < twothird_energy_per_hundred else \"high energy\") )\n",
    "df_country_energy['energy_level']"
   ]
  },
  {
   "cell_type": "code",
   "execution_count": null,
   "id": "f6a9b510-911a-41b6-81e0-a359fd4641b4",
   "metadata": {},
   "outputs": [],
   "source": [
    "pd.crosstab(df_country_energy.energy_level, df_country_energy.country, margins=True)"
   ]
  },
  {
   "cell_type": "markdown",
   "id": "b2fc8874-5448-43d9-b420-f22c17e76bb0",
   "metadata": {},
   "source": [
    "Now we can test the hypothesis null which is : there is no difference in the energy level between product from different country:\n",
    "But before that we have to remove category with less than 5 entry (country : \"AT\",\"UK\")."
   ]
  },
  {
   "cell_type": "code",
   "execution_count": null,
   "id": "1a5e019d-6f79-4942-8ad9-1dc6718393cc",
   "metadata": {},
   "outputs": [],
   "source": [
    "df_country_energy = df_country_energy.loc[~df_country_energy[\"country\"].isin([\"AT\",\"UK\"])]\n",
    "\n",
    "df_count=pd.crosstab(df_country_energy.energy_level, df_country_energy.country, margins=True)\n",
    "df_count"
   ]
  },
  {
   "cell_type": "code",
   "execution_count": null,
   "id": "b3f452de-3a43-4aab-8d16-c6d7c751764e",
   "metadata": {},
   "outputs": [],
   "source": [
    "chi_square, p_value, dof, matrix = stats.chi2_contingency(df_count)\n",
    "\n",
    "print(chi_square,p_value)"
   ]
  },
  {
   "cell_type": "markdown",
   "id": "65767731-f5c1-48b5-9ddb-05dd33a4b732",
   "metadata": {},
   "source": [
    "The p_value is <0.05 so we reject the null hypothesis. There is a correlation between the level of energy and the country from where the product come from.\n",
    "We have to test each country independently to understand the link between country and level of energy. But just based on the count table the proportion of product per pays differ in Italy and France in comparison to the three others country. We can see this better with a crosstable of the percentage of type of product into each country : \n"
   ]
  },
  {
   "cell_type": "code",
   "execution_count": null,
   "id": "77b4579f-2ccb-4a12-be0b-823243ee387e",
   "metadata": {},
   "outputs": [],
   "source": [
    "pd.crosstab(df_country_energy.energy_level, df_country_energy.country, normalize='columns')"
   ]
  },
  {
   "cell_type": "markdown",
   "id": "d8531439-df30-40ab-a780-0a84c94f0eba",
   "metadata": {},
   "source": [
    "<a id=\"TaskG\"></a>\n",
    "## OpenFood : Task G\n",
    "[top](#top)\n",
    "\n",
    "### Advanced EDA\n",
    "Your task is to do an in-depth analysis of the organic vs. non-organic products distribution in the Open Food database. Look for terms such as “bio” and “organic” in the product names. Your analysis should address the following tasks:\n",
    "- a) What is the total number of samples by country? Countries with very small sample size should be dropped from this analysis as their results may not be statistically significant.\n",
    "- b) Count the number of organic and non-organic products in each country. Is there a country with a higher percentage of organic products?\n",
    "- c) Totals or portions don’t give a very detailed picture. Compare the distributions of the macronutrients between organic and non-organic products in each country. Your solution method should include appropriate visualisations in the subplots format. Note that bar charts aren’t not the best way to communicate distributions.\n",
    "\n",
    "#### Number of bio/organic sample per country \n",
    "\n",
    "Firstly we will add an organic : True/False column. If the term \"bio\", or \"organic\" appear in the product_name column, we suppose that the product is organic :"
   ]
  },
  {
   "cell_type": "code",
   "execution_count": null,
   "id": "1254f10f-9f10-449e-9eaf-25687a90dcb6",
   "metadata": {},
   "outputs": [],
   "source": [
    "import re"
   ]
  },
  {
   "cell_type": "code",
   "execution_count": null,
   "id": "84dc0b27-3f23-4a73-a361-20061f6b6094",
   "metadata": {},
   "outputs": [],
   "source": [
    "print_full(df.loc[0:21,'product_name_en'])"
   ]
  },
  {
   "cell_type": "code",
   "execution_count": null,
   "id": "3a2cfd66-d201-4f82-ae9b-34546d547e56",
   "metadata": {},
   "outputs": [],
   "source": [
    "df['organic'] = df['product_name_en'].apply(lambda X : bool(re.search(r\"bio[\\s|-]\", str(X).lower())) or ('organic' in str(X).lower())) #For bio I do an regular expression because this term could be found into other words as \"probiotic\" \n",
    "\n",
    "print_full(df.loc[0:10,['product_name_en','organic']])"
   ]
  },
  {
   "cell_type": "code",
   "execution_count": null,
   "id": "4ca52ce2-49a3-48a8-a6dc-6053bf2724ae",
   "metadata": {},
   "outputs": [],
   "source": [
    "print_full(df.loc[df['organic']][['product_name_en','organic']].sample(25))"
   ]
  },
  {
   "cell_type": "code",
   "execution_count": null,
   "id": "c832131e-0c81-4003-84df-dc93aab372ff",
   "metadata": {},
   "outputs": [],
   "source": [
    "pd.crosstab(df.organic, df.country, margins=True)"
   ]
  },
  {
   "cell_type": "markdown",
   "id": "2247f41c-72c7-4f80-b9c7-d72d46d708ed",
   "metadata": {},
   "source": [
    "The total count of organic product per countries is of 1426 for Switzerland, 83 for Germany,6 for Italy, 1 for France, 16427 for US and null for Austria and UK. Based on this we should drop Austria AT, United-Kimgdom UK, and France FR. We keep Italy 6 > 5 which is the threshold of Chi-test, for example, to assure significance of the test. "
   ]
  },
  {
   "cell_type": "code",
   "execution_count": null,
   "id": "be91db23-9960-4a15-9b7f-d091e586d1a4",
   "metadata": {},
   "outputs": [],
   "source": [
    "df_organic = df.loc[~df[\"country\"].isin([\"AT\",\"UK\",\"FR\"])]"
   ]
  },
  {
   "cell_type": "markdown",
   "id": "7a647b01-2b0e-4eff-a0a8-42cf8fb44210",
   "metadata": {},
   "source": [
    "#### Percentage of organic products\n",
    "There the percentage of organic product per country:"
   ]
  },
  {
   "cell_type": "code",
   "execution_count": null,
   "id": "1def434d-f73a-4afc-9bf8-c9c4b6f785ab",
   "metadata": {},
   "outputs": [],
   "source": [
    "pd.crosstab(df_organic.organic, df_organic.country, normalize='columns', margins=True)"
   ]
  },
  {
   "cell_type": "markdown",
   "id": "ff9d400e-84f9-437f-919d-f9c086b214c4",
   "metadata": {},
   "source": [
    "We saw that for each country we have a percent of organic product lower than 1 percent.\n",
    "\n",
    "And there the organic/true row give for organic entry the percentage for each country : "
   ]
  },
  {
   "cell_type": "code",
   "execution_count": null,
   "id": "abd04b58-fa7d-425b-bedc-5cdaf2200679",
   "metadata": {},
   "outputs": [],
   "source": [
    "pd.crosstab(df_organic.organic, df_organic.country, normalize='index', margins=True)"
   ]
  },
  {
   "cell_type": "markdown",
   "id": "898668d7-294f-4128-9e46-dc5d8224170a",
   "metadata": {},
   "source": [
    "Most of the organic entry are US entry.\n",
    "#### Distributions of the macronutrients between organic and non-organic products\n",
    "Macronutrient are Carbohydrates, fat and protein. We create a list for macronutrients : "
   ]
  },
  {
   "cell_type": "code",
   "execution_count": null,
   "id": "15e290d2-d608-4b31-be74-4f8a118b9c30",
   "metadata": {},
   "outputs": [],
   "source": [
    "list_macro = ['fat_per_hundred','protein_per_hundred','carbohydrates_per_hundred']"
   ]
  },
  {
   "cell_type": "markdown",
   "id": "f21dc9ef-7764-430d-aac9-0a2053189f44",
   "metadata": {},
   "source": [
    "With violin plot we can compare per macronutriment and country the distribution shape of values between organic and no-organic entries : "
   ]
  },
  {
   "cell_type": "code",
   "execution_count": null,
   "id": "adb11132-3fd2-4bbc-822b-4d68e7515a7b",
   "metadata": {},
   "outputs": [],
   "source": [
    "# Create a figure with 3 x 2 subplots\n",
    "fig, axes = plt.subplots(ncols=3, nrows=1, figsize=(16, 4))\n",
    "\n",
    "# Loop through these features and plot entries from each feature against `Latitude`\n",
    "for col, ax in zip(list_macro, axes.ravel()):\n",
    "    sns.violinplot(\n",
    "        data=df_organic,\n",
    "        y=col,\n",
    "        x=df_organic[\"country\"],\n",
    "        ax=ax,\n",
    "        palette=\"Set2\",\n",
    "        split=True,\n",
    "        hue=\"organic\",\n",
    "    )\n",
    "plt.tight_layout()"
   ]
  },
  {
   "cell_type": "markdown",
   "id": "9f9e1465-3cf8-4be5-8515-53d1a22e74c9",
   "metadata": {},
   "source": [
    "The distributions we observe on these violin plots show slight differences by country and by product type. The most pronounced difference is primarily between the distribution of the macronutrient carbohydrate compared to the macronutrients fat and protein. In the case of the carbohydrate macronutrient, we observe a bimodal distribution, likely associated to sweet and salty products (it's only an assumptions). This distribution observed is the same regardless of the country, but is less pronounced for organic products from Italy."
   ]
  },
  {
   "cell_type": "code",
   "execution_count": null,
   "id": "688b0e45-4c70-463d-8aec-5f8e95a855b5",
   "metadata": {},
   "outputs": [],
   "source": []
  }
 ],
 "metadata": {
  "kernelspec": {
   "display_name": "Python 3 (ipykernel)",
   "language": "python",
   "name": "python3"
  },
  "language_info": {
   "codemirror_mode": {
    "name": "ipython",
    "version": 3
   },
   "file_extension": ".py",
   "mimetype": "text/x-python",
   "name": "python",
   "nbconvert_exporter": "python",
   "pygments_lexer": "ipython3",
   "version": "3.10.4"
  },
  "toc-autonumbering": false,
  "toc-showcode": false,
  "toc-showmarkdowntxt": true
 },
 "nbformat": 4,
 "nbformat_minor": 5
}
