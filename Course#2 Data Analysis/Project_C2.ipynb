{
 "cells": [
  {
   "cell_type": "code",
   "execution_count": 1,
   "id": "170bb123-b191-43b5-a212-bcf4c1c468dc",
   "metadata": {},
   "outputs": [
    {
     "name": "stdout",
     "output_type": "stream",
     "text": [
      "C:\\Users\\s1114237\\OneDrive - Syngenta\\Formations\\Training\\EPFL extension school\\Machine_Learning_EPFL-extension-school\\Course#2 Data Analysis\n"
     ]
    }
   ],
   "source": [
    "#TO remove :\n",
    "import os\n",
    "directory = os.getcwd()\n",
    "print(directory)"
   ]
  },
  {
   "cell_type": "code",
   "execution_count": null,
   "id": "f89957fa-306d-471f-ab64-652d1e481f84",
   "metadata": {},
   "outputs": [],
   "source": [
    "os.chdir(\"Machine_Learning_EPFL-extension-school\\Course#2 Data Analysis\")\n",
    "directory = os.getcwd()\n",
    "print(directory)"
   ]
  },
  {
   "cell_type": "markdown",
   "id": "e464f148-4671-4ea6-b5b0-7d65ed6404ce",
   "metadata": {
    "tags": []
   },
   "source": [
    "<a id=\"top\"></a>\n",
    "# Project Course 2 \n",
    "\n",
    "### Task : \n",
    "\n",
    "- A) [An overview of the dataset](#TaskA)\n",
    "- B) [Data Cleaning](#TaskB)\n",
    "- C) [Preliminary Exploratory Data Analysis (EDA)](#TaskC)\n",
    "- D) [EDA: Text data](#TaskD)\n",
    "- E) [EDA: Time-series data](#TaskE)\n",
    "- F) [EDA: Correlation analysis](#TaskF)\n",
    "- G) [Advanced EDA](#TaskG)\n"
   ]
  },
  {
   "cell_type": "markdown",
   "id": "b96d2fe5-b6b4-4063-a54f-21c095b956ee",
   "metadata": {},
   "source": [
    "<a id=\"TaskA\"></a>\n",
    "## OpenFood database : Task A\n",
    "[top](#top)\n",
    "\n",
    "The dataset was collected from the Open Food repo, a community-driven open database for barcoded food products. This dataset contains the ingredients and nutritional facts of approximately 385k food products, from several countries worldwide.\n",
    "\n",
    "- **id:** The ID used by the OpenFood database for this Product.\n",
    "- **barcode:** Product barcode.\n",
    "- **ingredients_en:** The ingredients of the Product in English as provided by the manufacturer.\n",
    "- **quantity:** The dry net weight or volume of the Product. To be used in conjunction with the unit.\n",
    "- **unit**: The unit used by quantity to measure the weight or volume of the Product (usually g or ml).\n",
    "- **portion_quantity:** The dry net weight or volume of a serving size of the Product. To be used in conjunction with portion_unit.\n",
    "- **portion_unit:** The unit used by portion_quantity to measure the weight or volume of a serving size of the Product (usually g or ml).\n",
    "- **hundred_unit:** The unit used for the “per hundred” product nutrients (usually g or ml).\n",
    "- **alcohol_by_volume:** The percentage of alcohol in the Product.\n",
    "- **nutrients:** The Product’s nutrients as described by the manufacturer.\n",
    "- **created_at:** UTC DateTime at which this Product was added to the OpenFood database.\n",
    "- **updated_at:** UTC DateTime at which this Product (or one of its subordinate objects, including images nutrients) was last modified.\n"
   ]
  },
  {
   "cell_type": "code",
   "execution_count": 6,
   "id": "ee2ab943-517f-4aed-9e00-ed584e20ce27",
   "metadata": {},
   "outputs": [],
   "source": [
    "#Task A library : \n",
    "import pandas as pd"
   ]
  },
  {
   "cell_type": "markdown",
   "id": "20b5ac64-2959-4e9e-89ca-257237729423",
   "metadata": {},
   "source": [
    "### Tasks : \n",
    "\n",
    "- 1.Import the data as a pandas DataFrame into your notebook.\n",
    "- 2.Check the number of rows and columns. You should have 385’384 samples and 99 columns.\n",
    "- 3.Display a few entries from the DataFrame.\n",
    "- 4.Check the data type for each column. Create separate lists to hold the names of columns of the same data type.\n",
    "- 5.Check the data by the type of information they hold. Create 3 lists that hold _per_hundred, _per_portion and _unit columns. Put the remaining column names in a 4th list named other_cols. Note that you should create these 4 lists without manually selecting the column names.\n",
    "\n",
    "### 1. Import the data as a pandas DataFrame\n",
    "We recommend loading it using the pandas read_pickle function and setting the compression parameter to ‘zip’:"
   ]
  },
  {
   "cell_type": "code",
   "execution_count": 11,
   "id": "c56c9aab-d499-44e7-8c84-83a2e9e7d280",
   "metadata": {},
   "outputs": [
    {
     "data": {
      "text/plain": [
       "(385384, 99)"
      ]
     },
     "execution_count": 11,
     "metadata": {},
     "output_type": "execute_result"
    }
   ],
   "source": [
    "filename = \"Ressources/data_385k.pkl\"\n",
    "df = pd.read_pickle(filename, compression='zip') #Un peu long"
   ]
  },
  {
   "cell_type": "markdown",
   "id": "de01f7e6-1a8e-44c2-b6c0-356b7f07ec6d",
   "metadata": {},
   "source": [
    "### 2. Check the number of rows and columns\n",
    "We recommend loading it using the pandas read_pickle function and setting the compression parameter to ‘zip’:"
   ]
  },
  {
   "cell_type": "code",
   "execution_count": 12,
   "id": "33c862d7-42b1-4e5e-91c7-86456b5a29b7",
   "metadata": {},
   "outputs": [
    {
     "data": {
      "text/plain": [
       "(385384, 99)"
      ]
     },
     "execution_count": 12,
     "metadata": {},
     "output_type": "execute_result"
    }
   ],
   "source": [
    "df.shape"
   ]
  },
  {
   "cell_type": "markdown",
   "id": "2aec7d54-8362-47ba-8bec-2e27a29dbc29",
   "metadata": {},
   "source": [
    "### 3. Display a few entries from the DataFrame"
   ]
  },
  {
   "cell_type": "code",
   "execution_count": 13,
   "id": "743fdab4-e447-4248-9af2-3b61b230f934",
   "metadata": {
    "collapsed": true,
    "jupyter": {
     "outputs_hidden": true
    },
    "tags": []
   },
   "outputs": [
    {
     "data": {
      "text/html": [
       "<div>\n",
       "<style scoped>\n",
       "    .dataframe tbody tr th:only-of-type {\n",
       "        vertical-align: middle;\n",
       "    }\n",
       "\n",
       "    .dataframe tbody tr th {\n",
       "        vertical-align: top;\n",
       "    }\n",
       "\n",
       "    .dataframe thead th {\n",
       "        text-align: right;\n",
       "    }\n",
       "</style>\n",
       "<table border=\"1\" class=\"dataframe\">\n",
       "  <thead>\n",
       "    <tr style=\"text-align: right;\">\n",
       "      <th></th>\n",
       "      <th>alcohol_by_volume</th>\n",
       "      <th>barcode</th>\n",
       "      <th>calcium_per_hundred</th>\n",
       "      <th>calcium_unit</th>\n",
       "      <th>carbohydrates_per_hundred</th>\n",
       "      <th>carbohydrates_per_portion</th>\n",
       "      <th>carbohydrates_unit</th>\n",
       "      <th>cholesterol_per_hundred</th>\n",
       "      <th>cholesterol_unit</th>\n",
       "      <th>copper_cu_per_hundred</th>\n",
       "      <th>...</th>\n",
       "      <th>vitamin_b5_panthothenic_acid_per_hundred</th>\n",
       "      <th>vitamin_b5_panthothenic_acid_unit</th>\n",
       "      <th>vitamin_b6_pyridoxin_per_hundred</th>\n",
       "      <th>vitamin_b6_pyridoxin_unit</th>\n",
       "      <th>vitamin_c_ascorbic_acid_per_hundred</th>\n",
       "      <th>vitamin_c_ascorbic_acid_unit</th>\n",
       "      <th>vitamin_d_d2_d3_international_units_per_hundred</th>\n",
       "      <th>vitamin_d_d2_d3_international_units_unit</th>\n",
       "      <th>zinc_per_hundred</th>\n",
       "      <th>zinc_unit</th>\n",
       "    </tr>\n",
       "  </thead>\n",
       "  <tbody>\n",
       "    <tr>\n",
       "      <th>0</th>\n",
       "      <td>0.0</td>\n",
       "      <td>8001772000030</td>\n",
       "      <td>NaN</td>\n",
       "      <td>NaN</td>\n",
       "      <td>75.00</td>\n",
       "      <td>37.50</td>\n",
       "      <td>g</td>\n",
       "      <td>NaN</td>\n",
       "      <td>NaN</td>\n",
       "      <td>NaN</td>\n",
       "      <td>...</td>\n",
       "      <td>NaN</td>\n",
       "      <td>NaN</td>\n",
       "      <td>NaN</td>\n",
       "      <td>NaN</td>\n",
       "      <td>NaN</td>\n",
       "      <td>NaN</td>\n",
       "      <td>NaN</td>\n",
       "      <td>NaN</td>\n",
       "      <td>NaN</td>\n",
       "      <td>NaN</td>\n",
       "    </tr>\n",
       "    <tr>\n",
       "      <th>1</th>\n",
       "      <td>0.0</td>\n",
       "      <td>7610809001066</td>\n",
       "      <td>NaN</td>\n",
       "      <td>NaN</td>\n",
       "      <td>1.50</td>\n",
       "      <td>1.13</td>\n",
       "      <td>g</td>\n",
       "      <td>NaN</td>\n",
       "      <td>NaN</td>\n",
       "      <td>NaN</td>\n",
       "      <td>...</td>\n",
       "      <td>NaN</td>\n",
       "      <td>NaN</td>\n",
       "      <td>NaN</td>\n",
       "      <td>NaN</td>\n",
       "      <td>NaN</td>\n",
       "      <td>NaN</td>\n",
       "      <td>NaN</td>\n",
       "      <td>NaN</td>\n",
       "      <td>NaN</td>\n",
       "      <td>NaN</td>\n",
       "    </tr>\n",
       "    <tr>\n",
       "      <th>2</th>\n",
       "      <td>0.0</td>\n",
       "      <td>8002530159021</td>\n",
       "      <td>NaN</td>\n",
       "      <td>NaN</td>\n",
       "      <td>52.68</td>\n",
       "      <td>NaN</td>\n",
       "      <td>g</td>\n",
       "      <td>NaN</td>\n",
       "      <td>NaN</td>\n",
       "      <td>NaN</td>\n",
       "      <td>...</td>\n",
       "      <td>NaN</td>\n",
       "      <td>NaN</td>\n",
       "      <td>NaN</td>\n",
       "      <td>NaN</td>\n",
       "      <td>NaN</td>\n",
       "      <td>NaN</td>\n",
       "      <td>NaN</td>\n",
       "      <td>NaN</td>\n",
       "      <td>NaN</td>\n",
       "      <td>NaN</td>\n",
       "    </tr>\n",
       "    <tr>\n",
       "      <th>3</th>\n",
       "      <td>0.0</td>\n",
       "      <td>3033715065788</td>\n",
       "      <td>NaN</td>\n",
       "      <td>NaN</td>\n",
       "      <td>70.40</td>\n",
       "      <td>11.97</td>\n",
       "      <td>g</td>\n",
       "      <td>NaN</td>\n",
       "      <td>NaN</td>\n",
       "      <td>NaN</td>\n",
       "      <td>...</td>\n",
       "      <td>NaN</td>\n",
       "      <td>NaN</td>\n",
       "      <td>NaN</td>\n",
       "      <td>NaN</td>\n",
       "      <td>NaN</td>\n",
       "      <td>NaN</td>\n",
       "      <td>NaN</td>\n",
       "      <td>NaN</td>\n",
       "      <td>NaN</td>\n",
       "      <td>NaN</td>\n",
       "    </tr>\n",
       "    <tr>\n",
       "      <th>4</th>\n",
       "      <td>0.0</td>\n",
       "      <td>7610848492740</td>\n",
       "      <td>NaN</td>\n",
       "      <td>NaN</td>\n",
       "      <td>37.00</td>\n",
       "      <td>7.40</td>\n",
       "      <td>g</td>\n",
       "      <td>NaN</td>\n",
       "      <td>NaN</td>\n",
       "      <td>NaN</td>\n",
       "      <td>...</td>\n",
       "      <td>NaN</td>\n",
       "      <td>NaN</td>\n",
       "      <td>NaN</td>\n",
       "      <td>NaN</td>\n",
       "      <td>NaN</td>\n",
       "      <td>NaN</td>\n",
       "      <td>NaN</td>\n",
       "      <td>NaN</td>\n",
       "      <td>NaN</td>\n",
       "      <td>NaN</td>\n",
       "    </tr>\n",
       "  </tbody>\n",
       "</table>\n",
       "<p>5 rows × 99 columns</p>\n",
       "</div>"
      ],
      "text/plain": [
       "   alcohol_by_volume        barcode  calcium_per_hundred calcium_unit  \\\n",
       "0                0.0  8001772000030                  NaN          NaN   \n",
       "1                0.0  7610809001066                  NaN          NaN   \n",
       "2                0.0  8002530159021                  NaN          NaN   \n",
       "3                0.0  3033715065788                  NaN          NaN   \n",
       "4                0.0  7610848492740                  NaN          NaN   \n",
       "\n",
       "   carbohydrates_per_hundred  carbohydrates_per_portion carbohydrates_unit  \\\n",
       "0                      75.00                      37.50                  g   \n",
       "1                       1.50                       1.13                  g   \n",
       "2                      52.68                        NaN                  g   \n",
       "3                      70.40                      11.97                  g   \n",
       "4                      37.00                       7.40                  g   \n",
       "\n",
       "   cholesterol_per_hundred cholesterol_unit  copper_cu_per_hundred  ...  \\\n",
       "0                      NaN              NaN                    NaN  ...   \n",
       "1                      NaN              NaN                    NaN  ...   \n",
       "2                      NaN              NaN                    NaN  ...   \n",
       "3                      NaN              NaN                    NaN  ...   \n",
       "4                      NaN              NaN                    NaN  ...   \n",
       "\n",
       "  vitamin_b5_panthothenic_acid_per_hundred vitamin_b5_panthothenic_acid_unit  \\\n",
       "0                                      NaN                               NaN   \n",
       "1                                      NaN                               NaN   \n",
       "2                                      NaN                               NaN   \n",
       "3                                      NaN                               NaN   \n",
       "4                                      NaN                               NaN   \n",
       "\n",
       "  vitamin_b6_pyridoxin_per_hundred  vitamin_b6_pyridoxin_unit  \\\n",
       "0                              NaN                        NaN   \n",
       "1                              NaN                        NaN   \n",
       "2                              NaN                        NaN   \n",
       "3                              NaN                        NaN   \n",
       "4                              NaN                        NaN   \n",
       "\n",
       "   vitamin_c_ascorbic_acid_per_hundred vitamin_c_ascorbic_acid_unit  \\\n",
       "0                                  NaN                          NaN   \n",
       "1                                  NaN                          NaN   \n",
       "2                                  NaN                          NaN   \n",
       "3                                  NaN                          NaN   \n",
       "4                                  NaN                          NaN   \n",
       "\n",
       "   vitamin_d_d2_d3_international_units_per_hundred  \\\n",
       "0                                              NaN   \n",
       "1                                              NaN   \n",
       "2                                              NaN   \n",
       "3                                              NaN   \n",
       "4                                              NaN   \n",
       "\n",
       "   vitamin_d_d2_d3_international_units_unit zinc_per_hundred  zinc_unit  \n",
       "0                                       NaN              NaN        NaN  \n",
       "1                                       NaN              NaN        NaN  \n",
       "2                                       NaN              NaN        NaN  \n",
       "3                                       NaN              NaN        NaN  \n",
       "4                                       NaN              NaN        NaN  \n",
       "\n",
       "[5 rows x 99 columns]"
      ]
     },
     "execution_count": 13,
     "metadata": {},
     "output_type": "execute_result"
    }
   ],
   "source": [
    "df.head()"
   ]
  },
  {
   "cell_type": "markdown",
   "id": "fdd830d5-5148-4bf6-9519-cb29cb0157fa",
   "metadata": {},
   "source": [
    "### 4. Check the data type for each column\n",
    "``` df.dtypes``` didn't display the type of each column but with this function we will get the type and create lists of columns  per type :"
   ]
  },
  {
   "cell_type": "code",
   "execution_count": 23,
   "id": "860a8f04-d017-4107-8a49-969ba2f0af6d",
   "metadata": {
    "collapsed": true,
    "jupyter": {
     "outputs_hidden": true
    },
    "tags": []
   },
   "outputs": [
    {
     "name": "stdout",
     "output_type": "stream",
     "text": [
      "<class 'pandas.core.frame.DataFrame'>\n",
      "RangeIndex: 385384 entries, 0 to 385383\n",
      "Data columns (total 99 columns):\n",
      " #   Column                                           Non-Null Count   Dtype  \n",
      "---  ------                                           --------------   -----  \n",
      " 0   alcohol_by_volume                                385384 non-null  float64\n",
      " 1   barcode                                          385384 non-null  object \n",
      " 2   calcium_per_hundred                              264979 non-null  float64\n",
      " 3   calcium_unit                                     265086 non-null  object \n",
      " 4   carbohydrates_per_hundred                        351551 non-null  float64\n",
      " 5   carbohydrates_per_portion                        11480 non-null   float64\n",
      " 6   carbohydrates_unit                               351828 non-null  object \n",
      " 7   cholesterol_per_hundred                          270282 non-null  float64\n",
      " 8   cholesterol_unit                                 270329 non-null  object \n",
      " 9   copper_cu_per_hundred                            3611 non-null    float64\n",
      " 10  copper_cu_unit                                   3611 non-null    object \n",
      " 11  country                                          385384 non-null  object \n",
      " 12  created_at                                       385384 non-null  object \n",
      " 13  energy_kcal_per_hundred                          341824 non-null  float64\n",
      " 14  energy_kcal_per_portion                          9967 non-null    float64\n",
      " 15  energy_kcal_unit                                 337540 non-null  object \n",
      " 16  energy_per_hundred                               341821 non-null  float64\n",
      " 17  energy_per_portion                               10920 non-null   float64\n",
      " 18  energy_unit                                      342009 non-null  object \n",
      " 19  fat_per_hundred                                  348635 non-null  float64\n",
      " 20  fat_per_portion                                  11531 non-null   float64\n",
      " 21  fat_unit                                         348967 non-null  object \n",
      " 22  fatty_acids_total_saturated_per_hundred          279151 non-null  float64\n",
      " 23  fatty_acids_total_saturated_unit                 279151 non-null  object \n",
      " 24  fatty_acids_total_trans_per_hundred              269607 non-null  float64\n",
      " 25  fatty_acids_total_trans_unit                     269607 non-null  object \n",
      " 26  fiber_insoluble_per_hundred                      3509 non-null    float64\n",
      " 27  fiber_insoluble_unit                             3510 non-null    object \n",
      " 28  fiber_per_hundred                                286729 non-null  float64\n",
      " 29  fiber_per_portion                                8927 non-null    float64\n",
      " 30  fiber_soluble_per_hundred                        3827 non-null    float64\n",
      " 31  fiber_soluble_unit                               3829 non-null    object \n",
      " 32  fiber_unit                                       286927 non-null  object \n",
      " 33  folate_total_per_hundred                         7696 non-null    float64\n",
      " 34  folate_total_unit                                7696 non-null    object \n",
      " 35  folic_acid_per_hundred                           4581 non-null    float64\n",
      " 36  folic_acid_unit                                  4600 non-null    object \n",
      " 37  hundred_unit                                     385384 non-null  object \n",
      " 38  id                                               385384 non-null  int64  \n",
      " 39  ingredients_en                                   336301 non-null  object \n",
      " 40  iron_per_hundred                                 264389 non-null  float64\n",
      " 41  iron_unit                                        264466 non-null  object \n",
      " 42  magnesium_per_hundred                            11130 non-null   float64\n",
      " 43  magnesium_unit                                   11182 non-null   object \n",
      " 44  manganese_mn_per_hundred                         3659 non-null    float64\n",
      " 45  manganese_mn_unit                                3662 non-null    object \n",
      " 46  monounsaturated_fatty_acids_per_hundred          45074 non-null   float64\n",
      " 47  monounsaturated_fatty_acids_unit                 45095 non-null   object \n",
      " 48  phosphorus_per_hundred                           11347 non-null   float64\n",
      " 49  phosphorus_unit                                  11352 non-null   object \n",
      " 50  polyunsaturated_fatty_acids_per_hundred          44720 non-null   float64\n",
      " 51  polyunsaturated_fatty_acids_unit                 44738 non-null   object \n",
      " 52  portion_quantity                                 385384 non-null  float64\n",
      " 53  portion_unit                                     385384 non-null  object \n",
      " 54  potassium_k_per_hundred                          99569 non-null   float64\n",
      " 55  potassium_k_unit                                 99599 non-null   object \n",
      " 56  product_name_de                                  21398 non-null   object \n",
      " 57  product_name_en                                  342844 non-null  object \n",
      " 58  product_name_fr                                  25560 non-null   object \n",
      " 59  protein_per_hundred                              353614 non-null  float64\n",
      " 60  protein_per_portion                              11401 non-null   float64\n",
      " 61  protein_unit                                     353931 non-null  object \n",
      " 62  quantity                                         385384 non-null  float64\n",
      " 63  salt_per_hundred                                 24360 non-null   float64\n",
      " 64  salt_per_portion                                 10589 non-null   float64\n",
      " 65  salt_unit                                        24533 non-null   object \n",
      " 66  saturated_fat_per_hundred                        23910 non-null   float64\n",
      " 67  saturated_fat_per_portion                        10729 non-null   float64\n",
      " 68  saturated_fat_unit                               24175 non-null   object \n",
      " 69  sodium_per_hundred                               324074 non-null  float64\n",
      " 70  sodium_per_portion                               1003 non-null    float64\n",
      " 71  sodium_unit                                      324204 non-null  object \n",
      " 72  sugars_added_per_hundred                         42478 non-null   float64\n",
      " 73  sugars_added_unit                                42482 non-null   object \n",
      " 74  sugars_per_hundred                               333279 non-null  float64\n",
      " 75  sugars_per_portion                               11245 non-null   float64\n",
      " 76  sugars_unit                                      333553 non-null  object \n",
      " 77  unit                                             385384 non-null  object \n",
      " 78  updated_at                                       385384 non-null  object \n",
      " 79  vitamin_a_iu_per_hundred                         192093 non-null  float64\n",
      " 80  vitamin_a_iu_unit                                192093 non-null  object \n",
      " 81  vitamin_b12_cobalamin_per_hundred                9874 non-null    float64\n",
      " 82  vitamin_b12_cobalamin_unit                       9902 non-null    object \n",
      " 83  vitamin_b1_thiamin_per_hundred                   20527 non-null   float64\n",
      " 84  vitamin_b1_thiamin_unit                          20551 non-null   object \n",
      " 85  vitamin_b2_riboflavin_per_hundred                19808 non-null   float64\n",
      " 86  vitamin_b2_riboflavin_unit                       19832 non-null   object \n",
      " 87  vitamin_b3_niacin_per_hundred                    21242 non-null   float64\n",
      " 88  vitamin_b3_niacin_unit                           21261 non-null   object \n",
      " 89  vitamin_b5_panthothenic_acid_per_hundred         4666 non-null    float64\n",
      " 90  vitamin_b5_panthothenic_acid_unit                4684 non-null    object \n",
      " 91  vitamin_b6_pyridoxin_per_hundred                 13364 non-null   float64\n",
      " 92  vitamin_b6_pyridoxin_unit                        13390 non-null   object \n",
      " 93  vitamin_c_ascorbic_acid_per_hundred              200256 non-null  float64\n",
      " 94  vitamin_c_ascorbic_acid_unit                     200309 non-null  object \n",
      " 95  vitamin_d_d2_d3_international_units_per_hundred  67024 non-null   float64\n",
      " 96  vitamin_d_d2_d3_international_units_unit         67025 non-null   object \n",
      " 97  zinc_per_hundred                                 8640 non-null    float64\n",
      " 98  zinc_unit                                        8658 non-null    object \n",
      "dtypes: float64(50), int64(1), object(48)\n",
      "memory usage: 291.1+ MB\n"
     ]
    }
   ],
   "source": [
    "df.info() #Show the Type for each column 'float64' or 'object'"
   ]
  },
  {
   "cell_type": "code",
   "execution_count": 46,
   "id": "e3fd49db-258f-4e39-b93f-bd21393b230f",
   "metadata": {},
   "outputs": [
    {
     "name": "stdout",
     "output_type": "stream",
     "text": [
      "New vars which list column names with the same type :\n",
      "df_float64\n",
      "df_object\n",
      "df_int64\n"
     ]
    }
   ],
   "source": [
    "df_types = df.dtypes.unique()\n",
    "myVars = locals()\n",
    "print(\"New vars which list column names with the same type :\") \n",
    "for t in df_types :\n",
    "    print(\"df_\"+str(t))\n",
    "    myVars[\"df_\"+str(t)] = list(df.columns[df.dtypes == t])\n",
    "    "
   ]
  },
  {
   "cell_type": "markdown",
   "id": "b36d664b-dafd-44ba-9619-ba8d4eace056",
   "metadata": {},
   "source": [
    "For example the list of column with the type float 64 :"
   ]
  },
  {
   "cell_type": "code",
   "execution_count": 47,
   "id": "0f45fd03-73ee-4649-af82-16fcf4fb56b5",
   "metadata": {
    "tags": []
   },
   "outputs": [
    {
     "name": "stdout",
     "output_type": "stream",
     "text": [
      "['alcohol_by_volume', 'calcium_per_hundred', 'carbohydrates_per_hundred', 'carbohydrates_per_portion', 'cholesterol_per_hundred', 'copper_cu_per_hundred', 'energy_kcal_per_hundred', 'energy_kcal_per_portion', 'energy_per_hundred', 'energy_per_portion', 'fat_per_hundred', 'fat_per_portion', 'fatty_acids_total_saturated_per_hundred', 'fatty_acids_total_trans_per_hundred', 'fiber_insoluble_per_hundred', 'fiber_per_hundred', 'fiber_per_portion', 'fiber_soluble_per_hundred', 'folate_total_per_hundred', 'folic_acid_per_hundred', 'iron_per_hundred', 'magnesium_per_hundred', 'manganese_mn_per_hundred', 'monounsaturated_fatty_acids_per_hundred', 'phosphorus_per_hundred', 'polyunsaturated_fatty_acids_per_hundred', 'portion_quantity', 'potassium_k_per_hundred', 'protein_per_hundred', 'protein_per_portion', 'quantity', 'salt_per_hundred', 'salt_per_portion', 'saturated_fat_per_hundred', 'saturated_fat_per_portion', 'sodium_per_hundred', 'sodium_per_portion', 'sugars_added_per_hundred', 'sugars_per_hundred', 'sugars_per_portion', 'vitamin_a_iu_per_hundred', 'vitamin_b12_cobalamin_per_hundred', 'vitamin_b1_thiamin_per_hundred', 'vitamin_b2_riboflavin_per_hundred', 'vitamin_b3_niacin_per_hundred', 'vitamin_b5_panthothenic_acid_per_hundred', 'vitamin_b6_pyridoxin_per_hundred', 'vitamin_c_ascorbic_acid_per_hundred', 'vitamin_d_d2_d3_international_units_per_hundred', 'zinc_per_hundred']\n"
     ]
    }
   ],
   "source": [
    "print(df_float64)"
   ]
  },
  {
   "cell_type": "markdown",
   "id": "6017f473-737e-492b-9b30-820b705fb2c3",
   "metadata": {},
   "source": [
    "### 5. Check the data by the type of information they hold "
   ]
  },
  {
   "cell_type": "code",
   "execution_count": 98,
   "id": "518da972-0f49-4f18-934d-e6a2bb7b92c4",
   "metadata": {},
   "outputs": [
    {
     "name": "stdout",
     "output_type": "stream",
     "text": [
      "New variables which list column names with the same type of informations :\n",
      "df_per_hundred\n",
      "df_per_portion\n",
      "df_unit\n",
      "df_other_cols\n"
     ]
    }
   ],
   "source": [
    "New_lists = ['_per_hundred', '_per_portion', '_unit', '_other_cols']\n",
    "\n",
    "print(\"New variables which list column names with the same type of informations :\") \n",
    "\n",
    "for suffix in New_lists : # 1 I create the empty variables\n",
    "    print(\"df\"+str(suffix))\n",
    "    myVars[\"df\"+str(suffix)] = list()\n",
    "\n",
    "for colname in  list(df.columns): #each name of column is placed into the different list \n",
    "    \n",
    "    if New_lists[0] in colname :\n",
    "        myVars[\"df\"+str(New_lists[0])].append(colname) #.split(str(New_lists[0]))[0] # To keep only the part before the suffix\n",
    "    elif New_lists[1] in colname :\n",
    "        myVars[\"df\"+str(New_lists[1])].append(colname)#.split(str(New_lists[1]))[0]\n",
    "    elif New_lists[2] in colname :\n",
    "        myVars[\"df\"+str(New_lists[2])].append(colname)#.split(str(New_lists[2]))[0]\n",
    "    else :\n",
    "        myVars[\"df\"+str(New_lists[3])].append(colname)\n",
    "        \n",
    " "
   ]
  },
  {
   "cell_type": "code",
   "execution_count": 99,
   "id": "d7a6aa43-da59-4e6c-98a8-8edc3014780a",
   "metadata": {},
   "outputs": [
    {
     "name": "stdout",
     "output_type": "stream",
     "text": [
      "['calcium_per_hundred', 'carbohydrates_per_hundred', 'cholesterol_per_hundred', 'copper_cu_per_hundred', 'energy_kcal_per_hundred', 'energy_per_hundred', 'fat_per_hundred', 'fatty_acids_total_saturated_per_hundred', 'fatty_acids_total_trans_per_hundred', 'fiber_insoluble_per_hundred', 'fiber_per_hundred', 'fiber_soluble_per_hundred', 'folate_total_per_hundred', 'folic_acid_per_hundred', 'iron_per_hundred', 'magnesium_per_hundred', 'manganese_mn_per_hundred', 'monounsaturated_fatty_acids_per_hundred', 'phosphorus_per_hundred', 'polyunsaturated_fatty_acids_per_hundred', 'potassium_k_per_hundred', 'protein_per_hundred', 'salt_per_hundred', 'saturated_fat_per_hundred', 'sodium_per_hundred', 'sugars_added_per_hundred', 'sugars_per_hundred', 'vitamin_a_iu_per_hundred', 'vitamin_b12_cobalamin_per_hundred', 'vitamin_b1_thiamin_per_hundred', 'vitamin_b2_riboflavin_per_hundred', 'vitamin_b3_niacin_per_hundred', 'vitamin_b5_panthothenic_acid_per_hundred', 'vitamin_b6_pyridoxin_per_hundred', 'vitamin_c_ascorbic_acid_per_hundred', 'vitamin_d_d2_d3_international_units_per_hundred', 'zinc_per_hundred']\n"
     ]
    }
   ],
   "source": [
    "print(df_per_hundred)"
   ]
  },
  {
   "cell_type": "code",
   "execution_count": 100,
   "id": "e6a0aa08-5872-436a-9728-e7c60c534207",
   "metadata": {},
   "outputs": [
    {
     "name": "stdout",
     "output_type": "stream",
     "text": [
      "['alcohol_by_volume', 'barcode', 'country', 'created_at', 'id', 'ingredients_en', 'portion_quantity', 'product_name_de', 'product_name_en', 'product_name_fr', 'quantity', 'unit', 'updated_at']\n"
     ]
    }
   ],
   "source": [
    "print(df_other_cols) "
   ]
  },
  {
   "cell_type": "markdown",
   "id": "6784a819-776b-4ba1-aea1-a42837944f3a",
   "metadata": {},
   "source": [
    "<a id=\"TaskB\"></a>\n",
    "## Data cleaning : Task B\n",
    "[top](#top)\n",
    "\n"
   ]
  },
  {
   "cell_type": "code",
   "execution_count": null,
   "id": "1d65bf8d-365b-432c-87f6-6ad1e74209ba",
   "metadata": {},
   "outputs": [],
   "source": []
  },
  {
   "cell_type": "code",
   "execution_count": null,
   "id": "b8cdf98c-c45a-4f67-a380-e6101514b210",
   "metadata": {},
   "outputs": [],
   "source": []
  },
  {
   "cell_type": "code",
   "execution_count": null,
   "id": "51812b49-79d3-428f-b39d-4f63a93a56da",
   "metadata": {},
   "outputs": [],
   "source": []
  },
  {
   "cell_type": "code",
   "execution_count": null,
   "id": "0663509a-4470-43ce-853d-2a2a03c51644",
   "metadata": {},
   "outputs": [],
   "source": []
  },
  {
   "cell_type": "code",
   "execution_count": null,
   "id": "07baabb9-cfef-49b8-825c-174a9a8354b9",
   "metadata": {},
   "outputs": [],
   "source": []
  }
 ],
 "metadata": {
  "kernelspec": {
   "display_name": "Python [conda env:adsml] *",
   "language": "python",
   "name": "conda-env-adsml-py"
  },
  "language_info": {
   "codemirror_mode": {
    "name": "ipython",
    "version": 3
   },
   "file_extension": ".py",
   "mimetype": "text/x-python",
   "name": "python",
   "nbconvert_exporter": "python",
   "pygments_lexer": "ipython3",
   "version": "3.9.16"
  }
 },
 "nbformat": 4,
 "nbformat_minor": 5
}
