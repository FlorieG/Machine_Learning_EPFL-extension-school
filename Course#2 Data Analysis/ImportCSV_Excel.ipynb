{
 "cells": [
  {
   "cell_type": "code",
   "execution_count": 4,
   "id": "7d22d8f3-8131-4525-a8c1-f2c0a9742b9d",
   "metadata": {},
   "outputs": [
    {
     "name": "stdout",
     "output_type": "stream",
     "text": [
      "C:\\Users\\s1114237\\OneDrive - Syngenta\\Formations\\Training\\EPFL extension school\n"
     ]
    }
   ],
   "source": [
    "#TO remove :\n",
    "import os\n",
    "directory = os.getcwd()\n",
    "print(directory)"
   ]
  },
  {
   "cell_type": "code",
   "execution_count": 5,
   "id": "fdb6e8d5-655b-437e-bf0c-eab751b475ce",
   "metadata": {},
   "outputs": [
    {
     "name": "stdout",
     "output_type": "stream",
     "text": [
      "C:\\Users\\s1114237\\OneDrive - Syngenta\\Formations\\Training\\EPFL extension school\\Machine_Learning_EPFL-extension-school\\Course#2 Data Analysis\n"
     ]
    }
   ],
   "source": [
    "os.chdir(\"Machine_Learning_EPFL-extension-school\\Course#2 Data Analysis\")\n",
    "directory = os.getcwd()\n",
    "print(directory)"
   ]
  },
  {
   "cell_type": "code",
   "execution_count": 2,
   "id": "ef20ecd6-f051-4fc1-b19c-12bfe9458e40",
   "metadata": {},
   "outputs": [],
   "source": [
    "import numpy as np\n",
    "import pandas as pd"
   ]
  },
  {
   "cell_type": "markdown",
   "id": "24caed97-d6a9-4f15-b082-300e20751e31",
   "metadata": {},
   "source": [
    "# Import CSV\n",
    "In this unit, we will cover some more details about getting data from csv files and look at other file formats as well. Our tool of choice will be the pandas library, due to its user-friendliness and high-level functionality. <br> \n",
    "After creating csv file c2_file.csv, we import it : "
   ]
  },
  {
   "cell_type": "code",
   "execution_count": 6,
   "id": "9df4d380-1c82-45bf-bbee-1d270d540d5d",
   "metadata": {
    "tags": []
   },
   "outputs": [
    {
     "data": {
      "text/html": [
       "<div>\n",
       "<style scoped>\n",
       "    .dataframe tbody tr th:only-of-type {\n",
       "        vertical-align: middle;\n",
       "    }\n",
       "\n",
       "    .dataframe tbody tr th {\n",
       "        vertical-align: top;\n",
       "    }\n",
       "\n",
       "    .dataframe thead th {\n",
       "        text-align: right;\n",
       "    }\n",
       "</style>\n",
       "<table border=\"1\" class=\"dataframe\">\n",
       "  <thead>\n",
       "    <tr style=\"text-align: right;\">\n",
       "      <th></th>\n",
       "      <th>a</th>\n",
       "      <th>b</th>\n",
       "      <th>c</th>\n",
       "      <th>d</th>\n",
       "    </tr>\n",
       "  </thead>\n",
       "  <tbody>\n",
       "    <tr>\n",
       "      <th>0</th>\n",
       "      <td>yellow</td>\n",
       "      <td>10</td>\n",
       "      <td>2</td>\n",
       "      <td>3.2</td>\n",
       "    </tr>\n",
       "    <tr>\n",
       "      <th>1</th>\n",
       "      <td>green</td>\n",
       "      <td>2</td>\n",
       "      <td>3</td>\n",
       "      <td>8.1</td>\n",
       "    </tr>\n",
       "    <tr>\n",
       "      <th>2</th>\n",
       "      <td>blue</td>\n",
       "      <td>7</td>\n",
       "      <td>1</td>\n",
       "      <td>0.4</td>\n",
       "    </tr>\n",
       "  </tbody>\n",
       "</table>\n",
       "</div>"
      ],
      "text/plain": [
       "        a   b  c    d\n",
       "0  yellow  10  2  3.2\n",
       "1   green   2  3  8.1\n",
       "2    blue   7  1  0.4"
      ]
     },
     "execution_count": 6,
     "metadata": {},
     "output_type": "execute_result"
    }
   ],
   "source": [
    "df = pd.read_csv(\"Ressources/c2_file.csv\")\n",
    "df"
   ]
  },
  {
   "cell_type": "markdown",
   "id": "62347ebb-e9e6-4b69-8f8b-644943e81839",
   "metadata": {},
   "source": [
    "### Column headers :\n"
   ]
  },
  {
   "cell_type": "code",
   "execution_count": 9,
   "id": "b81ebd25-5421-46b6-9b24-4b6abe2adf24",
   "metadata": {},
   "outputs": [
    {
     "data": {
      "text/html": [
       "<div>\n",
       "<style scoped>\n",
       "    .dataframe tbody tr th:only-of-type {\n",
       "        vertical-align: middle;\n",
       "    }\n",
       "\n",
       "    .dataframe tbody tr th {\n",
       "        vertical-align: top;\n",
       "    }\n",
       "\n",
       "    .dataframe thead th {\n",
       "        text-align: right;\n",
       "    }\n",
       "</style>\n",
       "<table border=\"1\" class=\"dataframe\">\n",
       "  <thead>\n",
       "    <tr style=\"text-align: right;\">\n",
       "      <th></th>\n",
       "      <th>0</th>\n",
       "      <th>1</th>\n",
       "      <th>2</th>\n",
       "      <th>3</th>\n",
       "    </tr>\n",
       "  </thead>\n",
       "  <tbody>\n",
       "    <tr>\n",
       "      <th>0</th>\n",
       "      <td>a</td>\n",
       "      <td>b</td>\n",
       "      <td>c</td>\n",
       "      <td>d</td>\n",
       "    </tr>\n",
       "    <tr>\n",
       "      <th>1</th>\n",
       "      <td>yellow</td>\n",
       "      <td>10</td>\n",
       "      <td>2</td>\n",
       "      <td>3.2</td>\n",
       "    </tr>\n",
       "    <tr>\n",
       "      <th>2</th>\n",
       "      <td>green</td>\n",
       "      <td>2</td>\n",
       "      <td>3</td>\n",
       "      <td>8.1</td>\n",
       "    </tr>\n",
       "    <tr>\n",
       "      <th>3</th>\n",
       "      <td>blue</td>\n",
       "      <td>7</td>\n",
       "      <td>1</td>\n",
       "      <td>0.4</td>\n",
       "    </tr>\n",
       "  </tbody>\n",
       "</table>\n",
       "</div>"
      ],
      "text/plain": [
       "        0   1  2    3\n",
       "0       a   b  c    d\n",
       "1  yellow  10  2  3.2\n",
       "2   green   2  3  8.1\n",
       "3    blue   7  1  0.4"
      ]
     },
     "execution_count": 9,
     "metadata": {},
     "output_type": "execute_result"
    }
   ],
   "source": [
    "pd.read_csv(\"Ressources/c2_file.csv\", header=None)"
   ]
  },
  {
   "cell_type": "code",
   "execution_count": 11,
   "id": "2290c4a5-722e-447b-8c23-3473938ff752",
   "metadata": {},
   "outputs": [
    {
     "data": {
      "text/html": [
       "<div>\n",
       "<style scoped>\n",
       "    .dataframe tbody tr th:only-of-type {\n",
       "        vertical-align: middle;\n",
       "    }\n",
       "\n",
       "    .dataframe tbody tr th {\n",
       "        vertical-align: top;\n",
       "    }\n",
       "\n",
       "    .dataframe thead th {\n",
       "        text-align: right;\n",
       "    }\n",
       "</style>\n",
       "<table border=\"1\" class=\"dataframe\">\n",
       "  <thead>\n",
       "    <tr style=\"text-align: right;\">\n",
       "      <th></th>\n",
       "      <th>column 1</th>\n",
       "      <th>column 2</th>\n",
       "      <th>column 3</th>\n",
       "      <th>column 4</th>\n",
       "    </tr>\n",
       "  </thead>\n",
       "  <tbody>\n",
       "    <tr>\n",
       "      <th>0</th>\n",
       "      <td>a</td>\n",
       "      <td>b</td>\n",
       "      <td>c</td>\n",
       "      <td>d</td>\n",
       "    </tr>\n",
       "    <tr>\n",
       "      <th>1</th>\n",
       "      <td>yellow</td>\n",
       "      <td>10</td>\n",
       "      <td>2</td>\n",
       "      <td>3.2</td>\n",
       "    </tr>\n",
       "    <tr>\n",
       "      <th>2</th>\n",
       "      <td>green</td>\n",
       "      <td>2</td>\n",
       "      <td>3</td>\n",
       "      <td>8.1</td>\n",
       "    </tr>\n",
       "    <tr>\n",
       "      <th>3</th>\n",
       "      <td>blue</td>\n",
       "      <td>7</td>\n",
       "      <td>1</td>\n",
       "      <td>0.4</td>\n",
       "    </tr>\n",
       "  </tbody>\n",
       "</table>\n",
       "</div>"
      ],
      "text/plain": [
       "  column 1 column 2 column 3 column 4\n",
       "0        a        b        c        d\n",
       "1   yellow       10        2      3.2\n",
       "2    green        2        3      8.1\n",
       "3     blue        7        1      0.4"
      ]
     },
     "execution_count": 11,
     "metadata": {},
     "output_type": "execute_result"
    }
   ],
   "source": [
    "pd.read_csv(\"Ressources/c2_file.csv\", names=[\"column 1\", \"column 2\", \"column 3\", \"column 4\"])"
   ]
  },
  {
   "cell_type": "markdown",
   "id": "037f9178-ddd6-4e8d-9fb3-14618ed71291",
   "metadata": {},
   "source": [
    "### Row indexes :"
   ]
  },
  {
   "cell_type": "code",
   "execution_count": 14,
   "id": "d9963f70-8c04-4ba2-9b62-d83a5bf7bbac",
   "metadata": {},
   "outputs": [
    {
     "data": {
      "text/html": [
       "<div>\n",
       "<style scoped>\n",
       "    .dataframe tbody tr th:only-of-type {\n",
       "        vertical-align: middle;\n",
       "    }\n",
       "\n",
       "    .dataframe tbody tr th {\n",
       "        vertical-align: top;\n",
       "    }\n",
       "\n",
       "    .dataframe thead th {\n",
       "        text-align: right;\n",
       "    }\n",
       "</style>\n",
       "<table border=\"1\" class=\"dataframe\">\n",
       "  <thead>\n",
       "    <tr style=\"text-align: right;\">\n",
       "      <th></th>\n",
       "      <th>b</th>\n",
       "      <th>c</th>\n",
       "      <th>d</th>\n",
       "    </tr>\n",
       "    <tr>\n",
       "      <th>a</th>\n",
       "      <th></th>\n",
       "      <th></th>\n",
       "      <th></th>\n",
       "    </tr>\n",
       "  </thead>\n",
       "  <tbody>\n",
       "    <tr>\n",
       "      <th>yellow</th>\n",
       "      <td>10</td>\n",
       "      <td>2</td>\n",
       "      <td>3.2</td>\n",
       "    </tr>\n",
       "    <tr>\n",
       "      <th>green</th>\n",
       "      <td>2</td>\n",
       "      <td>3</td>\n",
       "      <td>8.1</td>\n",
       "    </tr>\n",
       "    <tr>\n",
       "      <th>blue</th>\n",
       "      <td>7</td>\n",
       "      <td>1</td>\n",
       "      <td>0.4</td>\n",
       "    </tr>\n",
       "  </tbody>\n",
       "</table>\n",
       "</div>"
      ],
      "text/plain": [
       "         b  c    d\n",
       "a                 \n",
       "yellow  10  2  3.2\n",
       "green    2  3  8.1\n",
       "blue     7  1  0.4"
      ]
     },
     "execution_count": 14,
     "metadata": {},
     "output_type": "execute_result"
    }
   ],
   "source": [
    "pd.read_csv(\"Ressources/c2_file.csv\", index_col=0)"
   ]
  },
  {
   "cell_type": "markdown",
   "id": "e2e0b776-d9de-4b63-b4c2-d66b37e869d2",
   "metadata": {},
   "source": [
    "### Data type inference"
   ]
  },
  {
   "cell_type": "code",
   "execution_count": 15,
   "id": "f7372f70-aca9-492f-a480-1005262faf06",
   "metadata": {},
   "outputs": [
    {
     "data": {
      "text/plain": [
       "a     object\n",
       "b      int64\n",
       "c      int64\n",
       "d    float64\n",
       "dtype: object"
      ]
     },
     "execution_count": 15,
     "metadata": {},
     "output_type": "execute_result"
    }
   ],
   "source": [
    "df.dtypes"
   ]
  },
  {
   "cell_type": "code",
   "execution_count": 17,
   "id": "6e584a6a-f4cf-4f5b-ac3d-4d338902a6ef",
   "metadata": {},
   "outputs": [
    {
     "data": {
      "text/plain": [
       "a     object\n",
       "b    float64\n",
       "c      int64\n",
       "d    float64\n",
       "dtype: object"
      ]
     },
     "execution_count": 17,
     "metadata": {},
     "output_type": "execute_result"
    }
   ],
   "source": [
    "df2 = pd.read_csv(\"Ressources\\c2_file.csv\", dtype={\"b\": np.float64})\n",
    "df2.dtypes"
   ]
  },
  {
   "cell_type": "markdown",
   "id": "f7bb8d28-78d7-4178-81f5-de8c0309b32f",
   "metadata": {},
   "source": [
    "We can see that the second column now has the data type float64. This works fine because the column contains integer values, so the data type we specified is more general than the values in the column. However, if we tried to assign an incompatible data type, pandas will warn us that this is not possible. Let’s try this out by requiring the first column to have data type int64"
   ]
  },
  {
   "cell_type": "code",
   "execution_count": 18,
   "id": "3ae49eee-0f54-4b69-8c5a-190289b61b52",
   "metadata": {},
   "outputs": [
    {
     "ename": "ValueError",
     "evalue": "invalid literal for int() with base 10: 'yellow'",
     "output_type": "error",
     "traceback": [
      "\u001b[1;31m---------------------------------------------------------------------------\u001b[0m",
      "\u001b[1;31mTypeError\u001b[0m                                 Traceback (most recent call last)",
      "\u001b[1;32m~\\Anaconda3\\envs\\adsml\\lib\\site-packages\\pandas\\_libs\\parsers.pyx\u001b[0m in \u001b[0;36mpandas._libs.parsers.TextReader._convert_tokens\u001b[1;34m()\u001b[0m\n",
      "\u001b[1;31mTypeError\u001b[0m: Cannot cast array data from dtype('O') to dtype('int64') according to the rule 'safe'",
      "\nDuring handling of the above exception, another exception occurred:\n",
      "\u001b[1;31mValueError\u001b[0m                                Traceback (most recent call last)",
      "\u001b[1;32m~\\AppData\\Local\\Temp\\ipykernel_11708\\370859273.py\u001b[0m in \u001b[0;36m<module>\u001b[1;34m\u001b[0m\n\u001b[1;32m----> 1\u001b[1;33m \u001b[0mdf2\u001b[0m \u001b[1;33m=\u001b[0m \u001b[0mpd\u001b[0m\u001b[1;33m.\u001b[0m\u001b[0mread_csv\u001b[0m\u001b[1;33m(\u001b[0m\u001b[1;34m'Ressources\\c2_file.csv'\u001b[0m\u001b[1;33m,\u001b[0m  \u001b[0mdtype\u001b[0m \u001b[1;33m=\u001b[0m \u001b[1;33m{\u001b[0m \u001b[1;34m'a'\u001b[0m \u001b[1;33m:\u001b[0m \u001b[0mnp\u001b[0m\u001b[1;33m.\u001b[0m\u001b[0mint64\u001b[0m\u001b[1;33m}\u001b[0m\u001b[1;33m)\u001b[0m\u001b[1;33m\u001b[0m\u001b[1;33m\u001b[0m\u001b[0m\n\u001b[0m",
      "\u001b[1;32m~\\Anaconda3\\envs\\adsml\\lib\\site-packages\\pandas\\util\\_decorators.py\u001b[0m in \u001b[0;36mwrapper\u001b[1;34m(*args, **kwargs)\u001b[0m\n\u001b[0;32m    309\u001b[0m                     \u001b[0mstacklevel\u001b[0m\u001b[1;33m=\u001b[0m\u001b[0mstacklevel\u001b[0m\u001b[1;33m,\u001b[0m\u001b[1;33m\u001b[0m\u001b[1;33m\u001b[0m\u001b[0m\n\u001b[0;32m    310\u001b[0m                 )\n\u001b[1;32m--> 311\u001b[1;33m             \u001b[1;32mreturn\u001b[0m \u001b[0mfunc\u001b[0m\u001b[1;33m(\u001b[0m\u001b[1;33m*\u001b[0m\u001b[0margs\u001b[0m\u001b[1;33m,\u001b[0m \u001b[1;33m**\u001b[0m\u001b[0mkwargs\u001b[0m\u001b[1;33m)\u001b[0m\u001b[1;33m\u001b[0m\u001b[1;33m\u001b[0m\u001b[0m\n\u001b[0m\u001b[0;32m    312\u001b[0m \u001b[1;33m\u001b[0m\u001b[0m\n\u001b[0;32m    313\u001b[0m         \u001b[1;32mreturn\u001b[0m \u001b[0mwrapper\u001b[0m\u001b[1;33m\u001b[0m\u001b[1;33m\u001b[0m\u001b[0m\n",
      "\u001b[1;32m~\\Anaconda3\\envs\\adsml\\lib\\site-packages\\pandas\\io\\parsers\\readers.py\u001b[0m in \u001b[0;36mread_csv\u001b[1;34m(filepath_or_buffer, sep, delimiter, header, names, index_col, usecols, squeeze, prefix, mangle_dupe_cols, dtype, engine, converters, true_values, false_values, skipinitialspace, skiprows, skipfooter, nrows, na_values, keep_default_na, na_filter, verbose, skip_blank_lines, parse_dates, infer_datetime_format, keep_date_col, date_parser, dayfirst, cache_dates, iterator, chunksize, compression, thousands, decimal, lineterminator, quotechar, quoting, doublequote, escapechar, comment, encoding, encoding_errors, dialect, error_bad_lines, warn_bad_lines, on_bad_lines, delim_whitespace, low_memory, memory_map, float_precision, storage_options)\u001b[0m\n\u001b[0;32m    584\u001b[0m     \u001b[0mkwds\u001b[0m\u001b[1;33m.\u001b[0m\u001b[0mupdate\u001b[0m\u001b[1;33m(\u001b[0m\u001b[0mkwds_defaults\u001b[0m\u001b[1;33m)\u001b[0m\u001b[1;33m\u001b[0m\u001b[1;33m\u001b[0m\u001b[0m\n\u001b[0;32m    585\u001b[0m \u001b[1;33m\u001b[0m\u001b[0m\n\u001b[1;32m--> 586\u001b[1;33m     \u001b[1;32mreturn\u001b[0m \u001b[0m_read\u001b[0m\u001b[1;33m(\u001b[0m\u001b[0mfilepath_or_buffer\u001b[0m\u001b[1;33m,\u001b[0m \u001b[0mkwds\u001b[0m\u001b[1;33m)\u001b[0m\u001b[1;33m\u001b[0m\u001b[1;33m\u001b[0m\u001b[0m\n\u001b[0m\u001b[0;32m    587\u001b[0m \u001b[1;33m\u001b[0m\u001b[0m\n\u001b[0;32m    588\u001b[0m \u001b[1;33m\u001b[0m\u001b[0m\n",
      "\u001b[1;32m~\\Anaconda3\\envs\\adsml\\lib\\site-packages\\pandas\\io\\parsers\\readers.py\u001b[0m in \u001b[0;36m_read\u001b[1;34m(filepath_or_buffer, kwds)\u001b[0m\n\u001b[0;32m    486\u001b[0m \u001b[1;33m\u001b[0m\u001b[0m\n\u001b[0;32m    487\u001b[0m     \u001b[1;32mwith\u001b[0m \u001b[0mparser\u001b[0m\u001b[1;33m:\u001b[0m\u001b[1;33m\u001b[0m\u001b[1;33m\u001b[0m\u001b[0m\n\u001b[1;32m--> 488\u001b[1;33m         \u001b[1;32mreturn\u001b[0m \u001b[0mparser\u001b[0m\u001b[1;33m.\u001b[0m\u001b[0mread\u001b[0m\u001b[1;33m(\u001b[0m\u001b[0mnrows\u001b[0m\u001b[1;33m)\u001b[0m\u001b[1;33m\u001b[0m\u001b[1;33m\u001b[0m\u001b[0m\n\u001b[0m\u001b[0;32m    489\u001b[0m \u001b[1;33m\u001b[0m\u001b[0m\n\u001b[0;32m    490\u001b[0m \u001b[1;33m\u001b[0m\u001b[0m\n",
      "\u001b[1;32m~\\Anaconda3\\envs\\adsml\\lib\\site-packages\\pandas\\io\\parsers\\readers.py\u001b[0m in \u001b[0;36mread\u001b[1;34m(self, nrows)\u001b[0m\n\u001b[0;32m   1045\u001b[0m     \u001b[1;32mdef\u001b[0m \u001b[0mread\u001b[0m\u001b[1;33m(\u001b[0m\u001b[0mself\u001b[0m\u001b[1;33m,\u001b[0m \u001b[0mnrows\u001b[0m\u001b[1;33m=\u001b[0m\u001b[1;32mNone\u001b[0m\u001b[1;33m)\u001b[0m\u001b[1;33m:\u001b[0m\u001b[1;33m\u001b[0m\u001b[1;33m\u001b[0m\u001b[0m\n\u001b[0;32m   1046\u001b[0m         \u001b[0mnrows\u001b[0m \u001b[1;33m=\u001b[0m \u001b[0mvalidate_integer\u001b[0m\u001b[1;33m(\u001b[0m\u001b[1;34m\"nrows\"\u001b[0m\u001b[1;33m,\u001b[0m \u001b[0mnrows\u001b[0m\u001b[1;33m)\u001b[0m\u001b[1;33m\u001b[0m\u001b[1;33m\u001b[0m\u001b[0m\n\u001b[1;32m-> 1047\u001b[1;33m         \u001b[0mindex\u001b[0m\u001b[1;33m,\u001b[0m \u001b[0mcolumns\u001b[0m\u001b[1;33m,\u001b[0m \u001b[0mcol_dict\u001b[0m \u001b[1;33m=\u001b[0m \u001b[0mself\u001b[0m\u001b[1;33m.\u001b[0m\u001b[0m_engine\u001b[0m\u001b[1;33m.\u001b[0m\u001b[0mread\u001b[0m\u001b[1;33m(\u001b[0m\u001b[0mnrows\u001b[0m\u001b[1;33m)\u001b[0m\u001b[1;33m\u001b[0m\u001b[1;33m\u001b[0m\u001b[0m\n\u001b[0m\u001b[0;32m   1048\u001b[0m \u001b[1;33m\u001b[0m\u001b[0m\n\u001b[0;32m   1049\u001b[0m         \u001b[1;32mif\u001b[0m \u001b[0mindex\u001b[0m \u001b[1;32mis\u001b[0m \u001b[1;32mNone\u001b[0m\u001b[1;33m:\u001b[0m\u001b[1;33m\u001b[0m\u001b[1;33m\u001b[0m\u001b[0m\n",
      "\u001b[1;32m~\\Anaconda3\\envs\\adsml\\lib\\site-packages\\pandas\\io\\parsers\\c_parser_wrapper.py\u001b[0m in \u001b[0;36mread\u001b[1;34m(self, nrows)\u001b[0m\n\u001b[0;32m    222\u001b[0m         \u001b[1;32mtry\u001b[0m\u001b[1;33m:\u001b[0m\u001b[1;33m\u001b[0m\u001b[1;33m\u001b[0m\u001b[0m\n\u001b[0;32m    223\u001b[0m             \u001b[1;32mif\u001b[0m \u001b[0mself\u001b[0m\u001b[1;33m.\u001b[0m\u001b[0mlow_memory\u001b[0m\u001b[1;33m:\u001b[0m\u001b[1;33m\u001b[0m\u001b[1;33m\u001b[0m\u001b[0m\n\u001b[1;32m--> 224\u001b[1;33m                 \u001b[0mchunks\u001b[0m \u001b[1;33m=\u001b[0m \u001b[0mself\u001b[0m\u001b[1;33m.\u001b[0m\u001b[0m_reader\u001b[0m\u001b[1;33m.\u001b[0m\u001b[0mread_low_memory\u001b[0m\u001b[1;33m(\u001b[0m\u001b[0mnrows\u001b[0m\u001b[1;33m)\u001b[0m\u001b[1;33m\u001b[0m\u001b[1;33m\u001b[0m\u001b[0m\n\u001b[0m\u001b[0;32m    225\u001b[0m                 \u001b[1;31m# destructive to chunks\u001b[0m\u001b[1;33m\u001b[0m\u001b[1;33m\u001b[0m\u001b[0m\n\u001b[0;32m    226\u001b[0m                 \u001b[0mdata\u001b[0m \u001b[1;33m=\u001b[0m \u001b[0m_concatenate_chunks\u001b[0m\u001b[1;33m(\u001b[0m\u001b[0mchunks\u001b[0m\u001b[1;33m)\u001b[0m\u001b[1;33m\u001b[0m\u001b[1;33m\u001b[0m\u001b[0m\n",
      "\u001b[1;32m~\\Anaconda3\\envs\\adsml\\lib\\site-packages\\pandas\\_libs\\parsers.pyx\u001b[0m in \u001b[0;36mpandas._libs.parsers.TextReader.read_low_memory\u001b[1;34m()\u001b[0m\n",
      "\u001b[1;32m~\\Anaconda3\\envs\\adsml\\lib\\site-packages\\pandas\\_libs\\parsers.pyx\u001b[0m in \u001b[0;36mpandas._libs.parsers.TextReader._read_rows\u001b[1;34m()\u001b[0m\n",
      "\u001b[1;32m~\\Anaconda3\\envs\\adsml\\lib\\site-packages\\pandas\\_libs\\parsers.pyx\u001b[0m in \u001b[0;36mpandas._libs.parsers.TextReader._convert_column_data\u001b[1;34m()\u001b[0m\n",
      "\u001b[1;32m~\\Anaconda3\\envs\\adsml\\lib\\site-packages\\pandas\\_libs\\parsers.pyx\u001b[0m in \u001b[0;36mpandas._libs.parsers.TextReader._convert_tokens\u001b[1;34m()\u001b[0m\n",
      "\u001b[1;31mValueError\u001b[0m: invalid literal for int() with base 10: 'yellow'"
     ]
    }
   ],
   "source": [
    "df2 = pd.read_csv('Ressources\\c2_file.csv',  dtype = { 'a' : np.int64})"
   ]
  },
  {
   "cell_type": "markdown",
   "id": "05da08e9-9050-4f29-95b6-68484a07f44a",
   "metadata": {},
   "source": [
    "### Loading Partial data :"
   ]
  },
  {
   "cell_type": "code",
   "execution_count": 19,
   "id": "3cce00fb-0a4f-40d0-b5cb-10f9f9381c8f",
   "metadata": {},
   "outputs": [
    {
     "data": {
      "text/html": [
       "<div>\n",
       "<style scoped>\n",
       "    .dataframe tbody tr th:only-of-type {\n",
       "        vertical-align: middle;\n",
       "    }\n",
       "\n",
       "    .dataframe tbody tr th {\n",
       "        vertical-align: top;\n",
       "    }\n",
       "\n",
       "    .dataframe thead th {\n",
       "        text-align: right;\n",
       "    }\n",
       "</style>\n",
       "<table border=\"1\" class=\"dataframe\">\n",
       "  <thead>\n",
       "    <tr style=\"text-align: right;\">\n",
       "      <th></th>\n",
       "      <th>a</th>\n",
       "      <th>b</th>\n",
       "    </tr>\n",
       "  </thead>\n",
       "  <tbody>\n",
       "    <tr>\n",
       "      <th>0</th>\n",
       "      <td>yellow</td>\n",
       "      <td>10</td>\n",
       "    </tr>\n",
       "    <tr>\n",
       "      <th>1</th>\n",
       "      <td>green</td>\n",
       "      <td>2</td>\n",
       "    </tr>\n",
       "    <tr>\n",
       "      <th>2</th>\n",
       "      <td>blue</td>\n",
       "      <td>7</td>\n",
       "    </tr>\n",
       "  </tbody>\n",
       "</table>\n",
       "</div>"
      ],
      "text/plain": [
       "        a   b\n",
       "0  yellow  10\n",
       "1   green   2\n",
       "2    blue   7"
      ]
     },
     "execution_count": 19,
     "metadata": {},
     "output_type": "execute_result"
    }
   ],
   "source": [
    "pd.read_csv(\"Ressources\\c2_file.csv\", usecols=[\"a\", \"b\"])"
   ]
  },
  {
   "cell_type": "markdown",
   "id": "6d17dd62-f28c-4c34-a5e8-d11be798762a",
   "metadata": {},
   "source": [
    "# Import Excel file :"
   ]
  },
  {
   "cell_type": "code",
   "execution_count": 21,
   "id": "99377146-64d2-4014-a21d-37f81a2476b4",
   "metadata": {},
   "outputs": [
    {
     "data": {
      "text/html": [
       "<div>\n",
       "<style scoped>\n",
       "    .dataframe tbody tr th:only-of-type {\n",
       "        vertical-align: middle;\n",
       "    }\n",
       "\n",
       "    .dataframe tbody tr th {\n",
       "        vertical-align: top;\n",
       "    }\n",
       "\n",
       "    .dataframe thead th {\n",
       "        text-align: right;\n",
       "    }\n",
       "</style>\n",
       "<table border=\"1\" class=\"dataframe\">\n",
       "  <thead>\n",
       "    <tr style=\"text-align: right;\">\n",
       "      <th></th>\n",
       "      <th>varA</th>\n",
       "      <th>varB</th>\n",
       "      <th>varC</th>\n",
       "    </tr>\n",
       "  </thead>\n",
       "  <tbody>\n",
       "    <tr>\n",
       "      <th>0</th>\n",
       "      <td>0.391723</td>\n",
       "      <td>-0.155122</td>\n",
       "      <td>0.381104</td>\n",
       "    </tr>\n",
       "    <tr>\n",
       "      <th>1</th>\n",
       "      <td>0.575125</td>\n",
       "      <td>-0.105817</td>\n",
       "      <td>0.232245</td>\n",
       "    </tr>\n",
       "    <tr>\n",
       "      <th>2</th>\n",
       "      <td>0.672305</td>\n",
       "      <td>0.424688</td>\n",
       "      <td>-0.694795</td>\n",
       "    </tr>\n",
       "    <tr>\n",
       "      <th>3</th>\n",
       "      <td>0.766115</td>\n",
       "      <td>-0.791350</td>\n",
       "      <td>-0.028739</td>\n",
       "    </tr>\n",
       "    <tr>\n",
       "      <th>4</th>\n",
       "      <td>0.677259</td>\n",
       "      <td>-0.817543</td>\n",
       "      <td>-0.537088</td>\n",
       "    </tr>\n",
       "    <tr>\n",
       "      <th>5</th>\n",
       "      <td>-0.029702</td>\n",
       "      <td>-0.891848</td>\n",
       "      <td>-0.682719</td>\n",
       "    </tr>\n",
       "    <tr>\n",
       "      <th>6</th>\n",
       "      <td>-0.161366</td>\n",
       "      <td>-0.659600</td>\n",
       "      <td>-0.727898</td>\n",
       "    </tr>\n",
       "    <tr>\n",
       "      <th>7</th>\n",
       "      <td>0.031672</td>\n",
       "      <td>0.016607</td>\n",
       "      <td>-0.940479</td>\n",
       "    </tr>\n",
       "    <tr>\n",
       "      <th>8</th>\n",
       "      <td>0.833212</td>\n",
       "      <td>-0.503236</td>\n",
       "      <td>-0.887210</td>\n",
       "    </tr>\n",
       "    <tr>\n",
       "      <th>9</th>\n",
       "      <td>0.907753</td>\n",
       "      <td>0.265177</td>\n",
       "      <td>-0.390762</td>\n",
       "    </tr>\n",
       "  </tbody>\n",
       "</table>\n",
       "</div>"
      ],
      "text/plain": [
       "       varA      varB      varC\n",
       "0  0.391723 -0.155122  0.381104\n",
       "1  0.575125 -0.105817  0.232245\n",
       "2  0.672305  0.424688 -0.694795\n",
       "3  0.766115 -0.791350 -0.028739\n",
       "4  0.677259 -0.817543 -0.537088\n",
       "5 -0.029702 -0.891848 -0.682719\n",
       "6 -0.161366 -0.659600 -0.727898\n",
       "7  0.031672  0.016607 -0.940479\n",
       "8  0.833212 -0.503236 -0.887210\n",
       "9  0.907753  0.265177 -0.390762"
      ]
     },
     "execution_count": 21,
     "metadata": {},
     "output_type": "execute_result"
    }
   ],
   "source": [
    "pd.read_excel(\"Ressources\\c2_data.xls\")"
   ]
  },
  {
   "cell_type": "code",
   "execution_count": 23,
   "id": "993dbd0a-880a-4663-b30b-f47f287c6130",
   "metadata": {},
   "outputs": [
    {
     "data": {
      "text/html": [
       "<div>\n",
       "<style scoped>\n",
       "    .dataframe tbody tr th:only-of-type {\n",
       "        vertical-align: middle;\n",
       "    }\n",
       "\n",
       "    .dataframe tbody tr th {\n",
       "        vertical-align: top;\n",
       "    }\n",
       "\n",
       "    .dataframe thead th {\n",
       "        text-align: right;\n",
       "    }\n",
       "</style>\n",
       "<table border=\"1\" class=\"dataframe\">\n",
       "  <thead>\n",
       "    <tr style=\"text-align: right;\">\n",
       "      <th></th>\n",
       "      <th>varD</th>\n",
       "      <th>varE</th>\n",
       "      <th>varF</th>\n",
       "    </tr>\n",
       "  </thead>\n",
       "  <tbody>\n",
       "    <tr>\n",
       "      <th>0</th>\n",
       "      <td>0.907753</td>\n",
       "      <td>0.265177</td>\n",
       "      <td>-0.390762</td>\n",
       "    </tr>\n",
       "    <tr>\n",
       "      <th>1</th>\n",
       "      <td>0.755019</td>\n",
       "      <td>-0.768056</td>\n",
       "      <td>-0.528307</td>\n",
       "    </tr>\n",
       "    <tr>\n",
       "      <th>2</th>\n",
       "      <td>0.850692</td>\n",
       "      <td>-0.537159</td>\n",
       "      <td>-0.601387</td>\n",
       "    </tr>\n",
       "    <tr>\n",
       "      <th>3</th>\n",
       "      <td>0.131663</td>\n",
       "      <td>0.941327</td>\n",
       "      <td>0.240073</td>\n",
       "    </tr>\n",
       "    <tr>\n",
       "      <th>4</th>\n",
       "      <td>0.574400</td>\n",
       "      <td>0.091735</td>\n",
       "      <td>-0.395277</td>\n",
       "    </tr>\n",
       "    <tr>\n",
       "      <th>5</th>\n",
       "      <td>0.816630</td>\n",
       "      <td>0.875612</td>\n",
       "      <td>-0.880044</td>\n",
       "    </tr>\n",
       "    <tr>\n",
       "      <th>6</th>\n",
       "      <td>0.536732</td>\n",
       "      <td>0.175428</td>\n",
       "      <td>-0.473053</td>\n",
       "    </tr>\n",
       "    <tr>\n",
       "      <th>7</th>\n",
       "      <td>-0.084641</td>\n",
       "      <td>-0.042827</td>\n",
       "      <td>0.053344</td>\n",
       "    </tr>\n",
       "    <tr>\n",
       "      <th>8</th>\n",
       "      <td>0.268271</td>\n",
       "      <td>-0.010628</td>\n",
       "      <td>-0.090952</td>\n",
       "    </tr>\n",
       "    <tr>\n",
       "      <th>9</th>\n",
       "      <td>0.166792</td>\n",
       "      <td>-0.872579</td>\n",
       "      <td>-0.556899</td>\n",
       "    </tr>\n",
       "  </tbody>\n",
       "</table>\n",
       "</div>"
      ],
      "text/plain": [
       "       varD      varE      varF\n",
       "0  0.907753  0.265177 -0.390762\n",
       "1  0.755019 -0.768056 -0.528307\n",
       "2  0.850692 -0.537159 -0.601387\n",
       "3  0.131663  0.941327  0.240073\n",
       "4  0.574400  0.091735 -0.395277\n",
       "5  0.816630  0.875612 -0.880044\n",
       "6  0.536732  0.175428 -0.473053\n",
       "7 -0.084641 -0.042827  0.053344\n",
       "8  0.268271 -0.010628 -0.090952\n",
       "9  0.166792 -0.872579 -0.556899"
      ]
     },
     "execution_count": 23,
     "metadata": {},
     "output_type": "execute_result"
    }
   ],
   "source": [
    "pd.read_excel(\"Ressources\\c2_data.xls\", sheet_name=\"Sheet2\")"
   ]
  },
  {
   "cell_type": "markdown",
   "id": "59aab733-136a-4fdb-90e7-8562757b5f90",
   "metadata": {},
   "source": [
    "# Import JSON file : \n",
    "\n",
    "A JSON object is essentially just a key-value data format that is stored inside curly brackets. Here is an example:\n",
    "\n",
    "```\n",
    "{\n",
    "    \"userID\": 12345,\n",
    "    \"userName\": \"John Smith\"\n",
    "} \n",
    "```\n"
   ]
  },
  {
   "cell_type": "code",
   "execution_count": 25,
   "id": "d82f8fad-1c21-4c79-8190-2beb154b3d4d",
   "metadata": {},
   "outputs": [
    {
     "data": {
      "text/html": [
       "<div>\n",
       "<style scoped>\n",
       "    .dataframe tbody tr th:only-of-type {\n",
       "        vertical-align: middle;\n",
       "    }\n",
       "\n",
       "    .dataframe tbody tr th {\n",
       "        vertical-align: top;\n",
       "    }\n",
       "\n",
       "    .dataframe thead th {\n",
       "        text-align: right;\n",
       "    }\n",
       "</style>\n",
       "<table border=\"1\" class=\"dataframe\">\n",
       "  <thead>\n",
       "    <tr style=\"text-align: right;\">\n",
       "      <th></th>\n",
       "      <th>col1</th>\n",
       "      <th>col2</th>\n",
       "      <th>col3</th>\n",
       "      <th>col4</th>\n",
       "    </tr>\n",
       "  </thead>\n",
       "  <tbody>\n",
       "    <tr>\n",
       "      <th>row1</th>\n",
       "      <td>0</td>\n",
       "      <td>1</td>\n",
       "      <td>2</td>\n",
       "      <td>3</td>\n",
       "    </tr>\n",
       "    <tr>\n",
       "      <th>row2</th>\n",
       "      <td>4</td>\n",
       "      <td>5</td>\n",
       "      <td>6</td>\n",
       "      <td>7</td>\n",
       "    </tr>\n",
       "    <tr>\n",
       "      <th>row3</th>\n",
       "      <td>8</td>\n",
       "      <td>9</td>\n",
       "      <td>10</td>\n",
       "      <td>11</td>\n",
       "    </tr>\n",
       "    <tr>\n",
       "      <th>row4</th>\n",
       "      <td>12</td>\n",
       "      <td>13</td>\n",
       "      <td>14</td>\n",
       "      <td>15</td>\n",
       "    </tr>\n",
       "  </tbody>\n",
       "</table>\n",
       "</div>"
      ],
      "text/plain": [
       "      col1  col2  col3  col4\n",
       "row1     0     1     2     3\n",
       "row2     4     5     6     7\n",
       "row3     8     9    10    11\n",
       "row4    12    13    14    15"
      ]
     },
     "execution_count": 25,
     "metadata": {},
     "output_type": "execute_result"
    }
   ],
   "source": [
    "pd.read_json(\"Ressources\\c2_frame.json\")"
   ]
  },
  {
   "cell_type": "code",
   "execution_count": 26,
   "id": "8a0de81a-fa13-4dad-81e6-c1d2e303d6dd",
   "metadata": {},
   "outputs": [
    {
     "data": {
      "text/html": [
       "<div>\n",
       "<style scoped>\n",
       "    .dataframe tbody tr th:only-of-type {\n",
       "        vertical-align: middle;\n",
       "    }\n",
       "\n",
       "    .dataframe tbody tr th {\n",
       "        vertical-align: top;\n",
       "    }\n",
       "\n",
       "    .dataframe thead th {\n",
       "        text-align: right;\n",
       "    }\n",
       "</style>\n",
       "<table border=\"1\" class=\"dataframe\">\n",
       "  <thead>\n",
       "    <tr style=\"text-align: right;\">\n",
       "      <th></th>\n",
       "      <th>books</th>\n",
       "    </tr>\n",
       "  </thead>\n",
       "  <tbody>\n",
       "    <tr>\n",
       "      <th>0</th>\n",
       "      <td>{'isbn': '9781593275846', 'title': 'Eloquent J...</td>\n",
       "    </tr>\n",
       "    <tr>\n",
       "      <th>1</th>\n",
       "      <td>{'isbn': '9781449331818', 'title': 'Learning J...</td>\n",
       "    </tr>\n",
       "    <tr>\n",
       "      <th>2</th>\n",
       "      <td>{'isbn': '9781449365035', 'title': 'Speaking J...</td>\n",
       "    </tr>\n",
       "  </tbody>\n",
       "</table>\n",
       "</div>"
      ],
      "text/plain": [
       "                                               books\n",
       "0  {'isbn': '9781593275846', 'title': 'Eloquent J...\n",
       "1  {'isbn': '9781449331818', 'title': 'Learning J...\n",
       "2  {'isbn': '9781449365035', 'title': 'Speaking J..."
      ]
     },
     "execution_count": 26,
     "metadata": {},
     "output_type": "execute_result"
    }
   ],
   "source": [
    "pd.read_json(\"Ressources\\c2_books.json\")"
   ]
  },
  {
   "cell_type": "markdown",
   "id": "c9f7d061-dfc9-43e1-8bf6-92b6bc6aaa82",
   "metadata": {},
   "source": [
    "We can see that all of the information about a book was stored in a single data field, so we cannot really distinguish between the different information such as the author, title, etc. It would be much more useful to create a DataFrame where we have different columns for the different types of data."
   ]
  },
  {
   "cell_type": "code",
   "execution_count": 27,
   "id": "9a3226c7-f0ce-421a-b898-5ceb33f64d29",
   "metadata": {},
   "outputs": [],
   "source": [
    "import json\n",
    "from pandas import json_normalize"
   ]
  },
  {
   "cell_type": "markdown",
   "id": "b541228c-be1b-4538-8191-927be9808ab1",
   "metadata": {},
   "source": [
    "Let’s load the data from the JSON file and convert it to an object (a dictionary, really) which we store in the variable dictionary:"
   ]
  },
  {
   "cell_type": "code",
   "execution_count": 29,
   "id": "67a461c0-aa94-47c3-b4ff-1955b0950777",
   "metadata": {},
   "outputs": [],
   "source": [
    "with open(\"Ressources\\c2_books.json\", \"r\") as f:\n",
    "    json_string = f.read()\n",
    "    dictionary = json.loads(json_string)"
   ]
  },
  {
   "cell_type": "code",
   "execution_count": 30,
   "id": "7b178e18-9e98-4de5-b48b-3d8cb3865980",
   "metadata": {},
   "outputs": [
    {
     "data": {
      "text/html": [
       "<div>\n",
       "<style scoped>\n",
       "    .dataframe tbody tr th:only-of-type {\n",
       "        vertical-align: middle;\n",
       "    }\n",
       "\n",
       "    .dataframe tbody tr th {\n",
       "        vertical-align: top;\n",
       "    }\n",
       "\n",
       "    .dataframe thead th {\n",
       "        text-align: right;\n",
       "    }\n",
       "</style>\n",
       "<table border=\"1\" class=\"dataframe\">\n",
       "  <thead>\n",
       "    <tr style=\"text-align: right;\">\n",
       "      <th></th>\n",
       "      <th>isbn</th>\n",
       "      <th>title</th>\n",
       "      <th>subtitle</th>\n",
       "      <th>author</th>\n",
       "      <th>published</th>\n",
       "      <th>publisher</th>\n",
       "      <th>pages</th>\n",
       "      <th>description</th>\n",
       "      <th>website</th>\n",
       "    </tr>\n",
       "  </thead>\n",
       "  <tbody>\n",
       "    <tr>\n",
       "      <th>0</th>\n",
       "      <td>9781593275846</td>\n",
       "      <td>Eloquent JavaScript, Second Edition</td>\n",
       "      <td>A Modern Introduction to Programming</td>\n",
       "      <td>Marijn Haverbeke</td>\n",
       "      <td>2014-12-14T00:00:00.000Z</td>\n",
       "      <td>No Starch Press</td>\n",
       "      <td>472</td>\n",
       "      <td>JavaScript lies at the heart of almost every m...</td>\n",
       "      <td>http://eloquentjavascript.net/</td>\n",
       "    </tr>\n",
       "    <tr>\n",
       "      <th>1</th>\n",
       "      <td>9781449331818</td>\n",
       "      <td>Learning JavaScript Design Patterns</td>\n",
       "      <td>A JavaScript and jQuery Developer's Guide</td>\n",
       "      <td>Addy Osmani</td>\n",
       "      <td>2012-07-01T00:00:00.000Z</td>\n",
       "      <td>O'Reilly Media</td>\n",
       "      <td>254</td>\n",
       "      <td>With Learning JavaScript Design Patterns, you'...</td>\n",
       "      <td>http://www.addyosmani.com/resources/essentialj...</td>\n",
       "    </tr>\n",
       "    <tr>\n",
       "      <th>2</th>\n",
       "      <td>9781449365035</td>\n",
       "      <td>Speaking JavaScript</td>\n",
       "      <td>An In-Depth Guide for Programmers</td>\n",
       "      <td>Axel Rauschmayer</td>\n",
       "      <td>2014-02-01T00:00:00.000Z</td>\n",
       "      <td>O'Reilly Media</td>\n",
       "      <td>460</td>\n",
       "      <td>Like it or not, JavaScript is everywhere these...</td>\n",
       "      <td>http://speakingjs.com/</td>\n",
       "    </tr>\n",
       "  </tbody>\n",
       "</table>\n",
       "</div>"
      ],
      "text/plain": [
       "            isbn                                title  \\\n",
       "0  9781593275846  Eloquent JavaScript, Second Edition   \n",
       "1  9781449331818  Learning JavaScript Design Patterns   \n",
       "2  9781449365035                  Speaking JavaScript   \n",
       "\n",
       "                                    subtitle            author  \\\n",
       "0       A Modern Introduction to Programming  Marijn Haverbeke   \n",
       "1  A JavaScript and jQuery Developer's Guide       Addy Osmani   \n",
       "2          An In-Depth Guide for Programmers  Axel Rauschmayer   \n",
       "\n",
       "                  published        publisher  pages  \\\n",
       "0  2014-12-14T00:00:00.000Z  No Starch Press    472   \n",
       "1  2012-07-01T00:00:00.000Z   O'Reilly Media    254   \n",
       "2  2014-02-01T00:00:00.000Z   O'Reilly Media    460   \n",
       "\n",
       "                                         description  \\\n",
       "0  JavaScript lies at the heart of almost every m...   \n",
       "1  With Learning JavaScript Design Patterns, you'...   \n",
       "2  Like it or not, JavaScript is everywhere these...   \n",
       "\n",
       "                                             website  \n",
       "0                     http://eloquentjavascript.net/  \n",
       "1  http://www.addyosmani.com/resources/essentialj...  \n",
       "2                             http://speakingjs.com/  "
      ]
     },
     "execution_count": 30,
     "metadata": {},
     "output_type": "execute_result"
    }
   ],
   "source": [
    "json_normalize(dictionary, 'books')"
   ]
  },
  {
   "cell_type": "markdown",
   "id": "c5f87c31-08ae-4d19-bc3e-dc28a4ea4052",
   "metadata": {},
   "source": [
    "# Import HTML : \n",
    "The web is one of the major sources of data that you will encounter. Getting data from the web is known as web scraping, and it is a very useful skill in any data scientist’s toolbox.\n",
    "\n",
    "### The requests library : "
   ]
  },
  {
   "cell_type": "code",
   "execution_count": 32,
   "id": "1a357e3c-4ced-4607-8834-0d366a4d7336",
   "metadata": {},
   "outputs": [],
   "source": [
    "import requests\n",
    "page = requests.get(\n",
    "    \"https://web.archive.org/web/20180908144902/en.proverbia.net/shortfamousquotes.asp\"\n",
    ")"
   ]
  },
  {
   "cell_type": "code",
   "execution_count": 33,
   "id": "921b7c9b-2a56-4fc1-b12f-8e90a892cbb7",
   "metadata": {},
   "outputs": [
    {
     "data": {
      "text/plain": [
       "'\\n<!DOCTYPE html>\\n\\n<html lang=\"en\" xml:lang=\"en\">\\n<head><script type=\"text/javascript\" src=\"/_static/'"
      ]
     },
     "execution_count": 33,
     "metadata": {},
     "output_type": "execute_result"
    }
   ],
   "source": [
    "page.text[0:100]"
   ]
  },
  {
   "cell_type": "markdown",
   "id": "41bc4723-edd2-4c53-96bb-c790ee416682",
   "metadata": {},
   "source": [
    "It also has an attribute called status_code which indicates if the page was downloaded correctly:"
   ]
  },
  {
   "cell_type": "code",
   "execution_count": 34,
   "id": "9376a363-e922-47fa-bf95-03cc09e6d3ea",
   "metadata": {},
   "outputs": [
    {
     "data": {
      "text/plain": [
       "200"
      ]
     },
     "execution_count": 34,
     "metadata": {},
     "output_type": "execute_result"
    }
   ],
   "source": [
    "page.status_code"
   ]
  },
  {
   "cell_type": "markdown",
   "id": "a8557953-1e33-4b27-8098-5ab249912c53",
   "metadata": {},
   "source": [
    "A status code of 200 means that the page was downloaded correctly."
   ]
  },
  {
   "cell_type": "markdown",
   "id": "ba3c710a-f56d-4e84-bb9d-c35f56d770f3",
   "metadata": {},
   "source": [
    "# Web Scraping \n",
    "We will use a python library called BeautifulSoup. Let’s start by importing this library :"
   ]
  },
  {
   "cell_type": "code",
   "execution_count": 35,
   "id": "7766647f-907b-4219-8ea8-03d36eaf625c",
   "metadata": {},
   "outputs": [],
   "source": [
    "from bs4 import BeautifulSoup"
   ]
  },
  {
   "cell_type": "code",
   "execution_count": 36,
   "id": "907bd940-a22d-4111-aa4c-dfd4f81b66db",
   "metadata": {},
   "outputs": [],
   "source": [
    "soup = BeautifulSoup(page.text, \"html.parser\") #we work on the page scrape before"
   ]
  },
  {
   "cell_type": "markdown",
   "id": "af28e2a1-37cf-4924-930a-c836e832f716",
   "metadata": {},
   "source": [
    "Now comes the fun part: we want to extract the information that we want from the HTML code. In our case, our goal is to extract the quotes."
   ]
  },
  {
   "cell_type": "code",
   "execution_count": 37,
   "id": "02a1dcef-098a-4990-bfdd-9f11a1a8e45d",
   "metadata": {},
   "outputs": [
    {
     "data": {
      "text/plain": [
       "[<blockquote>There is a natural aristocracy among men. The grounds of this are virtue and talents. </blockquote>,\n",
       " <blockquote>All our words from loose using have lost their edge. </blockquote>,\n",
       " <blockquote>God couldn't be everywhere, so he created mothers </blockquote>,\n",
       " <blockquote>Be not afraid of going slowly, be afraid only of standing still. </blockquote>,\n",
       " <blockquote>Learn from yesterday, live for today, hope for tomorrow. </blockquote>,\n",
       " <blockquote>Do not confine your children to your own learning, for they were born in another time. </blockquote>,\n",
       " <blockquote>I hear and I forget, I see and I remember. I do and I understand. </blockquote>,\n",
       " <blockquote>In teaching others we teach ourselves. </blockquote>,\n",
       " <blockquote>Happiness will never come to those who fail to appreciate what they already have. </blockquote>,\n",
       " <blockquote>Without His love I can do nothing, with His love there is nothing I cannot do. </blockquote>]"
      ]
     },
     "execution_count": 37,
     "metadata": {},
     "output_type": "execute_result"
    }
   ],
   "source": [
    "quotes = soup.find_all(\"blockquote\")\n",
    "quotes"
   ]
  },
  {
   "cell_type": "code",
   "execution_count": 38,
   "id": "bd3470dd-566a-4134-a386-628c0fffa481",
   "metadata": {},
   "outputs": [
    {
     "data": {
      "text/plain": [
       "'There is a natural aristocracy among men. The grounds of this are virtue and talents. '"
      ]
     },
     "execution_count": 38,
     "metadata": {},
     "output_type": "execute_result"
    }
   ],
   "source": [
    "quotes[0].text"
   ]
  },
  {
   "cell_type": "code",
   "execution_count": 40,
   "id": "0689ce67-a677-4d42-a8fa-367b7637e04d",
   "metadata": {},
   "outputs": [
    {
     "data": {
      "text/plain": [
       "['There is a natural aristocracy among men. The grounds of this are virtue and talents. ',\n",
       " 'All our words from loose using have lost their edge. ',\n",
       " \"God couldn't be everywhere, so he created mothers \",\n",
       " 'Be not afraid of going slowly, be afraid only of standing still. ',\n",
       " 'Learn from yesterday, live for today, hope for tomorrow. ',\n",
       " 'Do not confine your children to your own learning, for they were born in another time. ',\n",
       " 'I hear and I forget, I see and I remember. I do and I understand. ',\n",
       " 'In teaching others we teach ourselves. ',\n",
       " 'Happiness will never come to those who fail to appreciate what they already have. ',\n",
       " 'Without His love I can do nothing, with His love there is nothing I cannot do. ']"
      ]
     },
     "execution_count": 40,
     "metadata": {},
     "output_type": "execute_result"
    }
   ],
   "source": [
    "quote_list = []\n",
    "for quote in quotes:\n",
    "    string = quote.text\n",
    "    quote_list.append(string)\n",
    "    \n",
    "quote_list"
   ]
  },
  {
   "cell_type": "code",
   "execution_count": 41,
   "id": "b999dca7-e54c-42e2-83c8-633ffaaa27bc",
   "metadata": {},
   "outputs": [
    {
     "data": {
      "text/html": [
       "<div>\n",
       "<style scoped>\n",
       "    .dataframe tbody tr th:only-of-type {\n",
       "        vertical-align: middle;\n",
       "    }\n",
       "\n",
       "    .dataframe tbody tr th {\n",
       "        vertical-align: top;\n",
       "    }\n",
       "\n",
       "    .dataframe thead th {\n",
       "        text-align: right;\n",
       "    }\n",
       "</style>\n",
       "<table border=\"1\" class=\"dataframe\">\n",
       "  <thead>\n",
       "    <tr style=\"text-align: right;\">\n",
       "      <th></th>\n",
       "      <th>Quote</th>\n",
       "    </tr>\n",
       "  </thead>\n",
       "  <tbody>\n",
       "    <tr>\n",
       "      <th>0</th>\n",
       "      <td>There is a natural aristocracy among men. The ...</td>\n",
       "    </tr>\n",
       "    <tr>\n",
       "      <th>1</th>\n",
       "      <td>All our words from loose using have lost their...</td>\n",
       "    </tr>\n",
       "    <tr>\n",
       "      <th>2</th>\n",
       "      <td>God couldn't be everywhere, so he created moth...</td>\n",
       "    </tr>\n",
       "    <tr>\n",
       "      <th>3</th>\n",
       "      <td>Be not afraid of going slowly, be afraid only ...</td>\n",
       "    </tr>\n",
       "    <tr>\n",
       "      <th>4</th>\n",
       "      <td>Learn from yesterday, live for today, hope for...</td>\n",
       "    </tr>\n",
       "    <tr>\n",
       "      <th>5</th>\n",
       "      <td>Do not confine your children to your own learn...</td>\n",
       "    </tr>\n",
       "    <tr>\n",
       "      <th>6</th>\n",
       "      <td>I hear and I forget, I see and I remember. I d...</td>\n",
       "    </tr>\n",
       "    <tr>\n",
       "      <th>7</th>\n",
       "      <td>In teaching others we teach ourselves.</td>\n",
       "    </tr>\n",
       "    <tr>\n",
       "      <th>8</th>\n",
       "      <td>Happiness will never come to those who fail to...</td>\n",
       "    </tr>\n",
       "    <tr>\n",
       "      <th>9</th>\n",
       "      <td>Without His love I can do nothing, with His lo...</td>\n",
       "    </tr>\n",
       "  </tbody>\n",
       "</table>\n",
       "</div>"
      ],
      "text/plain": [
       "                                               Quote\n",
       "0  There is a natural aristocracy among men. The ...\n",
       "1  All our words from loose using have lost their...\n",
       "2  God couldn't be everywhere, so he created moth...\n",
       "3  Be not afraid of going slowly, be afraid only ...\n",
       "4  Learn from yesterday, live for today, hope for...\n",
       "5  Do not confine your children to your own learn...\n",
       "6  I hear and I forget, I see and I remember. I d...\n",
       "7            In teaching others we teach ourselves. \n",
       "8  Happiness will never come to those who fail to...\n",
       "9  Without His love I can do nothing, with His lo..."
      ]
     },
     "execution_count": 41,
     "metadata": {},
     "output_type": "execute_result"
    }
   ],
   "source": [
    "df = pd.DataFrame(quote_list, columns=[\"Quote\"])\n",
    "df"
   ]
  },
  {
   "cell_type": "markdown",
   "id": "a6632e7d-1010-4edd-8bae-236a790e8b1f",
   "metadata": {},
   "source": [
    "We will now continue by extracting the authors of each quote. The first step is as before: to identify a pattern of tags that surround the text that we want."
   ]
  },
  {
   "cell_type": "code",
   "execution_count": 43,
   "id": "34f820e1-48d5-4d54-971f-46af76f3e1c1",
   "metadata": {},
   "outputs": [
    {
     "data": {
      "text/plain": [
       "[<p class=\"a\">\n",
       " <a href=\"/web/20180908144902/http://en.proverbia.net/citasautor.asp?autor=13797\" title=\"Thomas Jefferson Quotes\">Thomas Jefferson</a> <span>(1743-1826) Third president of the United States.</span>\n",
       " </p>,\n",
       " <p class=\"a\">\n",
       " <a href=\"/web/20180908144902/http://en.proverbia.net/citasautor.asp?autor=13355\" title=\"Ernest Hemingway Quotes\">Ernest Hemingway</a> <span>(1898-1961) American Writer.</span>\n",
       " </p>,\n",
       " <p class=\"a\">\n",
       " <a href=\"/web/20180908144902/http://en.proverbia.net/citasautor.asp?autor=15888\" title=\"Jewish proverb Quotes\">Jewish proverb</a> <span></span>\n",
       " </p>,\n",
       " <p class=\"a\">\n",
       " <a href=\"/web/20180908144902/http://en.proverbia.net/citasautor.asp?autor=15866\" title=\"Chinese proverb Quotes\">Chinese proverb</a> <span></span>\n",
       " </p>,\n",
       " <p class=\"a\">\n",
       " <a href=\"/web/20180908144902/http://en.proverbia.net/citasautor.asp?autor=17381\" title=\"Unknown Source Quotes\">Unknown Source</a> <span></span>\n",
       " </p>,\n",
       " <p class=\"a\">\n",
       " <a href=\"/web/20180908144902/http://en.proverbia.net/citasautor.asp?autor=15866\" title=\"Chinese proverb Quotes\">Chinese proverb</a> <span></span>\n",
       " </p>,\n",
       " <p class=\"a\">\n",
       " <a href=\"/web/20180908144902/http://en.proverbia.net/citasautor.asp?autor=15866\" title=\"Chinese proverb Quotes\">Chinese proverb</a> <span></span>\n",
       " </p>,\n",
       " <p class=\"a\">\n",
       " <a href=\"/web/20180908144902/http://en.proverbia.net/citasautor.asp?autor=15855\" title=\"Proverb Quotes\">Proverb</a> <span></span>\n",
       " </p>,\n",
       " <p class=\"a\">\n",
       " <a href=\"/web/20180908144902/http://en.proverbia.net/citasautor.asp?autor=17381\" title=\"Unknown Source Quotes\">Unknown Source</a> <span></span>\n",
       " </p>,\n",
       " <p class=\"a\">\n",
       " <a href=\"/web/20180908144902/http://en.proverbia.net/citasautor.asp?autor=17381\" title=\"Unknown Source Quotes\">Unknown Source</a> <span></span>\n",
       " </p>]"
      ]
     },
     "execution_count": 43,
     "metadata": {},
     "output_type": "execute_result"
    }
   ],
   "source": [
    "authors = soup.find_all(\"p\", class_=\"a\")\n",
    "authors"
   ]
  },
  {
   "cell_type": "code",
   "execution_count": 44,
   "id": "6e6a3783-1b8f-4896-944e-2d42be3f9feb",
   "metadata": {},
   "outputs": [
    {
     "data": {
      "text/plain": [
       "'\\nThomas Jefferson (1743-1826) Third president of the United States.\\n'"
      ]
     },
     "execution_count": 44,
     "metadata": {},
     "output_type": "execute_result"
    }
   ],
   "source": [
    "authors[0].text"
   ]
  },
  {
   "cell_type": "markdown",
   "id": "63497006-e4fd-461d-b922-766192c9d444",
   "metadata": {},
   "source": [
    "We can see that there are some extra characters that we would like to remove from the text. We can do this by just selecting the indices of the string that we want to keep. In this case, we want to get rid of the first and last characters (note that \\n is considered as a single character - it’s the new line character) - so the string we want to keep is:"
   ]
  },
  {
   "cell_type": "code",
   "execution_count": 45,
   "id": "f64fb2cc-f4fa-4773-a5ba-c71da0f9f425",
   "metadata": {},
   "outputs": [
    {
     "data": {
      "text/plain": [
       "'Thomas Jefferson (1743-1826) Third president of the United States.'"
      ]
     },
     "execution_count": 45,
     "metadata": {},
     "output_type": "execute_result"
    }
   ],
   "source": [
    "authors[0].text[1:-1]"
   ]
  },
  {
   "cell_type": "code",
   "execution_count": 46,
   "id": "503b2033-0f67-4814-9202-0dfbc31d2f19",
   "metadata": {},
   "outputs": [
    {
     "data": {
      "text/html": [
       "<div>\n",
       "<style scoped>\n",
       "    .dataframe tbody tr th:only-of-type {\n",
       "        vertical-align: middle;\n",
       "    }\n",
       "\n",
       "    .dataframe tbody tr th {\n",
       "        vertical-align: top;\n",
       "    }\n",
       "\n",
       "    .dataframe thead th {\n",
       "        text-align: right;\n",
       "    }\n",
       "</style>\n",
       "<table border=\"1\" class=\"dataframe\">\n",
       "  <thead>\n",
       "    <tr style=\"text-align: right;\">\n",
       "      <th></th>\n",
       "      <th>Quote</th>\n",
       "      <th>Author</th>\n",
       "    </tr>\n",
       "  </thead>\n",
       "  <tbody>\n",
       "    <tr>\n",
       "      <th>0</th>\n",
       "      <td>There is a natural aristocracy among men. The ...</td>\n",
       "      <td>Thomas Jefferson (1743-1826) Third president o...</td>\n",
       "    </tr>\n",
       "    <tr>\n",
       "      <th>1</th>\n",
       "      <td>All our words from loose using have lost their...</td>\n",
       "      <td>Ernest Hemingway (1898-1961) American Writer.</td>\n",
       "    </tr>\n",
       "    <tr>\n",
       "      <th>2</th>\n",
       "      <td>God couldn't be everywhere, so he created moth...</td>\n",
       "      <td>Jewish proverb</td>\n",
       "    </tr>\n",
       "    <tr>\n",
       "      <th>3</th>\n",
       "      <td>Be not afraid of going slowly, be afraid only ...</td>\n",
       "      <td>Chinese proverb</td>\n",
       "    </tr>\n",
       "    <tr>\n",
       "      <th>4</th>\n",
       "      <td>Learn from yesterday, live for today, hope for...</td>\n",
       "      <td>Unknown Source</td>\n",
       "    </tr>\n",
       "    <tr>\n",
       "      <th>5</th>\n",
       "      <td>Do not confine your children to your own learn...</td>\n",
       "      <td>Chinese proverb</td>\n",
       "    </tr>\n",
       "    <tr>\n",
       "      <th>6</th>\n",
       "      <td>I hear and I forget, I see and I remember. I d...</td>\n",
       "      <td>Chinese proverb</td>\n",
       "    </tr>\n",
       "    <tr>\n",
       "      <th>7</th>\n",
       "      <td>In teaching others we teach ourselves.</td>\n",
       "      <td>Proverb</td>\n",
       "    </tr>\n",
       "    <tr>\n",
       "      <th>8</th>\n",
       "      <td>Happiness will never come to those who fail to...</td>\n",
       "      <td>Unknown Source</td>\n",
       "    </tr>\n",
       "    <tr>\n",
       "      <th>9</th>\n",
       "      <td>Without His love I can do nothing, with His lo...</td>\n",
       "      <td>Unknown Source</td>\n",
       "    </tr>\n",
       "  </tbody>\n",
       "</table>\n",
       "</div>"
      ],
      "text/plain": [
       "                                               Quote  \\\n",
       "0  There is a natural aristocracy among men. The ...   \n",
       "1  All our words from loose using have lost their...   \n",
       "2  God couldn't be everywhere, so he created moth...   \n",
       "3  Be not afraid of going slowly, be afraid only ...   \n",
       "4  Learn from yesterday, live for today, hope for...   \n",
       "5  Do not confine your children to your own learn...   \n",
       "6  I hear and I forget, I see and I remember. I d...   \n",
       "7            In teaching others we teach ourselves.    \n",
       "8  Happiness will never come to those who fail to...   \n",
       "9  Without His love I can do nothing, with His lo...   \n",
       "\n",
       "                                              Author  \n",
       "0  Thomas Jefferson (1743-1826) Third president o...  \n",
       "1      Ernest Hemingway (1898-1961) American Writer.  \n",
       "2                                    Jewish proverb   \n",
       "3                                   Chinese proverb   \n",
       "4                                    Unknown Source   \n",
       "5                                   Chinese proverb   \n",
       "6                                   Chinese proverb   \n",
       "7                                           Proverb   \n",
       "8                                    Unknown Source   \n",
       "9                                    Unknown Source   "
      ]
     },
     "execution_count": 46,
     "metadata": {},
     "output_type": "execute_result"
    }
   ],
   "source": [
    "author_list = []\n",
    "for author in authors:\n",
    "    string = author.text[1:-1]\n",
    "    author_list.append(string)\n",
    "df[\"Author\"] = author_list\n",
    "df"
   ]
  },
  {
   "cell_type": "markdown",
   "id": "77d82105-10b3-45a8-86ab-60493d987292",
   "metadata": {},
   "source": [
    "Let’s summarize the steps that we did:\n",
    "\n",
    "- Download HTML code using the requests library\n",
    "- Create a BeautifulSoup object to contain the parse HTML code\n",
    "- Look for patterns identifying the information that you want to extract from the code\n",
    "- Search for specific tags using the ```find_all()``` method\n",
    "- Iterate over the object returned by ```find_all()``` and use the text attribute to extract the text between each set of tags\n",
    "- Store the strings in a Python list and convert to a DataFrame for further analysis\n",
    "\n",
    "### A special case: scraping tables \n",
    "\n",
    "It may happen that you want to directly scrape tables out of webpages. For that, you could apply the method described above i.e. collect the HTML from a webpage, then parse it using BeautifulSoup and insert it in a DataFrame.\n",
    "\n",
    "But fortunately, for that specific use case, Pandas has a built-in and straightforward method ```pd.read_html()``` that will automatically retrieve tables in a webpage (as identified by < table > in its HTML code) and insert them into a DataFrame."
   ]
  },
  {
   "cell_type": "code",
   "execution_count": 47,
   "id": "03c4ba38-82ea-481a-a593-64cf8a80c2fc",
   "metadata": {},
   "outputs": [
    {
     "name": "stdout",
     "output_type": "stream",
     "text": [
      "5\n",
      "  Nutrition facts As soldfor 100 g / 100 ml As soldper serving (15g)  \\\n",
      "0          Energy        2,252 kj(539 kcal)          338 kj(80 kcal)   \n",
      "1             Fat                    30.9 g                   4.63 g   \n",
      "2   Saturated fat                    10.6 g                   1.59 g   \n",
      "3   Carbohydrates                    57.5 g                   8.62 g   \n",
      "4          Sugars                    56.3 g                   8.44 g   \n",
      "\n",
      "  Compared to: Cocoa and hazelnuts spreads  \n",
      "0                                      -2%  \n",
      "1                                      -9%  \n",
      "2                                     +44%  \n",
      "3                                     +11%  \n",
      "4                                     +20%  \n"
     ]
    }
   ],
   "source": [
    "tables = pd.read_html(\"https://world.openfoodfacts.org/product/3017620422003/nutella-ferrero\")\n",
    "print(len(tables)) # 5\n",
    "print(tables[0].head())"
   ]
  },
  {
   "cell_type": "markdown",
   "id": "03de7be9-92ee-4bce-b0fb-b528c195df59",
   "metadata": {},
   "source": [
    "You could use the same method in a webpage with many tables, as for instance the Wikipedia page for world record progression for 50m metres freestyle, and it would return all the available tables:\n",
    "\n"
   ]
  },
  {
   "cell_type": "code",
   "execution_count": 48,
   "id": "8f037755-3d60-4c94-aab5-f58864f8ca56",
   "metadata": {},
   "outputs": [
    {
     "name": "stdout",
     "output_type": "stream",
     "text": [
      "9\n"
     ]
    }
   ],
   "source": [
    "tables = pd.read_html(\n",
    "    \"https://en.wikipedia.org/wiki/World_record_progression_50_metres_freestyle\"\n",
    ")\n",
    "print(len(tables))"
   ]
  },
  {
   "cell_type": "code",
   "execution_count": 49,
   "id": "3ae83492-22f5-4bd4-8211-3d54a9d9b925",
   "metadata": {},
   "outputs": [
    {
     "name": "stdout",
     "output_type": "stream",
     "text": [
      "   Pos   Time                   Swimmer              Date        Venue   Ref\n",
      "0    1  20.91         César Cielo (BRA)  18 December 2009    São Paulo   NaN\n",
      "1    2  20.94  Frederick Bousquet (FRA)     26 April 2009  Montpellier   NaN\n",
      "2    3  21.04      Caeleb Dressel (USA)      27 July 2019      Gwangju   NaN\n",
      "3    3  21.04      Caeleb Dressel (USA)      20 June 2021        Omaha  [19]\n",
      "4    4  21.06      Cameron McEvoy (AUS)      29 July 2023      Fukuoka  [20]\n"
     ]
    }
   ],
   "source": [
    "# the fifth table\n",
    "print(tables[4].head())"
   ]
  },
  {
   "cell_type": "code",
   "execution_count": 50,
   "id": "3ca9f58e-59f1-4537-a39a-54accff98a95",
   "metadata": {},
   "outputs": [
    {
     "name": "stdout",
     "output_type": "stream",
     "text": [
      "   Pos   Time                    Swimmer              Date         Venue   Ref\n",
      "0    1  22.93  Ranomi Kromowidjojo (NED)     7 August 2017       Germany   NaN\n",
      "1    2  23.00       Sarah Sjöström (SWE)     7 August 2017       Germany   NaN\n",
      "2    3  23.04          Emma McKeon (AUS)  17 December 2022     Melbourne  [39]\n",
      "3    4  23.10     Katarzyna Wasick (POL)   3 November 2022  Indianapolis  [40]\n",
      "4    5  23.19        Cate Campbell (AUS)   27 October 2017        Russia   NaN\n"
     ]
    }
   ],
   "source": [
    "# third table from the end of the list\n",
    "print(tables[-2].head())"
   ]
  },
  {
   "cell_type": "markdown",
   "id": "ad1fb745-2003-41c0-8906-780f1086f274",
   "metadata": {},
   "source": [
    "And if you’re only interested in tables mentioning “Switzerland”, then there is a parameter match exactly done for that:"
   ]
  },
  {
   "cell_type": "code",
   "execution_count": 51,
   "id": "b555f1a8-7353-41c1-a1bd-2dc5a5490d4e",
   "metadata": {},
   "outputs": [
    {
     "name": "stdout",
     "output_type": "stream",
     "text": [
      "1\n",
      "     Time          Name    Nationality\n",
      "10  22.54   Robin Leamy  United States\n",
      "11  22.52  Dano Halsall    Switzerland\n",
      "12  22.40     Tom Jager  United States\n",
      "13  22.33   Matt Biondi  United States\n",
      "14  22.33   Matt Biondi  United States\n"
     ]
    }
   ],
   "source": [
    "tables = pd.read_html(\n",
    "    \"https://en.wikipedia.org/wiki/World_record_progression_50_metres_freestyle\",\n",
    "    match=\"Switzerland\",\n",
    ")\n",
    "print(len(tables))  # 1\n",
    "print(tables[0][10:15][[\"Time\", \"Name\", \"Nationality\"]])"
   ]
  },
  {
   "cell_type": "code",
   "execution_count": null,
   "id": "e18ce326-6147-46c6-8b1e-d1f9179d323e",
   "metadata": {},
   "outputs": [],
   "source": []
  }
 ],
 "metadata": {
  "kernelspec": {
   "display_name": "Python [conda env:adsml] *",
   "language": "python",
   "name": "conda-env-adsml-py"
  },
  "language_info": {
   "codemirror_mode": {
    "name": "ipython",
    "version": 3
   },
   "file_extension": ".py",
   "mimetype": "text/x-python",
   "name": "python",
   "nbconvert_exporter": "python",
   "pygments_lexer": "ipython3",
   "version": "3.9.16"
  }
 },
 "nbformat": 4,
 "nbformat_minor": 5
}
