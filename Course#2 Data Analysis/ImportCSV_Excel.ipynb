{
 "cells": [
  {
   "cell_type": "code",
   "execution_count": 4,
   "id": "7d22d8f3-8131-4525-a8c1-f2c0a9742b9d",
   "metadata": {},
   "outputs": [
    {
     "name": "stdout",
     "output_type": "stream",
     "text": [
      "C:\\Users\\s1114237\\OneDrive - Syngenta\\Formations\\Training\\EPFL extension school\n"
     ]
    }
   ],
   "source": [
    "#TO remove :\n",
    "import os\n",
    "directory = os.getcwd()\n",
    "print(directory)"
   ]
  },
  {
   "cell_type": "code",
   "execution_count": 5,
   "id": "fdb6e8d5-655b-437e-bf0c-eab751b475ce",
   "metadata": {},
   "outputs": [
    {
     "name": "stdout",
     "output_type": "stream",
     "text": [
      "C:\\Users\\s1114237\\OneDrive - Syngenta\\Formations\\Training\\EPFL extension school\\Machine_Learning_EPFL-extension-school\\Course#2 Data Analysis\n"
     ]
    }
   ],
   "source": [
    "os.chdir(\"Machine_Learning_EPFL-extension-school\\Course#2 Data Analysis\")\n",
    "directory = os.getcwd()\n",
    "print(directory)"
   ]
  },
  {
   "cell_type": "code",
   "execution_count": 2,
   "id": "ef20ecd6-f051-4fc1-b19c-12bfe9458e40",
   "metadata": {},
   "outputs": [],
   "source": [
    "import numpy as np\n",
    "import pandas as pd"
   ]
  },
  {
   "cell_type": "markdown",
   "id": "24caed97-d6a9-4f15-b082-300e20751e31",
   "metadata": {},
   "source": [
    "# Import CSV\n",
    "In this unit, we will cover some more details about getting data from csv files and look at other file formats as well. Our tool of choice will be the pandas library, due to its user-friendliness and high-level functionality. <br> \n",
    "After creating csv file c2_file.csv, we import it : "
   ]
  },
  {
   "cell_type": "code",
   "execution_count": 6,
   "id": "9df4d380-1c82-45bf-bbee-1d270d540d5d",
   "metadata": {
    "tags": []
   },
   "outputs": [
    {
     "data": {
      "text/html": [
       "<div>\n",
       "<style scoped>\n",
       "    .dataframe tbody tr th:only-of-type {\n",
       "        vertical-align: middle;\n",
       "    }\n",
       "\n",
       "    .dataframe tbody tr th {\n",
       "        vertical-align: top;\n",
       "    }\n",
       "\n",
       "    .dataframe thead th {\n",
       "        text-align: right;\n",
       "    }\n",
       "</style>\n",
       "<table border=\"1\" class=\"dataframe\">\n",
       "  <thead>\n",
       "    <tr style=\"text-align: right;\">\n",
       "      <th></th>\n",
       "      <th>a</th>\n",
       "      <th>b</th>\n",
       "      <th>c</th>\n",
       "      <th>d</th>\n",
       "    </tr>\n",
       "  </thead>\n",
       "  <tbody>\n",
       "    <tr>\n",
       "      <th>0</th>\n",
       "      <td>yellow</td>\n",
       "      <td>10</td>\n",
       "      <td>2</td>\n",
       "      <td>3.2</td>\n",
       "    </tr>\n",
       "    <tr>\n",
       "      <th>1</th>\n",
       "      <td>green</td>\n",
       "      <td>2</td>\n",
       "      <td>3</td>\n",
       "      <td>8.1</td>\n",
       "    </tr>\n",
       "    <tr>\n",
       "      <th>2</th>\n",
       "      <td>blue</td>\n",
       "      <td>7</td>\n",
       "      <td>1</td>\n",
       "      <td>0.4</td>\n",
       "    </tr>\n",
       "  </tbody>\n",
       "</table>\n",
       "</div>"
      ],
      "text/plain": [
       "        a   b  c    d\n",
       "0  yellow  10  2  3.2\n",
       "1   green   2  3  8.1\n",
       "2    blue   7  1  0.4"
      ]
     },
     "execution_count": 6,
     "metadata": {},
     "output_type": "execute_result"
    }
   ],
   "source": [
    "df = pd.read_csv(\"Ressources/c2_file.csv\")\n",
    "df"
   ]
  },
  {
   "cell_type": "markdown",
   "id": "62347ebb-e9e6-4b69-8f8b-644943e81839",
   "metadata": {},
   "source": [
    "### Column headers :\n"
   ]
  },
  {
   "cell_type": "code",
   "execution_count": 9,
   "id": "b81ebd25-5421-46b6-9b24-4b6abe2adf24",
   "metadata": {},
   "outputs": [
    {
     "data": {
      "text/html": [
       "<div>\n",
       "<style scoped>\n",
       "    .dataframe tbody tr th:only-of-type {\n",
       "        vertical-align: middle;\n",
       "    }\n",
       "\n",
       "    .dataframe tbody tr th {\n",
       "        vertical-align: top;\n",
       "    }\n",
       "\n",
       "    .dataframe thead th {\n",
       "        text-align: right;\n",
       "    }\n",
       "</style>\n",
       "<table border=\"1\" class=\"dataframe\">\n",
       "  <thead>\n",
       "    <tr style=\"text-align: right;\">\n",
       "      <th></th>\n",
       "      <th>0</th>\n",
       "      <th>1</th>\n",
       "      <th>2</th>\n",
       "      <th>3</th>\n",
       "    </tr>\n",
       "  </thead>\n",
       "  <tbody>\n",
       "    <tr>\n",
       "      <th>0</th>\n",
       "      <td>a</td>\n",
       "      <td>b</td>\n",
       "      <td>c</td>\n",
       "      <td>d</td>\n",
       "    </tr>\n",
       "    <tr>\n",
       "      <th>1</th>\n",
       "      <td>yellow</td>\n",
       "      <td>10</td>\n",
       "      <td>2</td>\n",
       "      <td>3.2</td>\n",
       "    </tr>\n",
       "    <tr>\n",
       "      <th>2</th>\n",
       "      <td>green</td>\n",
       "      <td>2</td>\n",
       "      <td>3</td>\n",
       "      <td>8.1</td>\n",
       "    </tr>\n",
       "    <tr>\n",
       "      <th>3</th>\n",
       "      <td>blue</td>\n",
       "      <td>7</td>\n",
       "      <td>1</td>\n",
       "      <td>0.4</td>\n",
       "    </tr>\n",
       "  </tbody>\n",
       "</table>\n",
       "</div>"
      ],
      "text/plain": [
       "        0   1  2    3\n",
       "0       a   b  c    d\n",
       "1  yellow  10  2  3.2\n",
       "2   green   2  3  8.1\n",
       "3    blue   7  1  0.4"
      ]
     },
     "execution_count": 9,
     "metadata": {},
     "output_type": "execute_result"
    }
   ],
   "source": [
    "pd.read_csv(\"Ressources/c2_file.csv\", header=None)"
   ]
  },
  {
   "cell_type": "code",
   "execution_count": 11,
   "id": "2290c4a5-722e-447b-8c23-3473938ff752",
   "metadata": {},
   "outputs": [
    {
     "data": {
      "text/html": [
       "<div>\n",
       "<style scoped>\n",
       "    .dataframe tbody tr th:only-of-type {\n",
       "        vertical-align: middle;\n",
       "    }\n",
       "\n",
       "    .dataframe tbody tr th {\n",
       "        vertical-align: top;\n",
       "    }\n",
       "\n",
       "    .dataframe thead th {\n",
       "        text-align: right;\n",
       "    }\n",
       "</style>\n",
       "<table border=\"1\" class=\"dataframe\">\n",
       "  <thead>\n",
       "    <tr style=\"text-align: right;\">\n",
       "      <th></th>\n",
       "      <th>column 1</th>\n",
       "      <th>column 2</th>\n",
       "      <th>column 3</th>\n",
       "      <th>column 4</th>\n",
       "    </tr>\n",
       "  </thead>\n",
       "  <tbody>\n",
       "    <tr>\n",
       "      <th>0</th>\n",
       "      <td>a</td>\n",
       "      <td>b</td>\n",
       "      <td>c</td>\n",
       "      <td>d</td>\n",
       "    </tr>\n",
       "    <tr>\n",
       "      <th>1</th>\n",
       "      <td>yellow</td>\n",
       "      <td>10</td>\n",
       "      <td>2</td>\n",
       "      <td>3.2</td>\n",
       "    </tr>\n",
       "    <tr>\n",
       "      <th>2</th>\n",
       "      <td>green</td>\n",
       "      <td>2</td>\n",
       "      <td>3</td>\n",
       "      <td>8.1</td>\n",
       "    </tr>\n",
       "    <tr>\n",
       "      <th>3</th>\n",
       "      <td>blue</td>\n",
       "      <td>7</td>\n",
       "      <td>1</td>\n",
       "      <td>0.4</td>\n",
       "    </tr>\n",
       "  </tbody>\n",
       "</table>\n",
       "</div>"
      ],
      "text/plain": [
       "  column 1 column 2 column 3 column 4\n",
       "0        a        b        c        d\n",
       "1   yellow       10        2      3.2\n",
       "2    green        2        3      8.1\n",
       "3     blue        7        1      0.4"
      ]
     },
     "execution_count": 11,
     "metadata": {},
     "output_type": "execute_result"
    }
   ],
   "source": [
    "pd.read_csv(\"Ressources/c2_file.csv\", names=[\"column 1\", \"column 2\", \"column 3\", \"column 4\"])"
   ]
  },
  {
   "cell_type": "markdown",
   "id": "037f9178-ddd6-4e8d-9fb3-14618ed71291",
   "metadata": {},
   "source": [
    "### Row indexes :"
   ]
  },
  {
   "cell_type": "code",
   "execution_count": 14,
   "id": "d9963f70-8c04-4ba2-9b62-d83a5bf7bbac",
   "metadata": {},
   "outputs": [
    {
     "data": {
      "text/html": [
       "<div>\n",
       "<style scoped>\n",
       "    .dataframe tbody tr th:only-of-type {\n",
       "        vertical-align: middle;\n",
       "    }\n",
       "\n",
       "    .dataframe tbody tr th {\n",
       "        vertical-align: top;\n",
       "    }\n",
       "\n",
       "    .dataframe thead th {\n",
       "        text-align: right;\n",
       "    }\n",
       "</style>\n",
       "<table border=\"1\" class=\"dataframe\">\n",
       "  <thead>\n",
       "    <tr style=\"text-align: right;\">\n",
       "      <th></th>\n",
       "      <th>b</th>\n",
       "      <th>c</th>\n",
       "      <th>d</th>\n",
       "    </tr>\n",
       "    <tr>\n",
       "      <th>a</th>\n",
       "      <th></th>\n",
       "      <th></th>\n",
       "      <th></th>\n",
       "    </tr>\n",
       "  </thead>\n",
       "  <tbody>\n",
       "    <tr>\n",
       "      <th>yellow</th>\n",
       "      <td>10</td>\n",
       "      <td>2</td>\n",
       "      <td>3.2</td>\n",
       "    </tr>\n",
       "    <tr>\n",
       "      <th>green</th>\n",
       "      <td>2</td>\n",
       "      <td>3</td>\n",
       "      <td>8.1</td>\n",
       "    </tr>\n",
       "    <tr>\n",
       "      <th>blue</th>\n",
       "      <td>7</td>\n",
       "      <td>1</td>\n",
       "      <td>0.4</td>\n",
       "    </tr>\n",
       "  </tbody>\n",
       "</table>\n",
       "</div>"
      ],
      "text/plain": [
       "         b  c    d\n",
       "a                 \n",
       "yellow  10  2  3.2\n",
       "green    2  3  8.1\n",
       "blue     7  1  0.4"
      ]
     },
     "execution_count": 14,
     "metadata": {},
     "output_type": "execute_result"
    }
   ],
   "source": [
    "pd.read_csv(\"Ressources/c2_file.csv\", index_col=0)"
   ]
  },
  {
   "cell_type": "markdown",
   "id": "e2e0b776-d9de-4b63-b4c2-d66b37e869d2",
   "metadata": {},
   "source": [
    "### Data type inference"
   ]
  },
  {
   "cell_type": "code",
   "execution_count": 15,
   "id": "f7372f70-aca9-492f-a480-1005262faf06",
   "metadata": {},
   "outputs": [
    {
     "data": {
      "text/plain": [
       "a     object\n",
       "b      int64\n",
       "c      int64\n",
       "d    float64\n",
       "dtype: object"
      ]
     },
     "execution_count": 15,
     "metadata": {},
     "output_type": "execute_result"
    }
   ],
   "source": [
    "df.dtypes"
   ]
  },
  {
   "cell_type": "code",
   "execution_count": 17,
   "id": "6e584a6a-f4cf-4f5b-ac3d-4d338902a6ef",
   "metadata": {},
   "outputs": [
    {
     "data": {
      "text/plain": [
       "a     object\n",
       "b    float64\n",
       "c      int64\n",
       "d    float64\n",
       "dtype: object"
      ]
     },
     "execution_count": 17,
     "metadata": {},
     "output_type": "execute_result"
    }
   ],
   "source": [
    "df2 = pd.read_csv(\"Ressources\\c2_file.csv\", dtype={\"b\": np.float64})\n",
    "df2.dtypes"
   ]
  },
  {
   "cell_type": "markdown",
   "id": "f7bb8d28-78d7-4178-81f5-de8c0309b32f",
   "metadata": {},
   "source": [
    "We can see that the second column now has the data type float64. This works fine because the column contains integer values, so the data type we specified is more general than the values in the column. However, if we tried to assign an incompatible data type, pandas will warn us that this is not possible. Let’s try this out by requiring the first column to have data type int64"
   ]
  },
  {
   "cell_type": "code",
   "execution_count": 18,
   "id": "3ae49eee-0f54-4b69-8c5a-190289b61b52",
   "metadata": {},
   "outputs": [
    {
     "ename": "ValueError",
     "evalue": "invalid literal for int() with base 10: 'yellow'",
     "output_type": "error",
     "traceback": [
      "\u001b[1;31m---------------------------------------------------------------------------\u001b[0m",
      "\u001b[1;31mTypeError\u001b[0m                                 Traceback (most recent call last)",
      "\u001b[1;32m~\\Anaconda3\\envs\\adsml\\lib\\site-packages\\pandas\\_libs\\parsers.pyx\u001b[0m in \u001b[0;36mpandas._libs.parsers.TextReader._convert_tokens\u001b[1;34m()\u001b[0m\n",
      "\u001b[1;31mTypeError\u001b[0m: Cannot cast array data from dtype('O') to dtype('int64') according to the rule 'safe'",
      "\nDuring handling of the above exception, another exception occurred:\n",
      "\u001b[1;31mValueError\u001b[0m                                Traceback (most recent call last)",
      "\u001b[1;32m~\\AppData\\Local\\Temp\\ipykernel_11708\\370859273.py\u001b[0m in \u001b[0;36m<module>\u001b[1;34m\u001b[0m\n\u001b[1;32m----> 1\u001b[1;33m \u001b[0mdf2\u001b[0m \u001b[1;33m=\u001b[0m \u001b[0mpd\u001b[0m\u001b[1;33m.\u001b[0m\u001b[0mread_csv\u001b[0m\u001b[1;33m(\u001b[0m\u001b[1;34m'Ressources\\c2_file.csv'\u001b[0m\u001b[1;33m,\u001b[0m  \u001b[0mdtype\u001b[0m \u001b[1;33m=\u001b[0m \u001b[1;33m{\u001b[0m \u001b[1;34m'a'\u001b[0m \u001b[1;33m:\u001b[0m \u001b[0mnp\u001b[0m\u001b[1;33m.\u001b[0m\u001b[0mint64\u001b[0m\u001b[1;33m}\u001b[0m\u001b[1;33m)\u001b[0m\u001b[1;33m\u001b[0m\u001b[1;33m\u001b[0m\u001b[0m\n\u001b[0m",
      "\u001b[1;32m~\\Anaconda3\\envs\\adsml\\lib\\site-packages\\pandas\\util\\_decorators.py\u001b[0m in \u001b[0;36mwrapper\u001b[1;34m(*args, **kwargs)\u001b[0m\n\u001b[0;32m    309\u001b[0m                     \u001b[0mstacklevel\u001b[0m\u001b[1;33m=\u001b[0m\u001b[0mstacklevel\u001b[0m\u001b[1;33m,\u001b[0m\u001b[1;33m\u001b[0m\u001b[1;33m\u001b[0m\u001b[0m\n\u001b[0;32m    310\u001b[0m                 )\n\u001b[1;32m--> 311\u001b[1;33m             \u001b[1;32mreturn\u001b[0m \u001b[0mfunc\u001b[0m\u001b[1;33m(\u001b[0m\u001b[1;33m*\u001b[0m\u001b[0margs\u001b[0m\u001b[1;33m,\u001b[0m \u001b[1;33m**\u001b[0m\u001b[0mkwargs\u001b[0m\u001b[1;33m)\u001b[0m\u001b[1;33m\u001b[0m\u001b[1;33m\u001b[0m\u001b[0m\n\u001b[0m\u001b[0;32m    312\u001b[0m \u001b[1;33m\u001b[0m\u001b[0m\n\u001b[0;32m    313\u001b[0m         \u001b[1;32mreturn\u001b[0m \u001b[0mwrapper\u001b[0m\u001b[1;33m\u001b[0m\u001b[1;33m\u001b[0m\u001b[0m\n",
      "\u001b[1;32m~\\Anaconda3\\envs\\adsml\\lib\\site-packages\\pandas\\io\\parsers\\readers.py\u001b[0m in \u001b[0;36mread_csv\u001b[1;34m(filepath_or_buffer, sep, delimiter, header, names, index_col, usecols, squeeze, prefix, mangle_dupe_cols, dtype, engine, converters, true_values, false_values, skipinitialspace, skiprows, skipfooter, nrows, na_values, keep_default_na, na_filter, verbose, skip_blank_lines, parse_dates, infer_datetime_format, keep_date_col, date_parser, dayfirst, cache_dates, iterator, chunksize, compression, thousands, decimal, lineterminator, quotechar, quoting, doublequote, escapechar, comment, encoding, encoding_errors, dialect, error_bad_lines, warn_bad_lines, on_bad_lines, delim_whitespace, low_memory, memory_map, float_precision, storage_options)\u001b[0m\n\u001b[0;32m    584\u001b[0m     \u001b[0mkwds\u001b[0m\u001b[1;33m.\u001b[0m\u001b[0mupdate\u001b[0m\u001b[1;33m(\u001b[0m\u001b[0mkwds_defaults\u001b[0m\u001b[1;33m)\u001b[0m\u001b[1;33m\u001b[0m\u001b[1;33m\u001b[0m\u001b[0m\n\u001b[0;32m    585\u001b[0m \u001b[1;33m\u001b[0m\u001b[0m\n\u001b[1;32m--> 586\u001b[1;33m     \u001b[1;32mreturn\u001b[0m \u001b[0m_read\u001b[0m\u001b[1;33m(\u001b[0m\u001b[0mfilepath_or_buffer\u001b[0m\u001b[1;33m,\u001b[0m \u001b[0mkwds\u001b[0m\u001b[1;33m)\u001b[0m\u001b[1;33m\u001b[0m\u001b[1;33m\u001b[0m\u001b[0m\n\u001b[0m\u001b[0;32m    587\u001b[0m \u001b[1;33m\u001b[0m\u001b[0m\n\u001b[0;32m    588\u001b[0m \u001b[1;33m\u001b[0m\u001b[0m\n",
      "\u001b[1;32m~\\Anaconda3\\envs\\adsml\\lib\\site-packages\\pandas\\io\\parsers\\readers.py\u001b[0m in \u001b[0;36m_read\u001b[1;34m(filepath_or_buffer, kwds)\u001b[0m\n\u001b[0;32m    486\u001b[0m \u001b[1;33m\u001b[0m\u001b[0m\n\u001b[0;32m    487\u001b[0m     \u001b[1;32mwith\u001b[0m \u001b[0mparser\u001b[0m\u001b[1;33m:\u001b[0m\u001b[1;33m\u001b[0m\u001b[1;33m\u001b[0m\u001b[0m\n\u001b[1;32m--> 488\u001b[1;33m         \u001b[1;32mreturn\u001b[0m \u001b[0mparser\u001b[0m\u001b[1;33m.\u001b[0m\u001b[0mread\u001b[0m\u001b[1;33m(\u001b[0m\u001b[0mnrows\u001b[0m\u001b[1;33m)\u001b[0m\u001b[1;33m\u001b[0m\u001b[1;33m\u001b[0m\u001b[0m\n\u001b[0m\u001b[0;32m    489\u001b[0m \u001b[1;33m\u001b[0m\u001b[0m\n\u001b[0;32m    490\u001b[0m \u001b[1;33m\u001b[0m\u001b[0m\n",
      "\u001b[1;32m~\\Anaconda3\\envs\\adsml\\lib\\site-packages\\pandas\\io\\parsers\\readers.py\u001b[0m in \u001b[0;36mread\u001b[1;34m(self, nrows)\u001b[0m\n\u001b[0;32m   1045\u001b[0m     \u001b[1;32mdef\u001b[0m \u001b[0mread\u001b[0m\u001b[1;33m(\u001b[0m\u001b[0mself\u001b[0m\u001b[1;33m,\u001b[0m \u001b[0mnrows\u001b[0m\u001b[1;33m=\u001b[0m\u001b[1;32mNone\u001b[0m\u001b[1;33m)\u001b[0m\u001b[1;33m:\u001b[0m\u001b[1;33m\u001b[0m\u001b[1;33m\u001b[0m\u001b[0m\n\u001b[0;32m   1046\u001b[0m         \u001b[0mnrows\u001b[0m \u001b[1;33m=\u001b[0m \u001b[0mvalidate_integer\u001b[0m\u001b[1;33m(\u001b[0m\u001b[1;34m\"nrows\"\u001b[0m\u001b[1;33m,\u001b[0m \u001b[0mnrows\u001b[0m\u001b[1;33m)\u001b[0m\u001b[1;33m\u001b[0m\u001b[1;33m\u001b[0m\u001b[0m\n\u001b[1;32m-> 1047\u001b[1;33m         \u001b[0mindex\u001b[0m\u001b[1;33m,\u001b[0m \u001b[0mcolumns\u001b[0m\u001b[1;33m,\u001b[0m \u001b[0mcol_dict\u001b[0m \u001b[1;33m=\u001b[0m \u001b[0mself\u001b[0m\u001b[1;33m.\u001b[0m\u001b[0m_engine\u001b[0m\u001b[1;33m.\u001b[0m\u001b[0mread\u001b[0m\u001b[1;33m(\u001b[0m\u001b[0mnrows\u001b[0m\u001b[1;33m)\u001b[0m\u001b[1;33m\u001b[0m\u001b[1;33m\u001b[0m\u001b[0m\n\u001b[0m\u001b[0;32m   1048\u001b[0m \u001b[1;33m\u001b[0m\u001b[0m\n\u001b[0;32m   1049\u001b[0m         \u001b[1;32mif\u001b[0m \u001b[0mindex\u001b[0m \u001b[1;32mis\u001b[0m \u001b[1;32mNone\u001b[0m\u001b[1;33m:\u001b[0m\u001b[1;33m\u001b[0m\u001b[1;33m\u001b[0m\u001b[0m\n",
      "\u001b[1;32m~\\Anaconda3\\envs\\adsml\\lib\\site-packages\\pandas\\io\\parsers\\c_parser_wrapper.py\u001b[0m in \u001b[0;36mread\u001b[1;34m(self, nrows)\u001b[0m\n\u001b[0;32m    222\u001b[0m         \u001b[1;32mtry\u001b[0m\u001b[1;33m:\u001b[0m\u001b[1;33m\u001b[0m\u001b[1;33m\u001b[0m\u001b[0m\n\u001b[0;32m    223\u001b[0m             \u001b[1;32mif\u001b[0m \u001b[0mself\u001b[0m\u001b[1;33m.\u001b[0m\u001b[0mlow_memory\u001b[0m\u001b[1;33m:\u001b[0m\u001b[1;33m\u001b[0m\u001b[1;33m\u001b[0m\u001b[0m\n\u001b[1;32m--> 224\u001b[1;33m                 \u001b[0mchunks\u001b[0m \u001b[1;33m=\u001b[0m \u001b[0mself\u001b[0m\u001b[1;33m.\u001b[0m\u001b[0m_reader\u001b[0m\u001b[1;33m.\u001b[0m\u001b[0mread_low_memory\u001b[0m\u001b[1;33m(\u001b[0m\u001b[0mnrows\u001b[0m\u001b[1;33m)\u001b[0m\u001b[1;33m\u001b[0m\u001b[1;33m\u001b[0m\u001b[0m\n\u001b[0m\u001b[0;32m    225\u001b[0m                 \u001b[1;31m# destructive to chunks\u001b[0m\u001b[1;33m\u001b[0m\u001b[1;33m\u001b[0m\u001b[0m\n\u001b[0;32m    226\u001b[0m                 \u001b[0mdata\u001b[0m \u001b[1;33m=\u001b[0m \u001b[0m_concatenate_chunks\u001b[0m\u001b[1;33m(\u001b[0m\u001b[0mchunks\u001b[0m\u001b[1;33m)\u001b[0m\u001b[1;33m\u001b[0m\u001b[1;33m\u001b[0m\u001b[0m\n",
      "\u001b[1;32m~\\Anaconda3\\envs\\adsml\\lib\\site-packages\\pandas\\_libs\\parsers.pyx\u001b[0m in \u001b[0;36mpandas._libs.parsers.TextReader.read_low_memory\u001b[1;34m()\u001b[0m\n",
      "\u001b[1;32m~\\Anaconda3\\envs\\adsml\\lib\\site-packages\\pandas\\_libs\\parsers.pyx\u001b[0m in \u001b[0;36mpandas._libs.parsers.TextReader._read_rows\u001b[1;34m()\u001b[0m\n",
      "\u001b[1;32m~\\Anaconda3\\envs\\adsml\\lib\\site-packages\\pandas\\_libs\\parsers.pyx\u001b[0m in \u001b[0;36mpandas._libs.parsers.TextReader._convert_column_data\u001b[1;34m()\u001b[0m\n",
      "\u001b[1;32m~\\Anaconda3\\envs\\adsml\\lib\\site-packages\\pandas\\_libs\\parsers.pyx\u001b[0m in \u001b[0;36mpandas._libs.parsers.TextReader._convert_tokens\u001b[1;34m()\u001b[0m\n",
      "\u001b[1;31mValueError\u001b[0m: invalid literal for int() with base 10: 'yellow'"
     ]
    }
   ],
   "source": [
    "df2 = pd.read_csv('Ressources\\c2_file.csv',  dtype = { 'a' : np.int64})"
   ]
  },
  {
   "cell_type": "markdown",
   "id": "05da08e9-9050-4f29-95b6-68484a07f44a",
   "metadata": {},
   "source": [
    "### Loading Partial data :"
   ]
  },
  {
   "cell_type": "code",
   "execution_count": 19,
   "id": "3cce00fb-0a4f-40d0-b5cb-10f9f9381c8f",
   "metadata": {},
   "outputs": [
    {
     "data": {
      "text/html": [
       "<div>\n",
       "<style scoped>\n",
       "    .dataframe tbody tr th:only-of-type {\n",
       "        vertical-align: middle;\n",
       "    }\n",
       "\n",
       "    .dataframe tbody tr th {\n",
       "        vertical-align: top;\n",
       "    }\n",
       "\n",
       "    .dataframe thead th {\n",
       "        text-align: right;\n",
       "    }\n",
       "</style>\n",
       "<table border=\"1\" class=\"dataframe\">\n",
       "  <thead>\n",
       "    <tr style=\"text-align: right;\">\n",
       "      <th></th>\n",
       "      <th>a</th>\n",
       "      <th>b</th>\n",
       "    </tr>\n",
       "  </thead>\n",
       "  <tbody>\n",
       "    <tr>\n",
       "      <th>0</th>\n",
       "      <td>yellow</td>\n",
       "      <td>10</td>\n",
       "    </tr>\n",
       "    <tr>\n",
       "      <th>1</th>\n",
       "      <td>green</td>\n",
       "      <td>2</td>\n",
       "    </tr>\n",
       "    <tr>\n",
       "      <th>2</th>\n",
       "      <td>blue</td>\n",
       "      <td>7</td>\n",
       "    </tr>\n",
       "  </tbody>\n",
       "</table>\n",
       "</div>"
      ],
      "text/plain": [
       "        a   b\n",
       "0  yellow  10\n",
       "1   green   2\n",
       "2    blue   7"
      ]
     },
     "execution_count": 19,
     "metadata": {},
     "output_type": "execute_result"
    }
   ],
   "source": [
    "pd.read_csv(\"Ressources\\c2_file.csv\", usecols=[\"a\", \"b\"])"
   ]
  },
  {
   "cell_type": "markdown",
   "id": "6d17dd62-f28c-4c34-a5e8-d11be798762a",
   "metadata": {},
   "source": [
    "# Import Excel file :"
   ]
  },
  {
   "cell_type": "code",
   "execution_count": 21,
   "id": "99377146-64d2-4014-a21d-37f81a2476b4",
   "metadata": {},
   "outputs": [
    {
     "data": {
      "text/html": [
       "<div>\n",
       "<style scoped>\n",
       "    .dataframe tbody tr th:only-of-type {\n",
       "        vertical-align: middle;\n",
       "    }\n",
       "\n",
       "    .dataframe tbody tr th {\n",
       "        vertical-align: top;\n",
       "    }\n",
       "\n",
       "    .dataframe thead th {\n",
       "        text-align: right;\n",
       "    }\n",
       "</style>\n",
       "<table border=\"1\" class=\"dataframe\">\n",
       "  <thead>\n",
       "    <tr style=\"text-align: right;\">\n",
       "      <th></th>\n",
       "      <th>varA</th>\n",
       "      <th>varB</th>\n",
       "      <th>varC</th>\n",
       "    </tr>\n",
       "  </thead>\n",
       "  <tbody>\n",
       "    <tr>\n",
       "      <th>0</th>\n",
       "      <td>0.391723</td>\n",
       "      <td>-0.155122</td>\n",
       "      <td>0.381104</td>\n",
       "    </tr>\n",
       "    <tr>\n",
       "      <th>1</th>\n",
       "      <td>0.575125</td>\n",
       "      <td>-0.105817</td>\n",
       "      <td>0.232245</td>\n",
       "    </tr>\n",
       "    <tr>\n",
       "      <th>2</th>\n",
       "      <td>0.672305</td>\n",
       "      <td>0.424688</td>\n",
       "      <td>-0.694795</td>\n",
       "    </tr>\n",
       "    <tr>\n",
       "      <th>3</th>\n",
       "      <td>0.766115</td>\n",
       "      <td>-0.791350</td>\n",
       "      <td>-0.028739</td>\n",
       "    </tr>\n",
       "    <tr>\n",
       "      <th>4</th>\n",
       "      <td>0.677259</td>\n",
       "      <td>-0.817543</td>\n",
       "      <td>-0.537088</td>\n",
       "    </tr>\n",
       "    <tr>\n",
       "      <th>5</th>\n",
       "      <td>-0.029702</td>\n",
       "      <td>-0.891848</td>\n",
       "      <td>-0.682719</td>\n",
       "    </tr>\n",
       "    <tr>\n",
       "      <th>6</th>\n",
       "      <td>-0.161366</td>\n",
       "      <td>-0.659600</td>\n",
       "      <td>-0.727898</td>\n",
       "    </tr>\n",
       "    <tr>\n",
       "      <th>7</th>\n",
       "      <td>0.031672</td>\n",
       "      <td>0.016607</td>\n",
       "      <td>-0.940479</td>\n",
       "    </tr>\n",
       "    <tr>\n",
       "      <th>8</th>\n",
       "      <td>0.833212</td>\n",
       "      <td>-0.503236</td>\n",
       "      <td>-0.887210</td>\n",
       "    </tr>\n",
       "    <tr>\n",
       "      <th>9</th>\n",
       "      <td>0.907753</td>\n",
       "      <td>0.265177</td>\n",
       "      <td>-0.390762</td>\n",
       "    </tr>\n",
       "  </tbody>\n",
       "</table>\n",
       "</div>"
      ],
      "text/plain": [
       "       varA      varB      varC\n",
       "0  0.391723 -0.155122  0.381104\n",
       "1  0.575125 -0.105817  0.232245\n",
       "2  0.672305  0.424688 -0.694795\n",
       "3  0.766115 -0.791350 -0.028739\n",
       "4  0.677259 -0.817543 -0.537088\n",
       "5 -0.029702 -0.891848 -0.682719\n",
       "6 -0.161366 -0.659600 -0.727898\n",
       "7  0.031672  0.016607 -0.940479\n",
       "8  0.833212 -0.503236 -0.887210\n",
       "9  0.907753  0.265177 -0.390762"
      ]
     },
     "execution_count": 21,
     "metadata": {},
     "output_type": "execute_result"
    }
   ],
   "source": [
    "pd.read_excel(\"Ressources\\c2_data.xls\")"
   ]
  },
  {
   "cell_type": "code",
   "execution_count": 23,
   "id": "993dbd0a-880a-4663-b30b-f47f287c6130",
   "metadata": {},
   "outputs": [
    {
     "data": {
      "text/html": [
       "<div>\n",
       "<style scoped>\n",
       "    .dataframe tbody tr th:only-of-type {\n",
       "        vertical-align: middle;\n",
       "    }\n",
       "\n",
       "    .dataframe tbody tr th {\n",
       "        vertical-align: top;\n",
       "    }\n",
       "\n",
       "    .dataframe thead th {\n",
       "        text-align: right;\n",
       "    }\n",
       "</style>\n",
       "<table border=\"1\" class=\"dataframe\">\n",
       "  <thead>\n",
       "    <tr style=\"text-align: right;\">\n",
       "      <th></th>\n",
       "      <th>varD</th>\n",
       "      <th>varE</th>\n",
       "      <th>varF</th>\n",
       "    </tr>\n",
       "  </thead>\n",
       "  <tbody>\n",
       "    <tr>\n",
       "      <th>0</th>\n",
       "      <td>0.907753</td>\n",
       "      <td>0.265177</td>\n",
       "      <td>-0.390762</td>\n",
       "    </tr>\n",
       "    <tr>\n",
       "      <th>1</th>\n",
       "      <td>0.755019</td>\n",
       "      <td>-0.768056</td>\n",
       "      <td>-0.528307</td>\n",
       "    </tr>\n",
       "    <tr>\n",
       "      <th>2</th>\n",
       "      <td>0.850692</td>\n",
       "      <td>-0.537159</td>\n",
       "      <td>-0.601387</td>\n",
       "    </tr>\n",
       "    <tr>\n",
       "      <th>3</th>\n",
       "      <td>0.131663</td>\n",
       "      <td>0.941327</td>\n",
       "      <td>0.240073</td>\n",
       "    </tr>\n",
       "    <tr>\n",
       "      <th>4</th>\n",
       "      <td>0.574400</td>\n",
       "      <td>0.091735</td>\n",
       "      <td>-0.395277</td>\n",
       "    </tr>\n",
       "    <tr>\n",
       "      <th>5</th>\n",
       "      <td>0.816630</td>\n",
       "      <td>0.875612</td>\n",
       "      <td>-0.880044</td>\n",
       "    </tr>\n",
       "    <tr>\n",
       "      <th>6</th>\n",
       "      <td>0.536732</td>\n",
       "      <td>0.175428</td>\n",
       "      <td>-0.473053</td>\n",
       "    </tr>\n",
       "    <tr>\n",
       "      <th>7</th>\n",
       "      <td>-0.084641</td>\n",
       "      <td>-0.042827</td>\n",
       "      <td>0.053344</td>\n",
       "    </tr>\n",
       "    <tr>\n",
       "      <th>8</th>\n",
       "      <td>0.268271</td>\n",
       "      <td>-0.010628</td>\n",
       "      <td>-0.090952</td>\n",
       "    </tr>\n",
       "    <tr>\n",
       "      <th>9</th>\n",
       "      <td>0.166792</td>\n",
       "      <td>-0.872579</td>\n",
       "      <td>-0.556899</td>\n",
       "    </tr>\n",
       "  </tbody>\n",
       "</table>\n",
       "</div>"
      ],
      "text/plain": [
       "       varD      varE      varF\n",
       "0  0.907753  0.265177 -0.390762\n",
       "1  0.755019 -0.768056 -0.528307\n",
       "2  0.850692 -0.537159 -0.601387\n",
       "3  0.131663  0.941327  0.240073\n",
       "4  0.574400  0.091735 -0.395277\n",
       "5  0.816630  0.875612 -0.880044\n",
       "6  0.536732  0.175428 -0.473053\n",
       "7 -0.084641 -0.042827  0.053344\n",
       "8  0.268271 -0.010628 -0.090952\n",
       "9  0.166792 -0.872579 -0.556899"
      ]
     },
     "execution_count": 23,
     "metadata": {},
     "output_type": "execute_result"
    }
   ],
   "source": [
    "pd.read_excel(\"Ressources\\c2_data.xls\", sheet_name=\"Sheet2\")"
   ]
  },
  {
   "cell_type": "markdown",
   "id": "59aab733-136a-4fdb-90e7-8562757b5f90",
   "metadata": {},
   "source": [
    "# Import JSON file : \n",
    "\n",
    "A JSON object is essentially just a key-value data format that is stored inside curly brackets. Here is an example:\n",
    "\n",
    "```\n",
    "{\n",
    "    \"userID\": 12345,\n",
    "    \"userName\": \"John Smith\"\n",
    "} \n",
    "```\n"
   ]
  },
  {
   "cell_type": "code",
   "execution_count": 25,
   "id": "d82f8fad-1c21-4c79-8190-2beb154b3d4d",
   "metadata": {},
   "outputs": [
    {
     "data": {
      "text/html": [
       "<div>\n",
       "<style scoped>\n",
       "    .dataframe tbody tr th:only-of-type {\n",
       "        vertical-align: middle;\n",
       "    }\n",
       "\n",
       "    .dataframe tbody tr th {\n",
       "        vertical-align: top;\n",
       "    }\n",
       "\n",
       "    .dataframe thead th {\n",
       "        text-align: right;\n",
       "    }\n",
       "</style>\n",
       "<table border=\"1\" class=\"dataframe\">\n",
       "  <thead>\n",
       "    <tr style=\"text-align: right;\">\n",
       "      <th></th>\n",
       "      <th>col1</th>\n",
       "      <th>col2</th>\n",
       "      <th>col3</th>\n",
       "      <th>col4</th>\n",
       "    </tr>\n",
       "  </thead>\n",
       "  <tbody>\n",
       "    <tr>\n",
       "      <th>row1</th>\n",
       "      <td>0</td>\n",
       "      <td>1</td>\n",
       "      <td>2</td>\n",
       "      <td>3</td>\n",
       "    </tr>\n",
       "    <tr>\n",
       "      <th>row2</th>\n",
       "      <td>4</td>\n",
       "      <td>5</td>\n",
       "      <td>6</td>\n",
       "      <td>7</td>\n",
       "    </tr>\n",
       "    <tr>\n",
       "      <th>row3</th>\n",
       "      <td>8</td>\n",
       "      <td>9</td>\n",
       "      <td>10</td>\n",
       "      <td>11</td>\n",
       "    </tr>\n",
       "    <tr>\n",
       "      <th>row4</th>\n",
       "      <td>12</td>\n",
       "      <td>13</td>\n",
       "      <td>14</td>\n",
       "      <td>15</td>\n",
       "    </tr>\n",
       "  </tbody>\n",
       "</table>\n",
       "</div>"
      ],
      "text/plain": [
       "      col1  col2  col3  col4\n",
       "row1     0     1     2     3\n",
       "row2     4     5     6     7\n",
       "row3     8     9    10    11\n",
       "row4    12    13    14    15"
      ]
     },
     "execution_count": 25,
     "metadata": {},
     "output_type": "execute_result"
    }
   ],
   "source": [
    "pd.read_json(\"Ressources\\c2_frame.json\")"
   ]
  },
  {
   "cell_type": "code",
   "execution_count": 26,
   "id": "8a0de81a-fa13-4dad-81e6-c1d2e303d6dd",
   "metadata": {},
   "outputs": [
    {
     "data": {
      "text/html": [
       "<div>\n",
       "<style scoped>\n",
       "    .dataframe tbody tr th:only-of-type {\n",
       "        vertical-align: middle;\n",
       "    }\n",
       "\n",
       "    .dataframe tbody tr th {\n",
       "        vertical-align: top;\n",
       "    }\n",
       "\n",
       "    .dataframe thead th {\n",
       "        text-align: right;\n",
       "    }\n",
       "</style>\n",
       "<table border=\"1\" class=\"dataframe\">\n",
       "  <thead>\n",
       "    <tr style=\"text-align: right;\">\n",
       "      <th></th>\n",
       "      <th>books</th>\n",
       "    </tr>\n",
       "  </thead>\n",
       "  <tbody>\n",
       "    <tr>\n",
       "      <th>0</th>\n",
       "      <td>{'isbn': '9781593275846', 'title': 'Eloquent J...</td>\n",
       "    </tr>\n",
       "    <tr>\n",
       "      <th>1</th>\n",
       "      <td>{'isbn': '9781449331818', 'title': 'Learning J...</td>\n",
       "    </tr>\n",
       "    <tr>\n",
       "      <th>2</th>\n",
       "      <td>{'isbn': '9781449365035', 'title': 'Speaking J...</td>\n",
       "    </tr>\n",
       "  </tbody>\n",
       "</table>\n",
       "</div>"
      ],
      "text/plain": [
       "                                               books\n",
       "0  {'isbn': '9781593275846', 'title': 'Eloquent J...\n",
       "1  {'isbn': '9781449331818', 'title': 'Learning J...\n",
       "2  {'isbn': '9781449365035', 'title': 'Speaking J..."
      ]
     },
     "execution_count": 26,
     "metadata": {},
     "output_type": "execute_result"
    }
   ],
   "source": [
    "pd.read_json(\"Ressources\\c2_books.json\")"
   ]
  },
  {
   "cell_type": "markdown",
   "id": "c9f7d061-dfc9-43e1-8bf6-92b6bc6aaa82",
   "metadata": {},
   "source": [
    "We can see that all of the information about a book was stored in a single data field, so we cannot really distinguish between the different information such as the author, title, etc. It would be much more useful to create a DataFrame where we have different columns for the different types of data."
   ]
  },
  {
   "cell_type": "code",
   "execution_count": 27,
   "id": "9a3226c7-f0ce-421a-b898-5ceb33f64d29",
   "metadata": {},
   "outputs": [],
   "source": [
    "import json\n",
    "from pandas import json_normalize"
   ]
  },
  {
   "cell_type": "markdown",
   "id": "b541228c-be1b-4538-8191-927be9808ab1",
   "metadata": {},
   "source": [
    "Let’s load the data from the JSON file and convert it to an object (a dictionary, really) which we store in the variable dictionary:"
   ]
  },
  {
   "cell_type": "code",
   "execution_count": 29,
   "id": "67a461c0-aa94-47c3-b4ff-1955b0950777",
   "metadata": {},
   "outputs": [],
   "source": [
    "with open(\"Ressources\\c2_books.json\", \"r\") as f:\n",
    "    json_string = f.read()\n",
    "    dictionary = json.loads(json_string)"
   ]
  },
  {
   "cell_type": "code",
   "execution_count": 30,
   "id": "7b178e18-9e98-4de5-b48b-3d8cb3865980",
   "metadata": {},
   "outputs": [
    {
     "data": {
      "text/html": [
       "<div>\n",
       "<style scoped>\n",
       "    .dataframe tbody tr th:only-of-type {\n",
       "        vertical-align: middle;\n",
       "    }\n",
       "\n",
       "    .dataframe tbody tr th {\n",
       "        vertical-align: top;\n",
       "    }\n",
       "\n",
       "    .dataframe thead th {\n",
       "        text-align: right;\n",
       "    }\n",
       "</style>\n",
       "<table border=\"1\" class=\"dataframe\">\n",
       "  <thead>\n",
       "    <tr style=\"text-align: right;\">\n",
       "      <th></th>\n",
       "      <th>isbn</th>\n",
       "      <th>title</th>\n",
       "      <th>subtitle</th>\n",
       "      <th>author</th>\n",
       "      <th>published</th>\n",
       "      <th>publisher</th>\n",
       "      <th>pages</th>\n",
       "      <th>description</th>\n",
       "      <th>website</th>\n",
       "    </tr>\n",
       "  </thead>\n",
       "  <tbody>\n",
       "    <tr>\n",
       "      <th>0</th>\n",
       "      <td>9781593275846</td>\n",
       "      <td>Eloquent JavaScript, Second Edition</td>\n",
       "      <td>A Modern Introduction to Programming</td>\n",
       "      <td>Marijn Haverbeke</td>\n",
       "      <td>2014-12-14T00:00:00.000Z</td>\n",
       "      <td>No Starch Press</td>\n",
       "      <td>472</td>\n",
       "      <td>JavaScript lies at the heart of almost every m...</td>\n",
       "      <td>http://eloquentjavascript.net/</td>\n",
       "    </tr>\n",
       "    <tr>\n",
       "      <th>1</th>\n",
       "      <td>9781449331818</td>\n",
       "      <td>Learning JavaScript Design Patterns</td>\n",
       "      <td>A JavaScript and jQuery Developer's Guide</td>\n",
       "      <td>Addy Osmani</td>\n",
       "      <td>2012-07-01T00:00:00.000Z</td>\n",
       "      <td>O'Reilly Media</td>\n",
       "      <td>254</td>\n",
       "      <td>With Learning JavaScript Design Patterns, you'...</td>\n",
       "      <td>http://www.addyosmani.com/resources/essentialj...</td>\n",
       "    </tr>\n",
       "    <tr>\n",
       "      <th>2</th>\n",
       "      <td>9781449365035</td>\n",
       "      <td>Speaking JavaScript</td>\n",
       "      <td>An In-Depth Guide for Programmers</td>\n",
       "      <td>Axel Rauschmayer</td>\n",
       "      <td>2014-02-01T00:00:00.000Z</td>\n",
       "      <td>O'Reilly Media</td>\n",
       "      <td>460</td>\n",
       "      <td>Like it or not, JavaScript is everywhere these...</td>\n",
       "      <td>http://speakingjs.com/</td>\n",
       "    </tr>\n",
       "  </tbody>\n",
       "</table>\n",
       "</div>"
      ],
      "text/plain": [
       "            isbn                                title  \\\n",
       "0  9781593275846  Eloquent JavaScript, Second Edition   \n",
       "1  9781449331818  Learning JavaScript Design Patterns   \n",
       "2  9781449365035                  Speaking JavaScript   \n",
       "\n",
       "                                    subtitle            author  \\\n",
       "0       A Modern Introduction to Programming  Marijn Haverbeke   \n",
       "1  A JavaScript and jQuery Developer's Guide       Addy Osmani   \n",
       "2          An In-Depth Guide for Programmers  Axel Rauschmayer   \n",
       "\n",
       "                  published        publisher  pages  \\\n",
       "0  2014-12-14T00:00:00.000Z  No Starch Press    472   \n",
       "1  2012-07-01T00:00:00.000Z   O'Reilly Media    254   \n",
       "2  2014-02-01T00:00:00.000Z   O'Reilly Media    460   \n",
       "\n",
       "                                         description  \\\n",
       "0  JavaScript lies at the heart of almost every m...   \n",
       "1  With Learning JavaScript Design Patterns, you'...   \n",
       "2  Like it or not, JavaScript is everywhere these...   \n",
       "\n",
       "                                             website  \n",
       "0                     http://eloquentjavascript.net/  \n",
       "1  http://www.addyosmani.com/resources/essentialj...  \n",
       "2                             http://speakingjs.com/  "
      ]
     },
     "execution_count": 30,
     "metadata": {},
     "output_type": "execute_result"
    }
   ],
   "source": [
    "json_normalize(dictionary, 'books')"
   ]
  },
  {
   "cell_type": "markdown",
   "id": "c5f87c31-08ae-4d19-bc3e-dc28a4ea4052",
   "metadata": {},
   "source": [
    "# Import HTML : \n",
    "The web is one of the major sources of data that you will encounter. Getting data from the web is known as web scraping, and it is a very useful skill in any data scientist’s toolbox.\n",
    "\n",
    "### The requests library : "
   ]
  },
  {
   "cell_type": "code",
   "execution_count": 32,
   "id": "1a357e3c-4ced-4607-8834-0d366a4d7336",
   "metadata": {},
   "outputs": [],
   "source": [
    "import requests\n",
    "page = requests.get(\n",
    "    \"https://web.archive.org/web/20180908144902/en.proverbia.net/shortfamousquotes.asp\"\n",
    ")"
   ]
  },
  {
   "cell_type": "code",
   "execution_count": 33,
   "id": "921b7c9b-2a56-4fc1-b12f-8e90a892cbb7",
   "metadata": {},
   "outputs": [
    {
     "data": {
      "text/plain": [
       "'\\n<!DOCTYPE html>\\n\\n<html lang=\"en\" xml:lang=\"en\">\\n<head><script type=\"text/javascript\" src=\"/_static/'"
      ]
     },
     "execution_count": 33,
     "metadata": {},
     "output_type": "execute_result"
    }
   ],
   "source": [
    "page.text[0:100]"
   ]
  },
  {
   "cell_type": "markdown",
   "id": "41bc4723-edd2-4c53-96bb-c790ee416682",
   "metadata": {},
   "source": [
    "It also has an attribute called status_code which indicates if the page was downloaded correctly:"
   ]
  },
  {
   "cell_type": "code",
   "execution_count": 34,
   "id": "9376a363-e922-47fa-bf95-03cc09e6d3ea",
   "metadata": {},
   "outputs": [
    {
     "data": {
      "text/plain": [
       "200"
      ]
     },
     "execution_count": 34,
     "metadata": {},
     "output_type": "execute_result"
    }
   ],
   "source": [
    "page.status_code"
   ]
  },
  {
   "cell_type": "markdown",
   "id": "a8557953-1e33-4b27-8098-5ab249912c53",
   "metadata": {},
   "source": [
    "A status code of 200 means that the page was downloaded correctly."
   ]
  },
  {
   "cell_type": "markdown",
   "id": "ba3c710a-f56d-4e84-bb9d-c35f56d770f3",
   "metadata": {},
   "source": [
    "# Web Scraping \n",
    "We will use a python library called BeautifulSoup. Let’s start by importing this library :"
   ]
  },
  {
   "cell_type": "code",
   "execution_count": 35,
   "id": "7766647f-907b-4219-8ea8-03d36eaf625c",
   "metadata": {},
   "outputs": [],
   "source": [
    "from bs4 import BeautifulSoup"
   ]
  },
  {
   "cell_type": "code",
   "execution_count": 36,
   "id": "907bd940-a22d-4111-aa4c-dfd4f81b66db",
   "metadata": {},
   "outputs": [],
   "source": [
    "soup = BeautifulSoup(page.text, \"html.parser\") #we work on the page scrape before"
   ]
  },
  {
   "cell_type": "markdown",
   "id": "af28e2a1-37cf-4924-930a-c836e832f716",
   "metadata": {},
   "source": [
    "Now comes the fun part: we want to extract the information that we want from the HTML code. In our case, our goal is to extract the quotes."
   ]
  },
  {
   "cell_type": "code",
   "execution_count": 37,
   "id": "02a1dcef-098a-4990-bfdd-9f11a1a8e45d",
   "metadata": {},
   "outputs": [
    {
     "data": {
      "text/plain": [
       "[<blockquote>There is a natural aristocracy among men. The grounds of this are virtue and talents. </blockquote>,\n",
       " <blockquote>All our words from loose using have lost their edge. </blockquote>,\n",
       " <blockquote>God couldn't be everywhere, so he created mothers </blockquote>,\n",
       " <blockquote>Be not afraid of going slowly, be afraid only of standing still. </blockquote>,\n",
       " <blockquote>Learn from yesterday, live for today, hope for tomorrow. </blockquote>,\n",
       " <blockquote>Do not confine your children to your own learning, for they were born in another time. </blockquote>,\n",
       " <blockquote>I hear and I forget, I see and I remember. I do and I understand. </blockquote>,\n",
       " <blockquote>In teaching others we teach ourselves. </blockquote>,\n",
       " <blockquote>Happiness will never come to those who fail to appreciate what they already have. </blockquote>,\n",
       " <blockquote>Without His love I can do nothing, with His love there is nothing I cannot do. </blockquote>]"
      ]
     },
     "execution_count": 37,
     "metadata": {},
     "output_type": "execute_result"
    }
   ],
   "source": [
    "quotes = soup.find_all(\"blockquote\")\n",
    "quotes"
   ]
  },
  {
   "cell_type": "code",
   "execution_count": 38,
   "id": "bd3470dd-566a-4134-a386-628c0fffa481",
   "metadata": {},
   "outputs": [
    {
     "data": {
      "text/plain": [
       "'There is a natural aristocracy among men. The grounds of this are virtue and talents. '"
      ]
     },
     "execution_count": 38,
     "metadata": {},
     "output_type": "execute_result"
    }
   ],
   "source": [
    "quotes[0].text"
   ]
  },
  {
   "cell_type": "code",
   "execution_count": 40,
   "id": "0689ce67-a677-4d42-a8fa-367b7637e04d",
   "metadata": {},
   "outputs": [
    {
     "data": {
      "text/plain": [
       "['There is a natural aristocracy among men. The grounds of this are virtue and talents. ',\n",
       " 'All our words from loose using have lost their edge. ',\n",
       " \"God couldn't be everywhere, so he created mothers \",\n",
       " 'Be not afraid of going slowly, be afraid only of standing still. ',\n",
       " 'Learn from yesterday, live for today, hope for tomorrow. ',\n",
       " 'Do not confine your children to your own learning, for they were born in another time. ',\n",
       " 'I hear and I forget, I see and I remember. I do and I understand. ',\n",
       " 'In teaching others we teach ourselves. ',\n",
       " 'Happiness will never come to those who fail to appreciate what they already have. ',\n",
       " 'Without His love I can do nothing, with His love there is nothing I cannot do. ']"
      ]
     },
     "execution_count": 40,
     "metadata": {},
     "output_type": "execute_result"
    }
   ],
   "source": [
    "quote_list = []\n",
    "for quote in quotes:\n",
    "    string = quote.text\n",
    "    quote_list.append(string)\n",
    "    \n",
    "quote_list"
   ]
  },
  {
   "cell_type": "code",
   "execution_count": 41,
   "id": "b999dca7-e54c-42e2-83c8-633ffaaa27bc",
   "metadata": {},
   "outputs": [
    {
     "data": {
      "text/html": [
       "<div>\n",
       "<style scoped>\n",
       "    .dataframe tbody tr th:only-of-type {\n",
       "        vertical-align: middle;\n",
       "    }\n",
       "\n",
       "    .dataframe tbody tr th {\n",
       "        vertical-align: top;\n",
       "    }\n",
       "\n",
       "    .dataframe thead th {\n",
       "        text-align: right;\n",
       "    }\n",
       "</style>\n",
       "<table border=\"1\" class=\"dataframe\">\n",
       "  <thead>\n",
       "    <tr style=\"text-align: right;\">\n",
       "      <th></th>\n",
       "      <th>Quote</th>\n",
       "    </tr>\n",
       "  </thead>\n",
       "  <tbody>\n",
       "    <tr>\n",
       "      <th>0</th>\n",
       "      <td>There is a natural aristocracy among men. The ...</td>\n",
       "    </tr>\n",
       "    <tr>\n",
       "      <th>1</th>\n",
       "      <td>All our words from loose using have lost their...</td>\n",
       "    </tr>\n",
       "    <tr>\n",
       "      <th>2</th>\n",
       "      <td>God couldn't be everywhere, so he created moth...</td>\n",
       "    </tr>\n",
       "    <tr>\n",
       "      <th>3</th>\n",
       "      <td>Be not afraid of going slowly, be afraid only ...</td>\n",
       "    </tr>\n",
       "    <tr>\n",
       "      <th>4</th>\n",
       "      <td>Learn from yesterday, live for today, hope for...</td>\n",
       "    </tr>\n",
       "    <tr>\n",
       "      <th>5</th>\n",
       "      <td>Do not confine your children to your own learn...</td>\n",
       "    </tr>\n",
       "    <tr>\n",
       "      <th>6</th>\n",
       "      <td>I hear and I forget, I see and I remember. I d...</td>\n",
       "    </tr>\n",
       "    <tr>\n",
       "      <th>7</th>\n",
       "      <td>In teaching others we teach ourselves.</td>\n",
       "    </tr>\n",
       "    <tr>\n",
       "      <th>8</th>\n",
       "      <td>Happiness will never come to those who fail to...</td>\n",
       "    </tr>\n",
       "    <tr>\n",
       "      <th>9</th>\n",
       "      <td>Without His love I can do nothing, with His lo...</td>\n",
       "    </tr>\n",
       "  </tbody>\n",
       "</table>\n",
       "</div>"
      ],
      "text/plain": [
       "                                               Quote\n",
       "0  There is a natural aristocracy among men. The ...\n",
       "1  All our words from loose using have lost their...\n",
       "2  God couldn't be everywhere, so he created moth...\n",
       "3  Be not afraid of going slowly, be afraid only ...\n",
       "4  Learn from yesterday, live for today, hope for...\n",
       "5  Do not confine your children to your own learn...\n",
       "6  I hear and I forget, I see and I remember. I d...\n",
       "7            In teaching others we teach ourselves. \n",
       "8  Happiness will never come to those who fail to...\n",
       "9  Without His love I can do nothing, with His lo..."
      ]
     },
     "execution_count": 41,
     "metadata": {},
     "output_type": "execute_result"
    }
   ],
   "source": [
    "df = pd.DataFrame(quote_list, columns=[\"Quote\"])\n",
    "df"
   ]
  },
  {
   "cell_type": "markdown",
   "id": "a6632e7d-1010-4edd-8bae-236a790e8b1f",
   "metadata": {},
   "source": [
    "We will now continue by extracting the authors of each quote. The first step is as before: to identify a pattern of tags that surround the text that we want."
   ]
  },
  {
   "cell_type": "code",
   "execution_count": 43,
   "id": "34f820e1-48d5-4d54-971f-46af76f3e1c1",
   "metadata": {},
   "outputs": [
    {
     "data": {
      "text/plain": [
       "[<p class=\"a\">\n",
       " <a href=\"/web/20180908144902/http://en.proverbia.net/citasautor.asp?autor=13797\" title=\"Thomas Jefferson Quotes\">Thomas Jefferson</a> <span>(1743-1826) Third president of the United States.</span>\n",
       " </p>,\n",
       " <p class=\"a\">\n",
       " <a href=\"/web/20180908144902/http://en.proverbia.net/citasautor.asp?autor=13355\" title=\"Ernest Hemingway Quotes\">Ernest Hemingway</a> <span>(1898-1961) American Writer.</span>\n",
       " </p>,\n",
       " <p class=\"a\">\n",
       " <a href=\"/web/20180908144902/http://en.proverbia.net/citasautor.asp?autor=15888\" title=\"Jewish proverb Quotes\">Jewish proverb</a> <span></span>\n",
       " </p>,\n",
       " <p class=\"a\">\n",
       " <a href=\"/web/20180908144902/http://en.proverbia.net/citasautor.asp?autor=15866\" title=\"Chinese proverb Quotes\">Chinese proverb</a> <span></span>\n",
       " </p>,\n",
       " <p class=\"a\">\n",
       " <a href=\"/web/20180908144902/http://en.proverbia.net/citasautor.asp?autor=17381\" title=\"Unknown Source Quotes\">Unknown Source</a> <span></span>\n",
       " </p>,\n",
       " <p class=\"a\">\n",
       " <a href=\"/web/20180908144902/http://en.proverbia.net/citasautor.asp?autor=15866\" title=\"Chinese proverb Quotes\">Chinese proverb</a> <span></span>\n",
       " </p>,\n",
       " <p class=\"a\">\n",
       " <a href=\"/web/20180908144902/http://en.proverbia.net/citasautor.asp?autor=15866\" title=\"Chinese proverb Quotes\">Chinese proverb</a> <span></span>\n",
       " </p>,\n",
       " <p class=\"a\">\n",
       " <a href=\"/web/20180908144902/http://en.proverbia.net/citasautor.asp?autor=15855\" title=\"Proverb Quotes\">Proverb</a> <span></span>\n",
       " </p>,\n",
       " <p class=\"a\">\n",
       " <a href=\"/web/20180908144902/http://en.proverbia.net/citasautor.asp?autor=17381\" title=\"Unknown Source Quotes\">Unknown Source</a> <span></span>\n",
       " </p>,\n",
       " <p class=\"a\">\n",
       " <a href=\"/web/20180908144902/http://en.proverbia.net/citasautor.asp?autor=17381\" title=\"Unknown Source Quotes\">Unknown Source</a> <span></span>\n",
       " </p>]"
      ]
     },
     "execution_count": 43,
     "metadata": {},
     "output_type": "execute_result"
    }
   ],
   "source": [
    "authors = soup.find_all(\"p\", class_=\"a\")\n",
    "authors"
   ]
  },
  {
   "cell_type": "code",
   "execution_count": 44,
   "id": "6e6a3783-1b8f-4896-944e-2d42be3f9feb",
   "metadata": {},
   "outputs": [
    {
     "data": {
      "text/plain": [
       "'\\nThomas Jefferson (1743-1826) Third president of the United States.\\n'"
      ]
     },
     "execution_count": 44,
     "metadata": {},
     "output_type": "execute_result"
    }
   ],
   "source": [
    "authors[0].text"
   ]
  },
  {
   "cell_type": "markdown",
   "id": "63497006-e4fd-461d-b922-766192c9d444",
   "metadata": {},
   "source": [
    "We can see that there are some extra characters that we would like to remove from the text. We can do this by just selecting the indices of the string that we want to keep. In this case, we want to get rid of the first and last characters (note that \\n is considered as a single character - it’s the new line character) - so the string we want to keep is:"
   ]
  },
  {
   "cell_type": "code",
   "execution_count": 45,
   "id": "f64fb2cc-f4fa-4773-a5ba-c71da0f9f425",
   "metadata": {},
   "outputs": [
    {
     "data": {
      "text/plain": [
       "'Thomas Jefferson (1743-1826) Third president of the United States.'"
      ]
     },
     "execution_count": 45,
     "metadata": {},
     "output_type": "execute_result"
    }
   ],
   "source": [
    "authors[0].text[1:-1]"
   ]
  },
  {
   "cell_type": "code",
   "execution_count": 46,
   "id": "503b2033-0f67-4814-9202-0dfbc31d2f19",
   "metadata": {},
   "outputs": [
    {
     "data": {
      "text/html": [
       "<div>\n",
       "<style scoped>\n",
       "    .dataframe tbody tr th:only-of-type {\n",
       "        vertical-align: middle;\n",
       "    }\n",
       "\n",
       "    .dataframe tbody tr th {\n",
       "        vertical-align: top;\n",
       "    }\n",
       "\n",
       "    .dataframe thead th {\n",
       "        text-align: right;\n",
       "    }\n",
       "</style>\n",
       "<table border=\"1\" class=\"dataframe\">\n",
       "  <thead>\n",
       "    <tr style=\"text-align: right;\">\n",
       "      <th></th>\n",
       "      <th>Quote</th>\n",
       "      <th>Author</th>\n",
       "    </tr>\n",
       "  </thead>\n",
       "  <tbody>\n",
       "    <tr>\n",
       "      <th>0</th>\n",
       "      <td>There is a natural aristocracy among men. The ...</td>\n",
       "      <td>Thomas Jefferson (1743-1826) Third president o...</td>\n",
       "    </tr>\n",
       "    <tr>\n",
       "      <th>1</th>\n",
       "      <td>All our words from loose using have lost their...</td>\n",
       "      <td>Ernest Hemingway (1898-1961) American Writer.</td>\n",
       "    </tr>\n",
       "    <tr>\n",
       "      <th>2</th>\n",
       "      <td>God couldn't be everywhere, so he created moth...</td>\n",
       "      <td>Jewish proverb</td>\n",
       "    </tr>\n",
       "    <tr>\n",
       "      <th>3</th>\n",
       "      <td>Be not afraid of going slowly, be afraid only ...</td>\n",
       "      <td>Chinese proverb</td>\n",
       "    </tr>\n",
       "    <tr>\n",
       "      <th>4</th>\n",
       "      <td>Learn from yesterday, live for today, hope for...</td>\n",
       "      <td>Unknown Source</td>\n",
       "    </tr>\n",
       "    <tr>\n",
       "      <th>5</th>\n",
       "      <td>Do not confine your children to your own learn...</td>\n",
       "      <td>Chinese proverb</td>\n",
       "    </tr>\n",
       "    <tr>\n",
       "      <th>6</th>\n",
       "      <td>I hear and I forget, I see and I remember. I d...</td>\n",
       "      <td>Chinese proverb</td>\n",
       "    </tr>\n",
       "    <tr>\n",
       "      <th>7</th>\n",
       "      <td>In teaching others we teach ourselves.</td>\n",
       "      <td>Proverb</td>\n",
       "    </tr>\n",
       "    <tr>\n",
       "      <th>8</th>\n",
       "      <td>Happiness will never come to those who fail to...</td>\n",
       "      <td>Unknown Source</td>\n",
       "    </tr>\n",
       "    <tr>\n",
       "      <th>9</th>\n",
       "      <td>Without His love I can do nothing, with His lo...</td>\n",
       "      <td>Unknown Source</td>\n",
       "    </tr>\n",
       "  </tbody>\n",
       "</table>\n",
       "</div>"
      ],
      "text/plain": [
       "                                               Quote  \\\n",
       "0  There is a natural aristocracy among men. The ...   \n",
       "1  All our words from loose using have lost their...   \n",
       "2  God couldn't be everywhere, so he created moth...   \n",
       "3  Be not afraid of going slowly, be afraid only ...   \n",
       "4  Learn from yesterday, live for today, hope for...   \n",
       "5  Do not confine your children to your own learn...   \n",
       "6  I hear and I forget, I see and I remember. I d...   \n",
       "7            In teaching others we teach ourselves.    \n",
       "8  Happiness will never come to those who fail to...   \n",
       "9  Without His love I can do nothing, with His lo...   \n",
       "\n",
       "                                              Author  \n",
       "0  Thomas Jefferson (1743-1826) Third president o...  \n",
       "1      Ernest Hemingway (1898-1961) American Writer.  \n",
       "2                                    Jewish proverb   \n",
       "3                                   Chinese proverb   \n",
       "4                                    Unknown Source   \n",
       "5                                   Chinese proverb   \n",
       "6                                   Chinese proverb   \n",
       "7                                           Proverb   \n",
       "8                                    Unknown Source   \n",
       "9                                    Unknown Source   "
      ]
     },
     "execution_count": 46,
     "metadata": {},
     "output_type": "execute_result"
    }
   ],
   "source": [
    "author_list = []\n",
    "for author in authors:\n",
    "    string = author.text[1:-1]\n",
    "    author_list.append(string)\n",
    "df[\"Author\"] = author_list\n",
    "df"
   ]
  },
  {
   "cell_type": "markdown",
   "id": "77d82105-10b3-45a8-86ab-60493d987292",
   "metadata": {},
   "source": [
    "Let’s summarize the steps that we did:\n",
    "\n",
    "- Download HTML code using the requests library\n",
    "- Create a BeautifulSoup object to contain the parse HTML code\n",
    "- Look for patterns identifying the information that you want to extract from the code\n",
    "- Search for specific tags using the ```find_all()``` method\n",
    "- Iterate over the object returned by ```find_all()``` and use the text attribute to extract the text between each set of tags\n",
    "- Store the strings in a Python list and convert to a DataFrame for further analysis\n",
    "\n",
    "### A special case: scraping tables \n",
    "\n",
    "It may happen that you want to directly scrape tables out of webpages. For that, you could apply the method described above i.e. collect the HTML from a webpage, then parse it using BeautifulSoup and insert it in a DataFrame.\n",
    "\n",
    "But fortunately, for that specific use case, Pandas has a built-in and straightforward method ```pd.read_html()``` that will automatically retrieve tables in a webpage (as identified by < table > in its HTML code) and insert them into a DataFrame."
   ]
  },
  {
   "cell_type": "code",
   "execution_count": 47,
   "id": "03c4ba38-82ea-481a-a593-64cf8a80c2fc",
   "metadata": {},
   "outputs": [
    {
     "name": "stdout",
     "output_type": "stream",
     "text": [
      "5\n",
      "  Nutrition facts As soldfor 100 g / 100 ml As soldper serving (15g)  \\\n",
      "0          Energy        2,252 kj(539 kcal)          338 kj(80 kcal)   \n",
      "1             Fat                    30.9 g                   4.63 g   \n",
      "2   Saturated fat                    10.6 g                   1.59 g   \n",
      "3   Carbohydrates                    57.5 g                   8.62 g   \n",
      "4          Sugars                    56.3 g                   8.44 g   \n",
      "\n",
      "  Compared to: Cocoa and hazelnuts spreads  \n",
      "0                                      -2%  \n",
      "1                                      -9%  \n",
      "2                                     +44%  \n",
      "3                                     +11%  \n",
      "4                                     +20%  \n"
     ]
    }
   ],
   "source": [
    "tables = pd.read_html(\"https://world.openfoodfacts.org/product/3017620422003/nutella-ferrero\")\n",
    "print(len(tables)) # 5\n",
    "print(tables[0].head())"
   ]
  },
  {
   "cell_type": "markdown",
   "id": "03de7be9-92ee-4bce-b0fb-b528c195df59",
   "metadata": {},
   "source": [
    "You could use the same method in a webpage with many tables, as for instance the Wikipedia page for world record progression for 50m metres freestyle, and it would return all the available tables:\n",
    "\n"
   ]
  },
  {
   "cell_type": "code",
   "execution_count": 48,
   "id": "8f037755-3d60-4c94-aab5-f58864f8ca56",
   "metadata": {},
   "outputs": [
    {
     "name": "stdout",
     "output_type": "stream",
     "text": [
      "9\n"
     ]
    }
   ],
   "source": [
    "tables = pd.read_html(\n",
    "    \"https://en.wikipedia.org/wiki/World_record_progression_50_metres_freestyle\"\n",
    ")\n",
    "print(len(tables))"
   ]
  },
  {
   "cell_type": "code",
   "execution_count": 49,
   "id": "3ae83492-22f5-4bd4-8211-3d54a9d9b925",
   "metadata": {},
   "outputs": [
    {
     "name": "stdout",
     "output_type": "stream",
     "text": [
      "   Pos   Time                   Swimmer              Date        Venue   Ref\n",
      "0    1  20.91         César Cielo (BRA)  18 December 2009    São Paulo   NaN\n",
      "1    2  20.94  Frederick Bousquet (FRA)     26 April 2009  Montpellier   NaN\n",
      "2    3  21.04      Caeleb Dressel (USA)      27 July 2019      Gwangju   NaN\n",
      "3    3  21.04      Caeleb Dressel (USA)      20 June 2021        Omaha  [19]\n",
      "4    4  21.06      Cameron McEvoy (AUS)      29 July 2023      Fukuoka  [20]\n"
     ]
    }
   ],
   "source": [
    "# the fifth table\n",
    "print(tables[4].head())"
   ]
  },
  {
   "cell_type": "code",
   "execution_count": 50,
   "id": "3ca9f58e-59f1-4537-a39a-54accff98a95",
   "metadata": {},
   "outputs": [
    {
     "name": "stdout",
     "output_type": "stream",
     "text": [
      "   Pos   Time                    Swimmer              Date         Venue   Ref\n",
      "0    1  22.93  Ranomi Kromowidjojo (NED)     7 August 2017       Germany   NaN\n",
      "1    2  23.00       Sarah Sjöström (SWE)     7 August 2017       Germany   NaN\n",
      "2    3  23.04          Emma McKeon (AUS)  17 December 2022     Melbourne  [39]\n",
      "3    4  23.10     Katarzyna Wasick (POL)   3 November 2022  Indianapolis  [40]\n",
      "4    5  23.19        Cate Campbell (AUS)   27 October 2017        Russia   NaN\n"
     ]
    }
   ],
   "source": [
    "# third table from the end of the list\n",
    "print(tables[-2].head())"
   ]
  },
  {
   "cell_type": "markdown",
   "id": "ad1fb745-2003-41c0-8906-780f1086f274",
   "metadata": {},
   "source": [
    "And if you’re only interested in tables mentioning “Switzerland”, then there is a parameter match exactly done for that:"
   ]
  },
  {
   "cell_type": "code",
   "execution_count": 51,
   "id": "b555f1a8-7353-41c1-a1bd-2dc5a5490d4e",
   "metadata": {},
   "outputs": [
    {
     "name": "stdout",
     "output_type": "stream",
     "text": [
      "1\n",
      "     Time          Name    Nationality\n",
      "10  22.54   Robin Leamy  United States\n",
      "11  22.52  Dano Halsall    Switzerland\n",
      "12  22.40     Tom Jager  United States\n",
      "13  22.33   Matt Biondi  United States\n",
      "14  22.33   Matt Biondi  United States\n"
     ]
    }
   ],
   "source": [
    "tables = pd.read_html(\n",
    "    \"https://en.wikipedia.org/wiki/World_record_progression_50_metres_freestyle\",\n",
    "    match=\"Switzerland\",\n",
    ")\n",
    "print(len(tables))  # 1\n",
    "print(tables[0][10:15][[\"Time\", \"Name\", \"Nationality\"]])"
   ]
  },
  {
   "cell_type": "markdown",
   "id": "d7b56973-79bf-48b0-96fd-65ba72de22ca",
   "metadata": {},
   "source": [
    "# Getting data from web using APIs\n",
    "\n",
    "In its simplest form, an API is a contract between two parties saying that if one party provides input in a pre-defined format then the other party will provide a pre-defined output. \n",
    "\n",
    "The most popular APIs are : \n",
    "\n",
    "- SOAP - Simple Object Access Protocol\n",
    "- REST - Representational State Transfer\n",
    "\n",
    "In SOAP, requests are submitted and received via a file format called XML, while in REST requests are usually submitted using the HTTP protocol. REST tends to be the far more popular choice - In this unit, we will go through an example with the strava.com API which uses REST. To achieve this, we will learn how to make HTTP requests with the Python Requests library.\n",
    "\n",
    "On Strava I create an API. Then I create a json credential file.\n"
   ]
  },
  {
   "cell_type": "code",
   "execution_count": 1,
   "id": "b49df9b2-a2cd-4e5f-b068-e4bd8ba20913",
   "metadata": {},
   "outputs": [
    {
     "name": "stdout",
     "output_type": "stream",
     "text": [
      "Credentials: ['client_id', 'client_secret']\n"
     ]
    }
   ],
   "source": [
    "import json\n",
    "\n",
    "# Load credentials\n",
    "with open('client-credentials.json') as file:\n",
    "    client_credentials = json.load(file)\n",
    "\n",
    "print('Credentials:', list(client_credentials.keys())) # ['client_id', 'client_secret']"
   ]
  },
  {
   "cell_type": "markdown",
   "id": "717d0f1d-271b-4f75-ba64-c3f9b9031743",
   "metadata": {},
   "source": [
    "The json.load() function returns the JSON content as a Python dictionary that we can use to access the client information"
   ]
  },
  {
   "cell_type": "code",
   "execution_count": 2,
   "id": "4f2c07f5-cf86-45c3-a433-9e318afe37b1",
   "metadata": {},
   "outputs": [
    {
     "name": "stdout",
     "output_type": "stream",
     "text": [
      "111998\n"
     ]
    }
   ],
   "source": [
    "print(client_credentials['client_id']) # Client ID"
   ]
  },
  {
   "cell_type": "markdown",
   "id": "ef0326c0-37a6-4120-805c-d8f0f1b33f56",
   "metadata": {},
   "source": [
    "To connect to our API we need resource, field , code (cf error message if we copy paste this https://www.strava.com/oauth/authorize into a browser). to passe a messa ge in a url its shoold be write like this : ```url?key1=value1&key2=value2&key3=value3```. <br>\n",
    "We store what is required into a Python dictionnary : "
   ]
  },
  {
   "cell_type": "code",
   "execution_count": 4,
   "id": "62fefebe-fc8a-4f77-b02b-ce0096358118",
   "metadata": {},
   "outputs": [],
   "source": [
    "oauth_params = {\n",
    "    'client_id': client_credentials['client_id'],\n",
    "    'scope': 'read_all,profile:read_all,activity:read_all',\n",
    "    'redirect_uri': 'https://localhost',\n",
    "    'response_type': 'code'\n",
    "}"
   ]
  },
  {
   "cell_type": "markdown",
   "id": "7a2d6503-64bd-40d1-bc81-83f10f6d8465",
   "metadata": {},
   "source": [
    "We get the client_id from the json file and set the scope to get full read access to the user data. Also, as specified in the Strava API Authentication Reference, we need to set a response_type parameter to 'code' to explicitly say that Strava should return us with some Access Code for this user data.\n",
    "\n",
    "Let’s now create the authorization link with the GET syntax that we saw above. In practice, URLs follow strict rules and we typically use a function to achieve this. In Python, we can use the urlencode() one from the built-in urllib Python module"
   ]
  },
  {
   "cell_type": "code",
   "execution_count": 5,
   "id": "cbe83521-c38d-4880-8b03-b89765f04c36",
   "metadata": {},
   "outputs": [
    {
     "name": "stdout",
     "output_type": "stream",
     "text": [
      "https://www.strava.com/oauth/authorize?client_id=111998&scope=read_all%2Cprofile%3Aread_all%2Cactivity%3Aread_all&redirect_uri=https%3A%2F%2Flocalhost&response_type=code\n"
     ]
    }
   ],
   "source": [
    "from urllib.parse import urlencode\n",
    "\n",
    "# Generate link that users can copy/paste in their browser to authorize our app\n",
    "print('https://www.strava.com/oauth/authorize' + '?' + urlencode(oauth_params))"
   ]
  },
  {
   "cell_type": "markdown",
   "id": "8acbe3c9-8d3c-4e7d-9c31-67c0c7e01837",
   "metadata": {},
   "source": [
    "Now that you have the authorization link for your app, copy/paste it in your browser.\n",
    "After authorize the access we habe this in the URL Bar : \n",
    "```https://localhost/?state=&code=194f1dc3029ae2edce4a2854ae4211f5ea1da46e&scope=read,activity:read_all,profile:read_all,read_all ``` <br> \n",
    "After ``` code=``` we have our access code : ``` 194f1dc3029ae2edce4a2854ae4211f5ea1da46e ```\n",
    "PS : It's private  it should not appear in my notebook so this is a fake one above I change some characters.\n",
    "\n",
    "Again, the access code is private and shouldn’t be shared via our notebook. One solution is to automatically extract it from the URL. First, let’s load the URL into memory with the Python getpass() built-in function\n"
   ]
  },
  {
   "cell_type": "code",
   "execution_count": 6,
   "id": "b41c3b3f-5e6c-4d71-86d6-a78608778f77",
   "metadata": {},
   "outputs": [
    {
     "name": "stdin",
     "output_type": "stream",
     "text": [
      "Full callback URL ······························································································································\n"
     ]
    }
   ],
   "source": [
    "from getpass import getpass\n",
    "\n",
    "# After authorizing the app, user is redirected to\n",
    "authorization_response = getpass(prompt='Full callback URL')"
   ]
  },
  {
   "cell_type": "markdown",
   "id": "7e11f454-a886-4a02-9212-99d7c0d49692",
   "metadata": {},
   "source": [
    "You should get a prompt when running this code - copy/paste the https://localhost/?state=&code=...&scope=... URL that you got from the Strava Authorization Service from above. Python will store it in the authorization_response variable.\n",
    "\n",
    "Let’s now extract the code part from it"
   ]
  },
  {
   "cell_type": "code",
   "execution_count": 7,
   "id": "02b6a616-45a4-4d82-a681-42ee05af340f",
   "metadata": {},
   "outputs": [],
   "source": [
    "from urllib.parse import urlparse, parse_qs\n",
    "\n",
    "# Extract Authorization Code from URL\n",
    "authorization_code = parse_qs(urlparse(authorization_response).query)['code'][0]\n",
    "#authorization_code # It's a bit the sames than having its clear"
   ]
  },
  {
   "cell_type": "markdown",
   "id": "77d1c3a3-a097-48e6-9b71-74e57b7710c3",
   "metadata": {},
   "source": [
    "In this code, we use urlparse from the Python urllib module to parse the URL into a ParseResult object from which we get the state=&code=...&scope=... part of the URL with its .query attribute.\n",
    "\n",
    "You can always verify that it worked by printing the intermediate results in a new cell - note: as the code should be kept private, make sure to then remove the print statement and output from your notebook!"
   ]
  },
  {
   "cell_type": "code",
   "execution_count": 9,
   "id": "1e08ad91-6fe8-426f-b495-4a92cd1cedad",
   "metadata": {},
   "outputs": [
    {
     "data": {
      "text/plain": [
       "'state=&code=794f7dc3029ae2edce4a2854ae4277f5ea7da46e&scope=read,activity:read_all,profile:read_all,read_all'"
      ]
     },
     "execution_count": 9,
     "metadata": {},
     "output_type": "execute_result"
    }
   ],
   "source": [
    "urlparse(authorization_response).query"
   ]
  },
  {
   "cell_type": "code",
   "execution_count": 10,
   "id": "8df1c6c3-fdcc-47fd-b306-fe06fe77d105",
   "metadata": {},
   "outputs": [
    {
     "data": {
      "text/plain": [
       "{'code': ['794f7dc3029ae2edce4a2854ae4277f5ea7da46e'],\n",
       " 'scope': ['read,activity:read_all,profile:read_all,read_all']}"
      ]
     },
     "execution_count": 10,
     "metadata": {},
     "output_type": "execute_result"
    }
   ],
   "source": [
    "parse_qs(urlparse(authorization_response).query)"
   ]
  },
  {
   "cell_type": "code",
   "execution_count": 11,
   "id": "fdf5b213-df0b-4957-bc62-48f3ee5cf774",
   "metadata": {},
   "outputs": [
    {
     "name": "stdout",
     "output_type": "stream",
     "text": [
      "794f7dc3029ae2edce4a2854ae4277f5ea7da46e\n"
     ]
    }
   ],
   "source": [
    "print(authorization_code)"
   ]
  },
  {
   "cell_type": "markdown",
   "id": "e9aeed90-3db9-4c1c-97f9-d63969416a43",
   "metadata": {},
   "source": [
    "Now that our app has been authorized to access data from the user via the Access Code, we need to retrieve an Access Token from Strava to actually perform API queries and access user resources. \n",
    "\n",
    "Why do we need an Access Token? Isn’t the Access Code sufficient? This actually depends on the API. Strava implements the OAuth 2.0 protocol where the app first needs to get some Access Code before getting the final Access Token that can be used to retrieve data. However, you might work later with other APIs that directly provide the Access Token. For instance, this was the case with the Strava API before October 2018 when they adopted the OAuth 2.0 standard.\n",
    "\n",
    "- Note : \n",
    "APIs can have very different implementations. When working with a new API, you will likely need to first check the API documentation and potentially search online for additional examples\n",
    "\n",
    "Let’s get back to our Strava API example. According to its authentication documentation, we can get the access token by making a POST request to https://www.strava.com/oauth/token\n",
    "\n",
    "You can think of GET requests as the addresses that are in the browser URL field at the top of the window. They are used to get content from the web but are not necessarily meant to send data to a web service besides short GET variables as we saw above. On the other hand, POST requests are used to send/post data to a web service, data that will typically be stored by it. In our API scenario which exposes entries of user data, we will typically use\n",
    "\n",
    "- GET queries to list the entries\n",
    "- POST queries to create new entries\n",
    "- PUT queries to update existing entries\n",
    "We can use the Python Requests library to perform those three types of queries via its .get(), .post() and .put() functions. Let’s see how to do the POST one to get the access token.\n"
   ]
  },
  {
   "cell_type": "code",
   "execution_count": 13,
   "id": "cb17c6c7-4ee8-47b4-96f2-19e6cbe67912",
   "metadata": {},
   "outputs": [
    {
     "ename": "SSLError",
     "evalue": "HTTPSConnectionPool(host='www.strava.com', port=443): Max retries exceeded with url: /oauth/token (Caused by SSLError(SSLCertVerificationError(1, '[SSL: CERTIFICATE_VERIFY_FAILED] certificate verify failed: unable to get local issuer certificate (_ssl.c:1129)')))",
     "output_type": "error",
     "traceback": [
      "\u001b[1;31m---------------------------------------------------------------------------\u001b[0m",
      "\u001b[1;31mSSLCertVerificationError\u001b[0m                  Traceback (most recent call last)",
      "\u001b[1;32m~\\Anaconda3\\envs\\adsml\\lib\\site-packages\\urllib3\\connectionpool.py\u001b[0m in \u001b[0;36murlopen\u001b[1;34m(self, method, url, body, headers, retries, redirect, assert_same_host, timeout, pool_timeout, release_conn, chunked, body_pos, **response_kw)\u001b[0m\n\u001b[0;32m    713\u001b[0m             \u001b[1;31m# Make the request on the httplib connection object.\u001b[0m\u001b[1;33m\u001b[0m\u001b[1;33m\u001b[0m\u001b[0m\n\u001b[1;32m--> 714\u001b[1;33m             httplib_response = self._make_request(\n\u001b[0m\u001b[0;32m    715\u001b[0m                 \u001b[0mconn\u001b[0m\u001b[1;33m,\u001b[0m\u001b[1;33m\u001b[0m\u001b[1;33m\u001b[0m\u001b[0m\n",
      "\u001b[1;32m~\\Anaconda3\\envs\\adsml\\lib\\site-packages\\urllib3\\connectionpool.py\u001b[0m in \u001b[0;36m_make_request\u001b[1;34m(self, conn, method, url, timeout, chunked, **httplib_request_kw)\u001b[0m\n\u001b[0;32m    402\u001b[0m         \u001b[1;32mtry\u001b[0m\u001b[1;33m:\u001b[0m\u001b[1;33m\u001b[0m\u001b[1;33m\u001b[0m\u001b[0m\n\u001b[1;32m--> 403\u001b[1;33m             \u001b[0mself\u001b[0m\u001b[1;33m.\u001b[0m\u001b[0m_validate_conn\u001b[0m\u001b[1;33m(\u001b[0m\u001b[0mconn\u001b[0m\u001b[1;33m)\u001b[0m\u001b[1;33m\u001b[0m\u001b[1;33m\u001b[0m\u001b[0m\n\u001b[0m\u001b[0;32m    404\u001b[0m         \u001b[1;32mexcept\u001b[0m \u001b[1;33m(\u001b[0m\u001b[0mSocketTimeout\u001b[0m\u001b[1;33m,\u001b[0m \u001b[0mBaseSSLError\u001b[0m\u001b[1;33m)\u001b[0m \u001b[1;32mas\u001b[0m \u001b[0me\u001b[0m\u001b[1;33m:\u001b[0m\u001b[1;33m\u001b[0m\u001b[1;33m\u001b[0m\u001b[0m\n",
      "\u001b[1;32m~\\Anaconda3\\envs\\adsml\\lib\\site-packages\\urllib3\\connectionpool.py\u001b[0m in \u001b[0;36m_validate_conn\u001b[1;34m(self, conn)\u001b[0m\n\u001b[0;32m   1052\u001b[0m         \u001b[1;32mif\u001b[0m \u001b[1;32mnot\u001b[0m \u001b[0mgetattr\u001b[0m\u001b[1;33m(\u001b[0m\u001b[0mconn\u001b[0m\u001b[1;33m,\u001b[0m \u001b[1;34m\"sock\"\u001b[0m\u001b[1;33m,\u001b[0m \u001b[1;32mNone\u001b[0m\u001b[1;33m)\u001b[0m\u001b[1;33m:\u001b[0m  \u001b[1;31m# AppEngine might not have  `.sock`\u001b[0m\u001b[1;33m\u001b[0m\u001b[1;33m\u001b[0m\u001b[0m\n\u001b[1;32m-> 1053\u001b[1;33m             \u001b[0mconn\u001b[0m\u001b[1;33m.\u001b[0m\u001b[0mconnect\u001b[0m\u001b[1;33m(\u001b[0m\u001b[1;33m)\u001b[0m\u001b[1;33m\u001b[0m\u001b[1;33m\u001b[0m\u001b[0m\n\u001b[0m\u001b[0;32m   1054\u001b[0m \u001b[1;33m\u001b[0m\u001b[0m\n",
      "\u001b[1;32m~\\Anaconda3\\envs\\adsml\\lib\\site-packages\\urllib3\\connection.py\u001b[0m in \u001b[0;36mconnect\u001b[1;34m(self)\u001b[0m\n\u001b[0;32m    418\u001b[0m \u001b[1;33m\u001b[0m\u001b[0m\n\u001b[1;32m--> 419\u001b[1;33m         self.sock = ssl_wrap_socket(\n\u001b[0m\u001b[0;32m    420\u001b[0m             \u001b[0msock\u001b[0m\u001b[1;33m=\u001b[0m\u001b[0mconn\u001b[0m\u001b[1;33m,\u001b[0m\u001b[1;33m\u001b[0m\u001b[1;33m\u001b[0m\u001b[0m\n",
      "\u001b[1;32m~\\Anaconda3\\envs\\adsml\\lib\\site-packages\\urllib3\\util\\ssl_.py\u001b[0m in \u001b[0;36mssl_wrap_socket\u001b[1;34m(sock, keyfile, certfile, cert_reqs, ca_certs, server_hostname, ssl_version, ciphers, ssl_context, ca_cert_dir, key_password, ca_cert_data, tls_in_tls)\u001b[0m\n\u001b[0;32m    448\u001b[0m     \u001b[1;32mif\u001b[0m \u001b[0msend_sni\u001b[0m\u001b[1;33m:\u001b[0m\u001b[1;33m\u001b[0m\u001b[1;33m\u001b[0m\u001b[0m\n\u001b[1;32m--> 449\u001b[1;33m         ssl_sock = _ssl_wrap_socket_impl(\n\u001b[0m\u001b[0;32m    450\u001b[0m             \u001b[0msock\u001b[0m\u001b[1;33m,\u001b[0m \u001b[0mcontext\u001b[0m\u001b[1;33m,\u001b[0m \u001b[0mtls_in_tls\u001b[0m\u001b[1;33m,\u001b[0m \u001b[0mserver_hostname\u001b[0m\u001b[1;33m=\u001b[0m\u001b[0mserver_hostname\u001b[0m\u001b[1;33m\u001b[0m\u001b[1;33m\u001b[0m\u001b[0m\n",
      "\u001b[1;32m~\\Anaconda3\\envs\\adsml\\lib\\site-packages\\urllib3\\util\\ssl_.py\u001b[0m in \u001b[0;36m_ssl_wrap_socket_impl\u001b[1;34m(sock, ssl_context, tls_in_tls, server_hostname)\u001b[0m\n\u001b[0;32m    492\u001b[0m     \u001b[1;32mif\u001b[0m \u001b[0mserver_hostname\u001b[0m\u001b[1;33m:\u001b[0m\u001b[1;33m\u001b[0m\u001b[1;33m\u001b[0m\u001b[0m\n\u001b[1;32m--> 493\u001b[1;33m         \u001b[1;32mreturn\u001b[0m \u001b[0mssl_context\u001b[0m\u001b[1;33m.\u001b[0m\u001b[0mwrap_socket\u001b[0m\u001b[1;33m(\u001b[0m\u001b[0msock\u001b[0m\u001b[1;33m,\u001b[0m \u001b[0mserver_hostname\u001b[0m\u001b[1;33m=\u001b[0m\u001b[0mserver_hostname\u001b[0m\u001b[1;33m)\u001b[0m\u001b[1;33m\u001b[0m\u001b[1;33m\u001b[0m\u001b[0m\n\u001b[0m\u001b[0;32m    494\u001b[0m     \u001b[1;32melse\u001b[0m\u001b[1;33m:\u001b[0m\u001b[1;33m\u001b[0m\u001b[1;33m\u001b[0m\u001b[0m\n",
      "\u001b[1;32m~\\Anaconda3\\envs\\adsml\\lib\\ssl.py\u001b[0m in \u001b[0;36mwrap_socket\u001b[1;34m(self, sock, server_side, do_handshake_on_connect, suppress_ragged_eofs, server_hostname, session)\u001b[0m\n\u001b[0;32m    500\u001b[0m         \u001b[1;31m# ctx._wrap_socket()\u001b[0m\u001b[1;33m\u001b[0m\u001b[1;33m\u001b[0m\u001b[0m\n\u001b[1;32m--> 501\u001b[1;33m         return self.sslsocket_class._create(\n\u001b[0m\u001b[0;32m    502\u001b[0m             \u001b[0msock\u001b[0m\u001b[1;33m=\u001b[0m\u001b[0msock\u001b[0m\u001b[1;33m,\u001b[0m\u001b[1;33m\u001b[0m\u001b[1;33m\u001b[0m\u001b[0m\n",
      "\u001b[1;32m~\\Anaconda3\\envs\\adsml\\lib\\ssl.py\u001b[0m in \u001b[0;36m_create\u001b[1;34m(cls, sock, server_side, do_handshake_on_connect, suppress_ragged_eofs, server_hostname, context, session)\u001b[0m\n\u001b[0;32m   1040\u001b[0m                         \u001b[1;32mraise\u001b[0m \u001b[0mValueError\u001b[0m\u001b[1;33m(\u001b[0m\u001b[1;34m\"do_handshake_on_connect should not be specified for non-blocking sockets\"\u001b[0m\u001b[1;33m)\u001b[0m\u001b[1;33m\u001b[0m\u001b[1;33m\u001b[0m\u001b[0m\n\u001b[1;32m-> 1041\u001b[1;33m                     \u001b[0mself\u001b[0m\u001b[1;33m.\u001b[0m\u001b[0mdo_handshake\u001b[0m\u001b[1;33m(\u001b[0m\u001b[1;33m)\u001b[0m\u001b[1;33m\u001b[0m\u001b[1;33m\u001b[0m\u001b[0m\n\u001b[0m\u001b[0;32m   1042\u001b[0m             \u001b[1;32mexcept\u001b[0m \u001b[1;33m(\u001b[0m\u001b[0mOSError\u001b[0m\u001b[1;33m,\u001b[0m \u001b[0mValueError\u001b[0m\u001b[1;33m)\u001b[0m\u001b[1;33m:\u001b[0m\u001b[1;33m\u001b[0m\u001b[1;33m\u001b[0m\u001b[0m\n",
      "\u001b[1;32m~\\Anaconda3\\envs\\adsml\\lib\\ssl.py\u001b[0m in \u001b[0;36mdo_handshake\u001b[1;34m(self, block)\u001b[0m\n\u001b[0;32m   1309\u001b[0m                 \u001b[0mself\u001b[0m\u001b[1;33m.\u001b[0m\u001b[0msettimeout\u001b[0m\u001b[1;33m(\u001b[0m\u001b[1;32mNone\u001b[0m\u001b[1;33m)\u001b[0m\u001b[1;33m\u001b[0m\u001b[1;33m\u001b[0m\u001b[0m\n\u001b[1;32m-> 1310\u001b[1;33m             \u001b[0mself\u001b[0m\u001b[1;33m.\u001b[0m\u001b[0m_sslobj\u001b[0m\u001b[1;33m.\u001b[0m\u001b[0mdo_handshake\u001b[0m\u001b[1;33m(\u001b[0m\u001b[1;33m)\u001b[0m\u001b[1;33m\u001b[0m\u001b[1;33m\u001b[0m\u001b[0m\n\u001b[0m\u001b[0;32m   1311\u001b[0m         \u001b[1;32mfinally\u001b[0m\u001b[1;33m:\u001b[0m\u001b[1;33m\u001b[0m\u001b[1;33m\u001b[0m\u001b[0m\n",
      "\u001b[1;31mSSLCertVerificationError\u001b[0m: [SSL: CERTIFICATE_VERIFY_FAILED] certificate verify failed: unable to get local issuer certificate (_ssl.c:1129)",
      "\nDuring handling of the above exception, another exception occurred:\n",
      "\u001b[1;31mMaxRetryError\u001b[0m                             Traceback (most recent call last)",
      "\u001b[1;32m~\\Anaconda3\\envs\\adsml\\lib\\site-packages\\requests\\adapters.py\u001b[0m in \u001b[0;36msend\u001b[1;34m(self, request, stream, timeout, verify, cert, proxies)\u001b[0m\n\u001b[0;32m    485\u001b[0m         \u001b[1;32mtry\u001b[0m\u001b[1;33m:\u001b[0m\u001b[1;33m\u001b[0m\u001b[1;33m\u001b[0m\u001b[0m\n\u001b[1;32m--> 486\u001b[1;33m             resp = conn.urlopen(\n\u001b[0m\u001b[0;32m    487\u001b[0m                 \u001b[0mmethod\u001b[0m\u001b[1;33m=\u001b[0m\u001b[0mrequest\u001b[0m\u001b[1;33m.\u001b[0m\u001b[0mmethod\u001b[0m\u001b[1;33m,\u001b[0m\u001b[1;33m\u001b[0m\u001b[1;33m\u001b[0m\u001b[0m\n",
      "\u001b[1;32m~\\Anaconda3\\envs\\adsml\\lib\\site-packages\\urllib3\\connectionpool.py\u001b[0m in \u001b[0;36murlopen\u001b[1;34m(self, method, url, body, headers, retries, redirect, assert_same_host, timeout, pool_timeout, release_conn, chunked, body_pos, **response_kw)\u001b[0m\n\u001b[0;32m    797\u001b[0m \u001b[1;33m\u001b[0m\u001b[0m\n\u001b[1;32m--> 798\u001b[1;33m             retries = retries.increment(\n\u001b[0m\u001b[0;32m    799\u001b[0m                 \u001b[0mmethod\u001b[0m\u001b[1;33m,\u001b[0m \u001b[0murl\u001b[0m\u001b[1;33m,\u001b[0m \u001b[0merror\u001b[0m\u001b[1;33m=\u001b[0m\u001b[0me\u001b[0m\u001b[1;33m,\u001b[0m \u001b[0m_pool\u001b[0m\u001b[1;33m=\u001b[0m\u001b[0mself\u001b[0m\u001b[1;33m,\u001b[0m \u001b[0m_stacktrace\u001b[0m\u001b[1;33m=\u001b[0m\u001b[0msys\u001b[0m\u001b[1;33m.\u001b[0m\u001b[0mexc_info\u001b[0m\u001b[1;33m(\u001b[0m\u001b[1;33m)\u001b[0m\u001b[1;33m[\u001b[0m\u001b[1;36m2\u001b[0m\u001b[1;33m]\u001b[0m\u001b[1;33m\u001b[0m\u001b[1;33m\u001b[0m\u001b[0m\n",
      "\u001b[1;32m~\\Anaconda3\\envs\\adsml\\lib\\site-packages\\urllib3\\util\\retry.py\u001b[0m in \u001b[0;36mincrement\u001b[1;34m(self, method, url, response, error, _pool, _stacktrace)\u001b[0m\n\u001b[0;32m    591\u001b[0m         \u001b[1;32mif\u001b[0m \u001b[0mnew_retry\u001b[0m\u001b[1;33m.\u001b[0m\u001b[0mis_exhausted\u001b[0m\u001b[1;33m(\u001b[0m\u001b[1;33m)\u001b[0m\u001b[1;33m:\u001b[0m\u001b[1;33m\u001b[0m\u001b[1;33m\u001b[0m\u001b[0m\n\u001b[1;32m--> 592\u001b[1;33m             \u001b[1;32mraise\u001b[0m \u001b[0mMaxRetryError\u001b[0m\u001b[1;33m(\u001b[0m\u001b[0m_pool\u001b[0m\u001b[1;33m,\u001b[0m \u001b[0murl\u001b[0m\u001b[1;33m,\u001b[0m \u001b[0merror\u001b[0m \u001b[1;32mor\u001b[0m \u001b[0mResponseError\u001b[0m\u001b[1;33m(\u001b[0m\u001b[0mcause\u001b[0m\u001b[1;33m)\u001b[0m\u001b[1;33m)\u001b[0m\u001b[1;33m\u001b[0m\u001b[1;33m\u001b[0m\u001b[0m\n\u001b[0m\u001b[0;32m    593\u001b[0m \u001b[1;33m\u001b[0m\u001b[0m\n",
      "\u001b[1;31mMaxRetryError\u001b[0m: HTTPSConnectionPool(host='www.strava.com', port=443): Max retries exceeded with url: /oauth/token (Caused by SSLError(SSLCertVerificationError(1, '[SSL: CERTIFICATE_VERIFY_FAILED] certificate verify failed: unable to get local issuer certificate (_ssl.c:1129)')))",
      "\nDuring handling of the above exception, another exception occurred:\n",
      "\u001b[1;31mSSLError\u001b[0m                                  Traceback (most recent call last)",
      "\u001b[1;32m~\\AppData\\Local\\Temp\\ipykernel_36760\\2639731205.py\u001b[0m in \u001b[0;36m<module>\u001b[1;34m\u001b[0m\n\u001b[0;32m      2\u001b[0m \u001b[1;33m\u001b[0m\u001b[0m\n\u001b[0;32m      3\u001b[0m \u001b[1;31m# Exchange Authorization Code for Access Token\u001b[0m\u001b[1;33m\u001b[0m\u001b[1;33m\u001b[0m\u001b[0m\n\u001b[1;32m----> 4\u001b[1;33m r = requests.post('https://www.strava.com/oauth/token', data={\n\u001b[0m\u001b[0;32m      5\u001b[0m     \u001b[1;34m'client_id'\u001b[0m\u001b[1;33m:\u001b[0m \u001b[0mclient_credentials\u001b[0m\u001b[1;33m[\u001b[0m\u001b[1;34m'client_id'\u001b[0m\u001b[1;33m]\u001b[0m\u001b[1;33m,\u001b[0m\u001b[1;33m\u001b[0m\u001b[1;33m\u001b[0m\u001b[0m\n\u001b[0;32m      6\u001b[0m     \u001b[1;34m'client_secret'\u001b[0m\u001b[1;33m:\u001b[0m \u001b[0mclient_credentials\u001b[0m\u001b[1;33m[\u001b[0m\u001b[1;34m'client_secret'\u001b[0m\u001b[1;33m]\u001b[0m\u001b[1;33m,\u001b[0m\u001b[1;33m\u001b[0m\u001b[1;33m\u001b[0m\u001b[0m\n",
      "\u001b[1;32m~\\Anaconda3\\envs\\adsml\\lib\\site-packages\\requests\\api.py\u001b[0m in \u001b[0;36mpost\u001b[1;34m(url, data, json, **kwargs)\u001b[0m\n\u001b[0;32m    113\u001b[0m     \"\"\"\n\u001b[0;32m    114\u001b[0m \u001b[1;33m\u001b[0m\u001b[0m\n\u001b[1;32m--> 115\u001b[1;33m     \u001b[1;32mreturn\u001b[0m \u001b[0mrequest\u001b[0m\u001b[1;33m(\u001b[0m\u001b[1;34m\"post\"\u001b[0m\u001b[1;33m,\u001b[0m \u001b[0murl\u001b[0m\u001b[1;33m,\u001b[0m \u001b[0mdata\u001b[0m\u001b[1;33m=\u001b[0m\u001b[0mdata\u001b[0m\u001b[1;33m,\u001b[0m \u001b[0mjson\u001b[0m\u001b[1;33m=\u001b[0m\u001b[0mjson\u001b[0m\u001b[1;33m,\u001b[0m \u001b[1;33m**\u001b[0m\u001b[0mkwargs\u001b[0m\u001b[1;33m)\u001b[0m\u001b[1;33m\u001b[0m\u001b[1;33m\u001b[0m\u001b[0m\n\u001b[0m\u001b[0;32m    116\u001b[0m \u001b[1;33m\u001b[0m\u001b[0m\n\u001b[0;32m    117\u001b[0m \u001b[1;33m\u001b[0m\u001b[0m\n",
      "\u001b[1;32m~\\Anaconda3\\envs\\adsml\\lib\\site-packages\\requests\\api.py\u001b[0m in \u001b[0;36mrequest\u001b[1;34m(method, url, **kwargs)\u001b[0m\n\u001b[0;32m     57\u001b[0m     \u001b[1;31m# cases, and look like a memory leak in others.\u001b[0m\u001b[1;33m\u001b[0m\u001b[1;33m\u001b[0m\u001b[0m\n\u001b[0;32m     58\u001b[0m     \u001b[1;32mwith\u001b[0m \u001b[0msessions\u001b[0m\u001b[1;33m.\u001b[0m\u001b[0mSession\u001b[0m\u001b[1;33m(\u001b[0m\u001b[1;33m)\u001b[0m \u001b[1;32mas\u001b[0m \u001b[0msession\u001b[0m\u001b[1;33m:\u001b[0m\u001b[1;33m\u001b[0m\u001b[1;33m\u001b[0m\u001b[0m\n\u001b[1;32m---> 59\u001b[1;33m         \u001b[1;32mreturn\u001b[0m \u001b[0msession\u001b[0m\u001b[1;33m.\u001b[0m\u001b[0mrequest\u001b[0m\u001b[1;33m(\u001b[0m\u001b[0mmethod\u001b[0m\u001b[1;33m=\u001b[0m\u001b[0mmethod\u001b[0m\u001b[1;33m,\u001b[0m \u001b[0murl\u001b[0m\u001b[1;33m=\u001b[0m\u001b[0murl\u001b[0m\u001b[1;33m,\u001b[0m \u001b[1;33m**\u001b[0m\u001b[0mkwargs\u001b[0m\u001b[1;33m)\u001b[0m\u001b[1;33m\u001b[0m\u001b[1;33m\u001b[0m\u001b[0m\n\u001b[0m\u001b[0;32m     60\u001b[0m \u001b[1;33m\u001b[0m\u001b[0m\n\u001b[0;32m     61\u001b[0m \u001b[1;33m\u001b[0m\u001b[0m\n",
      "\u001b[1;32m~\\Anaconda3\\envs\\adsml\\lib\\site-packages\\requests\\sessions.py\u001b[0m in \u001b[0;36mrequest\u001b[1;34m(self, method, url, params, data, headers, cookies, files, auth, timeout, allow_redirects, proxies, hooks, stream, verify, cert, json)\u001b[0m\n\u001b[0;32m    587\u001b[0m         }\n\u001b[0;32m    588\u001b[0m         \u001b[0msend_kwargs\u001b[0m\u001b[1;33m.\u001b[0m\u001b[0mupdate\u001b[0m\u001b[1;33m(\u001b[0m\u001b[0msettings\u001b[0m\u001b[1;33m)\u001b[0m\u001b[1;33m\u001b[0m\u001b[1;33m\u001b[0m\u001b[0m\n\u001b[1;32m--> 589\u001b[1;33m         \u001b[0mresp\u001b[0m \u001b[1;33m=\u001b[0m \u001b[0mself\u001b[0m\u001b[1;33m.\u001b[0m\u001b[0msend\u001b[0m\u001b[1;33m(\u001b[0m\u001b[0mprep\u001b[0m\u001b[1;33m,\u001b[0m \u001b[1;33m**\u001b[0m\u001b[0msend_kwargs\u001b[0m\u001b[1;33m)\u001b[0m\u001b[1;33m\u001b[0m\u001b[1;33m\u001b[0m\u001b[0m\n\u001b[0m\u001b[0;32m    590\u001b[0m \u001b[1;33m\u001b[0m\u001b[0m\n\u001b[0;32m    591\u001b[0m         \u001b[1;32mreturn\u001b[0m \u001b[0mresp\u001b[0m\u001b[1;33m\u001b[0m\u001b[1;33m\u001b[0m\u001b[0m\n",
      "\u001b[1;32m~\\Anaconda3\\envs\\adsml\\lib\\site-packages\\requests\\sessions.py\u001b[0m in \u001b[0;36msend\u001b[1;34m(self, request, **kwargs)\u001b[0m\n\u001b[0;32m    701\u001b[0m \u001b[1;33m\u001b[0m\u001b[0m\n\u001b[0;32m    702\u001b[0m         \u001b[1;31m# Send the request\u001b[0m\u001b[1;33m\u001b[0m\u001b[1;33m\u001b[0m\u001b[0m\n\u001b[1;32m--> 703\u001b[1;33m         \u001b[0mr\u001b[0m \u001b[1;33m=\u001b[0m \u001b[0madapter\u001b[0m\u001b[1;33m.\u001b[0m\u001b[0msend\u001b[0m\u001b[1;33m(\u001b[0m\u001b[0mrequest\u001b[0m\u001b[1;33m,\u001b[0m \u001b[1;33m**\u001b[0m\u001b[0mkwargs\u001b[0m\u001b[1;33m)\u001b[0m\u001b[1;33m\u001b[0m\u001b[1;33m\u001b[0m\u001b[0m\n\u001b[0m\u001b[0;32m    704\u001b[0m \u001b[1;33m\u001b[0m\u001b[0m\n\u001b[0;32m    705\u001b[0m         \u001b[1;31m# Total elapsed time of the request (approximately)\u001b[0m\u001b[1;33m\u001b[0m\u001b[1;33m\u001b[0m\u001b[0m\n",
      "\u001b[1;32m~\\Anaconda3\\envs\\adsml\\lib\\site-packages\\requests\\adapters.py\u001b[0m in \u001b[0;36msend\u001b[1;34m(self, request, stream, timeout, verify, cert, proxies)\u001b[0m\n\u001b[0;32m    515\u001b[0m             \u001b[1;32mif\u001b[0m \u001b[0misinstance\u001b[0m\u001b[1;33m(\u001b[0m\u001b[0me\u001b[0m\u001b[1;33m.\u001b[0m\u001b[0mreason\u001b[0m\u001b[1;33m,\u001b[0m \u001b[0m_SSLError\u001b[0m\u001b[1;33m)\u001b[0m\u001b[1;33m:\u001b[0m\u001b[1;33m\u001b[0m\u001b[1;33m\u001b[0m\u001b[0m\n\u001b[0;32m    516\u001b[0m                 \u001b[1;31m# This branch is for urllib3 v1.22 and later.\u001b[0m\u001b[1;33m\u001b[0m\u001b[1;33m\u001b[0m\u001b[0m\n\u001b[1;32m--> 517\u001b[1;33m                 \u001b[1;32mraise\u001b[0m \u001b[0mSSLError\u001b[0m\u001b[1;33m(\u001b[0m\u001b[0me\u001b[0m\u001b[1;33m,\u001b[0m \u001b[0mrequest\u001b[0m\u001b[1;33m=\u001b[0m\u001b[0mrequest\u001b[0m\u001b[1;33m)\u001b[0m\u001b[1;33m\u001b[0m\u001b[1;33m\u001b[0m\u001b[0m\n\u001b[0m\u001b[0;32m    518\u001b[0m \u001b[1;33m\u001b[0m\u001b[0m\n\u001b[0;32m    519\u001b[0m             \u001b[1;32mraise\u001b[0m \u001b[0mConnectionError\u001b[0m\u001b[1;33m(\u001b[0m\u001b[0me\u001b[0m\u001b[1;33m,\u001b[0m \u001b[0mrequest\u001b[0m\u001b[1;33m=\u001b[0m\u001b[0mrequest\u001b[0m\u001b[1;33m)\u001b[0m\u001b[1;33m\u001b[0m\u001b[1;33m\u001b[0m\u001b[0m\n",
      "\u001b[1;31mSSLError\u001b[0m: HTTPSConnectionPool(host='www.strava.com', port=443): Max retries exceeded with url: /oauth/token (Caused by SSLError(SSLCertVerificationError(1, '[SSL: CERTIFICATE_VERIFY_FAILED] certificate verify failed: unable to get local issuer certificate (_ssl.c:1129)')))"
     ]
    }
   ],
   "source": [
    "import requests\n",
    "\n",
    "# Exchange Authorization Code for Access Token\n",
    "r = requests.post('https://www.strava.com/oauth/token', data={\n",
    "    'client_id': client_credentials['client_id'],\n",
    "    'client_secret': client_credentials['client_secret'],\n",
    "    'code': authorization_code,\n",
    "    'grant_type': 'authorization_code'\n",
    "})\n",
    " #r.status_code # 200 #Error VPN ? "
   ]
  },
  {
   "cell_type": "markdown",
   "id": "9b9d1db4-0b30-4ff7-8053-f8eb14469237",
   "metadata": {},
   "source": [
    "The function takes two arguments, the URL and the data that let us send the fields defined in the Strava API token exchange guide\n",
    "\n",
    "The client_id and client_secret which identify our application\n",
    "The access code code\n",
    "A grant_type field which states that we “post” the authorization code\n",
    "The function returns an object of type Response with the response from the Strava service. The first thing to do is to verify that the request was successful. We can achieve that by printing the status_code attribute. In our case, we get 200 for the status which means that the request was successful. In general 2xx codes are for successful requests whereas 4xx ones are returned when something is wrong ex. the famous 404 “Not Found” one - see List of HTTP status codes for the complete list of codes.\n",
    "\n",
    "The Response object stores the result of the request in its .text attribute. In our case, it should contain our Access Token - note: again, the token should be kept private, make sure to then remove the print statement and output from your notebook!"
   ]
  },
  {
   "cell_type": "code",
   "execution_count": 15,
   "id": "c119f59d-e5d1-469a-b81c-d1daefa763d0",
   "metadata": {},
   "outputs": [],
   "source": [
    "# print(r.text) # ex. {\"token_type\":\"Bearer\",\"expires_at\": ... }"
   ]
  },
  {
   "cell_type": "markdown",
   "id": "41698da5-407b-4ef3-9134-f9087b79b00d",
   "metadata": {},
   "source": [
    "the token is actually a JSON object of (key, value) pairs which is common practice for HTTP API responses. "
   ]
  },
  {
   "cell_type": "code",
   "execution_count": 17,
   "id": "794371be-7482-490b-996b-9a19646069da",
   "metadata": {},
   "outputs": [],
   "source": [
    "r.json()\n",
    "\n",
    "# Outputs:\n",
    "# {'token_type': 'Bearer',\n",
    "#  'expires_at': 1558..,\n",
    "#  'expires_in': 21600,\n",
    "#  'refresh_token': '6001..',\n",
    "#  'access_token': '8bea..',\n",
    "#  'athlete': {'id': ..,\n",
    "#   ...\n",
    "#   'follower': ..}}"
   ]
  },
  {
   "cell_type": "markdown",
   "id": "e2555a8d-46c9-4aee-947b-1b64d4f1e749",
   "metadata": {},
   "source": [
    "This token contains all the information we need to retrieve the data from the Strava API\n",
    "\n",
    "- The access_token - we will use it in all of our API requests\n",
    "- expires_at and expires_in which specify when the token expires\n",
    "- A refresh_token to get a new Access Token when this one expires\n",
    "- Strava also sends some basic information about the user in an athlete field\n",
    "\n",
    "Let’s store the token as we will need it later when interacting with the Strava API. One solution is to store it in a .json file that we can later reload in our code and notebooks. We can do this via a token_saver() function that takes the JSON object, creates a token.json file and saves it with the json.dump() function : "
   ]
  },
  {
   "cell_type": "code",
   "execution_count": 19,
   "id": "1bc557a7-acaa-4d07-b8a2-a7b58d7f3614",
   "metadata": {},
   "outputs": [],
   "source": [
    "# Token saver\n",
    "def token_saver(token_obj):\n",
    "    with open('token.json', 'w') as file:\n",
    "        json.dump(token_obj, file, indent=4)\n",
    "\n",
    "#token_saver(r.json())"
   ]
  },
  {
   "cell_type": "markdown",
   "id": "0d61380b-cb41-4e7d-a280-a7ccb9d5b2fc",
   "metadata": {},
   "source": [
    "You can verify that the token is saved by simply opening the token.json file ex. directly in JupyterLab or any other text editor.\n",
    "\n",
    "## Refreshing Tokens\n",
    "Before starting making requests to the Strava API, let’s quickly discuss how access tokens work and when they should be refreshed.\n",
    "\n",
    "First, let’s start by reloading the token - as this is a frequent operation, we can also write a small function for this"
   ]
  },
  {
   "cell_type": "code",
   "execution_count": null,
   "id": "3b6083ea-b454-4270-a50f-a414eb811dc9",
   "metadata": {},
   "outputs": [],
   "source": [
    "# Token loader\n",
    "def get_token():\n",
    "    with open('token.json', 'r') as file:\n",
    "        return json.load(file)\n",
    "\n",
    "token = get_token()\n",
    "token.keys() # 'token_type', 'expires_at', 'expires_in', 'refresh_token', 'access_token', 'athlete'\n"
   ]
  },
  {
   "cell_type": "code",
   "execution_count": null,
   "id": "408c8366-637e-4ee3-962a-e0a51aff83ff",
   "metadata": {},
   "outputs": [],
   "source": [
    "print('Expires in:', token['expires_in']) # initially: 21600 (6 hours)\n",
    "print('Expires at:', token['expires_at']) # in seconds"
   ]
  },
  {
   "cell_type": "markdown",
   "id": "8dc2e42a-0333-4574-b325-c9cfde8b5e60",
   "metadata": {},
   "source": [
    "Those are both in seconds\n",
    "\n",
    "- expires_in is initially 21600 because the access token lives for 6 hours\n",
    "- expires_at is when the token expires\n",
    "\n",
    "The second field is a Unix timestamp which is defined as the number of seconds since Jan 1, 1970. To get the corresponding date, we can use functions from the Python datetime built-in module"
   ]
  },
  {
   "cell_type": "code",
   "execution_count": null,
   "id": "16399d68-7012-479c-a4d9-a5e0492b7d57",
   "metadata": {},
   "outputs": [],
   "source": [
    "from datetime import datetime, timedelta\n",
    "\n",
    "print('Expires at:', datetime.fromtimestamp(token['expires_at'])) # date, time\n",
    "print('Expires in:', timedelta(seconds=token['expires_in'])) # time delta"
   ]
  },
  {
   "cell_type": "markdown",
   "id": "85be1db3-80d7-41b7-88d6-5b349e0e2a13",
   "metadata": {},
   "source": [
    "When the token expires, we should reach the Strava token API and ask for a new one by simply issuing a new POST request with our refresh_token"
   ]
  },
  {
   "cell_type": "code",
   "execution_count": null,
   "id": "19ebfba6-eca5-466a-a155-3057848a9469",
   "metadata": {},
   "outputs": [],
   "source": [
    "# Refresh expired Access Tokens\n",
    "r = requests.post('https://www.strava.com/oauth/token', data={\n",
    "    'client_id': client_credentials['client_id'],\n",
    "    'client_secret': client_credentials['client_secret'],\n",
    "    'refresh_token': token['refresh_token'],\n",
    "    'grant_type': 'refresh_token'\n",
    "})\n",
    "token_saver(r.json())\n",
    "token = get_token()"
   ]
  },
  {
   "cell_type": "markdown",
   "id": "5fa265f3-0896-47fc-b0ca-a260bfca5406",
   "metadata": {},
   "source": [
    "Note that this time, the grant_type is refresh_token instead of authorization_code. We should now have a new token if the last one expired or a copy of the current one if it’s still valid.\n",
    "\n",
    "## Reach API using Python Requests\n",
    "Finally, let’s get some data from the API. Strava exposes several endpoints such as\n",
    "\n",
    "- /activities to add, retrieve and update the athlete activities\n",
    "- /clubs to list the athlete clubs\n",
    "- /routes, /segments and so on\n",
    "\n",
    "APIs usually provide an API Reference Documentation that lists the different endpoints and explains how they work. For Strava, you can take a look at developers.strava.com/docs/reference. For this example, we will simply list some of the athlete activities with the /athlete/activities one.\n",
    "\n",
    "As you can see in the related documentation entry List Athlete Activities, this endpoint accepts GET requests and has a few optional parameters ex. to specify the date interval or the desired number of results. For this example, we will use the defaults and only specify the Access Token"
   ]
  },
  {
   "cell_type": "code",
   "execution_count": 20,
   "id": "ce341e51-db1a-4ffa-904c-0cf222a1373e",
   "metadata": {},
   "outputs": [
    {
     "ename": "NameError",
     "evalue": "name 'token' is not defined",
     "output_type": "error",
     "traceback": [
      "\u001b[1;31m---------------------------------------------------------------------------\u001b[0m",
      "\u001b[1;31mNameError\u001b[0m                                 Traceback (most recent call last)",
      "\u001b[1;32m~\\AppData\\Local\\Temp\\ipykernel_36760\\3216394366.py\u001b[0m in \u001b[0;36m<module>\u001b[1;34m\u001b[0m\n\u001b[0;32m      1\u001b[0m \u001b[1;31m# List activities\u001b[0m\u001b[1;33m\u001b[0m\u001b[1;33m\u001b[0m\u001b[0m\n\u001b[0;32m      2\u001b[0m r = requests.get('https://www.strava.com/api/v3/athlete/activities', params={\n\u001b[1;32m----> 3\u001b[1;33m     \u001b[1;34m'access_token'\u001b[0m\u001b[1;33m:\u001b[0m \u001b[0mtoken\u001b[0m\u001b[1;33m[\u001b[0m\u001b[1;34m'access_token'\u001b[0m\u001b[1;33m]\u001b[0m\u001b[1;33m\u001b[0m\u001b[1;33m\u001b[0m\u001b[0m\n\u001b[0m\u001b[0;32m      4\u001b[0m })\n\u001b[0;32m      5\u001b[0m \u001b[0mr\u001b[0m\u001b[1;33m.\u001b[0m\u001b[0mstatus_code\u001b[0m \u001b[1;31m# 200\u001b[0m\u001b[1;33m\u001b[0m\u001b[1;33m\u001b[0m\u001b[0m\n",
      "\u001b[1;31mNameError\u001b[0m: name 'token' is not defined"
     ]
    }
   ],
   "source": [
    "# List activities\n",
    "r = requests.get('https://www.strava.com/api/v3/athlete/activities', params={\n",
    "    'access_token': token['access_token']\n",
    "})\n",
    "r.status_code # 200"
   ]
  },
  {
   "cell_type": "markdown",
   "id": "ab4b2155-1404-4f88-bf95-5ad2346552e0",
   "metadata": {},
   "source": [
    "Finally, let’s save the result in an activities.json file. Again, we use the .json() method as the API returns a JSON response"
   ]
  },
  {
   "cell_type": "code",
   "execution_count": 21,
   "id": "3d5e5f5d-d8fd-45b4-8724-0a61c2fc98b7",
   "metadata": {},
   "outputs": [
    {
     "ename": "NameError",
     "evalue": "name 'r' is not defined",
     "output_type": "error",
     "traceback": [
      "\u001b[1;31m---------------------------------------------------------------------------\u001b[0m",
      "\u001b[1;31mNameError\u001b[0m                                 Traceback (most recent call last)",
      "\u001b[1;32m~\\AppData\\Local\\Temp\\ipykernel_36760\\1603236923.py\u001b[0m in \u001b[0;36m<module>\u001b[1;34m\u001b[0m\n\u001b[0;32m      1\u001b[0m \u001b[1;31m# Save activities\u001b[0m\u001b[1;33m\u001b[0m\u001b[1;33m\u001b[0m\u001b[0m\n\u001b[0;32m      2\u001b[0m \u001b[1;32mwith\u001b[0m \u001b[0mopen\u001b[0m\u001b[1;33m(\u001b[0m\u001b[1;34m'activities.json'\u001b[0m\u001b[1;33m,\u001b[0m \u001b[1;34m'w'\u001b[0m\u001b[1;33m)\u001b[0m \u001b[1;32mas\u001b[0m \u001b[0mfile\u001b[0m\u001b[1;33m:\u001b[0m\u001b[1;33m\u001b[0m\u001b[1;33m\u001b[0m\u001b[0m\n\u001b[1;32m----> 3\u001b[1;33m     \u001b[0mjson\u001b[0m\u001b[1;33m.\u001b[0m\u001b[0mdump\u001b[0m\u001b[1;33m(\u001b[0m\u001b[0mr\u001b[0m\u001b[1;33m.\u001b[0m\u001b[0mjson\u001b[0m\u001b[1;33m(\u001b[0m\u001b[1;33m)\u001b[0m\u001b[1;33m,\u001b[0m \u001b[0mfile\u001b[0m\u001b[1;33m,\u001b[0m \u001b[0mindent\u001b[0m\u001b[1;33m=\u001b[0m\u001b[1;36m4\u001b[0m\u001b[1;33m)\u001b[0m\u001b[1;33m\u001b[0m\u001b[1;33m\u001b[0m\u001b[0m\n\u001b[0m",
      "\u001b[1;31mNameError\u001b[0m: name 'r' is not defined"
     ]
    }
   ],
   "source": [
    "# Save activities\n",
    "with open('activities.json', 'w') as file:\n",
    "    json.dump(r.json(), file, indent=4)"
   ]
  },
  {
   "cell_type": "markdown",
   "id": "3a36ac18-bf74-413e-bb00-eb32c92bfc29",
   "metadata": {},
   "source": [
    "You should be able to see the different activities saved in your Strava account by opening the file in a text editor.\n",
    "\n",
    "Since the results are stored on the disk, we can reuse them later in our analyzes. For instance, let’s load them in a Pandas DataFrame"
   ]
  },
  {
   "cell_type": "code",
   "execution_count": null,
   "id": "9fa5d606-f8fe-4733-b6b4-6c85f22067f0",
   "metadata": {},
   "outputs": [],
   "source": [
    "# Load data into DataFrame\n",
    "activities_df = pd.read_json(r.text)\n",
    "activities_df[['name', 'type', 'distance', 'elapsed_time', 'max_speed']]"
   ]
  },
  {
   "cell_type": "markdown",
   "id": "5d0e313c-746b-4e01-b95e-7fae11243a8a",
   "metadata": {},
   "source": [
    "I stop the lesson here because nothing work. :\n",
    "\n",
    "## Summary\n",
    "In this unit, we went through a concrete example of using APIs and discussed different ways to retrieve data from them. Here are a few takeaways\n",
    "\n",
    "- APIs can require some form of Authorization\n",
    "- Communication with APIs is usually done via Access Tokens\n",
    "- HTTP requests can be performed with the Python Requests library\n",
    "\n",
    "As you gain more experience with data science projects you will most likely come across many different APIs. While the details of each implementation will be different the general framework above of registering an app, getting a personal token, and setting up the connecting using the specific objects and methods found in the documentation should give you a good starting point.\n",
    "\n",
    "# OpenFood database: task A\n",
    "New notebook."
   ]
  },
  {
   "cell_type": "code",
   "execution_count": null,
   "id": "bd1a0a40-4209-4eec-ab83-adf4e176de0b",
   "metadata": {},
   "outputs": [],
   "source": []
  }
 ],
 "metadata": {
  "kernelspec": {
   "display_name": "Python [conda env:adsml] *",
   "language": "python",
   "name": "conda-env-adsml-py"
  },
  "language_info": {
   "codemirror_mode": {
    "name": "ipython",
    "version": 3
   },
   "file_extension": ".py",
   "mimetype": "text/x-python",
   "name": "python",
   "nbconvert_exporter": "python",
   "pygments_lexer": "ipython3",
   "version": "3.9.16"
  }
 },
 "nbformat": 4,
 "nbformat_minor": 5
}
