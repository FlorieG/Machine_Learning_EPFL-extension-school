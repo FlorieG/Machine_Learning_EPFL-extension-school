{
 "cells": [
  {
   "cell_type": "code",
   "execution_count": 1,
   "id": "d2419ba2-ad9d-488e-bf51-08d95fd8cf86",
   "metadata": {},
   "outputs": [
    {
     "name": "stdout",
     "output_type": "stream",
     "text": [
      "C:\\Users\\s1114237\\OneDrive - Syngenta\\Formations\\Training\\EPFL extension school\\Machine_Learning_EPFL-extension-school\\Course#2 Data Analysis\\Ressources\n"
     ]
    }
   ],
   "source": [
    "#TO remove :\n",
    "import os\n",
    "directory = os.getcwd()\n",
    "print(directory)"
   ]
  },
  {
   "cell_type": "code",
   "execution_count": 2,
   "id": "c3c227fb-028e-46cf-b8ea-93d2b8c627c3",
   "metadata": {
    "jupyter": {
     "source_hidden": true
    },
    "tags": []
   },
   "outputs": [
    {
     "ename": "FileNotFoundError",
     "evalue": "[WinError 3] The system cannot find the path specified: 'Machine_Learning_EPFL-extension-school\\\\Course#2 Data Analysis'",
     "output_type": "error",
     "traceback": [
      "\u001b[1;31m---------------------------------------------------------------------------\u001b[0m",
      "\u001b[1;31mFileNotFoundError\u001b[0m                         Traceback (most recent call last)",
      "\u001b[1;32m~\\AppData\\Local\\Temp\\ipykernel_3848\\3623683747.py\u001b[0m in \u001b[0;36m<module>\u001b[1;34m\u001b[0m\n\u001b[1;32m----> 1\u001b[1;33m \u001b[0mos\u001b[0m\u001b[1;33m.\u001b[0m\u001b[0mchdir\u001b[0m\u001b[1;33m(\u001b[0m\u001b[1;34m\"Machine_Learning_EPFL-extension-school\\Course#2 Data Analysis\"\u001b[0m\u001b[1;33m)\u001b[0m\u001b[1;33m\u001b[0m\u001b[1;33m\u001b[0m\u001b[0m\n\u001b[0m\u001b[0;32m      2\u001b[0m \u001b[0mdirectory\u001b[0m \u001b[1;33m=\u001b[0m \u001b[0mos\u001b[0m\u001b[1;33m.\u001b[0m\u001b[0mgetcwd\u001b[0m\u001b[1;33m(\u001b[0m\u001b[1;33m)\u001b[0m\u001b[1;33m\u001b[0m\u001b[1;33m\u001b[0m\u001b[0m\n\u001b[0;32m      3\u001b[0m \u001b[0mprint\u001b[0m\u001b[1;33m(\u001b[0m\u001b[0mdirectory\u001b[0m\u001b[1;33m)\u001b[0m\u001b[1;33m\u001b[0m\u001b[1;33m\u001b[0m\u001b[0m\n",
      "\u001b[1;31mFileNotFoundError\u001b[0m: [WinError 3] The system cannot find the path specified: 'Machine_Learning_EPFL-extension-school\\\\Course#2 Data Analysis'"
     ]
    }
   ],
   "source": [
    "os.chdir(\"Machine_Learning_EPFL-extension-school\\Course#2 Data Analysis\")\n",
    "directory = os.getcwd()\n",
    "print(directory)"
   ]
  },
  {
   "cell_type": "markdown",
   "id": "555cbe24-2dd3-4721-9071-bf252def6437",
   "metadata": {},
   "source": [
    "# Working with time-series data\n",
    "## Pandas data structures for time series data\n",
    "\n",
    "In this unit we introduce the fundamental data structures in pandas for working with time series data. In the first part, we introduce three data types followed by their associated indexes. In the second part, we discuss frequencies and offsets for time series data.\n",
    "\n",
    "### The Timestamp object and its DatetimeIndex object\n",
    "\n",
    "Pandas’ Timestamp object provides an easy to use tool for dealing with dates and times that is also very efficient. Its efficiency is due to the fact that it takes advantage of the storage and vectorized interface of the NumPy datetime64 dtype. This data type encodes dates as 64-bit integers allowing them to be represented in a compact way.\n",
    "\n",
    "Let’s now look at some examples. We can create a Timestamp object in pandas using the pd.to_datetime() function and specifying a minimum of three parameters representing the year, month and day. There is a lot of flexibility as to how we can provide these parameters. Try out each of the examples below"
   ]
  },
  {
   "cell_type": "code",
   "execution_count": 3,
   "id": "b5465ef9-9130-44b6-a123-180399069c24",
   "metadata": {},
   "outputs": [
    {
     "data": {
      "text/plain": [
       "Timestamp('2009-02-13 00:00:00')"
      ]
     },
     "execution_count": 3,
     "metadata": {},
     "output_type": "execute_result"
    }
   ],
   "source": [
    "import pandas as pd\n",
    "import numpy as np\n",
    "\n",
    "pd.to_datetime(\"13th of February, 2009\")"
   ]
  },
  {
   "cell_type": "code",
   "execution_count": 4,
   "id": "4a4755b8-a8b6-4681-b888-3bc879973ad8",
   "metadata": {},
   "outputs": [
    {
     "data": {
      "text/plain": [
       "Timestamp('2009-02-13 00:00:00')"
      ]
     },
     "execution_count": 4,
     "metadata": {},
     "output_type": "execute_result"
    }
   ],
   "source": [
    "pd.to_datetime(\"02-13-2009\")"
   ]
  },
  {
   "cell_type": "code",
   "execution_count": 5,
   "id": "6530371a-fc07-4fcf-8398-4fbe999c9577",
   "metadata": {},
   "outputs": [
    {
     "data": {
      "text/plain": [
       "Timestamp('2009-02-13 00:00:00')"
      ]
     },
     "execution_count": 5,
     "metadata": {},
     "output_type": "execute_result"
    }
   ],
   "source": [
    "pd.to_datetime(\"Feb 13, 2009\")"
   ]
  },
  {
   "cell_type": "markdown",
   "id": "753533ba-e616-4dc7-a09e-3deec770c0bc",
   "metadata": {},
   "source": [
    "As you can see there are many different ways to define the same date. We can choose to specify also a time together with our date as follows"
   ]
  },
  {
   "cell_type": "code",
   "execution_count": 6,
   "id": "d625548a-9bff-4d3c-8d10-2df24305029d",
   "metadata": {},
   "outputs": [
    {
     "data": {
      "text/plain": [
       "Timestamp('2009-02-13 14:20:00')"
      ]
     },
     "execution_count": 6,
     "metadata": {},
     "output_type": "execute_result"
    }
   ],
   "source": [
    "pd.to_datetime(\"Feb 13, 2009 14:20:00\")"
   ]
  },
  {
   "cell_type": "markdown",
   "id": "8a75bfea-cb9e-4489-8685-b1e29374e671",
   "metadata": {},
   "source": [
    "If we instead provide only a time then the current local date will be assigned"
   ]
  },
  {
   "cell_type": "code",
   "execution_count": 7,
   "id": "d3b39a43-3bdd-4161-82f4-acba329de3c2",
   "metadata": {},
   "outputs": [
    {
     "data": {
      "text/plain": [
       "Timestamp('2023-11-19 13:00:00')"
      ]
     },
     "execution_count": 7,
     "metadata": {},
     "output_type": "execute_result"
    }
   ],
   "source": [
    "pd.to_datetime(\"13:00\")"
   ]
  },
  {
   "cell_type": "markdown",
   "id": "17b3b4fb-63df-43fd-915f-a4ef31cf4a7c",
   "metadata": {},
   "source": [
    "We can even retrieve the current date and time by passing the keyword 'now' as follows"
   ]
  },
  {
   "cell_type": "code",
   "execution_count": 8,
   "id": "2b81d896-13b5-467d-9610-ca5dc542b063",
   "metadata": {},
   "outputs": [
    {
     "data": {
      "text/plain": [
       "Timestamp('2023-11-19 16:40:22.460742')"
      ]
     },
     "execution_count": 8,
     "metadata": {},
     "output_type": "execute_result"
    }
   ],
   "source": [
    "pd.to_datetime(\"now\")"
   ]
  },
  {
   "cell_type": "markdown",
   "id": "65f22238-4145-4ec1-8ad4-3a5a7cb698d6",
   "metadata": {},
   "source": [
    "The Timestamp object has several useful attributes. We can, for example, retrieve the day of the week using"
   ]
  },
  {
   "cell_type": "code",
   "execution_count": 9,
   "id": "e189d4b5-a04e-49f9-84df-3f2dd2b4d661",
   "metadata": {},
   "outputs": [
    {
     "data": {
      "text/plain": [
       "'Friday'"
      ]
     },
     "execution_count": 9,
     "metadata": {},
     "output_type": "execute_result"
    }
   ],
   "source": [
    "pd.to_datetime(\"Feb 13, 2009 14:20:00\").day_name()"
   ]
  },
  {
   "cell_type": "markdown",
   "id": "896238c3-e689-40b4-b156-4d92f4e30ae3",
   "metadata": {},
   "source": [
    "***Note :*** What happens when we store a sequence of Timestamp objects in a Series? Well, pandas has a special index object for us called Datetimeindex. This is essentially where the pandas time series tools become really useful since it allows to index data by timestamps.\n",
    "\n",
    "Creating DatetimeIndex() objects is very simple: we just pass a series of dates to the pd.to_dateTime() function. Let’s look at an example."
   ]
  },
  {
   "cell_type": "code",
   "execution_count": 10,
   "id": "50155a6a-a8aa-4a79-99fe-f5c328f412f2",
   "metadata": {},
   "outputs": [
    {
     "data": {
      "text/plain": [
       "DatetimeIndex(['2015-08-05', '2015-08-06', '2015-08-07'], dtype='datetime64[ns]', freq=None)"
      ]
     },
     "execution_count": 10,
     "metadata": {},
     "output_type": "execute_result"
    }
   ],
   "source": [
    "dates = pd.to_datetime(\n",
    "    [pd.Timestamp(2015, 8, 5), pd.Timestamp(2015, 8, 6), pd.Timestamp(2015, 8, 7)]\n",
    ")\n",
    "dates"
   ]
  },
  {
   "cell_type": "markdown",
   "id": "53c5c94f-c1b7-4aec-b2fd-f2ebd5db4b4e",
   "metadata": {},
   "source": [
    "Here again you can retrieve date and time information, for example, the day or the month using"
   ]
  },
  {
   "cell_type": "code",
   "execution_count": 11,
   "id": "8b7dfb5f-235a-404c-a520-7c94c0f0f4f8",
   "metadata": {},
   "outputs": [
    {
     "data": {
      "text/plain": [
       "Int64Index([5, 6, 7], dtype='int64')"
      ]
     },
     "execution_count": 11,
     "metadata": {},
     "output_type": "execute_result"
    }
   ],
   "source": [
    "dates.day"
   ]
  },
  {
   "cell_type": "code",
   "execution_count": 12,
   "id": "63fac2b5-4dc2-480c-9095-66ed782ab7a0",
   "metadata": {},
   "outputs": [
    {
     "data": {
      "text/plain": [
       "Int64Index([8, 8, 8], dtype='int64')"
      ]
     },
     "execution_count": 12,
     "metadata": {},
     "output_type": "execute_result"
    }
   ],
   "source": [
    "dates.month"
   ]
  },
  {
   "cell_type": "markdown",
   "id": "6800d823-6b6f-483d-ae96-0069abeac9cb",
   "metadata": {},
   "source": [
    "### The Timedelta object and its TimedeltaIndex object\n",
    "The Timedelta object is meant to capture the difference in time between two Timestamp objects. Whenever we subtract one Timestamp object from another what we get back is a Timedelta object. Try out the following example"
   ]
  },
  {
   "cell_type": "code",
   "execution_count": 13,
   "id": "b6a8a1d0-7d6c-4cdc-95b9-eb98d324cb28",
   "metadata": {},
   "outputs": [
    {
     "data": {
      "text/plain": [
       "Timedelta('12418 days 00:00:00')"
      ]
     },
     "execution_count": 13,
     "metadata": {},
     "output_type": "execute_result"
    }
   ],
   "source": [
    "date1 = pd.Timestamp(\"2018-03-03\")\n",
    "date2 = pd.Timestamp(\"1984-03-03\")\n",
    "date1 - date2"
   ]
  },
  {
   "cell_type": "markdown",
   "id": "f1775e79-562f-4618-88a8-ef489c74ceb9",
   "metadata": {},
   "source": [
    "We can also create a Timedelta object using pd.Timedelta as follows"
   ]
  },
  {
   "cell_type": "code",
   "execution_count": 14,
   "id": "1d9005ee-85c2-4803-915e-4517279abcbb",
   "metadata": {},
   "outputs": [
    {
     "data": {
      "text/plain": [
       "Timedelta('54 days 03:00:00')"
      ]
     },
     "execution_count": 14,
     "metadata": {},
     "output_type": "execute_result"
    }
   ],
   "source": [
    "pd.Timedelta(days=54, hours=3)"
   ]
  },
  {
   "cell_type": "markdown",
   "id": "eac01b09-f6a4-4a6d-aa71-57562a5a9d54",
   "metadata": {},
   "source": [
    "If we add a Timedelta to a Timestamp we get another Timestamp:"
   ]
  },
  {
   "cell_type": "code",
   "execution_count": 15,
   "id": "2e1ac00c-d4f5-413a-9ef4-456db12f67c3",
   "metadata": {},
   "outputs": [
    {
     "data": {
      "text/plain": [
       "Timestamp('2018-04-26 03:00:00')"
      ]
     },
     "execution_count": 15,
     "metadata": {},
     "output_type": "execute_result"
    }
   ],
   "source": [
    "date1 + pd.Timedelta(days=54, hours=3)"
   ]
  },
  {
   "cell_type": "markdown",
   "id": "36fcefcc-9ddd-4d27-a603-14b3d0a3b403",
   "metadata": {},
   "source": [
    "***Note :*** Just like subtracting two Timestamp objects results in a Timedelta object, subtracting two DatetimeIndex objects results in a TimdeltaIndex object.\n",
    "\n",
    "To create TimdeltaIndex() object try the following example"
   ]
  },
  {
   "cell_type": "code",
   "execution_count": 16,
   "id": "fee78cb2-e4f1-4183-87a5-dd6140b161fe",
   "metadata": {},
   "outputs": [
    {
     "data": {
      "text/plain": [
       "TimedeltaIndex(['0 days', '1 days', '2 days'], dtype='timedelta64[ns]', freq=None)"
      ]
     },
     "execution_count": 16,
     "metadata": {},
     "output_type": "execute_result"
    }
   ],
   "source": [
    "dates - dates[0]"
   ]
  },
  {
   "cell_type": "markdown",
   "id": "c68b8119-55af-4196-9fed-d7951b4b621f",
   "metadata": {},
   "source": [
    "Here we subtracted the first date from each of the dates and the corresponding time durations are now returned as a TimedeltaIndex object.\n",
    "\n",
    "### The Period object and its PeriodIndex object\n",
    "The last of the three data structures for time series data is the Period object which encodes a fixed frequency interval. The purpose of this object is to allow us to specify a duration based on a frequency such as daily, weekly or annually. Pandas then provides a specific start and end Timestamp to represent this interval of time.\n",
    "\n",
    "As an example the following line of code creates a period representing one month"
   ]
  },
  {
   "cell_type": "code",
   "execution_count": 17,
   "id": "ce2c0c11-f3f8-4394-8aec-a5fe279afe5f",
   "metadata": {},
   "outputs": [
    {
     "data": {
      "text/plain": [
       "Period('2015-01', 'M')"
      ]
     },
     "execution_count": 17,
     "metadata": {},
     "output_type": "execute_result"
    }
   ],
   "source": [
    "jan2015 = pd.Period(\"2015-01\")\n",
    "jan2015"
   ]
  },
  {
   "cell_type": "markdown",
   "id": "04c23aaa-fee2-40ce-a5a4-71bbc203564a",
   "metadata": {},
   "source": [
    "Notice that pandas added a parameter 'M' which indicates that this Period object has a frequency of one month. This is the default setting. We can specify a different frequency when creating a Period object using the freq parameter as follows"
   ]
  },
  {
   "cell_type": "code",
   "execution_count": 19,
   "id": "e8f67d23-9b09-4054-a198-4703acaca11e",
   "metadata": {},
   "outputs": [
    {
     "data": {
      "text/plain": [
       "Period('2015-01-01', 'D')"
      ]
     },
     "execution_count": 19,
     "metadata": {},
     "output_type": "execute_result"
    }
   ],
   "source": [
    "pd.Period(\"2015-01\", freq=\"D\")"
   ]
  },
  {
   "cell_type": "markdown",
   "id": "e1b7e174-16cd-4067-a46f-15add1d46331",
   "metadata": {},
   "source": [
    "We can check the start and end times using the following attributes"
   ]
  },
  {
   "cell_type": "code",
   "execution_count": 20,
   "id": "a3bec8f5-add7-4674-9538-60d92348f12f",
   "metadata": {},
   "outputs": [
    {
     "data": {
      "text/plain": [
       "Timestamp('2015-01-01 00:00:00')"
      ]
     },
     "execution_count": 20,
     "metadata": {},
     "output_type": "execute_result"
    }
   ],
   "source": [
    "jan2015.start_time"
   ]
  },
  {
   "cell_type": "code",
   "execution_count": 21,
   "id": "d9e105cf-ccd8-45bf-a822-aff2ce230420",
   "metadata": {},
   "outputs": [
    {
     "data": {
      "text/plain": [
       "Timestamp('2015-01-31 23:59:59.999999999')"
      ]
     },
     "execution_count": 21,
     "metadata": {},
     "output_type": "execute_result"
    }
   ],
   "source": [
    "jan2015.end_time"
   ]
  },
  {
   "cell_type": "markdown",
   "id": "601a07a7-a503-42a3-b455-14b100f76aa2",
   "metadata": {},
   "source": [
    "We can also change the frequency of a period using the asfreq() function and providing a new frequency"
   ]
  },
  {
   "cell_type": "code",
   "execution_count": 22,
   "id": "1a81bb95-e720-435c-9da1-928e74a335a5",
   "metadata": {},
   "outputs": [
    {
     "data": {
      "text/plain": [
       "Period('2015-01-01', 'D')"
      ]
     },
     "execution_count": 22,
     "metadata": {},
     "output_type": "execute_result"
    }
   ],
   "source": [
    "period = pd.Period(\"2015-01\", freq=\"H\")\n",
    "period.asfreq(\"D\")"
   ]
  },
  {
   "cell_type": "markdown",
   "id": "13f3e764-bef2-4bd2-88d1-dfe00cc5a217",
   "metadata": {},
   "source": [
    "We can also convert aPeriod object into a Timestamp object"
   ]
  },
  {
   "cell_type": "code",
   "execution_count": 23,
   "id": "ce381406-202c-4f12-9a3e-84bea2075a71",
   "metadata": {},
   "outputs": [
    {
     "data": {
      "text/plain": [
       "Timestamp('2015-01-01 00:00:00')"
      ]
     },
     "execution_count": 23,
     "metadata": {},
     "output_type": "execute_result"
    }
   ],
   "source": [
    "period = pd.Period(\"2015-01\", freq=\"H\")\n",
    "period.to_timestamp()"
   ]
  },
  {
   "cell_type": "markdown",
   "id": "f5c2cefb-18f0-4f47-833f-5eb2491f2d91",
   "metadata": {},
   "source": [
    "Note that this takes the start time of the period. Conversely, we can go from a Timestamp to a Period as long as we provide a frequency"
   ]
  },
  {
   "cell_type": "code",
   "execution_count": 24,
   "id": "71bef7b8-dfe2-4c6f-a9b5-2ddcf60e13d3",
   "metadata": {},
   "outputs": [
    {
     "data": {
      "text/plain": [
       "Period('2015-01', 'M')"
      ]
     },
     "execution_count": 24,
     "metadata": {},
     "output_type": "execute_result"
    }
   ],
   "source": [
    "pd.Timestamp(\"2015-01-01 00:00:00\").to_period(\"M\")"
   ]
  },
  {
   "cell_type": "markdown",
   "id": "0bf80153-9f22-4732-9dce-b4b845191672",
   "metadata": {},
   "source": [
    "***Note :*** A Series of Period objects can also be combined as a PeriodIndex object. One way of creating a PeriodIndex object is by converting any DatetimeIndex object using the pd.to_period() function and specifying the desired frequency.\n",
    "\n",
    "Let’s give this a try"
   ]
  },
  {
   "cell_type": "code",
   "execution_count": 25,
   "id": "129a4cda-6811-4c71-8cf4-9379384bfe4c",
   "metadata": {},
   "outputs": [
    {
     "name": "stdout",
     "output_type": "stream",
     "text": [
      "PeriodIndex(['2015-08-05', '2015-08-06', '2015-08-07'], dtype='period[D]')\n",
      "2015-08-05 00:00:00\n",
      "2015-08-05 23:59:59.999999999\n"
     ]
    }
   ],
   "source": [
    "print(dates.to_period(\"D\"))\n",
    "print(dates.to_period(\"D\")[0].start_time)\n",
    "print(dates.to_period(\"D\")[0].end_time)"
   ]
  },
  {
   "cell_type": "markdown",
   "id": "bcbe659a-b3d9-4a26-b5eb-bed17d4a712e",
   "metadata": {},
   "source": [
    "### Creating series and dataframes using the three data structures\n",
    "So far we have discussed three data structures. Now we can use them and construct a Series (or a DataFrame) object by just providing the necessary values and specifying our choice of index. Try out each of the examples below\n",
    "\n"
   ]
  },
  {
   "cell_type": "code",
   "execution_count": 27,
   "id": "dcba64d3-4abc-4713-a782-84bd4e2d8806",
   "metadata": {},
   "outputs": [
    {
     "name": "stdout",
     "output_type": "stream",
     "text": [
      "ts1 :\n",
      "2015-08-05    0\n",
      "2015-08-06    1\n",
      "2015-08-07    2\n",
      "dtype: int32\n",
      "ts2 :\n",
      "2015-08-05    0\n",
      "2015-08-06    1\n",
      "2015-08-07    2\n",
      "Freq: D, dtype: int32\n",
      "ts3 :\n",
      "0 days    0\n",
      "1 days    1\n",
      "2 days    2\n",
      "dtype: int32\n"
     ]
    }
   ],
   "source": [
    "ts1 = pd.Series(np.arange(3), dates)\n",
    "print(\"ts1 :\") \n",
    "print(ts1)\n",
    "\n",
    "ts2 = pd.Series(np.arange(3), dates.to_period(\"D\"))\n",
    "print(\"ts2 :\") \n",
    "print(ts2)\n",
    "\n",
    "ts3 = pd.Series(np.arange(3), dates - dates[0])\n",
    "print(\"ts3 :\") \n",
    "print(ts3)"
   ]
  },
  {
   "cell_type": "markdown",
   "id": "eddbd001-3327-4983-9316-308cd6d1bc10",
   "metadata": {},
   "source": [
    "You can check the specific index of all of these Series"
   ]
  },
  {
   "cell_type": "code",
   "execution_count": 29,
   "id": "73c78808-4446-4dca-8ff5-a583cb4e3ff6",
   "metadata": {},
   "outputs": [
    {
     "name": "stdout",
     "output_type": "stream",
     "text": [
      "DatetimeIndex(['2015-08-05', '2015-08-06', '2015-08-07'], dtype='datetime64[ns]', freq=None)\n",
      "PeriodIndex(['2015-08-05', '2015-08-06', '2015-08-07'], dtype='period[D]')\n",
      "TimedeltaIndex(['0 days', '1 days', '2 days'], dtype='timedelta64[ns]', freq=None)\n"
     ]
    }
   ],
   "source": [
    "print(ts1.index)\n",
    "print(ts2.index)\n",
    "print(ts3.index)"
   ]
  },
  {
   "cell_type": "markdown",
   "id": "fe12c928-c3df-4d66-b573-becd49c2a857",
   "metadata": {},
   "source": [
    "The big advantage of having data stored with these special type of time indices is that we can then access them by timestamps, periods, and duration respectively. We can use all of the usual Series indexing commands we have seen before. Also, a very useful trick to keep in mind is that we can slice a DatetimeIndex object by just specifying a year, or a month. It will then return all entries that correspond to the given year or month."
   ]
  },
  {
   "cell_type": "code",
   "execution_count": 30,
   "id": "6a873331-1c7b-44f1-8d18-5421ab0d927b",
   "metadata": {},
   "outputs": [
    {
     "name": "stdout",
     "output_type": "stream",
     "text": [
      "ts1[\"2015.08.05\"] :\n",
      "0\n",
      "ts1[\"august 5, 2015\"]\n",
      "0\n",
      "ts1[1:3]\n",
      "2015-08-06    1\n",
      "2015-08-07    2\n",
      "dtype: int32\n",
      "ts1[\"2015-08-06 \":\"2015-08-07 \"]\n",
      "2015-08-06    1\n",
      "2015-08-07    2\n",
      "dtype: int32\n",
      "ts1[\"2015\"]\n",
      "2015-08-05    0\n",
      "2015-08-06    1\n",
      "2015-08-07    2\n",
      "dtype: int32\n"
     ]
    }
   ],
   "source": [
    "print('ts1[\"2015.08.05\"] :')\n",
    "print(ts1[\"2015.08.05\"])\n",
    "print('ts1[\"august 5, 2015\"]')\n",
    "print(ts1[\"august 5, 2015\"])\n",
    "print('ts1[1:3]')\n",
    "print(ts1[1:3])\n",
    "print('ts1[\"2015-08-06 \":\"2015-08-07 \"]')\n",
    "print(ts1[\"2015-08-06 \":\"2015-08-07 \"])\n",
    "print('ts1[\"2015\"]')\n",
    "print(ts1[\"2015\"])"
   ]
  },
  {
   "cell_type": "markdown",
   "id": "f4644160-9115-436b-af56-250537661d56",
   "metadata": {},
   "source": [
    "It is often the case that we want to create a special index object consisting of a regular sequence defined by a specific range. In order to facilitate this pandas offers us to following three functions\n",
    "\n",
    "- pd.date_range() for timestamps\n",
    "- pd.timdelta_range() for time deltas\n",
    "- pd.period_range() for periods\n",
    "\n",
    "These functions are similar to NumPy’s np.arange() which if you recall takes a start point, an endpoint, and an optional frequency and creates a sequence of evenly spaced numbers.\n",
    "\n",
    "For the pd.date_range() function we can specify either a start and end date as follows"
   ]
  },
  {
   "cell_type": "code",
   "execution_count": 31,
   "id": "ebd3a1a8-1ca7-4125-b004-2f94a610225a",
   "metadata": {},
   "outputs": [
    {
     "data": {
      "text/plain": [
       "DatetimeIndex(['2018-01-01', '2018-01-02', '2018-01-03', '2018-01-04',\n",
       "               '2018-01-05'],\n",
       "              dtype='datetime64[ns]', freq='D')"
      ]
     },
     "execution_count": 31,
     "metadata": {},
     "output_type": "execute_result"
    }
   ],
   "source": [
    "pd.date_range(\"2018-01-01\", \"2018-01-05\")"
   ]
  },
  {
   "cell_type": "markdown",
   "id": "a6c26709-1531-4d27-815f-b57e30624a3a",
   "metadata": {},
   "source": [
    "or a start time and the number of periods"
   ]
  },
  {
   "cell_type": "code",
   "execution_count": 32,
   "id": "3fe9c013-9a14-410b-a006-9a91762046bf",
   "metadata": {},
   "outputs": [
    {
     "data": {
      "text/plain": [
       "DatetimeIndex(['2018-01-01', '2018-01-02', '2018-01-03', '2018-01-04',\n",
       "               '2018-01-05'],\n",
       "              dtype='datetime64[ns]', freq='D')"
      ]
     },
     "execution_count": 32,
     "metadata": {},
     "output_type": "execute_result"
    }
   ],
   "source": [
    "pd.date_range(\"2018-01-01\", periods=5)"
   ]
  },
  {
   "cell_type": "markdown",
   "id": "37df3a25-862a-4ee4-b646-c2955d37654e",
   "metadata": {},
   "source": [
    "We can see that both commands created a DatetimeIndex object that contains five Timestamp objects. The default frequency of the dates was one day. We can specify a different frequency by adding in the freq parameter."
   ]
  },
  {
   "cell_type": "code",
   "execution_count": 33,
   "id": "7397f621-09b5-42e8-845f-7f7dfe9565c4",
   "metadata": {},
   "outputs": [
    {
     "data": {
      "text/plain": [
       "DatetimeIndex(['2018-01-01 00:00:00', '2018-01-01 01:00:00',\n",
       "               '2018-01-01 02:00:00', '2018-01-01 03:00:00',\n",
       "               '2018-01-01 04:00:00'],\n",
       "              dtype='datetime64[ns]', freq='H')"
      ]
     },
     "execution_count": 33,
     "metadata": {},
     "output_type": "execute_result"
    }
   ],
   "source": [
    "pd.date_range(\"01-01-2018\", periods=5, freq=\"H\")"
   ]
  },
  {
   "cell_type": "markdown",
   "id": "a8210179-a684-4fd3-91d4-58d210e15d50",
   "metadata": {},
   "source": [
    "To create regular sequences of Timedelta or Period objects we can use the similar functions pd.timedelta_range() and pd.period_range()."
   ]
  },
  {
   "cell_type": "code",
   "execution_count": 34,
   "id": "e64a485b-78d6-4faa-87e1-e64b02d41c72",
   "metadata": {},
   "outputs": [
    {
     "data": {
      "text/plain": [
       "TimedeltaIndex(['0 days 00:00:00', '0 days 01:00:00', '0 days 02:00:00',\n",
       "                '0 days 03:00:00', '0 days 04:00:00'],\n",
       "               dtype='timedelta64[ns]', freq='H')"
      ]
     },
     "execution_count": 34,
     "metadata": {},
     "output_type": "execute_result"
    }
   ],
   "source": [
    "pd.timedelta_range(0, periods=5, freq=\"H\")"
   ]
  },
  {
   "cell_type": "code",
   "execution_count": 35,
   "id": "7ee9dc03-8b4c-4ef7-8c90-f339771991e5",
   "metadata": {},
   "outputs": [
    {
     "data": {
      "text/plain": [
       "PeriodIndex(['2018-01', '2018-02', '2018-03'], dtype='period[M]')"
      ]
     },
     "execution_count": 35,
     "metadata": {},
     "output_type": "execute_result"
    }
   ],
   "source": [
    "pd.period_range(\"2018-01\", periods=3, freq=\"M\")"
   ]
  },
  {
   "cell_type": "markdown",
   "id": "3a3256ed-5e90-4204-8dff-cb92671c811b",
   "metadata": {},
   "source": [
    "### Frequencies and offsets\n",
    "We already saw some options of frequency such as M for month, D for day and H for hour. In fact pandas a whole list of frequency codes available to us. Below we summarize the main ones\n",
    "\n",
    "- H Hour\n",
    "- D Day\n",
    "- W Week\n",
    "- M Month\n",
    "- Q Quarter\n",
    "- A Year\n",
    "\n",
    "As you can see there is quite a bit of choice, so it’s important to be aware of possibilities available to you. Now dealing with frequencies and data offsets is a fundamental part of working with time series. In pandas, frequencies are represented using date offsets. For this there is a special object called DateOffset. This object represents a regular frequency increment. Let’s try an example"
   ]
  },
  {
   "cell_type": "code",
   "execution_count": 37,
   "id": "8e9144c0-f3dd-4e6d-953b-2f1b9d271a23",
   "metadata": {},
   "outputs": [
    {
     "data": {
      "text/plain": [
       "<DateOffset: days=1>"
      ]
     },
     "execution_count": 37,
     "metadata": {},
     "output_type": "execute_result"
    }
   ],
   "source": [
    "pd.DateOffset(days=1)"
   ]
  },
  {
   "cell_type": "markdown",
   "id": "7d6af632-aa1b-48f2-90bd-69f8ca965d37",
   "metadata": {},
   "source": [
    "So what can we actually use these for? Well we can add or subtract them from a Timestamp"
   ]
  },
  {
   "cell_type": "code",
   "execution_count": 38,
   "id": "b4364e2f-73e6-40e3-86fe-9c42d92b98ad",
   "metadata": {},
   "outputs": [
    {
     "data": {
      "text/plain": [
       "Timestamp('2010-01-02 00:00:00')"
      ]
     },
     "execution_count": 38,
     "metadata": {},
     "output_type": "execute_result"
    }
   ],
   "source": [
    "pd.Timestamp(\"2010.01.01\") + pd.DateOffset(days=1)"
   ]
  },
  {
   "cell_type": "markdown",
   "id": "2476cd04-70bb-4d72-99b8-bbc79f08c9e3",
   "metadata": {},
   "source": [
    "But more importantly, pandas has specific types of offsets available to use. Below we list some of the main ones, but for a full list you can consult the pandas documentation for DateOffset Objects\n",
    "\n",
    "- BDay Business day\n",
    "- Week One week, optionally anchored on a day of the week\n",
    "- MonthEnd\n",
    "- YearEnd\n",
    "\n",
    "To use these we must first include the following statement in our notebook"
   ]
  },
  {
   "cell_type": "code",
   "execution_count": 39,
   "id": "e5c9a873-384b-49a2-8bea-9a7d5644f584",
   "metadata": {},
   "outputs": [
    {
     "data": {
      "text/plain": [
       "DatetimeIndex(['2010-07-07', '2010-07-08', '2010-07-09', '2010-07-12',\n",
       "               '2010-07-13'],\n",
       "              dtype='datetime64[ns]', freq='B')"
      ]
     },
     "execution_count": 39,
     "metadata": {},
     "output_type": "execute_result"
    }
   ],
   "source": [
    "from pandas.tseries.offsets import *"
   ]
  },
  {
   "cell_type": "markdown",
   "id": "4c863cef-408a-4b80-bc07-87299c10c28e",
   "metadata": {},
   "source": [
    "So an equivalent way to define the business day offset we saw above would be :"
   ]
  },
  {
   "cell_type": "code",
   "execution_count": 40,
   "id": "f9091fdb-ddb0-411e-a543-b7da2d6b1e74",
   "metadata": {},
   "outputs": [
    {
     "data": {
      "text/plain": [
       "DatetimeIndex(['2010-07-07', '2010-07-08', '2010-07-09', '2010-07-12',\n",
       "               '2010-07-13'],\n",
       "              dtype='datetime64[ns]', freq='B')"
      ]
     },
     "execution_count": 40,
     "metadata": {},
     "output_type": "execute_result"
    }
   ],
   "source": [
    "pd.date_range(\"2010-07-07\", periods=5, freq=BDay())"
   ]
  },
  {
   "cell_type": "markdown",
   "id": "d97cd324-625b-4352-9bea-72a596909795",
   "metadata": {},
   "source": [
    "Alternatively, we can also use anchored offsets. For example, if we are interested in specific days of the week then we can choose an anchored offset that computes all the dates corresponding to our chosen day of the week. Let’s try it with Friday. The code that we must use is W-FRI so we can write\n",
    "\n"
   ]
  },
  {
   "cell_type": "code",
   "execution_count": 41,
   "id": "4850d770-f294-45da-b910-f1d39cab092d",
   "metadata": {},
   "outputs": [
    {
     "data": {
      "text/plain": [
       "DatetimeIndex(['2010-07-09', '2010-07-16', '2010-07-23', '2010-07-30',\n",
       "               '2010-08-06', '2010-08-13', '2010-08-20', '2010-08-27',\n",
       "               '2010-09-03', '2010-09-10'],\n",
       "              dtype='datetime64[ns]', freq='W-FRI')"
      ]
     },
     "execution_count": 41,
     "metadata": {},
     "output_type": "execute_result"
    }
   ],
   "source": [
    "pd.date_range(\"2010-07-07\", periods=10, freq=\"W-FRI\")"
   ]
  },
  {
   "cell_type": "markdown",
   "id": "629ef982-c0e7-4fa3-b7d9-f4b83f413b92",
   "metadata": {},
   "source": [
    "This gives us the dates for 10 consecutive Fridays given our starting date.\n",
    "\n",
    "Now that we are aware of the main objects and functions available to us it is time to actually work with some time series data. In the next unit we load a data set containing financial data.\n",
    "\n",
    "### Summary\n",
    "Let’s summarize what we’ve learned in this unit. Here are a few takeaways:\n",
    "\n",
    "- We showed various examples of Timestamp, Timedelta and Period objects from pandas\n",
    "- We showed their associated indexes i.e. DatetimeIndex, TimedeltaIndex and PeriodIndex\n",
    "- We also showed multiple examples of frequencies and offsets used for time series data\n",
    "In the following units in this subject we revisit this tools again and see how they can be used in time series analysis with real data.\n",
    "\n",
    "## Shifting and computing first differences \n",
    "\n",
    "In this unit, we use financial time series from Yahoo and discuss how we can use pandas to shift the time series values backward and forward in time. Let’s start by taking a look at the data set.\n",
    "\n",
    "### Getting the data\n",
    "The data shows market information, from 1984 to 2020, for the share of JPMorgan Chase & Co., the largest bank holding company in the US, which is listed on the New York Stock Exchange. The data is stored in a CSV file called c2_financial_data.csv which can be downloaded from the resources tab of this unit. To import this data into a pandas dataframe we can use the read_csv() function.\n"
   ]
  },
  {
   "cell_type": "code",
   "execution_count": null,
   "id": "a10e9c4c-11dc-41e4-a435-771ddcf08410",
   "metadata": {},
   "outputs": [],
   "source": []
  }
 ],
 "metadata": {
  "kernelspec": {
   "display_name": "Python [conda env:adsml] *",
   "language": "python",
   "name": "conda-env-adsml-py"
  },
  "language_info": {
   "codemirror_mode": {
    "name": "ipython",
    "version": 3
   },
   "file_extension": ".py",
   "mimetype": "text/x-python",
   "name": "python",
   "nbconvert_exporter": "python",
   "pygments_lexer": "ipython3",
   "version": "3.9.16"
  }
 },
 "nbformat": 4,
 "nbformat_minor": 5
}
