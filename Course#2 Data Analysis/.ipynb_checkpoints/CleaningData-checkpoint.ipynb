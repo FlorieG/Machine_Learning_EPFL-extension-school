{
 "cells": [
  {
   "cell_type": "code",
   "execution_count": 2,
   "id": "1341b791-cc69-4741-b8b0-e4b5e576d03e",
   "metadata": {},
   "outputs": [
    {
     "name": "stdout",
     "output_type": "stream",
     "text": [
      "C:\\Users\\s1114237\\OneDrive - Syngenta\\Formations\\Training\\EPFL extension school\\Machine_Learning_EPFL-extension-school\\Course#2 Data Analysis\n"
     ]
    }
   ],
   "source": [
    "#TO remove :\n",
    "import os\n",
    "directory = os.getcwd()\n",
    "print(directory)"
   ]
  },
  {
   "cell_type": "code",
   "execution_count": 4,
   "id": "f315758a-471f-4b0d-b454-fbb9b615a55b",
   "metadata": {},
   "outputs": [
    {
     "name": "stdout",
     "output_type": "stream",
     "text": [
      "C:\\Users\\s1114237\\OneDrive - Syngenta\\Formations\\Training\\EPFL extension school\\Machine_Learning_EPFL-extension-school\\Course#2 Data Analysis\n"
     ]
    }
   ],
   "source": [
    "os.chdir(\"Machine_Learning_EPFL-extension-school\\Course#2 Data Analysis\")\n",
    "directory = os.getcwd()\n",
    "print(directory)"
   ]
  },
  {
   "cell_type": "markdown",
   "id": "f96f975d-6a80-43f3-a2dd-8beda840f82c",
   "metadata": {},
   "source": [
    "# Cleaning Data\n",
    "## Handling missing and null values "
   ]
  },
  {
   "cell_type": "code",
   "execution_count": 3,
   "id": "eb9536d0-a68b-42f9-ab42-9ed5e28fcc5d",
   "metadata": {},
   "outputs": [],
   "source": [
    "import pandas as pd\n",
    "import numpy as np"
   ]
  },
  {
   "cell_type": "code",
   "execution_count": 4,
   "id": "556fb2fd-ec5e-4f1c-bbc3-4eb5be6c59eb",
   "metadata": {},
   "outputs": [
    {
     "name": "stdout",
     "output_type": "stream",
     "text": [
      "<class 'pandas.core.frame.DataFrame'>\n",
      "RangeIndex: 4803 entries, 0 to 4802\n",
      "Data columns (total 20 columns):\n",
      " #   Column                Non-Null Count  Dtype  \n",
      "---  ------                --------------  -----  \n",
      " 0   budget                4803 non-null   int64  \n",
      " 1   genres                4803 non-null   object \n",
      " 2   homepage              1712 non-null   object \n",
      " 3   id                    4803 non-null   int64  \n",
      " 4   keywords              4803 non-null   object \n",
      " 5   original_language     4803 non-null   object \n",
      " 6   original_title        4803 non-null   object \n",
      " 7   overview              4800 non-null   object \n",
      " 8   popularity            4803 non-null   float64\n",
      " 9   production_companies  4803 non-null   object \n",
      " 10  production_countries  4803 non-null   object \n",
      " 11  release_date          4802 non-null   object \n",
      " 12  revenue               4803 non-null   int64  \n",
      " 13  runtime               4801 non-null   float64\n",
      " 14  spoken_languages      4803 non-null   object \n",
      " 15  status                4803 non-null   object \n",
      " 16  tagline               3959 non-null   object \n",
      " 17  title                 4803 non-null   object \n",
      " 18  vote_average          4803 non-null   float64\n",
      " 19  vote_count            4803 non-null   int64  \n",
      "dtypes: float64(3), int64(4), object(13)\n",
      "memory usage: 750.6+ KB\n"
     ]
    }
   ],
   "source": [
    "df = pd.read_csv(\"Ressources/c2_tmdb_5000_movies.csv\")\n",
    "df.info()"
   ]
  },
  {
   "cell_type": "markdown",
   "id": "5312a69a-20b5-4610-8fed-4be6ed1a3fd8",
   "metadata": {},
   "source": [
    "### The NaN value\n",
    "Pandas represents missing data with NaN."
   ]
  },
  {
   "cell_type": "code",
   "execution_count": 9,
   "id": "dac3da8f-857a-4e6f-b551-be2e8d24b1e1",
   "metadata": {},
   "outputs": [
    {
     "data": {
      "text/plain": [
       "nan"
      ]
     },
     "execution_count": 9,
     "metadata": {},
     "output_type": "execute_result"
    }
   ],
   "source": [
    "np.nan"
   ]
  },
  {
   "cell_type": "code",
   "execution_count": 10,
   "id": "c7b39159-d861-4c4b-9238-be4a466371f5",
   "metadata": {},
   "outputs": [
    {
     "data": {
      "text/plain": [
       "nan"
      ]
     },
     "execution_count": 10,
     "metadata": {},
     "output_type": "execute_result"
    }
   ],
   "source": [
    "np.nan+2"
   ]
  },
  {
   "cell_type": "markdown",
   "id": "f3ab5033-df2c-4161-9401-a33cc356e457",
   "metadata": {},
   "source": [
    "Pandas has several built-in functions that helps us detect, remove and replace NaN values such as\n",
    "\n",
    "- isnull()\n",
    "- notnull()\n",
    "- dropna()\n",
    "- fillna()\n",
    "\n",
    "- **Note :** \n",
    "\n",
    "that older datasets typically assigned specific numerical values to missing data, e.g. -1, 8888 or -999. These will not show up as null values in your analysis and would thus first need to be replaced by a Nan before applying the aforementioned methods.\n",
    "\n",
    "### Detecting missing values \n",
    "\n",
    "The first thing that we will do is check for missing data. In pandas, missing data is given the special NaN value. There are many different reasons why this can occur, for example:\n",
    "\n",
    "- the data was incomplete when retrieved\n",
    "- two DataFrames were joined and some values were not matched up\n",
    "- the DataFrame was reindexed or reshaped and some rows or columns did not match up\n",
    "\n",
    "We can check whether our DataFrame contains missing values using the function isnull(), which returns a matching DataFrame with boolean values, where a True value means the corresponding value in our DataFrame is indeed missing. Let’s try this:"
   ]
  },
  {
   "cell_type": "code",
   "execution_count": 11,
   "id": "4d63daa3-11f5-41d8-bb27-c34951fc4df4",
   "metadata": {},
   "outputs": [
    {
     "data": {
      "text/html": [
       "<div>\n",
       "<style scoped>\n",
       "    .dataframe tbody tr th:only-of-type {\n",
       "        vertical-align: middle;\n",
       "    }\n",
       "\n",
       "    .dataframe tbody tr th {\n",
       "        vertical-align: top;\n",
       "    }\n",
       "\n",
       "    .dataframe thead th {\n",
       "        text-align: right;\n",
       "    }\n",
       "</style>\n",
       "<table border=\"1\" class=\"dataframe\">\n",
       "  <thead>\n",
       "    <tr style=\"text-align: right;\">\n",
       "      <th></th>\n",
       "      <th>budget</th>\n",
       "      <th>genres</th>\n",
       "      <th>homepage</th>\n",
       "      <th>id</th>\n",
       "      <th>keywords</th>\n",
       "      <th>original_language</th>\n",
       "      <th>original_title</th>\n",
       "      <th>overview</th>\n",
       "      <th>popularity</th>\n",
       "      <th>production_companies</th>\n",
       "      <th>production_countries</th>\n",
       "      <th>release_date</th>\n",
       "      <th>revenue</th>\n",
       "      <th>runtime</th>\n",
       "      <th>spoken_languages</th>\n",
       "      <th>status</th>\n",
       "      <th>tagline</th>\n",
       "      <th>title</th>\n",
       "      <th>vote_average</th>\n",
       "      <th>vote_count</th>\n",
       "    </tr>\n",
       "  </thead>\n",
       "  <tbody>\n",
       "    <tr>\n",
       "      <th>0</th>\n",
       "      <td>False</td>\n",
       "      <td>False</td>\n",
       "      <td>False</td>\n",
       "      <td>False</td>\n",
       "      <td>False</td>\n",
       "      <td>False</td>\n",
       "      <td>False</td>\n",
       "      <td>False</td>\n",
       "      <td>False</td>\n",
       "      <td>False</td>\n",
       "      <td>False</td>\n",
       "      <td>False</td>\n",
       "      <td>False</td>\n",
       "      <td>False</td>\n",
       "      <td>False</td>\n",
       "      <td>False</td>\n",
       "      <td>False</td>\n",
       "      <td>False</td>\n",
       "      <td>False</td>\n",
       "      <td>False</td>\n",
       "    </tr>\n",
       "    <tr>\n",
       "      <th>1</th>\n",
       "      <td>False</td>\n",
       "      <td>False</td>\n",
       "      <td>False</td>\n",
       "      <td>False</td>\n",
       "      <td>False</td>\n",
       "      <td>False</td>\n",
       "      <td>False</td>\n",
       "      <td>False</td>\n",
       "      <td>False</td>\n",
       "      <td>False</td>\n",
       "      <td>False</td>\n",
       "      <td>False</td>\n",
       "      <td>False</td>\n",
       "      <td>False</td>\n",
       "      <td>False</td>\n",
       "      <td>False</td>\n",
       "      <td>False</td>\n",
       "      <td>False</td>\n",
       "      <td>False</td>\n",
       "      <td>False</td>\n",
       "    </tr>\n",
       "    <tr>\n",
       "      <th>2</th>\n",
       "      <td>False</td>\n",
       "      <td>False</td>\n",
       "      <td>False</td>\n",
       "      <td>False</td>\n",
       "      <td>False</td>\n",
       "      <td>False</td>\n",
       "      <td>False</td>\n",
       "      <td>False</td>\n",
       "      <td>False</td>\n",
       "      <td>False</td>\n",
       "      <td>False</td>\n",
       "      <td>False</td>\n",
       "      <td>False</td>\n",
       "      <td>False</td>\n",
       "      <td>False</td>\n",
       "      <td>False</td>\n",
       "      <td>False</td>\n",
       "      <td>False</td>\n",
       "      <td>False</td>\n",
       "      <td>False</td>\n",
       "    </tr>\n",
       "    <tr>\n",
       "      <th>3</th>\n",
       "      <td>False</td>\n",
       "      <td>False</td>\n",
       "      <td>False</td>\n",
       "      <td>False</td>\n",
       "      <td>False</td>\n",
       "      <td>False</td>\n",
       "      <td>False</td>\n",
       "      <td>False</td>\n",
       "      <td>False</td>\n",
       "      <td>False</td>\n",
       "      <td>False</td>\n",
       "      <td>False</td>\n",
       "      <td>False</td>\n",
       "      <td>False</td>\n",
       "      <td>False</td>\n",
       "      <td>False</td>\n",
       "      <td>False</td>\n",
       "      <td>False</td>\n",
       "      <td>False</td>\n",
       "      <td>False</td>\n",
       "    </tr>\n",
       "    <tr>\n",
       "      <th>4</th>\n",
       "      <td>False</td>\n",
       "      <td>False</td>\n",
       "      <td>False</td>\n",
       "      <td>False</td>\n",
       "      <td>False</td>\n",
       "      <td>False</td>\n",
       "      <td>False</td>\n",
       "      <td>False</td>\n",
       "      <td>False</td>\n",
       "      <td>False</td>\n",
       "      <td>False</td>\n",
       "      <td>False</td>\n",
       "      <td>False</td>\n",
       "      <td>False</td>\n",
       "      <td>False</td>\n",
       "      <td>False</td>\n",
       "      <td>False</td>\n",
       "      <td>False</td>\n",
       "      <td>False</td>\n",
       "      <td>False</td>\n",
       "    </tr>\n",
       "  </tbody>\n",
       "</table>\n",
       "</div>"
      ],
      "text/plain": [
       "   budget  genres  homepage     id  keywords  original_language  \\\n",
       "0   False   False     False  False     False              False   \n",
       "1   False   False     False  False     False              False   \n",
       "2   False   False     False  False     False              False   \n",
       "3   False   False     False  False     False              False   \n",
       "4   False   False     False  False     False              False   \n",
       "\n",
       "   original_title  overview  popularity  production_companies  \\\n",
       "0           False     False       False                 False   \n",
       "1           False     False       False                 False   \n",
       "2           False     False       False                 False   \n",
       "3           False     False       False                 False   \n",
       "4           False     False       False                 False   \n",
       "\n",
       "   production_countries  release_date  revenue  runtime  spoken_languages  \\\n",
       "0                 False         False    False    False             False   \n",
       "1                 False         False    False    False             False   \n",
       "2                 False         False    False    False             False   \n",
       "3                 False         False    False    False             False   \n",
       "4                 False         False    False    False             False   \n",
       "\n",
       "   status  tagline  title  vote_average  vote_count  \n",
       "0   False    False  False         False       False  \n",
       "1   False    False  False         False       False  \n",
       "2   False    False  False         False       False  \n",
       "3   False    False  False         False       False  \n",
       "4   False    False  False         False       False  "
      ]
     },
     "execution_count": 11,
     "metadata": {},
     "output_type": "execute_result"
    }
   ],
   "source": [
    "df.isnull().head() # df[df.isnull().any(axis =1)].head()"
   ]
  },
  {
   "cell_type": "markdown",
   "id": "46a014b2-3a7e-4bfd-8a51-f789710b6c8c",
   "metadata": {},
   "source": [
    "Note that the function notnull() is the opposite of isnull(). That is, it returns a DataFrame where the True / False values are interchanged.\n"
   ]
  },
  {
   "cell_type": "code",
   "execution_count": 12,
   "id": "06290223-a64b-4e7b-99f7-006e741efff6",
   "metadata": {},
   "outputs": [
    {
     "data": {
      "text/plain": [
       "budget                     0\n",
       "genres                     0\n",
       "homepage                3091\n",
       "id                         0\n",
       "keywords                   0\n",
       "original_language          0\n",
       "original_title             0\n",
       "overview                   3\n",
       "popularity                 0\n",
       "production_companies       0\n",
       "production_countries       0\n",
       "release_date               1\n",
       "revenue                    0\n",
       "runtime                    2\n",
       "spoken_languages           0\n",
       "status                     0\n",
       "tagline                  844\n",
       "title                      0\n",
       "vote_average               0\n",
       "vote_count                 0\n",
       "dtype: int64"
      ]
     },
     "execution_count": 12,
     "metadata": {},
     "output_type": "execute_result"
    }
   ],
   "source": [
    "df.isnull().sum()"
   ]
  },
  {
   "cell_type": "code",
   "execution_count": 16,
   "id": "935318c2-d9fa-478a-ac64-a36e7c0a63dc",
   "metadata": {},
   "outputs": [
    {
     "data": {
      "text/plain": [
       "(4803, 20)"
      ]
     },
     "execution_count": 16,
     "metadata": {},
     "output_type": "execute_result"
    }
   ],
   "source": [
    "df.shape"
   ]
  },
  {
   "cell_type": "markdown",
   "id": "953c0469-ea16-4b94-b180-7200389672e7",
   "metadata": {},
   "source": [
    "### Dropping missing data "
   ]
  },
  {
   "cell_type": "code",
   "execution_count": 21,
   "id": "10f3dacc-94c6-4a74-8b3c-4374c17679c7",
   "metadata": {},
   "outputs": [
    {
     "data": {
      "text/plain": [
       "(1493, 20)"
      ]
     },
     "execution_count": 21,
     "metadata": {},
     "output_type": "execute_result"
    }
   ],
   "source": [
    "df2 = df.dropna()\n",
    "df2.shape"
   ]
  },
  {
   "cell_type": "code",
   "execution_count": 20,
   "id": "5fe7399e-67a2-4fd4-8fd8-30fa86baa9f8",
   "metadata": {},
   "outputs": [
    {
     "data": {
      "text/plain": [
       "0"
      ]
     },
     "execution_count": 20,
     "metadata": {},
     "output_type": "execute_result"
    }
   ],
   "source": [
    "df2.isnull().sum().sum()"
   ]
  },
  {
   "cell_type": "code",
   "execution_count": null,
   "id": "b78e20d0-7de6-4a25-9f15-3cc675e32b19",
   "metadata": {},
   "outputs": [],
   "source": [
    "df3 = df.dropna(how=\"all\")\n",
    "df3.shape"
   ]
  },
  {
   "cell_type": "code",
   "execution_count": 22,
   "id": "3b94caae-83dc-4c45-ba6e-26e76d78df61",
   "metadata": {},
   "outputs": [
    {
     "data": {
      "text/plain": [
       "(4803, 15)"
      ]
     },
     "execution_count": 22,
     "metadata": {},
     "output_type": "execute_result"
    }
   ],
   "source": [
    "df.dropna(axis=1).shape"
   ]
  },
  {
   "cell_type": "code",
   "execution_count": 23,
   "id": "9135ae48-4114-470e-a431-fc246553056f",
   "metadata": {},
   "outputs": [
    {
     "data": {
      "text/plain": [
       "(4803, 20)"
      ]
     },
     "execution_count": 23,
     "metadata": {},
     "output_type": "execute_result"
    }
   ],
   "source": [
    "df.dropna(how=\"all\", axis=1).shape"
   ]
  },
  {
   "cell_type": "markdown",
   "id": "99e5f8d6-3851-4d96-a207-9cdf37e6361c",
   "metadata": {},
   "source": [
    " with the parameter thresh, which allows us to mention a minimum number of non-null values for the row/column to be kept! Let’s try this out:"
   ]
  },
  {
   "cell_type": "code",
   "execution_count": 37,
   "id": "3eb1f9ca-f672-47be-a128-56f49cb66125",
   "metadata": {},
   "outputs": [
    {
     "data": {
      "text/plain": [
       "(4803, 18)"
      ]
     },
     "execution_count": 37,
     "metadata": {},
     "output_type": "execute_result"
    }
   ],
   "source": [
    "df.dropna(thresh=4000, axis=1).shape #I comment inplace=True\n"
   ]
  },
  {
   "cell_type": "code",
   "execution_count": 38,
   "id": "d7d9a642-f5fd-4c91-992b-054945ddfbda",
   "metadata": {},
   "outputs": [
    {
     "data": {
      "text/plain": [
       "6"
      ]
     },
     "execution_count": 38,
     "metadata": {},
     "output_type": "execute_result"
    }
   ],
   "source": [
    "df.isnull().sum().sum()"
   ]
  },
  {
   "cell_type": "markdown",
   "id": "7a0e275c-e7e5-4a9c-8a5a-d9a13417d438",
   "metadata": {},
   "source": [
    "What can we do now with the remaining 6 NaN? One answer would be to remove all observations that contain at least one NaN value. As an alternative, let’s consider replacing the few remaining missing values.\n",
    "\n",
    "### Replacing missing values\n",
    "\n",
    "Depending on the data there are multiple strategies to replace missing values. If we actually know the correct values or might be able to provide an argument for a reasonable value, we can correct them directly. Otherwise, we aim to infer or estimate the missing data points suitably. For this, we might use methods like ffill, an estimate like the mean or use machine learning models like k-NN (see later).\n",
    "\n",
    "Pandas has a function fillna() that helps us replace missing values with some specific value that we can choose. Let’s look once again where our missing data is:\n"
   ]
  },
  {
   "cell_type": "code",
   "execution_count": 39,
   "id": "d2a04b32-2d92-4a12-94f2-907388f88f11",
   "metadata": {},
   "outputs": [
    {
     "data": {
      "text/plain": [
       "budget                  0\n",
       "genres                  0\n",
       "id                      0\n",
       "keywords                0\n",
       "original_language       0\n",
       "original_title          0\n",
       "overview                3\n",
       "popularity              0\n",
       "production_companies    0\n",
       "production_countries    0\n",
       "release_date            1\n",
       "revenue                 0\n",
       "runtime                 2\n",
       "spoken_languages        0\n",
       "status                  0\n",
       "title                   0\n",
       "vote_average            0\n",
       "vote_count              0\n",
       "dtype: int64"
      ]
     },
     "execution_count": 39,
     "metadata": {},
     "output_type": "execute_result"
    }
   ],
   "source": [
    "df.isnull().sum()"
   ]
  },
  {
   "cell_type": "markdown",
   "id": "9b2e0161-be71-40e5-b7dd-8db25672f7ab",
   "metadata": {},
   "source": [
    "So our missing values are located in the columns overview, release_date, and runtime."
   ]
  },
  {
   "cell_type": "code",
   "execution_count": 40,
   "id": "918241ee-5673-47e3-a786-b8855c0075b3",
   "metadata": {},
   "outputs": [
    {
     "data": {
      "text/plain": [
       "0    In the 22nd century, a paraplegic Marine is di...\n",
       "1    Captain Barbossa, long believed to be dead, ha...\n",
       "2    A cryptic message from Bond’s past sends him o...\n",
       "3    Following the death of District Attorney Harve...\n",
       "4    John Carter is a war-weary, former military ca...\n",
       "Name: overview, dtype: object"
      ]
     },
     "execution_count": 40,
     "metadata": {},
     "output_type": "execute_result"
    }
   ],
   "source": [
    "df[\"overview\"].head(5)"
   ]
  },
  {
   "cell_type": "code",
   "execution_count": 41,
   "id": "cb300d4d-e377-435e-a342-5923fd8ecf0b",
   "metadata": {},
   "outputs": [
    {
     "data": {
      "text/plain": [
       "0    2009-12-10\n",
       "1    2007-05-19\n",
       "2    2015-10-26\n",
       "3    2012-07-16\n",
       "4    2012-03-07\n",
       "Name: release_date, dtype: object"
      ]
     },
     "execution_count": 41,
     "metadata": {},
     "output_type": "execute_result"
    }
   ],
   "source": [
    "df[\"release_date\"].head(5)"
   ]
  },
  {
   "cell_type": "code",
   "execution_count": 42,
   "id": "5792cc15-d734-4b75-ad41-f476c4edd6b8",
   "metadata": {},
   "outputs": [
    {
     "data": {
      "text/plain": [
       "0    162.0\n",
       "1    169.0\n",
       "2    148.0\n",
       "3    165.0\n",
       "4    132.0\n",
       "Name: runtime, dtype: float64"
      ]
     },
     "execution_count": 42,
     "metadata": {},
     "output_type": "execute_result"
    }
   ],
   "source": [
    "df[\"runtime\"].head(5)"
   ]
  },
  {
   "cell_type": "markdown",
   "id": "113e7927-6039-4ac0-a962-e1f022b012c5",
   "metadata": {},
   "source": [
    "Let’s replace the missing value in the column 'overview' with a string so that the data type matches the rest of the data in the column."
   ]
  },
  {
   "cell_type": "code",
   "execution_count": 43,
   "id": "702e4970-5c6b-467f-b652-18f3eebbbf96",
   "metadata": {},
   "outputs": [],
   "source": [
    "df[\"overview\"].fillna(value=\"Overview not available\", inplace=True)"
   ]
  },
  {
   "cell_type": "code",
   "execution_count": 44,
   "id": "7bf2f142-8e7a-48ec-81a4-d9d0e7475ef6",
   "metadata": {},
   "outputs": [
    {
     "data": {
      "text/plain": [
       "0"
      ]
     },
     "execution_count": 44,
     "metadata": {},
     "output_type": "execute_result"
    }
   ],
   "source": [
    "df[\"overview\"].isnull().sum()"
   ]
  },
  {
   "cell_type": "markdown",
   "id": "a0181f4a-3713-4316-867b-f6626ef921f3",
   "metadata": {},
   "source": [
    "Next, for the column 'release_date', we will be replacing the missing data by propagating the non-missing values, meaning that we replace the missing data with the closest non-missing value (in the same column) in either the forward or backward direction. The function fillna() allows us to do this with two parameters:\n",
    "\n",
    "- ffill: for forward propagation\n",
    "- bfill: for backward propagation\n",
    "\n",
    "We will try both of these out. But first, let’s locate our missing data. We can do this using boolean selection. We will take the list of True / False values created by the isnull() function, and use it to select the entries corresponding to True values as follows"
   ]
  },
  {
   "cell_type": "code",
   "execution_count": 45,
   "id": "f47afade-27bf-4e75-ac43-a412dd7bae35",
   "metadata": {},
   "outputs": [
    {
     "data": {
      "text/plain": [
       "4553    NaN\n",
       "Name: release_date, dtype: object"
      ]
     },
     "execution_count": 45,
     "metadata": {},
     "output_type": "execute_result"
    }
   ],
   "source": [
    "df.loc[df[\"release_date\"].isnull(), \"release_date\"]"
   ]
  },
  {
   "cell_type": "markdown",
   "id": "36ca3262-1d35-4135-b8aa-cb43fc592113",
   "metadata": {},
   "source": [
    "This means that the missing value of this column occurs in the row with index 4553. Let’s take a look at the values just before and after:"
   ]
  },
  {
   "cell_type": "code",
   "execution_count": 46,
   "id": "bbf3c14c-9119-4437-8f7e-31dec5544866",
   "metadata": {},
   "outputs": [
    {
     "data": {
      "text/plain": [
       "4552    2012-03-28\n",
       "4553           NaN\n",
       "4554    2015-03-10\n",
       "Name: release_date, dtype: object"
      ]
     },
     "execution_count": 46,
     "metadata": {},
     "output_type": "execute_result"
    }
   ],
   "source": [
    "# Remember for df.loc[] both start and end are included\n",
    "df.loc[4552:4554, \"release_date\"]"
   ]
  },
  {
   "cell_type": "code",
   "execution_count": 49,
   "id": "c3695670-3c9d-4d14-917b-8e2fad9600d0",
   "metadata": {},
   "outputs": [
    {
     "data": {
      "text/plain": [
       "4552    2012-03-28\n",
       "4553    2012-03-28\n",
       "4554    2015-03-10\n",
       "Name: release_date, dtype: object"
      ]
     },
     "execution_count": 49,
     "metadata": {},
     "output_type": "execute_result"
    }
   ],
   "source": [
    "df[\"release_date\"].fillna(method=\"bfill\")[4552:4555]"
   ]
  },
  {
   "cell_type": "code",
   "execution_count": 48,
   "id": "f6aa6820-7ac1-4c29-9459-0017fb503061",
   "metadata": {},
   "outputs": [],
   "source": [
    "df[\"release_date\"].fillna(method=\"ffill\", inplace=True) #Let’s stick with the forward one for our case"
   ]
  },
  {
   "cell_type": "markdown",
   "id": "c3086d42-0939-4810-b861-fb2006207df6",
   "metadata": {},
   "source": [
    "Finally, we arrive at the 'runtime' column. Here, we will replace the missing value with the mean value of this column."
   ]
  },
  {
   "cell_type": "code",
   "execution_count": 50,
   "id": "b1023901-6d9a-46d3-8fc1-2f64c515fb41",
   "metadata": {},
   "outputs": [
    {
     "data": {
      "text/plain": [
       "106.87585919600083"
      ]
     },
     "execution_count": 50,
     "metadata": {},
     "output_type": "execute_result"
    }
   ],
   "source": [
    "df[\"runtime\"].mean()"
   ]
  },
  {
   "cell_type": "code",
   "execution_count": 52,
   "id": "4ea922dc-3ef4-4571-9730-d5624a3e4d6d",
   "metadata": {},
   "outputs": [],
   "source": [
    "df[\"runtime\"].fillna(value=df[\"runtime\"].mean(), inplace=True)"
   ]
  },
  {
   "cell_type": "code",
   "execution_count": 53,
   "id": "102b7258-76e3-4374-aa6c-8d9e6112bdec",
   "metadata": {},
   "outputs": [
    {
     "data": {
      "text/plain": [
       "0"
      ]
     },
     "execution_count": 53,
     "metadata": {},
     "output_type": "execute_result"
    }
   ],
   "source": [
    "df.isnull().sum().sum()"
   ]
  },
  {
   "cell_type": "markdown",
   "id": "00504cec-234d-48d4-8736-83aad9cc6c1f",
   "metadata": {},
   "source": [
    "## Removing duplicate values\n",
    "\n"
   ]
  },
  {
   "cell_type": "code",
   "execution_count": 55,
   "id": "beca000b-008f-4ec4-8f5d-9fe39f838d6f",
   "metadata": {},
   "outputs": [
    {
     "data": {
      "text/html": [
       "<div>\n",
       "<style scoped>\n",
       "    .dataframe tbody tr th:only-of-type {\n",
       "        vertical-align: middle;\n",
       "    }\n",
       "\n",
       "    .dataframe tbody tr th {\n",
       "        vertical-align: top;\n",
       "    }\n",
       "\n",
       "    .dataframe thead th {\n",
       "        text-align: right;\n",
       "    }\n",
       "</style>\n",
       "<table border=\"1\" class=\"dataframe\">\n",
       "  <thead>\n",
       "    <tr style=\"text-align: right;\">\n",
       "      <th></th>\n",
       "      <th>color</th>\n",
       "      <th>value</th>\n",
       "    </tr>\n",
       "  </thead>\n",
       "  <tbody>\n",
       "    <tr>\n",
       "      <th>0</th>\n",
       "      <td>blue</td>\n",
       "      <td>2</td>\n",
       "    </tr>\n",
       "    <tr>\n",
       "      <th>1</th>\n",
       "      <td>blue</td>\n",
       "      <td>1</td>\n",
       "    </tr>\n",
       "    <tr>\n",
       "      <th>2</th>\n",
       "      <td>red</td>\n",
       "      <td>3</td>\n",
       "    </tr>\n",
       "    <tr>\n",
       "      <th>3</th>\n",
       "      <td>red</td>\n",
       "      <td>3</td>\n",
       "    </tr>\n",
       "    <tr>\n",
       "      <th>4</th>\n",
       "      <td>blue</td>\n",
       "      <td>2</td>\n",
       "    </tr>\n",
       "  </tbody>\n",
       "</table>\n",
       "</div>"
      ],
      "text/plain": [
       "  color  value\n",
       "0  blue      2\n",
       "1  blue      1\n",
       "2   red      3\n",
       "3   red      3\n",
       "4  blue      2"
      ]
     },
     "execution_count": 55,
     "metadata": {},
     "output_type": "execute_result"
    }
   ],
   "source": [
    "import pandas as pd\n",
    "\n",
    "df = pd.DataFrame(\n",
    "    {\"color\": [\"blue\", \"blue\", \"red\", \"red\", \"blue\"], \"value\": [2, 1, 3, 3, 2]}\n",
    ")\n",
    "df"
   ]
  },
  {
   "cell_type": "markdown",
   "id": "e8f7e06e-56ae-4cb8-8871-102e51702674",
   "metadata": {},
   "source": [
    "### Duplicate rows \n",
    "\n",
    "The simplest case of duplicate values is when entire rows are duplicated.\n",
    "The function duplicated() from pandas will detect such cases."
   ]
  },
  {
   "cell_type": "code",
   "execution_count": 56,
   "id": "c5c1a6ae-1429-4bcf-9f1f-82f500fe2938",
   "metadata": {},
   "outputs": [
    {
     "data": {
      "text/plain": [
       "0    False\n",
       "1    False\n",
       "2    False\n",
       "3     True\n",
       "4     True\n",
       "dtype: bool"
      ]
     },
     "execution_count": 56,
     "metadata": {},
     "output_type": "execute_result"
    }
   ],
   "source": [
    "df.duplicated()"
   ]
  },
  {
   "cell_type": "markdown",
   "id": "70e7b8f3-df12-4f0b-bd0b-1000a9c70491",
   "metadata": {},
   "source": [
    "Note that the duplicated rows do actually have different index labels, and these labels are of course not taken into account when checking for duplicates.\n",
    "\n",
    "As we just mentioned, this function will mark the first occurrence of a duplicated value as False and all further occurrences as True. This is because of the parameter keep whose default value is keep='first'. Let’s try the following alternative instead:"
   ]
  },
  {
   "cell_type": "code",
   "execution_count": 57,
   "id": "b1bc7fa8-a125-426e-842d-1232c3a1b7b3",
   "metadata": {},
   "outputs": [
    {
     "data": {
      "text/plain": [
       "0     True\n",
       "1    False\n",
       "2     True\n",
       "3    False\n",
       "4    False\n",
       "dtype: bool"
      ]
     },
     "execution_count": 57,
     "metadata": {},
     "output_type": "execute_result"
    }
   ],
   "source": [
    "df.duplicated(keep=\"last\")"
   ]
  },
  {
   "cell_type": "markdown",
   "id": "a595482b-f886-4764-a9c4-b6612f25db37",
   "metadata": {},
   "source": [
    "The behavior is now different: the last occurrence of a duplicated value is marked as False and all previous occurrences are marked as True (and of course, non-duplicated rows are always marked False, as before).\n",
    "\n",
    "There is a third and final option which is to mark all occurrences of a duplicated row as True by using keep=False:"
   ]
  },
  {
   "cell_type": "code",
   "execution_count": 58,
   "id": "12a77a80-8383-4357-ab13-bc330f7819a8",
   "metadata": {},
   "outputs": [
    {
     "data": {
      "text/plain": [
       "0     True\n",
       "1    False\n",
       "2     True\n",
       "3     True\n",
       "4     True\n",
       "dtype: bool"
      ]
     },
     "execution_count": 58,
     "metadata": {},
     "output_type": "execute_result"
    }
   ],
   "source": [
    "df.duplicated(keep=False)"
   ]
  },
  {
   "cell_type": "code",
   "execution_count": 59,
   "id": "613545f9-6796-4da8-ae51-b369d1f9ed47",
   "metadata": {},
   "outputs": [
    {
     "data": {
      "text/html": [
       "<div>\n",
       "<style scoped>\n",
       "    .dataframe tbody tr th:only-of-type {\n",
       "        vertical-align: middle;\n",
       "    }\n",
       "\n",
       "    .dataframe tbody tr th {\n",
       "        vertical-align: top;\n",
       "    }\n",
       "\n",
       "    .dataframe thead th {\n",
       "        text-align: right;\n",
       "    }\n",
       "</style>\n",
       "<table border=\"1\" class=\"dataframe\">\n",
       "  <thead>\n",
       "    <tr style=\"text-align: right;\">\n",
       "      <th></th>\n",
       "      <th>color</th>\n",
       "      <th>value</th>\n",
       "    </tr>\n",
       "  </thead>\n",
       "  <tbody>\n",
       "    <tr>\n",
       "      <th>3</th>\n",
       "      <td>red</td>\n",
       "      <td>3</td>\n",
       "    </tr>\n",
       "    <tr>\n",
       "      <th>4</th>\n",
       "      <td>blue</td>\n",
       "      <td>2</td>\n",
       "    </tr>\n",
       "  </tbody>\n",
       "</table>\n",
       "</div>"
      ],
      "text/plain": [
       "  color  value\n",
       "3   red      3\n",
       "4  blue      2"
      ]
     },
     "execution_count": 59,
     "metadata": {},
     "output_type": "execute_result"
    }
   ],
   "source": [
    "df.loc[df.duplicated(), :]"
   ]
  },
  {
   "cell_type": "code",
   "execution_count": 60,
   "id": "9e1f089d-1284-440a-880e-87af67596124",
   "metadata": {},
   "outputs": [
    {
     "data": {
      "text/html": [
       "<div>\n",
       "<style scoped>\n",
       "    .dataframe tbody tr th:only-of-type {\n",
       "        vertical-align: middle;\n",
       "    }\n",
       "\n",
       "    .dataframe tbody tr th {\n",
       "        vertical-align: top;\n",
       "    }\n",
       "\n",
       "    .dataframe thead th {\n",
       "        text-align: right;\n",
       "    }\n",
       "</style>\n",
       "<table border=\"1\" class=\"dataframe\">\n",
       "  <thead>\n",
       "    <tr style=\"text-align: right;\">\n",
       "      <th></th>\n",
       "      <th>color</th>\n",
       "      <th>value</th>\n",
       "    </tr>\n",
       "  </thead>\n",
       "  <tbody>\n",
       "    <tr>\n",
       "      <th>0</th>\n",
       "      <td>blue</td>\n",
       "      <td>2</td>\n",
       "    </tr>\n",
       "    <tr>\n",
       "      <th>1</th>\n",
       "      <td>blue</td>\n",
       "      <td>1</td>\n",
       "    </tr>\n",
       "    <tr>\n",
       "      <th>2</th>\n",
       "      <td>red</td>\n",
       "      <td>3</td>\n",
       "    </tr>\n",
       "  </tbody>\n",
       "</table>\n",
       "</div>"
      ],
      "text/plain": [
       "  color  value\n",
       "0  blue      2\n",
       "1  blue      1\n",
       "2   red      3"
      ]
     },
     "execution_count": 60,
     "metadata": {},
     "output_type": "execute_result"
    }
   ],
   "source": [
    "df.drop_duplicates()"
   ]
  },
  {
   "cell_type": "code",
   "execution_count": 61,
   "id": "9bd41666-41c9-4c82-ab60-c89d9051d047",
   "metadata": {},
   "outputs": [
    {
     "data": {
      "text/html": [
       "<div>\n",
       "<style scoped>\n",
       "    .dataframe tbody tr th:only-of-type {\n",
       "        vertical-align: middle;\n",
       "    }\n",
       "\n",
       "    .dataframe tbody tr th {\n",
       "        vertical-align: top;\n",
       "    }\n",
       "\n",
       "    .dataframe thead th {\n",
       "        text-align: right;\n",
       "    }\n",
       "</style>\n",
       "<table border=\"1\" class=\"dataframe\">\n",
       "  <thead>\n",
       "    <tr style=\"text-align: right;\">\n",
       "      <th></th>\n",
       "      <th>color</th>\n",
       "      <th>value</th>\n",
       "    </tr>\n",
       "  </thead>\n",
       "  <tbody>\n",
       "    <tr>\n",
       "      <th>1</th>\n",
       "      <td>blue</td>\n",
       "      <td>1</td>\n",
       "    </tr>\n",
       "    <tr>\n",
       "      <th>3</th>\n",
       "      <td>red</td>\n",
       "      <td>3</td>\n",
       "    </tr>\n",
       "    <tr>\n",
       "      <th>4</th>\n",
       "      <td>blue</td>\n",
       "      <td>2</td>\n",
       "    </tr>\n",
       "  </tbody>\n",
       "</table>\n",
       "</div>"
      ],
      "text/plain": [
       "  color  value\n",
       "1  blue      1\n",
       "3   red      3\n",
       "4  blue      2"
      ]
     },
     "execution_count": 61,
     "metadata": {},
     "output_type": "execute_result"
    }
   ],
   "source": [
    "df.drop_duplicates(keep=\"last\")"
   ]
  },
  {
   "cell_type": "markdown",
   "id": "b7b23ad0-65fe-4ae1-bbca-c2ce14cfb76a",
   "metadata": {},
   "source": [
    "### Duplicates from a particular column\n",
    "\n",
    "Sometimes, we might wish to drop duplicates only for a specific column. We can do this by passing the column label as a parameter to the drop_duplicates() function. Let’s try this out:\n"
   ]
  },
  {
   "cell_type": "code",
   "execution_count": 63,
   "id": "44c653d7-b773-4997-b676-8669a21df741",
   "metadata": {},
   "outputs": [
    {
     "data": {
      "text/html": [
       "<div>\n",
       "<style scoped>\n",
       "    .dataframe tbody tr th:only-of-type {\n",
       "        vertical-align: middle;\n",
       "    }\n",
       "\n",
       "    .dataframe tbody tr th {\n",
       "        vertical-align: top;\n",
       "    }\n",
       "\n",
       "    .dataframe thead th {\n",
       "        text-align: right;\n",
       "    }\n",
       "</style>\n",
       "<table border=\"1\" class=\"dataframe\">\n",
       "  <thead>\n",
       "    <tr style=\"text-align: right;\">\n",
       "      <th></th>\n",
       "      <th>color</th>\n",
       "      <th>value</th>\n",
       "    </tr>\n",
       "  </thead>\n",
       "  <tbody>\n",
       "    <tr>\n",
       "      <th>0</th>\n",
       "      <td>blue</td>\n",
       "      <td>2</td>\n",
       "    </tr>\n",
       "    <tr>\n",
       "      <th>1</th>\n",
       "      <td>blue</td>\n",
       "      <td>1</td>\n",
       "    </tr>\n",
       "    <tr>\n",
       "      <th>2</th>\n",
       "      <td>red</td>\n",
       "      <td>3</td>\n",
       "    </tr>\n",
       "  </tbody>\n",
       "</table>\n",
       "</div>"
      ],
      "text/plain": [
       "  color  value\n",
       "0  blue      2\n",
       "1  blue      1\n",
       "2   red      3"
      ]
     },
     "execution_count": 63,
     "metadata": {},
     "output_type": "execute_result"
    }
   ],
   "source": [
    "df.drop_duplicates([\"value\"])"
   ]
  },
  {
   "cell_type": "code",
   "execution_count": 64,
   "id": "234355b0-8323-478d-9005-f9f5e4a7c7b3",
   "metadata": {},
   "outputs": [
    {
     "data": {
      "text/html": [
       "<div>\n",
       "<style scoped>\n",
       "    .dataframe tbody tr th:only-of-type {\n",
       "        vertical-align: middle;\n",
       "    }\n",
       "\n",
       "    .dataframe tbody tr th {\n",
       "        vertical-align: top;\n",
       "    }\n",
       "\n",
       "    .dataframe thead th {\n",
       "        text-align: right;\n",
       "    }\n",
       "</style>\n",
       "<table border=\"1\" class=\"dataframe\">\n",
       "  <thead>\n",
       "    <tr style=\"text-align: right;\">\n",
       "      <th></th>\n",
       "      <th>color</th>\n",
       "      <th>value</th>\n",
       "    </tr>\n",
       "  </thead>\n",
       "  <tbody>\n",
       "    <tr>\n",
       "      <th>0</th>\n",
       "      <td>blue</td>\n",
       "      <td>2</td>\n",
       "    </tr>\n",
       "    <tr>\n",
       "      <th>2</th>\n",
       "      <td>red</td>\n",
       "      <td>3</td>\n",
       "    </tr>\n",
       "  </tbody>\n",
       "</table>\n",
       "</div>"
      ],
      "text/plain": [
       "  color  value\n",
       "0  blue      2\n",
       "2   red      3"
      ]
     },
     "execution_count": 64,
     "metadata": {},
     "output_type": "execute_result"
    }
   ],
   "source": [
    "df.drop_duplicates([\"color\"])"
   ]
  },
  {
   "cell_type": "markdown",
   "id": "39e40c3d-9b02-4d1e-aa60-5fd4a8d05f01",
   "metadata": {},
   "source": [
    "## Exercice: removing duplicate values\n",
    "Import the following dataset"
   ]
  },
  {
   "cell_type": "code",
   "execution_count": 5,
   "id": "6a4c077b-0881-4fe5-99bf-c2c64497497d",
   "metadata": {},
   "outputs": [],
   "source": [
    "import pandas as pd\n",
    "\n",
    "df = pd.read_csv(\"http://bit.ly/chiporders\", sep=\"\\t\")"
   ]
  },
  {
   "cell_type": "code",
   "execution_count": 57,
   "id": "4c221ec4-bccb-40aa-ba3d-01828cffc83b",
   "metadata": {},
   "outputs": [
    {
     "data": {
      "text/html": [
       "<div>\n",
       "<style scoped>\n",
       "    .dataframe tbody tr th:only-of-type {\n",
       "        vertical-align: middle;\n",
       "    }\n",
       "\n",
       "    .dataframe tbody tr th {\n",
       "        vertical-align: top;\n",
       "    }\n",
       "\n",
       "    .dataframe thead th {\n",
       "        text-align: right;\n",
       "    }\n",
       "</style>\n",
       "<table border=\"1\" class=\"dataframe\">\n",
       "  <thead>\n",
       "    <tr style=\"text-align: right;\">\n",
       "      <th></th>\n",
       "      <th>order_id</th>\n",
       "      <th>quantity</th>\n",
       "      <th>item_name</th>\n",
       "      <th>choice_description</th>\n",
       "      <th>item_price</th>\n",
       "    </tr>\n",
       "  </thead>\n",
       "  <tbody>\n",
       "    <tr>\n",
       "      <th>0</th>\n",
       "      <td>1</td>\n",
       "      <td>1</td>\n",
       "      <td>Chips and Fresh Tomato Salsa</td>\n",
       "      <td>NaN</td>\n",
       "      <td>$2.39</td>\n",
       "    </tr>\n",
       "    <tr>\n",
       "      <th>1</th>\n",
       "      <td>1</td>\n",
       "      <td>1</td>\n",
       "      <td>Izze</td>\n",
       "      <td>[Clementine]</td>\n",
       "      <td>$3.39</td>\n",
       "    </tr>\n",
       "    <tr>\n",
       "      <th>2</th>\n",
       "      <td>1</td>\n",
       "      <td>1</td>\n",
       "      <td>Nantucket Nectar</td>\n",
       "      <td>[Apple]</td>\n",
       "      <td>$3.39</td>\n",
       "    </tr>\n",
       "    <tr>\n",
       "      <th>3</th>\n",
       "      <td>1</td>\n",
       "      <td>1</td>\n",
       "      <td>Chips and Tomatillo-Green Chili Salsa</td>\n",
       "      <td>NaN</td>\n",
       "      <td>$2.39</td>\n",
       "    </tr>\n",
       "    <tr>\n",
       "      <th>4</th>\n",
       "      <td>2</td>\n",
       "      <td>2</td>\n",
       "      <td>Chicken Bowl</td>\n",
       "      <td>[Tomatillo-Red Chili Salsa (Hot), [Black Beans...</td>\n",
       "      <td>$16.98</td>\n",
       "    </tr>\n",
       "  </tbody>\n",
       "</table>\n",
       "</div>"
      ],
      "text/plain": [
       "   order_id  quantity                              item_name  \\\n",
       "0         1         1           Chips and Fresh Tomato Salsa   \n",
       "1         1         1                                   Izze   \n",
       "2         1         1                       Nantucket Nectar   \n",
       "3         1         1  Chips and Tomatillo-Green Chili Salsa   \n",
       "4         2         2                           Chicken Bowl   \n",
       "\n",
       "                                  choice_description item_price  \n",
       "0                                                NaN     $2.39   \n",
       "1                                       [Clementine]     $3.39   \n",
       "2                                            [Apple]     $3.39   \n",
       "3                                                NaN     $2.39   \n",
       "4  [Tomatillo-Red Chili Salsa (Hot), [Black Beans...    $16.98   "
      ]
     },
     "execution_count": 57,
     "metadata": {},
     "output_type": "execute_result"
    }
   ],
   "source": [
    "df.head()"
   ]
  },
  {
   "cell_type": "code",
   "execution_count": 58,
   "id": "d06e97bf-b05b-4358-81fb-b4c3d9cc041a",
   "metadata": {},
   "outputs": [
    {
     "data": {
      "text/plain": [
       "(4622, 5)"
      ]
     },
     "execution_count": 58,
     "metadata": {},
     "output_type": "execute_result"
    }
   ],
   "source": [
    "df.shape"
   ]
  },
  {
   "cell_type": "markdown",
   "id": "c0d5bf6e-d54c-4ce1-af30-9de158d2be74",
   "metadata": {},
   "source": [
    "Perform the following steps:\n",
    "\n",
    "- Find the number of duplicated rows.\n",
    "- Find the number of duplicated values in each column.\n",
    "- Find the number of duplicated rows with respect to the columns 'order_id', 'item_name' and 'item_price'.\n",
    "- Remove all occurrences of the duplicated rows with respect to the columns 'order_id', 'item_name' and 'item_price'.\n"
   ]
  },
  {
   "cell_type": "code",
   "execution_count": 59,
   "id": "39416b77-743b-43ad-9067-c5cd474f6b5f",
   "metadata": {},
   "outputs": [
    {
     "data": {
      "text/plain": [
       "59"
      ]
     },
     "execution_count": 59,
     "metadata": {},
     "output_type": "execute_result"
    }
   ],
   "source": [
    "# number of duplicated rows\n",
    "df.duplicated().sum()"
   ]
  },
  {
   "cell_type": "code",
   "execution_count": 50,
   "id": "eebc52a8-4ecb-4d42-9370-1cf60105af8a",
   "metadata": {},
   "outputs": [
    {
     "data": {
      "text/html": [
       "<div>\n",
       "<style scoped>\n",
       "    .dataframe tbody tr th:only-of-type {\n",
       "        vertical-align: middle;\n",
       "    }\n",
       "\n",
       "    .dataframe tbody tr th {\n",
       "        vertical-align: top;\n",
       "    }\n",
       "\n",
       "    .dataframe thead th {\n",
       "        text-align: right;\n",
       "    }\n",
       "</style>\n",
       "<table border=\"1\" class=\"dataframe\">\n",
       "  <thead>\n",
       "    <tr style=\"text-align: right;\">\n",
       "      <th></th>\n",
       "      <th>col_name</th>\n",
       "      <th>duplicate</th>\n",
       "    </tr>\n",
       "  </thead>\n",
       "  <tbody>\n",
       "    <tr>\n",
       "      <th>order_id</th>\n",
       "      <td>order_id</td>\n",
       "      <td>2788</td>\n",
       "    </tr>\n",
       "    <tr>\n",
       "      <th>quantity</th>\n",
       "      <td>quantity</td>\n",
       "      <td>4613</td>\n",
       "    </tr>\n",
       "    <tr>\n",
       "      <th>item_name</th>\n",
       "      <td>item_name</td>\n",
       "      <td>4572</td>\n",
       "    </tr>\n",
       "    <tr>\n",
       "      <th>choice_description</th>\n",
       "      <td>choice_description</td>\n",
       "      <td>3578</td>\n",
       "    </tr>\n",
       "    <tr>\n",
       "      <th>item_price</th>\n",
       "      <td>item_price</td>\n",
       "      <td>4544</td>\n",
       "    </tr>\n",
       "  </tbody>\n",
       "</table>\n",
       "</div>"
      ],
      "text/plain": [
       "                              col_name  duplicate\n",
       "order_id                      order_id       2788\n",
       "quantity                      quantity       4613\n",
       "item_name                    item_name       4572\n",
       "choice_description  choice_description       3578\n",
       "item_price                  item_price       4544"
      ]
     },
     "execution_count": 50,
     "metadata": {},
     "output_type": "execute_result"
    }
   ],
   "source": [
    "#number of duplicated values in each column.\n",
    "pd.DataFrame(\n",
    "    {\n",
    "        \"col_name\": df.columns,\n",
    "        \"duplicate\": df.apply(lambda x: x.duplicated().sum(), axis = 0),\n",
    "    }\n",
    ")"
   ]
  },
  {
   "cell_type": "code",
   "execution_count": 61,
   "id": "def37718-c072-4fe6-8227-16738e16e2ec",
   "metadata": {},
   "outputs": [
    {
     "data": {
      "text/plain": [
       "249"
      ]
     },
     "execution_count": 61,
     "metadata": {},
     "output_type": "execute_result"
    }
   ],
   "source": [
    "# Find the number of duplicated rows with respect to the columns 'order_id', 'item_name' and 'item_price'.\n",
    "df.duplicated(['order_id', 'item_name','item_price']).sum()"
   ]
  },
  {
   "cell_type": "code",
   "execution_count": 63,
   "id": "54170196-d8ca-4baf-acca-0142bf11e9f5",
   "metadata": {},
   "outputs": [
    {
     "data": {
      "text/plain": [
       "(4156, 5)"
      ]
     },
     "execution_count": 63,
     "metadata": {},
     "output_type": "execute_result"
    }
   ],
   "source": [
    "#Remove all occurrences of the duplicated rows with respect to the columns 'order_id', 'item_name' and 'item_price'.\n",
    "df.drop_duplicates(['order_id', 'item_name','item_price'], keep = False).shape"
   ]
  },
  {
   "cell_type": "markdown",
   "id": "569b3822-9032-469f-9bd7-bf2c85b2418e",
   "metadata": {},
   "source": [
    "## Detecting and filtering outliers\n",
    "### Motivation \n",
    "In order to identify outlier candidates, we need to:\n",
    "\n",
    "- 1) establish what we consider as ‘normal’; and\n",
    "- 2) find a way to measure deviations from that ‘normal’.\n",
    "\n",
    "### Practical outlier removal \n",
    "\n",
    "In this unit, we will describe three methods for outlier detection and removal: by inspection, z-scores and boxplots. Here we will focus on outliers within single features.\n",
    "\n",
    "**PERSONAL REMARKS :** Boxplot why not but a density plot could be more relevant."
   ]
  },
  {
   "cell_type": "code",
   "execution_count": 64,
   "id": "5835b04b-268d-41d5-8a0e-5cbf6bcdbfe4",
   "metadata": {},
   "outputs": [],
   "source": [
    "import pandas as pd\n",
    "import numpy as np\n",
    "import matplotlib.pyplot as plt\n",
    "import seaborn as sns\n",
    "\n",
    "%matplotlib inline\n"
   ]
  },
  {
   "cell_type": "code",
   "execution_count": 67,
   "id": "64f7a98f-101f-4117-a79d-ea483ac9af29",
   "metadata": {},
   "outputs": [
    {
     "data": {
      "text/html": [
       "<div>\n",
       "<style scoped>\n",
       "    .dataframe tbody tr th:only-of-type {\n",
       "        vertical-align: middle;\n",
       "    }\n",
       "\n",
       "    .dataframe tbody tr th {\n",
       "        vertical-align: top;\n",
       "    }\n",
       "\n",
       "    .dataframe thead th {\n",
       "        text-align: right;\n",
       "    }\n",
       "</style>\n",
       "<table border=\"1\" class=\"dataframe\">\n",
       "  <thead>\n",
       "    <tr style=\"text-align: right;\">\n",
       "      <th></th>\n",
       "      <th>X0</th>\n",
       "      <th>X1</th>\n",
       "      <th>X2</th>\n",
       "      <th>X3</th>\n",
       "      <th>X4</th>\n",
       "      <th>X5</th>\n",
       "    </tr>\n",
       "  </thead>\n",
       "  <tbody>\n",
       "    <tr>\n",
       "      <th>0</th>\n",
       "      <td>1.764052</td>\n",
       "      <td>0.400157</td>\n",
       "      <td>0.978738</td>\n",
       "      <td>2.240893</td>\n",
       "      <td>1.867558</td>\n",
       "      <td>0.540426</td>\n",
       "    </tr>\n",
       "    <tr>\n",
       "      <th>1</th>\n",
       "      <td>-0.977278</td>\n",
       "      <td>0.950088</td>\n",
       "      <td>-0.151357</td>\n",
       "      <td>-0.103219</td>\n",
       "      <td>0.410599</td>\n",
       "      <td>1.424513</td>\n",
       "    </tr>\n",
       "    <tr>\n",
       "      <th>2</th>\n",
       "      <td>0.144044</td>\n",
       "      <td>1.454274</td>\n",
       "      <td>0.761038</td>\n",
       "      <td>0.121675</td>\n",
       "      <td>0.443863</td>\n",
       "      <td>0.282623</td>\n",
       "    </tr>\n",
       "    <tr>\n",
       "      <th>3</th>\n",
       "      <td>0.333674</td>\n",
       "      <td>1.494079</td>\n",
       "      <td>-0.205158</td>\n",
       "      <td>0.313068</td>\n",
       "      <td>-0.854096</td>\n",
       "      <td>0.038750</td>\n",
       "    </tr>\n",
       "    <tr>\n",
       "      <th>4</th>\n",
       "      <td>-2.552990</td>\n",
       "      <td>0.653619</td>\n",
       "      <td>0.864436</td>\n",
       "      <td>-0.742165</td>\n",
       "      <td>2.269755</td>\n",
       "      <td>0.999036</td>\n",
       "    </tr>\n",
       "    <tr>\n",
       "      <th>5</th>\n",
       "      <td>-1.454366</td>\n",
       "      <td>0.045759</td>\n",
       "      <td>-0.187184</td>\n",
       "      <td>1.532779</td>\n",
       "      <td>1.469359</td>\n",
       "      <td>1.241419</td>\n",
       "    </tr>\n",
       "    <tr>\n",
       "      <th>6</th>\n",
       "      <td>0.154947</td>\n",
       "      <td>0.378163</td>\n",
       "      <td>-0.887786</td>\n",
       "      <td>-1.980796</td>\n",
       "      <td>-0.347912</td>\n",
       "      <td>3.937181</td>\n",
       "    </tr>\n",
       "    <tr>\n",
       "      <th>7</th>\n",
       "      <td>0.156349</td>\n",
       "      <td>1.230291</td>\n",
       "      <td>1.202380</td>\n",
       "      <td>-0.387327</td>\n",
       "      <td>-0.302303</td>\n",
       "      <td>0.816846</td>\n",
       "    </tr>\n",
       "    <tr>\n",
       "      <th>8</th>\n",
       "      <td>-1.048553</td>\n",
       "      <td>-1.420018</td>\n",
       "      <td>-1.706270</td>\n",
       "      <td>1.950775</td>\n",
       "      <td>-0.509652</td>\n",
       "      <td>0.508986</td>\n",
       "    </tr>\n",
       "    <tr>\n",
       "      <th>9</th>\n",
       "      <td>-0.438074</td>\n",
       "      <td>-1.252795</td>\n",
       "      <td>0.777490</td>\n",
       "      <td>-1.613898</td>\n",
       "      <td>-0.212740</td>\n",
       "      <td>0.101436</td>\n",
       "    </tr>\n",
       "    <tr>\n",
       "      <th>10</th>\n",
       "      <td>-0.895467</td>\n",
       "      <td>0.386902</td>\n",
       "      <td>-0.510805</td>\n",
       "      <td>-1.180632</td>\n",
       "      <td>-0.028182</td>\n",
       "      <td>4.611023</td>\n",
       "    </tr>\n",
       "    <tr>\n",
       "      <th>11</th>\n",
       "      <td>0.428332</td>\n",
       "      <td>0.066517</td>\n",
       "      <td>0.302472</td>\n",
       "      <td>-0.634322</td>\n",
       "      <td>-0.362741</td>\n",
       "      <td>0.130168</td>\n",
       "    </tr>\n",
       "    <tr>\n",
       "      <th>12</th>\n",
       "      <td>-0.672460</td>\n",
       "      <td>-0.359553</td>\n",
       "      <td>-0.813146</td>\n",
       "      <td>-1.726283</td>\n",
       "      <td>0.177426</td>\n",
       "      <td>1.590608</td>\n",
       "    </tr>\n",
       "    <tr>\n",
       "      <th>13</th>\n",
       "      <td>-0.401781</td>\n",
       "      <td>-1.630198</td>\n",
       "      <td>0.462782</td>\n",
       "      <td>-0.907298</td>\n",
       "      <td>0.051945</td>\n",
       "      <td>0.041370</td>\n",
       "    </tr>\n",
       "    <tr>\n",
       "      <th>14</th>\n",
       "      <td>0.729091</td>\n",
       "      <td>0.128983</td>\n",
       "      <td>1.139401</td>\n",
       "      <td>-1.234826</td>\n",
       "      <td>0.402342</td>\n",
       "      <td>2.765875</td>\n",
       "    </tr>\n",
       "    <tr>\n",
       "      <th>15</th>\n",
       "      <td>-0.684810</td>\n",
       "      <td>-0.870797</td>\n",
       "      <td>-0.578850</td>\n",
       "      <td>-0.311553</td>\n",
       "      <td>0.056165</td>\n",
       "      <td>0.667310</td>\n",
       "    </tr>\n",
       "    <tr>\n",
       "      <th>16</th>\n",
       "      <td>-1.165150</td>\n",
       "      <td>0.900826</td>\n",
       "      <td>0.465662</td>\n",
       "      <td>-1.536244</td>\n",
       "      <td>1.488252</td>\n",
       "      <td>1.273083</td>\n",
       "    </tr>\n",
       "    <tr>\n",
       "      <th>17</th>\n",
       "      <td>1.895889</td>\n",
       "      <td>1.178780</td>\n",
       "      <td>-0.179925</td>\n",
       "      <td>-1.070753</td>\n",
       "      <td>1.054452</td>\n",
       "      <td>0.300875</td>\n",
       "    </tr>\n",
       "    <tr>\n",
       "      <th>18</th>\n",
       "      <td>-0.403177</td>\n",
       "      <td>1.222445</td>\n",
       "      <td>0.208275</td>\n",
       "      <td>0.976639</td>\n",
       "      <td>0.356366</td>\n",
       "      <td>0.122639</td>\n",
       "    </tr>\n",
       "    <tr>\n",
       "      <th>19</th>\n",
       "      <td>0.706573</td>\n",
       "      <td>0.010500</td>\n",
       "      <td>1.785870</td>\n",
       "      <td>0.126912</td>\n",
       "      <td>0.401989</td>\n",
       "      <td>2.337670</td>\n",
       "    </tr>\n",
       "    <tr>\n",
       "      <th>20</th>\n",
       "      <td>1.883151</td>\n",
       "      <td>-1.347759</td>\n",
       "      <td>-1.270485</td>\n",
       "      <td>0.969397</td>\n",
       "      <td>-1.173123</td>\n",
       "      <td>1.902841</td>\n",
       "    </tr>\n",
       "    <tr>\n",
       "      <th>21</th>\n",
       "      <td>1.943621</td>\n",
       "      <td>-0.413619</td>\n",
       "      <td>-0.747455</td>\n",
       "      <td>1.922942</td>\n",
       "      <td>1.480515</td>\n",
       "      <td>0.357519</td>\n",
       "    </tr>\n",
       "    <tr>\n",
       "      <th>22</th>\n",
       "      <td>1.867559</td>\n",
       "      <td>0.906045</td>\n",
       "      <td>-0.861226</td>\n",
       "      <td>1.910065</td>\n",
       "      <td>-0.268003</td>\n",
       "      <td>1.536852</td>\n",
       "    </tr>\n",
       "    <tr>\n",
       "      <th>23</th>\n",
       "      <td>0.802456</td>\n",
       "      <td>0.947252</td>\n",
       "      <td>-0.155010</td>\n",
       "      <td>0.614079</td>\n",
       "      <td>0.922207</td>\n",
       "      <td>0.754562</td>\n",
       "    </tr>\n",
       "    <tr>\n",
       "      <th>24</th>\n",
       "      <td>0.376426</td>\n",
       "      <td>-1.099401</td>\n",
       "      <td>0.298238</td>\n",
       "      <td>1.326386</td>\n",
       "      <td>-0.694568</td>\n",
       "      <td>4.208082</td>\n",
       "    </tr>\n",
       "  </tbody>\n",
       "</table>\n",
       "</div>"
      ],
      "text/plain": [
       "          X0        X1        X2        X3        X4        X5\n",
       "0   1.764052  0.400157  0.978738  2.240893  1.867558  0.540426\n",
       "1  -0.977278  0.950088 -0.151357 -0.103219  0.410599  1.424513\n",
       "2   0.144044  1.454274  0.761038  0.121675  0.443863  0.282623\n",
       "3   0.333674  1.494079 -0.205158  0.313068 -0.854096  0.038750\n",
       "4  -2.552990  0.653619  0.864436 -0.742165  2.269755  0.999036\n",
       "5  -1.454366  0.045759 -0.187184  1.532779  1.469359  1.241419\n",
       "6   0.154947  0.378163 -0.887786 -1.980796 -0.347912  3.937181\n",
       "7   0.156349  1.230291  1.202380 -0.387327 -0.302303  0.816846\n",
       "8  -1.048553 -1.420018 -1.706270  1.950775 -0.509652  0.508986\n",
       "9  -0.438074 -1.252795  0.777490 -1.613898 -0.212740  0.101436\n",
       "10 -0.895467  0.386902 -0.510805 -1.180632 -0.028182  4.611023\n",
       "11  0.428332  0.066517  0.302472 -0.634322 -0.362741  0.130168\n",
       "12 -0.672460 -0.359553 -0.813146 -1.726283  0.177426  1.590608\n",
       "13 -0.401781 -1.630198  0.462782 -0.907298  0.051945  0.041370\n",
       "14  0.729091  0.128983  1.139401 -1.234826  0.402342  2.765875\n",
       "15 -0.684810 -0.870797 -0.578850 -0.311553  0.056165  0.667310\n",
       "16 -1.165150  0.900826  0.465662 -1.536244  1.488252  1.273083\n",
       "17  1.895889  1.178780 -0.179925 -1.070753  1.054452  0.300875\n",
       "18 -0.403177  1.222445  0.208275  0.976639  0.356366  0.122639\n",
       "19  0.706573  0.010500  1.785870  0.126912  0.401989  2.337670\n",
       "20  1.883151 -1.347759 -1.270485  0.969397 -1.173123  1.902841\n",
       "21  1.943621 -0.413619 -0.747455  1.922942  1.480515  0.357519\n",
       "22  1.867559  0.906045 -0.861226  1.910065 -0.268003  1.536852\n",
       "23  0.802456  0.947252 -0.155010  0.614079  0.922207  0.754562\n",
       "24  0.376426 -1.099401  0.298238  1.326386 -0.694568  4.208082"
      ]
     },
     "execution_count": 67,
     "metadata": {},
     "output_type": "execute_result"
    }
   ],
   "source": [
    "# Create a random seed to make result reproducible\n",
    "np.random.seed(0)\n",
    "\n",
    "# Create 5 features with 100000 samples from Gaussian distribution each\n",
    "df = pd.DataFrame(np.random.randn(100000, 5))\n",
    "\n",
    "# Add 1000 to the last 100 values of feature 4\n",
    "df.iloc[-100:, 4] = df.iloc[-100:, 4] + 1000\n",
    "\n",
    "# Create 6th feature with 100000 samples from exponential distribution\n",
    "df[5] = np.random.exponential(1, 100000)\n",
    "\n",
    "# Change feature names\n",
    "df = df.add_prefix(\"X\")\n",
    "df.head(25)"
   ]
  },
  {
   "cell_type": "code",
   "execution_count": 68,
   "id": "e48eb56e-fb90-4f99-b595-41e1e81905dd",
   "metadata": {},
   "outputs": [
    {
     "data": {
      "text/plain": [
       "array([0.19467425, 0.45162015, 0.93359406, ..., 4.26801054, 0.02075978,\n",
       "       0.4878111 ])"
      ]
     },
     "execution_count": 68,
     "metadata": {},
     "output_type": "execute_result"
    }
   ],
   "source": [
    "(np.random.exponential(1, 100000)<0).sum() # Nope it's impossible that only due to luck"
   ]
  },
  {
   "cell_type": "markdown",
   "id": "0cb69701-0b6c-4248-8f8c-d06233554bf2",
   "metadata": {},
   "source": [
    "### Checking descriptive statistics and visualizations\n"
   ]
  },
  {
   "cell_type": "code",
   "execution_count": 71,
   "id": "71d223de-1c0c-45e4-ac64-c3d46ce500bf",
   "metadata": {},
   "outputs": [
    {
     "data": {
      "text/html": [
       "<div>\n",
       "<style scoped>\n",
       "    .dataframe tbody tr th:only-of-type {\n",
       "        vertical-align: middle;\n",
       "    }\n",
       "\n",
       "    .dataframe tbody tr th {\n",
       "        vertical-align: top;\n",
       "    }\n",
       "\n",
       "    .dataframe thead th {\n",
       "        text-align: right;\n",
       "    }\n",
       "</style>\n",
       "<table border=\"1\" class=\"dataframe\">\n",
       "  <thead>\n",
       "    <tr style=\"text-align: right;\">\n",
       "      <th></th>\n",
       "      <th>X0</th>\n",
       "      <th>X1</th>\n",
       "      <th>X2</th>\n",
       "      <th>X3</th>\n",
       "      <th>X4</th>\n",
       "      <th>X5</th>\n",
       "    </tr>\n",
       "  </thead>\n",
       "  <tbody>\n",
       "    <tr>\n",
       "      <th>count</th>\n",
       "      <td>100000.00000</td>\n",
       "      <td>100000.00000</td>\n",
       "      <td>100000.00000</td>\n",
       "      <td>100000.00000</td>\n",
       "      <td>100000.00000</td>\n",
       "      <td>100000.00000</td>\n",
       "    </tr>\n",
       "    <tr>\n",
       "      <th>mean</th>\n",
       "      <td>-0.00020</td>\n",
       "      <td>0.00235</td>\n",
       "      <td>0.00161</td>\n",
       "      <td>0.00196</td>\n",
       "      <td>1.00745</td>\n",
       "      <td>1.00622</td>\n",
       "    </tr>\n",
       "    <tr>\n",
       "      <th>std</th>\n",
       "      <td>0.99711</td>\n",
       "      <td>0.99915</td>\n",
       "      <td>1.00225</td>\n",
       "      <td>1.00057</td>\n",
       "      <td>31.61742</td>\n",
       "      <td>1.00696</td>\n",
       "    </tr>\n",
       "    <tr>\n",
       "      <th>min</th>\n",
       "      <td>-4.69459</td>\n",
       "      <td>-4.85212</td>\n",
       "      <td>-4.24712</td>\n",
       "      <td>-4.44663</td>\n",
       "      <td>-5.00230</td>\n",
       "      <td>0.00000</td>\n",
       "    </tr>\n",
       "    <tr>\n",
       "      <th>25%</th>\n",
       "      <td>-0.67891</td>\n",
       "      <td>-0.66917</td>\n",
       "      <td>-0.67574</td>\n",
       "      <td>-0.67561</td>\n",
       "      <td>-0.66450</td>\n",
       "      <td>0.29055</td>\n",
       "    </tr>\n",
       "    <tr>\n",
       "      <th>50%</th>\n",
       "      <td>0.00263</td>\n",
       "      <td>0.00315</td>\n",
       "      <td>0.00039</td>\n",
       "      <td>0.00118</td>\n",
       "      <td>0.00851</td>\n",
       "      <td>0.69563</td>\n",
       "    </tr>\n",
       "    <tr>\n",
       "      <th>75%</th>\n",
       "      <td>0.67424</td>\n",
       "      <td>0.67192</td>\n",
       "      <td>0.67740</td>\n",
       "      <td>0.67603</td>\n",
       "      <td>0.68245</td>\n",
       "      <td>1.39619</td>\n",
       "    </tr>\n",
       "    <tr>\n",
       "      <th>max</th>\n",
       "      <td>4.46661</td>\n",
       "      <td>4.22408</td>\n",
       "      <td>4.28586</td>\n",
       "      <td>4.24177</td>\n",
       "      <td>1002.53804</td>\n",
       "      <td>11.80068</td>\n",
       "    </tr>\n",
       "  </tbody>\n",
       "</table>\n",
       "</div>"
      ],
      "text/plain": [
       "                 X0            X1            X2            X3            X4  \\\n",
       "count  100000.00000  100000.00000  100000.00000  100000.00000  100000.00000   \n",
       "mean       -0.00020       0.00235       0.00161       0.00196       1.00745   \n",
       "std         0.99711       0.99915       1.00225       1.00057      31.61742   \n",
       "min        -4.69459      -4.85212      -4.24712      -4.44663      -5.00230   \n",
       "25%        -0.67891      -0.66917      -0.67574      -0.67561      -0.66450   \n",
       "50%         0.00263       0.00315       0.00039       0.00118       0.00851   \n",
       "75%         0.67424       0.67192       0.67740       0.67603       0.68245   \n",
       "max         4.46661       4.22408       4.28586       4.24177    1002.53804   \n",
       "\n",
       "                 X5  \n",
       "count  100000.00000  \n",
       "mean        1.00622  \n",
       "std         1.00696  \n",
       "min         0.00000  \n",
       "25%         0.29055  \n",
       "50%         0.69563  \n",
       "75%         1.39619  \n",
       "max        11.80068  "
      ]
     },
     "execution_count": 71,
     "metadata": {},
     "output_type": "execute_result"
    }
   ],
   "source": [
    "df.describe().round(5)"
   ]
  },
  {
   "cell_type": "code",
   "execution_count": 72,
   "id": "80465bd2-7c28-4c92-b84f-499b3779d659",
   "metadata": {},
   "outputs": [
    {
     "data": {
      "image/png": "[encoded data removed]",
      "text/plain": [
       "<Figure size 1500x600 with 6 Axes>"
      ]
     },
     "metadata": {},
     "output_type": "display_data"
    }
   ],
   "source": [
    "fig, axes = plt.subplots(\n",
    "    2, 3, gridspec_kw={\"height_ratios\": (0.7, 0.3)}, figsize=(15, 6)\n",
    ")\n",
    "\n",
    "for (feat, plot_col) in zip(\n",
    "    [\"X0\", \"X4\", \"X5\"], [0, 1, 2]  # pairing feature with column in plot\n",
    "):\n",
    "    axes[0, plot_col].hist(df[feat], bins=50)\n",
    "    axes[0, plot_col].set_title(\"Histogram and boxplot for {}\".format(feat))\n",
    "    sns.despine(ax=axes[0, plot_col])\n",
    "    sns.boxplot(data=df[feat], orient=\"h\", ax=axes[1, plot_col], fliersize=2)\n",
    "    axes[1, plot_col].set(yticks=[])\n",
    "    sns.despine(ax=axes[1, plot_col], left=True)\n",
    "\n",
    "for ax in axes.flatten():\n",
    "    ax.set_xlabel(\"\")\n",
    "\n",
    "plt.show()"
   ]
  },
  {
   "cell_type": "markdown",
   "id": "184a031c-ada3-4896-b462-f7e999f98416",
   "metadata": {},
   "source": [
    "### Manual outlier removal"
   ]
  },
  {
   "cell_type": "code",
   "execution_count": 73,
   "id": "1a55e442-818b-43bc-b8af-5674387d4812",
   "metadata": {},
   "outputs": [
    {
     "data": {
      "image/png": "[encoded data removed]",
      "text/plain": [
       "<Figure size 640x480 with 1 Axes>"
      ]
     },
     "metadata": {},
     "output_type": "display_data"
    }
   ],
   "source": [
    "plt.hist(df[\"X4\"], bins=50)\n",
    "plt.yscale(\"log\")\n",
    "plt.ylim(1, 100000)\n",
    "plt.show()"
   ]
  },
  {
   "cell_type": "code",
   "execution_count": 74,
   "id": "954345a1-dd5d-4d07-a8ab-2b161bc0bc65",
   "metadata": {},
   "outputs": [
    {
     "data": {
      "text/plain": [
       "99900     999.019554\n",
       "99901    1000.315769\n",
       "99902    1000.443100\n",
       "99903    1001.435870\n",
       "99904    1000.534458\n",
       "Name: X4, dtype: float64"
      ]
     },
     "execution_count": 74,
     "metadata": {},
     "output_type": "execute_result"
    }
   ],
   "source": [
    "filter_200 = df[\"X4\"] > 200\n",
    "outliers_manual = df.loc[filter_200, \"X4\"]\n",
    "outliers_manual.head()\n"
   ]
  },
  {
   "cell_type": "code",
   "execution_count": 75,
   "id": "c35319e3-561a-48cf-8eed-68f4659a90fe",
   "metadata": {},
   "outputs": [
    {
     "data": {
      "text/plain": [
       "(99900,)"
      ]
     },
     "execution_count": 75,
     "metadata": {},
     "output_type": "execute_result"
    }
   ],
   "source": [
    "df_keep = df.loc[~filter_200, \"X4\"]\n",
    "df_keep.shape"
   ]
  },
  {
   "cell_type": "markdown",
   "id": "331e4e81-c2f2-4818-8e21-f2c62f8b728e",
   "metadata": {},
   "source": [
    "### Using Z-scores to identify outlier candidates\n",
    "\n",
    "A common method for deciding what constitutes an outlier for data that is approximately normally distributed is the “3 times the standard deviation from the mean” rule. \n"
   ]
  },
  {
   "cell_type": "code",
   "execution_count": 76,
   "id": "65ee22a7-921e-486c-acd0-a7046398c66c",
   "metadata": {},
   "outputs": [
    {
     "data": {
      "text/plain": [
       "0    False\n",
       "1    False\n",
       "2    False\n",
       "3    False\n",
       "4    False\n",
       "Name: X0, dtype: bool"
      ]
     },
     "execution_count": 76,
     "metadata": {},
     "output_type": "execute_result"
    }
   ],
   "source": [
    "zfilterX0 = np.abs(df[\"X0\"] - df[\"X0\"].mean()) > (3 * df[\"X0\"].std())\n",
    "zfilterX0.head()"
   ]
  },
  {
   "cell_type": "code",
   "execution_count": 77,
   "id": "fe327fd2-bde9-4715-bbbf-2933a425ae10",
   "metadata": {},
   "outputs": [
    {
     "data": {
      "text/plain": [
       "1470    3.211847\n",
       "2763   -3.694285\n",
       "3178   -3.007413\n",
       "3809    3.301367\n",
       "3833   -3.432215\n",
       "Name: X0, dtype: float64"
      ]
     },
     "execution_count": 77,
     "metadata": {},
     "output_type": "execute_result"
    }
   ],
   "source": [
    "df.loc[zfilterX0, \"X0\"].head()"
   ]
  },
  {
   "cell_type": "code",
   "execution_count": 78,
   "id": "54248369-5a19-4ca7-8eae-9e8ebfcee906",
   "metadata": {},
   "outputs": [],
   "source": [
    "zfilter_df = np.abs(df - df.mean()) > (3 * df.std())"
   ]
  },
  {
   "cell_type": "code",
   "execution_count": 79,
   "id": "b227bb1a-5b51-4414-8a9a-08dd336c810c",
   "metadata": {},
   "outputs": [
    {
     "data": {
      "text/html": [
       "<div>\n",
       "<style scoped>\n",
       "    .dataframe tbody tr th:only-of-type {\n",
       "        vertical-align: middle;\n",
       "    }\n",
       "\n",
       "    .dataframe tbody tr th {\n",
       "        vertical-align: top;\n",
       "    }\n",
       "\n",
       "    .dataframe thead th {\n",
       "        text-align: right;\n",
       "    }\n",
       "</style>\n",
       "<table border=\"1\" class=\"dataframe\">\n",
       "  <thead>\n",
       "    <tr style=\"text-align: right;\">\n",
       "      <th></th>\n",
       "      <th>X0</th>\n",
       "      <th>X1</th>\n",
       "      <th>X2</th>\n",
       "      <th>X3</th>\n",
       "      <th>X4</th>\n",
       "      <th>X5</th>\n",
       "    </tr>\n",
       "  </thead>\n",
       "  <tbody>\n",
       "    <tr>\n",
       "      <th>0</th>\n",
       "      <td>False</td>\n",
       "      <td>False</td>\n",
       "      <td>False</td>\n",
       "      <td>False</td>\n",
       "      <td>False</td>\n",
       "      <td>False</td>\n",
       "    </tr>\n",
       "    <tr>\n",
       "      <th>1</th>\n",
       "      <td>False</td>\n",
       "      <td>False</td>\n",
       "      <td>False</td>\n",
       "      <td>False</td>\n",
       "      <td>False</td>\n",
       "      <td>False</td>\n",
       "    </tr>\n",
       "    <tr>\n",
       "      <th>2</th>\n",
       "      <td>False</td>\n",
       "      <td>False</td>\n",
       "      <td>False</td>\n",
       "      <td>False</td>\n",
       "      <td>False</td>\n",
       "      <td>False</td>\n",
       "    </tr>\n",
       "    <tr>\n",
       "      <th>3</th>\n",
       "      <td>False</td>\n",
       "      <td>False</td>\n",
       "      <td>False</td>\n",
       "      <td>False</td>\n",
       "      <td>False</td>\n",
       "      <td>False</td>\n",
       "    </tr>\n",
       "    <tr>\n",
       "      <th>4</th>\n",
       "      <td>False</td>\n",
       "      <td>False</td>\n",
       "      <td>False</td>\n",
       "      <td>False</td>\n",
       "      <td>False</td>\n",
       "      <td>False</td>\n",
       "    </tr>\n",
       "  </tbody>\n",
       "</table>\n",
       "</div>"
      ],
      "text/plain": [
       "      X0     X1     X2     X3     X4     X5\n",
       "0  False  False  False  False  False  False\n",
       "1  False  False  False  False  False  False\n",
       "2  False  False  False  False  False  False\n",
       "3  False  False  False  False  False  False\n",
       "4  False  False  False  False  False  False"
      ]
     },
     "execution_count": 79,
     "metadata": {},
     "output_type": "execute_result"
    }
   ],
   "source": [
    "zfilter_df.head(5)"
   ]
  },
  {
   "cell_type": "code",
   "execution_count": 82,
   "id": "6e7e9d0c-eaec-4970-95e1-3002d68a9aee",
   "metadata": {},
   "outputs": [
    {
     "name": "stdout",
     "output_type": "stream",
     "text": [
      "Both approaches are equivalent: True\n"
     ]
    }
   ],
   "source": [
    "zscores_df = (df - df.mean()) / (df.std())\n",
    "zfilter_df2 = np.abs(zscores_df) > 3\n",
    "\n",
    "# Check the two zfilters are identical\n",
    "print(\"Both approaches are equivalent:\", zfilter_df.equals(zfilter_df2))"
   ]
  },
  {
   "cell_type": "markdown",
   "id": "bb51857a-86fa-49b0-a9dd-d935021ee4f1",
   "metadata": {},
   "source": [
    "### Filter outliers of single features"
   ]
  },
  {
   "cell_type": "code",
   "execution_count": 83,
   "id": "84e1ffbd-9711-44ef-aab6-85bcb1b1a73a",
   "metadata": {},
   "outputs": [
    {
     "name": "stdout",
     "output_type": "stream",
     "text": [
      "Number of outliers detected per feature using z-scores:\n",
      "X0     255\n",
      "X1     290\n",
      "X2     272\n",
      "X3     271\n",
      "X4     100\n",
      "X5    1858\n",
      "dtype: int64\n",
      "Total number of outliers detected: 3046\n"
     ]
    }
   ],
   "source": [
    "print(\"Number of outliers detected per feature using z-scores:\")\n",
    "print(zfilter_df.sum(axis=0))\n",
    "print(\"Total number of outliers detected:\", zfilter_df.sum(axis=0).sum())"
   ]
  },
  {
   "cell_type": "markdown",
   "id": "e51e243a-6da1-4b45-bce2-54ea952f2e0c",
   "metadata": {},
   "source": [
    "You may remember that roughly 99.73% of the values of a normal distribution lie within the (μ−3σ,μ+3σ) interval, which means that roughly 0.27% lie outside of it. And indeed, for the features X0 to X3, we get around 270 outliers."
   ]
  },
  {
   "cell_type": "markdown",
   "id": "771f2991-c3db-4bdb-bf21-bb3e3428b9b2",
   "metadata": {},
   "source": [
    "### Filtering outliers using all features"
   ]
  },
  {
   "cell_type": "code",
   "execution_count": 84,
   "id": "2b45e13e-5347-4140-9b1d-469ef832fde3",
   "metadata": {},
   "outputs": [
    {
     "data": {
      "text/plain": [
       "0    False\n",
       "1    False\n",
       "2    False\n",
       "3    False\n",
       "4    False\n",
       "dtype: bool"
      ]
     },
     "execution_count": 84,
     "metadata": {},
     "output_type": "execute_result"
    }
   ],
   "source": [
    "zfilter_any = zfilter_df.any(axis=1)\n",
    "zfilter_any.head()"
   ]
  },
  {
   "cell_type": "code",
   "execution_count": 85,
   "id": "a67587a4-8106-47dc-a3d9-7768ca7d1223",
   "metadata": {},
   "outputs": [
    {
     "data": {
      "text/plain": [
       "(3018, 6)"
      ]
     },
     "execution_count": 85,
     "metadata": {},
     "output_type": "execute_result"
    }
   ],
   "source": [
    "outliers = df.loc[zfilter_any, :]\n",
    "outliers.shape"
   ]
  },
  {
   "cell_type": "markdown",
   "id": "90184826-fc23-4ed1-a2f6-b9afd1d3b2f9",
   "metadata": {},
   "source": [
    "Note that we got fewer outliers than the 3046 we calculated earlier. This is due to the fact that some samples were flagged as outliers in more than 1 column.\n",
    "\n",
    "We can now define a new DataFrame where the rows with outliers are dropped:"
   ]
  },
  {
   "cell_type": "code",
   "execution_count": 87,
   "id": "ef1c2a55-7a04-4e2e-a4c4-5920ef9c8f7b",
   "metadata": {},
   "outputs": [],
   "source": [
    "df_wo = df.drop(outliers.index, axis=0)"
   ]
  },
  {
   "cell_type": "markdown",
   "id": "35de440c-989b-49cf-8b63-7b5747e3cc51",
   "metadata": {},
   "source": [
    "### using the interquartile range to identify outlier candidates\n",
    "Two advantages of boxplots are that they are based on robust statistics (quartiles and the IQR) and that they highlight outlier candidates in the plot. Let’s take a look at the plots again."
   ]
  },
  {
   "cell_type": "code",
   "execution_count": 90,
   "id": "1aec8806-2208-4b89-8946-b2c045a8599e",
   "metadata": {},
   "outputs": [
    {
     "data": {
      "image/png": "[encoded data removed]",
      "text/plain": [
       "<Figure size 1500x600 with 6 Axes>"
      ]
     },
     "metadata": {},
     "output_type": "display_data"
    }
   ],
   "source": [
    "fig, axes = plt.subplots(\n",
    "    2, 3, gridspec_kw={\"height_ratios\": (0.7, 0.3)}, figsize=(15, 6)\n",
    ")\n",
    "\n",
    "for (feat, plot_col) in zip(\n",
    "    [\"X0\", \"X4\", \"X5\"], [0, 1, 2]  # pairing feature with column in plot\n",
    "):\n",
    "    axes[0, plot_col].hist(df[feat], bins=50)\n",
    "    axes[0, plot_col].set_title(\"Histogram and boxplot for {}\".format(feat))\n",
    "    sns.despine(ax=axes[0, plot_col])\n",
    "    sns.boxplot(data=df[feat], orient=\"h\", ax=axes[1, plot_col], fliersize=2)\n",
    "    axes[1, plot_col].set(yticks=[])\n",
    "    sns.despine(ax=axes[1, plot_col], left=True)\n",
    "\n",
    "for ax in axes.flatten():\n",
    "    ax.set_xlabel(\"\")\n",
    "\n",
    "plt.show()"
   ]
  },
  {
   "cell_type": "code",
   "execution_count": 91,
   "id": "6fcf962d-d728-48d1-ac95-6a8dd857da3d",
   "metadata": {},
   "outputs": [
    {
     "name": "stdout",
     "output_type": "stream",
     "text": [
      "Lower bound: -2.7087, upper bound: 2.7040\n"
     ]
    }
   ],
   "source": [
    "Q1 = np.percentile(df, 25, axis=0)\n",
    "Q3 = np.percentile(df, 75, axis=0)\n",
    "IQR = Q3 - Q1\n",
    "lower_bound = Q1 - 1.5 * IQR\n",
    "upper_bound = Q3 + 1.5 * IQR\n",
    "\n",
    "# Print lower and upper bound for X0\n",
    "print(\"Lower bound: {:.4f}, upper bound: {:.4f}\".format(lower_bound[0], upper_bound[0]))"
   ]
  },
  {
   "cell_type": "code",
   "execution_count": 92,
   "id": "acb40a59-0d01-4314-9c32-ec09b3df67c0",
   "metadata": {},
   "outputs": [
    {
     "name": "stdout",
     "output_type": "stream",
     "text": [
      "Number of outliers detected per feature using a boxplot:\n",
      "X0     648\n",
      "X1     757\n",
      "X2     679\n",
      "X3     687\n",
      "X4     818\n",
      "X5    4742\n",
      "dtype: int64\n",
      "Total number of outliers detected: 8331\n"
     ]
    }
   ],
   "source": [
    "boxplot_filter = (df < lower_bound) | (df > upper_bound)\n",
    "print(\"Number of outliers detected per feature using a boxplot:\")\n",
    "print(boxplot_filter.sum(axis=0))\n",
    "print(\"Total number of outliers detected:\", boxplot_filter.sum(axis=0).sum())"
   ]
  },
  {
   "cell_type": "markdown",
   "id": "159e2d0b-b464-495b-ae05-77af7c7e0d68",
   "metadata": {},
   "source": [
    "### Problems with outlier detection methods\n"
   ]
  },
  {
   "cell_type": "code",
   "execution_count": 98,
   "id": "c1f5ddf6-c690-4ce4-a22f-84247dbedb99",
   "metadata": {},
   "outputs": [
    {
     "data": {
      "image/png": "[encoded data removed]",
      "text/plain": [
       "<Figure size 600x600 with 1 Axes>"
      ]
     },
     "metadata": {},
     "output_type": "display_data"
    }
   ],
   "source": [
    "fig = plt.figure(figsize=(6, 6))\n",
    "# Mark square corresponding to zone 3 std from the means of X0 and X1\n",
    "rectangle = plt.Rectangle((-3, -3), 6, 6, fc=\"lightblue\", ec=\"blue\", alpha=0.5)\n",
    "plt.gca().add_patch(rectangle)\n",
    "\n",
    "# Add circular outline\n",
    "circle = plt.Circle((0, 0), 3.3, ec=\"blue\", linestyle=\"--\", alpha=0.5, fill=False)\n",
    "plt.gca().add_patch(circle)\n",
    "\n",
    "# Plot z_scores of features X0 and X1\n",
    "plt.scatter(x=zscores_df[\"X0\"], y=zscores_df[\"X1\"], s=2)\n",
    "\n",
    "# Identify and plot z-score outliers in features X0 and X1\n",
    "df_out = zscores_df[(np.abs(zscores_df.loc[:, \"X0\":\"X1\"]) > 3).sum(axis=1) > 0].loc[\n",
    "    :, \"X0\":\"X1\"\n",
    "]\n",
    "\n",
    "plt.scatter(x=df_out[\"X0\"], y=df_out[\"X1\"], s=3, c=\"orange\")\n",
    "plt.xlabel(\"Feature X0\")\n",
    "plt.ylabel(\"Feature X1\")\n",
    "plt.show()"
   ]
  },
  {
   "cell_type": "markdown",
   "id": "cc91d9bc-733b-473f-9249-8c0cff694928",
   "metadata": {},
   "source": [
    "### In summary\n",
    "An important part of data science projects is to check for outliers as these samples can affect our analytical results and our machine learning models. However, outlier detection methods only flag outlier candidates. It is our decision on how to handle these points based on further analysis.\n",
    "\n",
    "Some important first steps are visualizations and descriptive statistics. In this unit, we demonstrated how to identify and remove outlier candidates using visual inspection, z-scores, and boxplots. We also highlighted scenarios where these methods should be used with care or should be adjusted."
   ]
  },
  {
   "cell_type": "markdown",
   "id": "2e1ade94-5505-47e6-8e75-160891afa066",
   "metadata": {},
   "source": [
    "# Exercice: multiple filtering\n",
    "\n",
    "Complete the following tasks :\n",
    "\n",
    "1. Import the dataset as a pandas DataFrame.\n",
    "2. Find the names of all the movies whose length is at least 180min.\n",
    "3. Using multiple filtering, find the names of all the movies whose length is at least 180min, or whose vote average is at least 8.0. (Hint: use the logical operator | )\n",
    "4. Using multiple filtering find the names of all the movies whose length is at least 180min, and whose vote average is at least 8.0. (Hint: use the logical operator & )\n",
    "5. Using multiple filtering, find the names of all the movies whose length is at least 180min, and whose vote average is at least 8.0 and whose original language is not English. (Hint: use the logical operator & twice )\n"
   ]
  },
  {
   "cell_type": "code",
   "execution_count": 4,
   "id": "f52959ac-534c-4034-92bc-a2849c44e438",
   "metadata": {},
   "outputs": [],
   "source": [
    "import pandas as pd\n",
    "import numpy as np"
   ]
  },
  {
   "cell_type": "markdown",
   "id": "0f54c946-b8c1-42c5-a58f-f6cce1d9d18a",
   "metadata": {},
   "source": [
    "## Import the dataset :"
   ]
  },
  {
   "cell_type": "code",
   "execution_count": 5,
   "id": "b8fdcfa7-7c96-4bc4-9143-91074345a076",
   "metadata": {},
   "outputs": [],
   "source": [
    "df = pd.read_csv(\"Ressources/c2_tmdb_5000_movies.csv\")"
   ]
  },
  {
   "cell_type": "markdown",
   "id": "3c59886d-d011-4285-a4f3-f381cf00d59b",
   "metadata": {},
   "source": [
    "## Find the names of all movies whose length is at least 180 min"
   ]
  },
  {
   "cell_type": "code",
   "execution_count": 19,
   "id": "28fd5750-af15-498e-9f84-b7e980cfd4ae",
   "metadata": {},
   "outputs": [
    {
     "data": {
      "text/html": [
       "<div>\n",
       "<style scoped>\n",
       "    .dataframe tbody tr th:only-of-type {\n",
       "        vertical-align: middle;\n",
       "    }\n",
       "\n",
       "    .dataframe tbody tr th {\n",
       "        vertical-align: top;\n",
       "    }\n",
       "\n",
       "    .dataframe thead th {\n",
       "        text-align: right;\n",
       "    }\n",
       "</style>\n",
       "<table border=\"1\" class=\"dataframe\">\n",
       "  <thead>\n",
       "    <tr style=\"text-align: right;\">\n",
       "      <th></th>\n",
       "      <th>original_title</th>\n",
       "      <th>runtime</th>\n",
       "    </tr>\n",
       "  </thead>\n",
       "  <tbody>\n",
       "    <tr>\n",
       "      <th>24</th>\n",
       "      <td>King Kong</td>\n",
       "      <td>187.0</td>\n",
       "    </tr>\n",
       "    <tr>\n",
       "      <th>25</th>\n",
       "      <td>Titanic</td>\n",
       "      <td>194.0</td>\n",
       "    </tr>\n",
       "    <tr>\n",
       "      <th>110</th>\n",
       "      <td>Pearl Harbor</td>\n",
       "      <td>183.0</td>\n",
       "    </tr>\n",
       "    <tr>\n",
       "      <th>298</th>\n",
       "      <td>The Wolf of Wall Street</td>\n",
       "      <td>180.0</td>\n",
       "    </tr>\n",
       "    <tr>\n",
       "      <th>329</th>\n",
       "      <td>The Lord of the Rings: The Return of the King</td>\n",
       "      <td>201.0</td>\n",
       "    </tr>\n",
       "    <tr>\n",
       "      <th>676</th>\n",
       "      <td>Wyatt Earp</td>\n",
       "      <td>191.0</td>\n",
       "    </tr>\n",
       "    <tr>\n",
       "      <th>690</th>\n",
       "      <td>The Green Mile</td>\n",
       "      <td>189.0</td>\n",
       "    </tr>\n",
       "    <tr>\n",
       "      <th>855</th>\n",
       "      <td>Gods and Generals</td>\n",
       "      <td>214.0</td>\n",
       "    </tr>\n",
       "    <tr>\n",
       "      <th>880</th>\n",
       "      <td>Grindhouse</td>\n",
       "      <td>191.0</td>\n",
       "    </tr>\n",
       "    <tr>\n",
       "      <th>1091</th>\n",
       "      <td>Nixon</td>\n",
       "      <td>192.0</td>\n",
       "    </tr>\n",
       "    <tr>\n",
       "      <th>1109</th>\n",
       "      <td>Heaven's Gate</td>\n",
       "      <td>219.0</td>\n",
       "    </tr>\n",
       "    <tr>\n",
       "      <th>1125</th>\n",
       "      <td>Cleopatra</td>\n",
       "      <td>248.0</td>\n",
       "    </tr>\n",
       "    <tr>\n",
       "      <th>1181</th>\n",
       "      <td>JFK</td>\n",
       "      <td>189.0</td>\n",
       "    </tr>\n",
       "    <tr>\n",
       "      <th>1333</th>\n",
       "      <td>Magnolia</td>\n",
       "      <td>188.0</td>\n",
       "    </tr>\n",
       "    <tr>\n",
       "      <th>1387</th>\n",
       "      <td>Malcolm X</td>\n",
       "      <td>202.0</td>\n",
       "    </tr>\n",
       "    <tr>\n",
       "      <th>1456</th>\n",
       "      <td>Bound by Honor</td>\n",
       "      <td>180.0</td>\n",
       "    </tr>\n",
       "    <tr>\n",
       "      <th>1477</th>\n",
       "      <td>Reds</td>\n",
       "      <td>195.0</td>\n",
       "    </tr>\n",
       "    <tr>\n",
       "      <th>1663</th>\n",
       "      <td>Once Upon a Time in America</td>\n",
       "      <td>229.0</td>\n",
       "    </tr>\n",
       "    <tr>\n",
       "      <th>1759</th>\n",
       "      <td>The Right Stuff</td>\n",
       "      <td>193.0</td>\n",
       "    </tr>\n",
       "    <tr>\n",
       "      <th>1818</th>\n",
       "      <td>Schindler's List</td>\n",
       "      <td>195.0</td>\n",
       "    </tr>\n",
       "    <tr>\n",
       "      <th>1922</th>\n",
       "      <td>Gettysburg</td>\n",
       "      <td>254.0</td>\n",
       "    </tr>\n",
       "    <tr>\n",
       "      <th>2024</th>\n",
       "      <td>Gandhi</td>\n",
       "      <td>191.0</td>\n",
       "    </tr>\n",
       "    <tr>\n",
       "      <th>2192</th>\n",
       "      <td>The Greatest Story Ever Told</td>\n",
       "      <td>199.0</td>\n",
       "    </tr>\n",
       "    <tr>\n",
       "      <th>2278</th>\n",
       "      <td>Dances with Wolves</td>\n",
       "      <td>181.0</td>\n",
       "    </tr>\n",
       "    <tr>\n",
       "      <th>2300</th>\n",
       "      <td>The Fall of the Roman Empire</td>\n",
       "      <td>188.0</td>\n",
       "    </tr>\n",
       "    <tr>\n",
       "      <th>2373</th>\n",
       "      <td>Hamlet</td>\n",
       "      <td>242.0</td>\n",
       "    </tr>\n",
       "    <tr>\n",
       "      <th>2384</th>\n",
       "      <td>Carlos</td>\n",
       "      <td>338.0</td>\n",
       "    </tr>\n",
       "    <tr>\n",
       "      <th>2536</th>\n",
       "      <td>The Deer Hunter</td>\n",
       "      <td>183.0</td>\n",
       "    </tr>\n",
       "    <tr>\n",
       "      <th>2550</th>\n",
       "      <td>Lawrence of Arabia</td>\n",
       "      <td>216.0</td>\n",
       "    </tr>\n",
       "    <tr>\n",
       "      <th>2631</th>\n",
       "      <td>The Company</td>\n",
       "      <td>276.0</td>\n",
       "    </tr>\n",
       "    <tr>\n",
       "      <th>2731</th>\n",
       "      <td>The Godfather: Part II</td>\n",
       "      <td>200.0</td>\n",
       "    </tr>\n",
       "    <tr>\n",
       "      <th>2914</th>\n",
       "      <td>Doctor Zhivago</td>\n",
       "      <td>197.0</td>\n",
       "    </tr>\n",
       "    <tr>\n",
       "      <th>2936</th>\n",
       "      <td>Barry Lyndon</td>\n",
       "      <td>184.0</td>\n",
       "    </tr>\n",
       "    <tr>\n",
       "      <th>2962</th>\n",
       "      <td>कभी अलविदा ना कहना</td>\n",
       "      <td>193.0</td>\n",
       "    </tr>\n",
       "    <tr>\n",
       "      <th>3161</th>\n",
       "      <td>Fiddler on the Roof</td>\n",
       "      <td>181.0</td>\n",
       "    </tr>\n",
       "    <tr>\n",
       "      <th>3191</th>\n",
       "      <td>สุริโยไท</td>\n",
       "      <td>185.0</td>\n",
       "    </tr>\n",
       "    <tr>\n",
       "      <th>3285</th>\n",
       "      <td>Restless</td>\n",
       "      <td>180.0</td>\n",
       "    </tr>\n",
       "    <tr>\n",
       "      <th>3374</th>\n",
       "      <td>Veer-Zaara</td>\n",
       "      <td>192.0</td>\n",
       "    </tr>\n",
       "    <tr>\n",
       "      <th>3510</th>\n",
       "      <td>Emma</td>\n",
       "      <td>240.0</td>\n",
       "    </tr>\n",
       "    <tr>\n",
       "      <th>3723</th>\n",
       "      <td>Anne of Green Gables</td>\n",
       "      <td>199.0</td>\n",
       "    </tr>\n",
       "    <tr>\n",
       "      <th>3813</th>\n",
       "      <td>Gone with the Wind</td>\n",
       "      <td>238.0</td>\n",
       "    </tr>\n",
       "    <tr>\n",
       "      <th>3852</th>\n",
       "      <td>The Secret</td>\n",
       "      <td>200.0</td>\n",
       "    </tr>\n",
       "    <tr>\n",
       "      <th>3914</th>\n",
       "      <td>Judgment at Nuremberg</td>\n",
       "      <td>186.0</td>\n",
       "    </tr>\n",
       "    <tr>\n",
       "      <th>4389</th>\n",
       "      <td>Chocolate: Deep Dark Secrets</td>\n",
       "      <td>200.0</td>\n",
       "    </tr>\n",
       "    <tr>\n",
       "      <th>4497</th>\n",
       "      <td>Woodstock</td>\n",
       "      <td>225.0</td>\n",
       "    </tr>\n",
       "    <tr>\n",
       "      <th>4535</th>\n",
       "      <td>七人の侍</td>\n",
       "      <td>207.0</td>\n",
       "    </tr>\n",
       "    <tr>\n",
       "      <th>4592</th>\n",
       "      <td>Intolerance</td>\n",
       "      <td>197.0</td>\n",
       "    </tr>\n",
       "  </tbody>\n",
       "</table>\n",
       "</div>"
      ],
      "text/plain": [
       "                                     original_title  runtime\n",
       "24                                        King Kong    187.0\n",
       "25                                          Titanic    194.0\n",
       "110                                    Pearl Harbor    183.0\n",
       "298                         The Wolf of Wall Street    180.0\n",
       "329   The Lord of the Rings: The Return of the King    201.0\n",
       "676                                      Wyatt Earp    191.0\n",
       "690                                  The Green Mile    189.0\n",
       "855                               Gods and Generals    214.0\n",
       "880                                      Grindhouse    191.0\n",
       "1091                                          Nixon    192.0\n",
       "1109                                  Heaven's Gate    219.0\n",
       "1125                                      Cleopatra    248.0\n",
       "1181                                            JFK    189.0\n",
       "1333                                       Magnolia    188.0\n",
       "1387                                      Malcolm X    202.0\n",
       "1456                                 Bound by Honor    180.0\n",
       "1477                                           Reds    195.0\n",
       "1663                    Once Upon a Time in America    229.0\n",
       "1759                                The Right Stuff    193.0\n",
       "1818                               Schindler's List    195.0\n",
       "1922                                     Gettysburg    254.0\n",
       "2024                                         Gandhi    191.0\n",
       "2192                   The Greatest Story Ever Told    199.0\n",
       "2278                             Dances with Wolves    181.0\n",
       "2300                   The Fall of the Roman Empire    188.0\n",
       "2373                                         Hamlet    242.0\n",
       "2384                                         Carlos    338.0\n",
       "2536                                The Deer Hunter    183.0\n",
       "2550                             Lawrence of Arabia    216.0\n",
       "2631                                    The Company    276.0\n",
       "2731                         The Godfather: Part II    200.0\n",
       "2914                                 Doctor Zhivago    197.0\n",
       "2936                                   Barry Lyndon    184.0\n",
       "2962                             कभी अलविदा ना कहना    193.0\n",
       "3161                            Fiddler on the Roof    181.0\n",
       "3191                                       สุริโยไท    185.0\n",
       "3285                                       Restless    180.0\n",
       "3374                                     Veer-Zaara    192.0\n",
       "3510                                           Emma    240.0\n",
       "3723                           Anne of Green Gables    199.0\n",
       "3813                             Gone with the Wind    238.0\n",
       "3852                                     The Secret    200.0\n",
       "3914                          Judgment at Nuremberg    186.0\n",
       "4389                   Chocolate: Deep Dark Secrets    200.0\n",
       "4497                                      Woodstock    225.0\n",
       "4535                                           七人の侍    207.0\n",
       "4592                                    Intolerance    197.0"
      ]
     },
     "execution_count": 19,
     "metadata": {},
     "output_type": "execute_result"
    }
   ],
   "source": [
    "df[df['runtime'] >= 180][['original_title','runtime']]"
   ]
  },
  {
   "cell_type": "markdown",
   "id": "146f9640-cb61-48df-9c07-2205aa87ed21",
   "metadata": {},
   "source": [
    "## Find the names of movies with length > 180 min **or** whose vote is > to 8 :"
   ]
  },
  {
   "cell_type": "code",
   "execution_count": 12,
   "id": "c9f3dfda-de57-4ff0-bb7e-df6abb72eba5",
   "metadata": {},
   "outputs": [
    {
     "data": {
      "text/html": [
       "<div>\n",
       "<style scoped>\n",
       "    .dataframe tbody tr th:only-of-type {\n",
       "        vertical-align: middle;\n",
       "    }\n",
       "\n",
       "    .dataframe tbody tr th {\n",
       "        vertical-align: top;\n",
       "    }\n",
       "\n",
       "    .dataframe thead th {\n",
       "        text-align: right;\n",
       "    }\n",
       "</style>\n",
       "<table border=\"1\" class=\"dataframe\">\n",
       "  <thead>\n",
       "    <tr style=\"text-align: right;\">\n",
       "      <th></th>\n",
       "      <th>original_title</th>\n",
       "      <th>runtime</th>\n",
       "      <th>vote_average</th>\n",
       "    </tr>\n",
       "  </thead>\n",
       "  <tbody>\n",
       "    <tr>\n",
       "      <th>24</th>\n",
       "      <td>King Kong</td>\n",
       "      <td>187.0</td>\n",
       "      <td>6.6</td>\n",
       "    </tr>\n",
       "    <tr>\n",
       "      <th>25</th>\n",
       "      <td>Titanic</td>\n",
       "      <td>194.0</td>\n",
       "      <td>7.5</td>\n",
       "    </tr>\n",
       "    <tr>\n",
       "      <th>65</th>\n",
       "      <td>The Dark Knight</td>\n",
       "      <td>152.0</td>\n",
       "      <td>8.2</td>\n",
       "    </tr>\n",
       "    <tr>\n",
       "      <th>95</th>\n",
       "      <td>Interstellar</td>\n",
       "      <td>169.0</td>\n",
       "      <td>8.1</td>\n",
       "    </tr>\n",
       "    <tr>\n",
       "      <th>96</th>\n",
       "      <td>Inception</td>\n",
       "      <td>148.0</td>\n",
       "      <td>8.1</td>\n",
       "    </tr>\n",
       "    <tr>\n",
       "      <th>...</th>\n",
       "      <td>...</td>\n",
       "      <td>...</td>\n",
       "      <td>...</td>\n",
       "    </tr>\n",
       "    <tr>\n",
       "      <th>4535</th>\n",
       "      <td>七人の侍</td>\n",
       "      <td>207.0</td>\n",
       "      <td>8.2</td>\n",
       "    </tr>\n",
       "    <tr>\n",
       "      <th>4592</th>\n",
       "      <td>Intolerance</td>\n",
       "      <td>197.0</td>\n",
       "      <td>7.4</td>\n",
       "    </tr>\n",
       "    <tr>\n",
       "      <th>4602</th>\n",
       "      <td>12 Angry Men</td>\n",
       "      <td>96.0</td>\n",
       "      <td>8.2</td>\n",
       "    </tr>\n",
       "    <tr>\n",
       "      <th>4662</th>\n",
       "      <td>Little Big Top</td>\n",
       "      <td>0.0</td>\n",
       "      <td>10.0</td>\n",
       "    </tr>\n",
       "    <tr>\n",
       "      <th>4755</th>\n",
       "      <td>Counting</td>\n",
       "      <td>111.0</td>\n",
       "      <td>8.3</td>\n",
       "    </tr>\n",
       "  </tbody>\n",
       "</table>\n",
       "<p>87 rows × 3 columns</p>\n",
       "</div>"
      ],
      "text/plain": [
       "       original_title  runtime  vote_average\n",
       "24          King Kong    187.0           6.6\n",
       "25            Titanic    194.0           7.5\n",
       "65    The Dark Knight    152.0           8.2\n",
       "95       Interstellar    169.0           8.1\n",
       "96          Inception    148.0           8.1\n",
       "...               ...      ...           ...\n",
       "4535             七人の侍    207.0           8.2\n",
       "4592      Intolerance    197.0           7.4\n",
       "4602     12 Angry Men     96.0           8.2\n",
       "4662   Little Big Top      0.0          10.0\n",
       "4755         Counting    111.0           8.3\n",
       "\n",
       "[87 rows x 3 columns]"
      ]
     },
     "execution_count": 12,
     "metadata": {},
     "output_type": "execute_result"
    }
   ],
   "source": [
    "df.loc[(df['runtime'] > 180) | (df['vote_average'] > 8)][['original_title','runtime','vote_average']]"
   ]
  },
  {
   "cell_type": "markdown",
   "id": "0d0e263c-dc0d-4ac4-b96f-7e66d5020b38",
   "metadata": {},
   "source": [
    "## Find the names of movies with length > 180 min **and** whose vote is > to 8 :"
   ]
  },
  {
   "cell_type": "code",
   "execution_count": 13,
   "id": "41a0debe-08a2-4a93-bd4c-d820dfe1559b",
   "metadata": {},
   "outputs": [
    {
     "data": {
      "text/html": [
       "<div>\n",
       "<style scoped>\n",
       "    .dataframe tbody tr th:only-of-type {\n",
       "        vertical-align: middle;\n",
       "    }\n",
       "\n",
       "    .dataframe tbody tr th {\n",
       "        vertical-align: top;\n",
       "    }\n",
       "\n",
       "    .dataframe thead th {\n",
       "        text-align: right;\n",
       "    }\n",
       "</style>\n",
       "<table border=\"1\" class=\"dataframe\">\n",
       "  <thead>\n",
       "    <tr style=\"text-align: right;\">\n",
       "      <th></th>\n",
       "      <th>original_title</th>\n",
       "      <th>runtime</th>\n",
       "      <th>vote_average</th>\n",
       "    </tr>\n",
       "  </thead>\n",
       "  <tbody>\n",
       "    <tr>\n",
       "      <th>329</th>\n",
       "      <td>The Lord of the Rings: The Return of the King</td>\n",
       "      <td>201.0</td>\n",
       "      <td>8.1</td>\n",
       "    </tr>\n",
       "    <tr>\n",
       "      <th>690</th>\n",
       "      <td>The Green Mile</td>\n",
       "      <td>189.0</td>\n",
       "      <td>8.2</td>\n",
       "    </tr>\n",
       "    <tr>\n",
       "      <th>1663</th>\n",
       "      <td>Once Upon a Time in America</td>\n",
       "      <td>229.0</td>\n",
       "      <td>8.2</td>\n",
       "    </tr>\n",
       "    <tr>\n",
       "      <th>1818</th>\n",
       "      <td>Schindler's List</td>\n",
       "      <td>195.0</td>\n",
       "      <td>8.3</td>\n",
       "    </tr>\n",
       "    <tr>\n",
       "      <th>2731</th>\n",
       "      <td>The Godfather: Part II</td>\n",
       "      <td>200.0</td>\n",
       "      <td>8.3</td>\n",
       "    </tr>\n",
       "    <tr>\n",
       "      <th>3723</th>\n",
       "      <td>Anne of Green Gables</td>\n",
       "      <td>199.0</td>\n",
       "      <td>8.2</td>\n",
       "    </tr>\n",
       "    <tr>\n",
       "      <th>4535</th>\n",
       "      <td>七人の侍</td>\n",
       "      <td>207.0</td>\n",
       "      <td>8.2</td>\n",
       "    </tr>\n",
       "  </tbody>\n",
       "</table>\n",
       "</div>"
      ],
      "text/plain": [
       "                                     original_title  runtime  vote_average\n",
       "329   The Lord of the Rings: The Return of the King    201.0           8.1\n",
       "690                                  The Green Mile    189.0           8.2\n",
       "1663                    Once Upon a Time in America    229.0           8.2\n",
       "1818                               Schindler's List    195.0           8.3\n",
       "2731                         The Godfather: Part II    200.0           8.3\n",
       "3723                           Anne of Green Gables    199.0           8.2\n",
       "4535                                           七人の侍    207.0           8.2"
      ]
     },
     "execution_count": 13,
     "metadata": {},
     "output_type": "execute_result"
    }
   ],
   "source": [
    "df.loc[(df['runtime'] > 180) & (df['vote_average'] > 8)][['original_title','runtime','vote_average']]"
   ]
  },
  {
   "cell_type": "markdown",
   "id": "7cdaef46-80de-4df9-a280-314a6361977f",
   "metadata": {},
   "source": [
    "## Find the names of movies with length > 180 min **and** whose vote is > to 8 **and** original languague is not English :"
   ]
  },
  {
   "cell_type": "code",
   "execution_count": 18,
   "id": "516fc738-c343-4f17-8d3d-499c97be35fb",
   "metadata": {},
   "outputs": [
    {
     "data": {
      "text/html": [
       "<div>\n",
       "<style scoped>\n",
       "    .dataframe tbody tr th:only-of-type {\n",
       "        vertical-align: middle;\n",
       "    }\n",
       "\n",
       "    .dataframe tbody tr th {\n",
       "        vertical-align: top;\n",
       "    }\n",
       "\n",
       "    .dataframe thead th {\n",
       "        text-align: right;\n",
       "    }\n",
       "</style>\n",
       "<table border=\"1\" class=\"dataframe\">\n",
       "  <thead>\n",
       "    <tr style=\"text-align: right;\">\n",
       "      <th></th>\n",
       "      <th>original_title</th>\n",
       "      <th>runtime</th>\n",
       "      <th>vote_average</th>\n",
       "      <th>original_language</th>\n",
       "    </tr>\n",
       "  </thead>\n",
       "  <tbody>\n",
       "    <tr>\n",
       "      <th>4535</th>\n",
       "      <td>七人の侍</td>\n",
       "      <td>207.0</td>\n",
       "      <td>8.2</td>\n",
       "      <td>ja</td>\n",
       "    </tr>\n",
       "  </tbody>\n",
       "</table>\n",
       "</div>"
      ],
      "text/plain": [
       "     original_title  runtime  vote_average original_language\n",
       "4535           七人の侍    207.0           8.2                ja"
      ]
     },
     "execution_count": 18,
     "metadata": {},
     "output_type": "execute_result"
    }
   ],
   "source": [
    "df.loc[(df['runtime'] > 180) & (df['vote_average'] > 8) & (df['original_language'] != \"en\")][['original_title','runtime','vote_average','original_language']]"
   ]
  },
  {
   "cell_type": "code",
   "execution_count": null,
   "id": "f323bf34-c980-4b2e-839a-34a8107c996a",
   "metadata": {},
   "outputs": [],
   "source": [
    "# Correction 1: \n",
    "df[df.runtime>=180].title"
   ]
  },
  {
   "cell_type": "code",
   "execution_count": null,
   "id": "7ac83661-223f-4bdb-b8cd-fd8b6a9f2b77",
   "metadata": {},
   "outputs": [],
   "source": [
    "# Correction 2:\n",
    "df[(df.runtime>=180) | (df.vote_average>=8.0)].title\n",
    "# ..."
   ]
  },
  {
   "cell_type": "markdown",
   "id": "cc0ff73d-51b9-4906-a8b1-e305442f86ae",
   "metadata": {},
   "source": [
    "# Transforming the data \n",
    "\n",
    "Another important part of data cleaning involves transforming the data. It could be that the original formatting of the data is inconsistent. "
   ]
  },
  {
   "cell_type": "code",
   "execution_count": 2,
   "id": "4f86bd87-2dc0-4906-bd4c-e9a466ecd96c",
   "metadata": {},
   "outputs": [],
   "source": [
    "import pandas as pd\n",
    "import numpy as np"
   ]
  },
  {
   "cell_type": "code",
   "execution_count": 3,
   "id": "2ea45663-0859-4d06-a093-69026153c6e0",
   "metadata": {},
   "outputs": [],
   "source": [
    "data = {\n",
    "    \"class\": [1, 1, 1, 2, 2],\n",
    "    \"score\": [10, 21, 35, 11, 26],\n",
    "    \"result\": [0, 1, 0, 1, 0],\n",
    "    \"performance\": [\"strong\", \"weak\", \"normal\", \"weak\", \"strong\"],\n",
    "}\n",
    "df = pd.DataFrame(data)"
   ]
  },
  {
   "cell_type": "code",
   "execution_count": 4,
   "id": "438c142a-a2ea-4916-b31f-e5db8ee6817e",
   "metadata": {},
   "outputs": [
    {
     "name": "stdout",
     "output_type": "stream",
     "text": [
      "<class 'pandas.core.frame.DataFrame'>\n",
      "RangeIndex: 5 entries, 0 to 4\n",
      "Data columns (total 4 columns):\n",
      " #   Column       Non-Null Count  Dtype \n",
      "---  ------       --------------  ----- \n",
      " 0   class        5 non-null      int64 \n",
      " 1   score        5 non-null      int64 \n",
      " 2   result       5 non-null      int64 \n",
      " 3   performance  5 non-null      object\n",
      "dtypes: int64(3), object(1)\n",
      "memory usage: 288.0+ bytes\n"
     ]
    }
   ],
   "source": [
    "df.info()"
   ]
  },
  {
   "cell_type": "code",
   "execution_count": 5,
   "id": "31790ac9-75b5-4cda-9675-851cc30243a4",
   "metadata": {},
   "outputs": [
    {
     "data": {
      "text/html": [
       "<div>\n",
       "<style scoped>\n",
       "    .dataframe tbody tr th:only-of-type {\n",
       "        vertical-align: middle;\n",
       "    }\n",
       "\n",
       "    .dataframe tbody tr th {\n",
       "        vertical-align: top;\n",
       "    }\n",
       "\n",
       "    .dataframe thead th {\n",
       "        text-align: right;\n",
       "    }\n",
       "</style>\n",
       "<table border=\"1\" class=\"dataframe\">\n",
       "  <thead>\n",
       "    <tr style=\"text-align: right;\">\n",
       "      <th></th>\n",
       "      <th>class</th>\n",
       "      <th>score</th>\n",
       "      <th>result</th>\n",
       "      <th>performance</th>\n",
       "    </tr>\n",
       "  </thead>\n",
       "  <tbody>\n",
       "    <tr>\n",
       "      <th>0</th>\n",
       "      <td>1</td>\n",
       "      <td>10</td>\n",
       "      <td>0</td>\n",
       "      <td>strong</td>\n",
       "    </tr>\n",
       "    <tr>\n",
       "      <th>1</th>\n",
       "      <td>1</td>\n",
       "      <td>21</td>\n",
       "      <td>1</td>\n",
       "      <td>weak</td>\n",
       "    </tr>\n",
       "    <tr>\n",
       "      <th>2</th>\n",
       "      <td>1</td>\n",
       "      <td>35</td>\n",
       "      <td>0</td>\n",
       "      <td>normal</td>\n",
       "    </tr>\n",
       "    <tr>\n",
       "      <th>3</th>\n",
       "      <td>2</td>\n",
       "      <td>11</td>\n",
       "      <td>1</td>\n",
       "      <td>weak</td>\n",
       "    </tr>\n",
       "    <tr>\n",
       "      <th>4</th>\n",
       "      <td>2</td>\n",
       "      <td>26</td>\n",
       "      <td>0</td>\n",
       "      <td>strong</td>\n",
       "    </tr>\n",
       "  </tbody>\n",
       "</table>\n",
       "</div>"
      ],
      "text/plain": [
       "   class  score  result performance\n",
       "0      1     10       0      strong\n",
       "1      1     21       1        weak\n",
       "2      1     35       0      normal\n",
       "3      2     11       1        weak\n",
       "4      2     26       0      strong"
      ]
     },
     "execution_count": 5,
     "metadata": {},
     "output_type": "execute_result"
    }
   ],
   "source": [
    "df"
   ]
  },
  {
   "cell_type": "markdown",
   "id": "965b3c52-83b2-4e8d-82a9-ef4a419b92a6",
   "metadata": {},
   "source": [
    "## Mapping\n",
    "One of the basic tasks in data transformations is mapping of a set of values to another set. Pandas provides us with a special function for doing this called map(). This function is for Series and we can use it to map an existing value of a Series to a different set of values. The general syntax is as follows"
   ]
  },
  {
   "cell_type": "code",
   "execution_count": 6,
   "id": "c4e1ce5c-bc20-4cb7-95ca-6ae9dff046bc",
   "metadata": {},
   "outputs": [
    {
     "data": {
      "text/plain": [
       "0       cat\n",
       "1       dog\n",
       "2       NaN\n",
       "3    rabbit\n",
       "dtype: object"
      ]
     },
     "execution_count": 6,
     "metadata": {},
     "output_type": "execute_result"
    }
   ],
   "source": [
    "#Series.map({a_1:b_1, a_2:b_2, ...}) # course exemple but we didn't have Series variable.\n",
    "s = pd.Series(['cat', 'dog', np.nan, 'rabbit'])\n",
    "s\n"
   ]
  },
  {
   "cell_type": "code",
   "execution_count": 7,
   "id": "f22fb638-593b-452c-8cb1-80856d82f039",
   "metadata": {},
   "outputs": [
    {
     "data": {
      "text/plain": [
       "0    kitten\n",
       "1     puppy\n",
       "2       NaN\n",
       "3       NaN\n",
       "dtype: object"
      ]
     },
     "execution_count": 7,
     "metadata": {},
     "output_type": "execute_result"
    }
   ],
   "source": [
    "s.map({'cat': 'kitten', 'dog': 'puppy'})"
   ]
  },
  {
   "cell_type": "code",
   "execution_count": 10,
   "id": "e587eba4-acf2-401e-9c36-8a05c044f00d",
   "metadata": {},
   "outputs": [
    {
     "data": {
      "text/plain": [
       "0       I am a cat\n",
       "1       I am a dog\n",
       "2              NaN\n",
       "3    I am a rabbit\n",
       "dtype: object"
      ]
     },
     "execution_count": 10,
     "metadata": {},
     "output_type": "execute_result"
    }
   ],
   "source": [
    "s.map('I am a {}'.format, na_action='ignore') #s.map('I am a {}'.format)"
   ]
  },
  {
   "cell_type": "markdown",
   "id": "9abe6fcb-0e48-4eb8-b810-811c58498282",
   "metadata": {},
   "source": [
    "this means that the value a_1 will get mapped to b_1, the value a_2 will get mapped to b_2, and so on. Let’s suppose we want to transform the column result such that \n",
    "0\n",
    " gets mapped to fail and \n",
    "1\n",
    " to pass.\n",
    "\n",
    "We can do this with the map() function as follows:"
   ]
  },
  {
   "cell_type": "code",
   "execution_count": 11,
   "id": "f2810043-9087-480f-b7bd-4ccf27a224e5",
   "metadata": {},
   "outputs": [
    {
     "data": {
      "text/plain": [
       "0    fail\n",
       "1    pass\n",
       "2    fail\n",
       "3    pass\n",
       "4    fail\n",
       "Name: result, dtype: object"
      ]
     },
     "execution_count": 11,
     "metadata": {},
     "output_type": "execute_result"
    }
   ],
   "source": [
    "df.result.map({0: \"fail\", 1: \"pass\"})"
   ]
  },
  {
   "cell_type": "code",
   "execution_count": 13,
   "id": "8bef4851-11ed-4516-9087-1231b694ac29",
   "metadata": {},
   "outputs": [
    {
     "data": {
      "text/html": [
       "<div>\n",
       "<style scoped>\n",
       "    .dataframe tbody tr th:only-of-type {\n",
       "        vertical-align: middle;\n",
       "    }\n",
       "\n",
       "    .dataframe tbody tr th {\n",
       "        vertical-align: top;\n",
       "    }\n",
       "\n",
       "    .dataframe thead th {\n",
       "        text-align: right;\n",
       "    }\n",
       "</style>\n",
       "<table border=\"1\" class=\"dataframe\">\n",
       "  <thead>\n",
       "    <tr style=\"text-align: right;\">\n",
       "      <th></th>\n",
       "      <th>class</th>\n",
       "      <th>score</th>\n",
       "      <th>result</th>\n",
       "      <th>performance</th>\n",
       "      <th>pass or fail</th>\n",
       "    </tr>\n",
       "  </thead>\n",
       "  <tbody>\n",
       "    <tr>\n",
       "      <th>0</th>\n",
       "      <td>1</td>\n",
       "      <td>10</td>\n",
       "      <td>0</td>\n",
       "      <td>strong</td>\n",
       "      <td>fail</td>\n",
       "    </tr>\n",
       "    <tr>\n",
       "      <th>1</th>\n",
       "      <td>1</td>\n",
       "      <td>21</td>\n",
       "      <td>1</td>\n",
       "      <td>weak</td>\n",
       "      <td>pass</td>\n",
       "    </tr>\n",
       "    <tr>\n",
       "      <th>2</th>\n",
       "      <td>1</td>\n",
       "      <td>35</td>\n",
       "      <td>0</td>\n",
       "      <td>normal</td>\n",
       "      <td>fail</td>\n",
       "    </tr>\n",
       "    <tr>\n",
       "      <th>3</th>\n",
       "      <td>2</td>\n",
       "      <td>11</td>\n",
       "      <td>1</td>\n",
       "      <td>weak</td>\n",
       "      <td>pass</td>\n",
       "    </tr>\n",
       "    <tr>\n",
       "      <th>4</th>\n",
       "      <td>2</td>\n",
       "      <td>26</td>\n",
       "      <td>0</td>\n",
       "      <td>strong</td>\n",
       "      <td>fail</td>\n",
       "    </tr>\n",
       "  </tbody>\n",
       "</table>\n",
       "</div>"
      ],
      "text/plain": [
       "   class  score  result performance pass or fail\n",
       "0      1     10       0      strong         fail\n",
       "1      1     21       1        weak         pass\n",
       "2      1     35       0      normal         fail\n",
       "3      2     11       1        weak         pass\n",
       "4      2     26       0      strong         fail"
      ]
     },
     "execution_count": 13,
     "metadata": {},
     "output_type": "execute_result"
    }
   ],
   "source": [
    "df[\"pass or fail\"] = df.result.map({0: \"fail\", 1: \"pass\"})\n",
    "df"
   ]
  },
  {
   "cell_type": "markdown",
   "id": "a14bc3eb-00cc-493b-b1cc-b9e036718a17",
   "metadata": {},
   "source": [
    "# Applying functions\n",
    "\n",
    "There are situations where a direct mapping might not be sufficient. In such cases, we can apply a specific function to transform the data any way we want. There are several ways in which we might do this: to individual elements, to entire columns, to entire rows, or to the entire DataFrame. There are two main functions that we can use for this: apply() and applymap().\n",
    "\n",
    "\n",
    "Let’s take a look first at apply(). This is both a Series method and a DataFrame method. When used on a Series, it applies a given function to each element of the series. Let’s suppose that we want to standardize the scores. This is a common procedure which produces values with mean \n",
    "0\n",
    " and standard deviation \n",
    "1\n",
    ". Normalization can be important when comparing measurements that have different units, and as we will see later in the program, it is also a general requirement for many machine learning algorithms.\n",
    "\n",
    "\n",
    "Let’s define our own standardizing function for the column score as follows:"
   ]
  },
  {
   "cell_type": "code",
   "execution_count": 14,
   "id": "776d32a6-967a-4286-865c-edf9d8fa83f2",
   "metadata": {},
   "outputs": [],
   "source": [
    "def stand(x):\n",
    "    mean = df.score.mean()\n",
    "    std = df.score.std()\n",
    "    y = (x - mean) / std\n",
    "    return y"
   ]
  },
  {
   "cell_type": "markdown",
   "id": "23753808-06e2-46d7-b2fe-29852a9b2f63",
   "metadata": {},
   "source": [
    "We can now apply it to the Series df.score and store the output in a new column"
   ]
  },
  {
   "cell_type": "code",
   "execution_count": 15,
   "id": "872b7efb-b2b7-4d3b-ab4c-bb2b3d300ce0",
   "metadata": {},
   "outputs": [
    {
     "data": {
      "text/html": [
       "<div>\n",
       "<style scoped>\n",
       "    .dataframe tbody tr th:only-of-type {\n",
       "        vertical-align: middle;\n",
       "    }\n",
       "\n",
       "    .dataframe tbody tr th {\n",
       "        vertical-align: top;\n",
       "    }\n",
       "\n",
       "    .dataframe thead th {\n",
       "        text-align: right;\n",
       "    }\n",
       "</style>\n",
       "<table border=\"1\" class=\"dataframe\">\n",
       "  <thead>\n",
       "    <tr style=\"text-align: right;\">\n",
       "      <th></th>\n",
       "      <th>class</th>\n",
       "      <th>score</th>\n",
       "      <th>result</th>\n",
       "      <th>performance</th>\n",
       "      <th>pass or fail</th>\n",
       "      <th>score standard</th>\n",
       "    </tr>\n",
       "  </thead>\n",
       "  <tbody>\n",
       "    <tr>\n",
       "      <th>0</th>\n",
       "      <td>1</td>\n",
       "      <td>10</td>\n",
       "      <td>0</td>\n",
       "      <td>strong</td>\n",
       "      <td>fail</td>\n",
       "      <td>-1.009295</td>\n",
       "    </tr>\n",
       "    <tr>\n",
       "      <th>1</th>\n",
       "      <td>1</td>\n",
       "      <td>21</td>\n",
       "      <td>1</td>\n",
       "      <td>weak</td>\n",
       "      <td>pass</td>\n",
       "      <td>0.038087</td>\n",
       "    </tr>\n",
       "    <tr>\n",
       "      <th>2</th>\n",
       "      <td>1</td>\n",
       "      <td>35</td>\n",
       "      <td>0</td>\n",
       "      <td>normal</td>\n",
       "      <td>fail</td>\n",
       "      <td>1.371118</td>\n",
       "    </tr>\n",
       "    <tr>\n",
       "      <th>3</th>\n",
       "      <td>2</td>\n",
       "      <td>11</td>\n",
       "      <td>1</td>\n",
       "      <td>weak</td>\n",
       "      <td>pass</td>\n",
       "      <td>-0.914078</td>\n",
       "    </tr>\n",
       "    <tr>\n",
       "      <th>4</th>\n",
       "      <td>2</td>\n",
       "      <td>26</td>\n",
       "      <td>0</td>\n",
       "      <td>strong</td>\n",
       "      <td>fail</td>\n",
       "      <td>0.514169</td>\n",
       "    </tr>\n",
       "  </tbody>\n",
       "</table>\n",
       "</div>"
      ],
      "text/plain": [
       "   class  score  result performance pass or fail  score standard\n",
       "0      1     10       0      strong         fail       -1.009295\n",
       "1      1     21       1        weak         pass        0.038087\n",
       "2      1     35       0      normal         fail        1.371118\n",
       "3      2     11       1        weak         pass       -0.914078\n",
       "4      2     26       0      strong         fail        0.514169"
      ]
     },
     "execution_count": 15,
     "metadata": {},
     "output_type": "execute_result"
    }
   ],
   "source": [
    "df[\"score standard\"] = df.score.apply(stand)\n",
    "df"
   ]
  },
  {
   "cell_type": "markdown",
   "id": "716d48f4-730e-4ea1-a004-747295173a7b",
   "metadata": {},
   "source": [
    "Let’s now look at using the apply() function on an entire DataFrame. To do this, we will consider the DataFrame consisting of the numerical columns. We can select these by column labels using the loc function as follows"
   ]
  },
  {
   "cell_type": "code",
   "execution_count": 16,
   "id": "bc58bbd5-051d-4985-8624-f784762a1042",
   "metadata": {},
   "outputs": [
    {
     "data": {
      "text/html": [
       "<div>\n",
       "<style scoped>\n",
       "    .dataframe tbody tr th:only-of-type {\n",
       "        vertical-align: middle;\n",
       "    }\n",
       "\n",
       "    .dataframe tbody tr th {\n",
       "        vertical-align: top;\n",
       "    }\n",
       "\n",
       "    .dataframe thead th {\n",
       "        text-align: right;\n",
       "    }\n",
       "</style>\n",
       "<table border=\"1\" class=\"dataframe\">\n",
       "  <thead>\n",
       "    <tr style=\"text-align: right;\">\n",
       "      <th></th>\n",
       "      <th>class</th>\n",
       "      <th>result</th>\n",
       "      <th>score</th>\n",
       "      <th>score standard</th>\n",
       "    </tr>\n",
       "  </thead>\n",
       "  <tbody>\n",
       "    <tr>\n",
       "      <th>0</th>\n",
       "      <td>1</td>\n",
       "      <td>0</td>\n",
       "      <td>10</td>\n",
       "      <td>-1.009295</td>\n",
       "    </tr>\n",
       "    <tr>\n",
       "      <th>1</th>\n",
       "      <td>1</td>\n",
       "      <td>1</td>\n",
       "      <td>21</td>\n",
       "      <td>0.038087</td>\n",
       "    </tr>\n",
       "    <tr>\n",
       "      <th>2</th>\n",
       "      <td>1</td>\n",
       "      <td>0</td>\n",
       "      <td>35</td>\n",
       "      <td>1.371118</td>\n",
       "    </tr>\n",
       "    <tr>\n",
       "      <th>3</th>\n",
       "      <td>2</td>\n",
       "      <td>1</td>\n",
       "      <td>11</td>\n",
       "      <td>-0.914078</td>\n",
       "    </tr>\n",
       "    <tr>\n",
       "      <th>4</th>\n",
       "      <td>2</td>\n",
       "      <td>0</td>\n",
       "      <td>26</td>\n",
       "      <td>0.514169</td>\n",
       "    </tr>\n",
       "  </tbody>\n",
       "</table>\n",
       "</div>"
      ],
      "text/plain": [
       "   class  result  score  score standard\n",
       "0      1       0     10       -1.009295\n",
       "1      1       1     21        0.038087\n",
       "2      1       0     35        1.371118\n",
       "3      2       1     11       -0.914078\n",
       "4      2       0     26        0.514169"
      ]
     },
     "execution_count": 16,
     "metadata": {},
     "output_type": "execute_result"
    }
   ],
   "source": [
    "df_num = df.loc[:, [\"class\", \"result\", \"score\", \"score standard\"]]\n",
    "df_num"
   ]
  },
  {
   "cell_type": "code",
   "execution_count": 17,
   "id": "03e617f2-46f6-43bf-8c56-60962b325d82",
   "metadata": {},
   "outputs": [
    {
     "data": {
      "text/plain": [
       "class              2.000000\n",
       "result             1.000000\n",
       "score             35.000000\n",
       "score standard     1.371118\n",
       "dtype: float64"
      ]
     },
     "execution_count": 17,
     "metadata": {},
     "output_type": "execute_result"
    }
   ],
   "source": [
    "df_num.apply(max, axis=0)"
   ]
  },
  {
   "cell_type": "markdown",
   "id": "9d2f7255-ef0a-47ba-aa8a-1336acb6e03c",
   "metadata": {},
   "source": [
    "Recall that axis=0 always refers to an operation down the DataFrame, while axis=1 refers to an operation across a DataFrame.\n",
    "\n",
    "Finally, let’s consider the applymap() function. Now, this function is for DataFrames, and it is used for applying a function to every element of a DataFrame. This is in contrast to apply(), which is for either rows or column.\n",
    "\n",
    "For example, suppose we want to change the formatting of our values and convert them to strings and append a $ symbol before. We can do this as follows"
   ]
  },
  {
   "cell_type": "code",
   "execution_count": 18,
   "id": "3dfe1558-2fb0-452d-aaef-44f86969530c",
   "metadata": {},
   "outputs": [
    {
     "data": {
      "text/html": [
       "<div>\n",
       "<style scoped>\n",
       "    .dataframe tbody tr th:only-of-type {\n",
       "        vertical-align: middle;\n",
       "    }\n",
       "\n",
       "    .dataframe tbody tr th {\n",
       "        vertical-align: top;\n",
       "    }\n",
       "\n",
       "    .dataframe thead th {\n",
       "        text-align: right;\n",
       "    }\n",
       "</style>\n",
       "<table border=\"1\" class=\"dataframe\">\n",
       "  <thead>\n",
       "    <tr style=\"text-align: right;\">\n",
       "      <th></th>\n",
       "      <th>class</th>\n",
       "      <th>result</th>\n",
       "      <th>score</th>\n",
       "      <th>score standard</th>\n",
       "    </tr>\n",
       "  </thead>\n",
       "  <tbody>\n",
       "    <tr>\n",
       "      <th>0</th>\n",
       "      <td>\\$1</td>\n",
       "      <td>\\$0</td>\n",
       "      <td>\\$10</td>\n",
       "      <td>\\$-1.0092949703936966</td>\n",
       "    </tr>\n",
       "    <tr>\n",
       "      <th>1</th>\n",
       "      <td>\\$1</td>\n",
       "      <td>\\$1</td>\n",
       "      <td>\\$21</td>\n",
       "      <td>\\$0.03808660265636577</td>\n",
       "    </tr>\n",
       "    <tr>\n",
       "      <th>2</th>\n",
       "      <td>\\$1</td>\n",
       "      <td>\\$0</td>\n",
       "      <td>\\$35</td>\n",
       "      <td>\\$1.3711176956291724</td>\n",
       "    </tr>\n",
       "    <tr>\n",
       "      <th>3</th>\n",
       "      <td>\\$2</td>\n",
       "      <td>\\$1</td>\n",
       "      <td>\\$11</td>\n",
       "      <td>\\$-0.9140784637527819</td>\n",
       "    </tr>\n",
       "    <tr>\n",
       "      <th>4</th>\n",
       "      <td>\\$2</td>\n",
       "      <td>\\$0</td>\n",
       "      <td>\\$26</td>\n",
       "      <td>\\$0.5141691358609396</td>\n",
       "    </tr>\n",
       "  </tbody>\n",
       "</table>\n",
       "</div>"
      ],
      "text/plain": [
       "  class result score         score standard\n",
       "0   \\$1    \\$0  \\$10  \\$-1.0092949703936966\n",
       "1   \\$1    \\$1  \\$21  \\$0.03808660265636577\n",
       "2   \\$1    \\$0  \\$35   \\$1.3711176956291724\n",
       "3   \\$2    \\$1  \\$11  \\$-0.9140784637527819\n",
       "4   \\$2    \\$0  \\$26   \\$0.5141691358609396"
      ]
     },
     "execution_count": 18,
     "metadata": {},
     "output_type": "execute_result"
    }
   ],
   "source": [
    "df_new = df_num.applymap(lambda x: \"\\$\" + str(x))\n",
    "df_new"
   ]
  },
  {
   "cell_type": "markdown",
   "id": "753dadde-4474-4d96-ac8b-c6d1e1cc8151",
   "metadata": {},
   "source": [
    "# Exercise: applying functions"
   ]
  },
  {
   "cell_type": "code",
   "execution_count": 20,
   "id": "b3943ae6-cb4a-46ed-91fc-19e009c9f44a",
   "metadata": {},
   "outputs": [
    {
     "name": "stdout",
     "output_type": "stream",
     "text": [
      "Data shape:  (77, 16)\n"
     ]
    }
   ],
   "source": [
    "# Import libraries\n",
    "import pandas as pd\n",
    "import numpy as np\n",
    "\n",
    "# Load data\n",
    "df = pd.read_csv(\"Ressources/c2_cereal.csv\")\n",
    "\n",
    "# Print data shape\n",
    "print('Data shape: ',df.shape)"
   ]
  },
  {
   "cell_type": "code",
   "execution_count": 23,
   "id": "9610d0c4-904b-4208-9614-9752eaa692bc",
   "metadata": {},
   "outputs": [
    {
     "data": {
      "text/html": [
       "<div>\n",
       "<style scoped>\n",
       "    .dataframe tbody tr th:only-of-type {\n",
       "        vertical-align: middle;\n",
       "    }\n",
       "\n",
       "    .dataframe tbody tr th {\n",
       "        vertical-align: top;\n",
       "    }\n",
       "\n",
       "    .dataframe thead th {\n",
       "        text-align: right;\n",
       "    }\n",
       "</style>\n",
       "<table border=\"1\" class=\"dataframe\">\n",
       "  <thead>\n",
       "    <tr style=\"text-align: right;\">\n",
       "      <th></th>\n",
       "      <th>name</th>\n",
       "      <th>mfr</th>\n",
       "      <th>type</th>\n",
       "      <th>calories</th>\n",
       "      <th>protein</th>\n",
       "      <th>fat</th>\n",
       "      <th>sodium</th>\n",
       "      <th>fiber</th>\n",
       "      <th>carbo</th>\n",
       "      <th>sugars</th>\n",
       "      <th>potass</th>\n",
       "      <th>vitamins</th>\n",
       "      <th>shelf</th>\n",
       "      <th>weight</th>\n",
       "      <th>cups</th>\n",
       "      <th>rating</th>\n",
       "    </tr>\n",
       "  </thead>\n",
       "  <tbody>\n",
       "    <tr>\n",
       "      <th>0</th>\n",
       "      <td>100% Bran</td>\n",
       "      <td>N</td>\n",
       "      <td>C</td>\n",
       "      <td>70</td>\n",
       "      <td>4</td>\n",
       "      <td>1</td>\n",
       "      <td>130</td>\n",
       "      <td>10.0</td>\n",
       "      <td>5.0</td>\n",
       "      <td>6</td>\n",
       "      <td>280</td>\n",
       "      <td>25</td>\n",
       "      <td>3</td>\n",
       "      <td>1.0</td>\n",
       "      <td>0.33</td>\n",
       "      <td>68.402973</td>\n",
       "    </tr>\n",
       "    <tr>\n",
       "      <th>1</th>\n",
       "      <td>100% Natural Bran</td>\n",
       "      <td>Q</td>\n",
       "      <td>C</td>\n",
       "      <td>120</td>\n",
       "      <td>3</td>\n",
       "      <td>5</td>\n",
       "      <td>15</td>\n",
       "      <td>2.0</td>\n",
       "      <td>8.0</td>\n",
       "      <td>8</td>\n",
       "      <td>135</td>\n",
       "      <td>0</td>\n",
       "      <td>3</td>\n",
       "      <td>1.0</td>\n",
       "      <td>1.00</td>\n",
       "      <td>33.983679</td>\n",
       "    </tr>\n",
       "    <tr>\n",
       "      <th>2</th>\n",
       "      <td>All-Bran</td>\n",
       "      <td>K</td>\n",
       "      <td>C</td>\n",
       "      <td>70</td>\n",
       "      <td>4</td>\n",
       "      <td>1</td>\n",
       "      <td>260</td>\n",
       "      <td>9.0</td>\n",
       "      <td>7.0</td>\n",
       "      <td>5</td>\n",
       "      <td>320</td>\n",
       "      <td>25</td>\n",
       "      <td>3</td>\n",
       "      <td>1.0</td>\n",
       "      <td>0.33</td>\n",
       "      <td>59.425505</td>\n",
       "    </tr>\n",
       "    <tr>\n",
       "      <th>3</th>\n",
       "      <td>All-Bran with Extra Fiber</td>\n",
       "      <td>K</td>\n",
       "      <td>C</td>\n",
       "      <td>50</td>\n",
       "      <td>4</td>\n",
       "      <td>0</td>\n",
       "      <td>140</td>\n",
       "      <td>14.0</td>\n",
       "      <td>8.0</td>\n",
       "      <td>0</td>\n",
       "      <td>330</td>\n",
       "      <td>25</td>\n",
       "      <td>3</td>\n",
       "      <td>1.0</td>\n",
       "      <td>0.50</td>\n",
       "      <td>93.704912</td>\n",
       "    </tr>\n",
       "    <tr>\n",
       "      <th>4</th>\n",
       "      <td>Almond Delight</td>\n",
       "      <td>R</td>\n",
       "      <td>C</td>\n",
       "      <td>110</td>\n",
       "      <td>2</td>\n",
       "      <td>2</td>\n",
       "      <td>200</td>\n",
       "      <td>1.0</td>\n",
       "      <td>14.0</td>\n",
       "      <td>8</td>\n",
       "      <td>-1</td>\n",
       "      <td>25</td>\n",
       "      <td>3</td>\n",
       "      <td>1.0</td>\n",
       "      <td>0.75</td>\n",
       "      <td>34.384843</td>\n",
       "    </tr>\n",
       "  </tbody>\n",
       "</table>\n",
       "</div>"
      ],
      "text/plain": [
       "                        name mfr type  calories  protein  fat  sodium  fiber  \\\n",
       "0                  100% Bran   N    C        70        4    1     130   10.0   \n",
       "1          100% Natural Bran   Q    C       120        3    5      15    2.0   \n",
       "2                   All-Bran   K    C        70        4    1     260    9.0   \n",
       "3  All-Bran with Extra Fiber   K    C        50        4    0     140   14.0   \n",
       "4             Almond Delight   R    C       110        2    2     200    1.0   \n",
       "\n",
       "   carbo  sugars  potass  vitamins  shelf  weight  cups     rating  \n",
       "0    5.0       6     280        25      3     1.0  0.33  68.402973  \n",
       "1    8.0       8     135         0      3     1.0  1.00  33.983679  \n",
       "2    7.0       5     320        25      3     1.0  0.33  59.425505  \n",
       "3    8.0       0     330        25      3     1.0  0.50  93.704912  \n",
       "4   14.0       8      -1        25      3     1.0  0.75  34.384843  "
      ]
     },
     "execution_count": 23,
     "metadata": {},
     "output_type": "execute_result"
    }
   ],
   "source": [
    "df.head()"
   ]
  },
  {
   "cell_type": "markdown",
   "id": "53f2b342-0bab-438e-a8b0-1c49746a1536",
   "metadata": {},
   "source": [
    "## Exercises\n",
    "\n",
    "- Create a new column calles Manufacturer : which takes the entries in the column mfr and maps them to the full name as follows:\n",
    "    - A = American Home Food Products;\n",
    "    - G = General Mills\n",
    "    - K = Kelloggs\n",
    "    - N = Nabisco\n",
    "    - P = Post\n",
    "    - Q = Quaker Oats\n",
    "    - R = Ralston Purina\n",
    "\n",
    "- Calories can be converted to kilojoules using the following formula: 1 calorie = 4.184 kilojoules. Find the amount of Kilojoules per serving for each cereal. Store the results in a new column.\n",
    "\n",
    "-  For each numerical column, find the cereal with the maximum value per column."
   ]
  },
  {
   "cell_type": "code",
   "execution_count": 28,
   "id": "0ac2cb73-1930-49b9-b056-6e70b690e67e",
   "metadata": {},
   "outputs": [
    {
     "data": {
      "text/html": [
       "<div>\n",
       "<style scoped>\n",
       "    .dataframe tbody tr th:only-of-type {\n",
       "        vertical-align: middle;\n",
       "    }\n",
       "\n",
       "    .dataframe tbody tr th {\n",
       "        vertical-align: top;\n",
       "    }\n",
       "\n",
       "    .dataframe thead th {\n",
       "        text-align: right;\n",
       "    }\n",
       "</style>\n",
       "<table border=\"1\" class=\"dataframe\">\n",
       "  <thead>\n",
       "    <tr style=\"text-align: right;\">\n",
       "      <th></th>\n",
       "      <th>name</th>\n",
       "      <th>mfr</th>\n",
       "      <th>type</th>\n",
       "      <th>calories</th>\n",
       "      <th>protein</th>\n",
       "      <th>fat</th>\n",
       "      <th>sodium</th>\n",
       "      <th>fiber</th>\n",
       "      <th>carbo</th>\n",
       "      <th>sugars</th>\n",
       "      <th>potass</th>\n",
       "      <th>vitamins</th>\n",
       "      <th>shelf</th>\n",
       "      <th>weight</th>\n",
       "      <th>cups</th>\n",
       "      <th>rating</th>\n",
       "      <th>Manufacturer</th>\n",
       "    </tr>\n",
       "  </thead>\n",
       "  <tbody>\n",
       "    <tr>\n",
       "      <th>0</th>\n",
       "      <td>100% Bran</td>\n",
       "      <td>N</td>\n",
       "      <td>C</td>\n",
       "      <td>70</td>\n",
       "      <td>4</td>\n",
       "      <td>1</td>\n",
       "      <td>130</td>\n",
       "      <td>10.0</td>\n",
       "      <td>5.0</td>\n",
       "      <td>6</td>\n",
       "      <td>280</td>\n",
       "      <td>25</td>\n",
       "      <td>3</td>\n",
       "      <td>1.0</td>\n",
       "      <td>0.33</td>\n",
       "      <td>68.402973</td>\n",
       "      <td>Nabisco</td>\n",
       "    </tr>\n",
       "    <tr>\n",
       "      <th>1</th>\n",
       "      <td>100% Natural Bran</td>\n",
       "      <td>Q</td>\n",
       "      <td>C</td>\n",
       "      <td>120</td>\n",
       "      <td>3</td>\n",
       "      <td>5</td>\n",
       "      <td>15</td>\n",
       "      <td>2.0</td>\n",
       "      <td>8.0</td>\n",
       "      <td>8</td>\n",
       "      <td>135</td>\n",
       "      <td>0</td>\n",
       "      <td>3</td>\n",
       "      <td>1.0</td>\n",
       "      <td>1.00</td>\n",
       "      <td>33.983679</td>\n",
       "      <td>Quaker Oats</td>\n",
       "    </tr>\n",
       "    <tr>\n",
       "      <th>2</th>\n",
       "      <td>All-Bran</td>\n",
       "      <td>K</td>\n",
       "      <td>C</td>\n",
       "      <td>70</td>\n",
       "      <td>4</td>\n",
       "      <td>1</td>\n",
       "      <td>260</td>\n",
       "      <td>9.0</td>\n",
       "      <td>7.0</td>\n",
       "      <td>5</td>\n",
       "      <td>320</td>\n",
       "      <td>25</td>\n",
       "      <td>3</td>\n",
       "      <td>1.0</td>\n",
       "      <td>0.33</td>\n",
       "      <td>59.425505</td>\n",
       "      <td>Kelloggs</td>\n",
       "    </tr>\n",
       "    <tr>\n",
       "      <th>3</th>\n",
       "      <td>All-Bran with Extra Fiber</td>\n",
       "      <td>K</td>\n",
       "      <td>C</td>\n",
       "      <td>50</td>\n",
       "      <td>4</td>\n",
       "      <td>0</td>\n",
       "      <td>140</td>\n",
       "      <td>14.0</td>\n",
       "      <td>8.0</td>\n",
       "      <td>0</td>\n",
       "      <td>330</td>\n",
       "      <td>25</td>\n",
       "      <td>3</td>\n",
       "      <td>1.0</td>\n",
       "      <td>0.50</td>\n",
       "      <td>93.704912</td>\n",
       "      <td>Kelloggs</td>\n",
       "    </tr>\n",
       "    <tr>\n",
       "      <th>4</th>\n",
       "      <td>Almond Delight</td>\n",
       "      <td>R</td>\n",
       "      <td>C</td>\n",
       "      <td>110</td>\n",
       "      <td>2</td>\n",
       "      <td>2</td>\n",
       "      <td>200</td>\n",
       "      <td>1.0</td>\n",
       "      <td>14.0</td>\n",
       "      <td>8</td>\n",
       "      <td>-1</td>\n",
       "      <td>25</td>\n",
       "      <td>3</td>\n",
       "      <td>1.0</td>\n",
       "      <td>0.75</td>\n",
       "      <td>34.384843</td>\n",
       "      <td>Ralston Purina</td>\n",
       "    </tr>\n",
       "    <tr>\n",
       "      <th>...</th>\n",
       "      <td>...</td>\n",
       "      <td>...</td>\n",
       "      <td>...</td>\n",
       "      <td>...</td>\n",
       "      <td>...</td>\n",
       "      <td>...</td>\n",
       "      <td>...</td>\n",
       "      <td>...</td>\n",
       "      <td>...</td>\n",
       "      <td>...</td>\n",
       "      <td>...</td>\n",
       "      <td>...</td>\n",
       "      <td>...</td>\n",
       "      <td>...</td>\n",
       "      <td>...</td>\n",
       "      <td>...</td>\n",
       "      <td>...</td>\n",
       "    </tr>\n",
       "    <tr>\n",
       "      <th>72</th>\n",
       "      <td>Triples</td>\n",
       "      <td>G</td>\n",
       "      <td>C</td>\n",
       "      <td>110</td>\n",
       "      <td>2</td>\n",
       "      <td>1</td>\n",
       "      <td>250</td>\n",
       "      <td>0.0</td>\n",
       "      <td>21.0</td>\n",
       "      <td>3</td>\n",
       "      <td>60</td>\n",
       "      <td>25</td>\n",
       "      <td>3</td>\n",
       "      <td>1.0</td>\n",
       "      <td>0.75</td>\n",
       "      <td>39.106174</td>\n",
       "      <td>General Mills</td>\n",
       "    </tr>\n",
       "    <tr>\n",
       "      <th>73</th>\n",
       "      <td>Trix</td>\n",
       "      <td>G</td>\n",
       "      <td>C</td>\n",
       "      <td>110</td>\n",
       "      <td>1</td>\n",
       "      <td>1</td>\n",
       "      <td>140</td>\n",
       "      <td>0.0</td>\n",
       "      <td>13.0</td>\n",
       "      <td>12</td>\n",
       "      <td>25</td>\n",
       "      <td>25</td>\n",
       "      <td>2</td>\n",
       "      <td>1.0</td>\n",
       "      <td>1.00</td>\n",
       "      <td>27.753301</td>\n",
       "      <td>General Mills</td>\n",
       "    </tr>\n",
       "    <tr>\n",
       "      <th>74</th>\n",
       "      <td>Wheat Chex</td>\n",
       "      <td>R</td>\n",
       "      <td>C</td>\n",
       "      <td>100</td>\n",
       "      <td>3</td>\n",
       "      <td>1</td>\n",
       "      <td>230</td>\n",
       "      <td>3.0</td>\n",
       "      <td>17.0</td>\n",
       "      <td>3</td>\n",
       "      <td>115</td>\n",
       "      <td>25</td>\n",
       "      <td>1</td>\n",
       "      <td>1.0</td>\n",
       "      <td>0.67</td>\n",
       "      <td>49.787445</td>\n",
       "      <td>Ralston Purina</td>\n",
       "    </tr>\n",
       "    <tr>\n",
       "      <th>75</th>\n",
       "      <td>Wheaties</td>\n",
       "      <td>G</td>\n",
       "      <td>C</td>\n",
       "      <td>100</td>\n",
       "      <td>3</td>\n",
       "      <td>1</td>\n",
       "      <td>200</td>\n",
       "      <td>3.0</td>\n",
       "      <td>17.0</td>\n",
       "      <td>3</td>\n",
       "      <td>110</td>\n",
       "      <td>25</td>\n",
       "      <td>1</td>\n",
       "      <td>1.0</td>\n",
       "      <td>1.00</td>\n",
       "      <td>51.592193</td>\n",
       "      <td>General Mills</td>\n",
       "    </tr>\n",
       "    <tr>\n",
       "      <th>76</th>\n",
       "      <td>Wheaties Honey Gold</td>\n",
       "      <td>G</td>\n",
       "      <td>C</td>\n",
       "      <td>110</td>\n",
       "      <td>2</td>\n",
       "      <td>1</td>\n",
       "      <td>200</td>\n",
       "      <td>1.0</td>\n",
       "      <td>16.0</td>\n",
       "      <td>8</td>\n",
       "      <td>60</td>\n",
       "      <td>25</td>\n",
       "      <td>1</td>\n",
       "      <td>1.0</td>\n",
       "      <td>0.75</td>\n",
       "      <td>36.187559</td>\n",
       "      <td>General Mills</td>\n",
       "    </tr>\n",
       "  </tbody>\n",
       "</table>\n",
       "<p>77 rows × 17 columns</p>\n",
       "</div>"
      ],
      "text/plain": [
       "                         name mfr type  calories  protein  fat  sodium  fiber  \\\n",
       "0                   100% Bran   N    C        70        4    1     130   10.0   \n",
       "1           100% Natural Bran   Q    C       120        3    5      15    2.0   \n",
       "2                    All-Bran   K    C        70        4    1     260    9.0   \n",
       "3   All-Bran with Extra Fiber   K    C        50        4    0     140   14.0   \n",
       "4              Almond Delight   R    C       110        2    2     200    1.0   \n",
       "..                        ...  ..  ...       ...      ...  ...     ...    ...   \n",
       "72                    Triples   G    C       110        2    1     250    0.0   \n",
       "73                       Trix   G    C       110        1    1     140    0.0   \n",
       "74                 Wheat Chex   R    C       100        3    1     230    3.0   \n",
       "75                   Wheaties   G    C       100        3    1     200    3.0   \n",
       "76        Wheaties Honey Gold   G    C       110        2    1     200    1.0   \n",
       "\n",
       "    carbo  sugars  potass  vitamins  shelf  weight  cups     rating  \\\n",
       "0     5.0       6     280        25      3     1.0  0.33  68.402973   \n",
       "1     8.0       8     135         0      3     1.0  1.00  33.983679   \n",
       "2     7.0       5     320        25      3     1.0  0.33  59.425505   \n",
       "3     8.0       0     330        25      3     1.0  0.50  93.704912   \n",
       "4    14.0       8      -1        25      3     1.0  0.75  34.384843   \n",
       "..    ...     ...     ...       ...    ...     ...   ...        ...   \n",
       "72   21.0       3      60        25      3     1.0  0.75  39.106174   \n",
       "73   13.0      12      25        25      2     1.0  1.00  27.753301   \n",
       "74   17.0       3     115        25      1     1.0  0.67  49.787445   \n",
       "75   17.0       3     110        25      1     1.0  1.00  51.592193   \n",
       "76   16.0       8      60        25      1     1.0  0.75  36.187559   \n",
       "\n",
       "      Manufacturer  \n",
       "0          Nabisco  \n",
       "1      Quaker Oats  \n",
       "2         Kelloggs  \n",
       "3         Kelloggs  \n",
       "4   Ralston Purina  \n",
       "..             ...  \n",
       "72   General Mills  \n",
       "73   General Mills  \n",
       "74  Ralston Purina  \n",
       "75   General Mills  \n",
       "76   General Mills  \n",
       "\n",
       "[77 rows x 17 columns]"
      ]
     },
     "execution_count": 28,
     "metadata": {},
     "output_type": "execute_result"
    }
   ],
   "source": [
    "# 1 Manufacturer column : \n",
    "df[\"Manufacturer\"] = df.mfr.map({\"A\" : \"American Home Food Products\", \n",
    "                             \"G\" : \"General Mills\", \"K\" : \"Kelloggs\", \n",
    "                             \"N\" : \"Nabisco\", \"P\" : \"Post\", \"Q\" : \"Quaker Oats\",\n",
    "                             \"R\" : \"Ralston Purina\"})\n",
    "df"
   ]
  },
  {
   "cell_type": "code",
   "execution_count": null,
   "id": "d918e5de-9540-49a8-9eca-f6ffea57ce21",
   "metadata": {},
   "outputs": [],
   "source": [
    "#2 Calories\n",
    "def stand(x):\n",
    "    return x * 4.184\n",
    "\n",
    "df[\"Kilojoules\"] = df.calories.apply(stand)\n",
    "df\n"
   ]
  }
 ],
 "metadata": {
  "kernelspec": {
   "display_name": "Python [conda env:adsml] *",
   "language": "python",
   "name": "conda-env-adsml-py"
  },
  "language_info": {
   "codemirror_mode": {
    "name": "ipython",
    "version": 3
   },
   "file_extension": ".py",
   "mimetype": "text/x-python",
   "name": "python",
   "nbconvert_exporter": "python",
   "pygments_lexer": "ipython3",
   "version": "3.9.16"
  }
 },
 "nbformat": 4,
 "nbformat_minor": 5
}
