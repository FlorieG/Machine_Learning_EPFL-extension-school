{
 "cells": [
  {
   "cell_type": "markdown",
   "id": "05aecd99-dfeb-4653-8899-605c93c04434",
   "metadata": {},
   "source": [
    "# NUMPY \n",
    "Documentation : https://numpy.org/doc/stable/\n",
    "\n",
    "## Introduction to Numpy Array"
   ]
  },
  {
   "cell_type": "code",
   "execution_count": 3,
   "id": "c57b4bb9-fa59-48fd-83f6-b1b9ea7375e9",
   "metadata": {},
   "outputs": [],
   "source": [
    "import numpy as np"
   ]
  },
  {
   "cell_type": "markdown",
   "id": "58215827-8d57-42ba-8e09-922f09233a83",
   "metadata": {},
   "source": [
    "### Exemple :\n",
    "Let's go.\n",
    "We check : \n",
    "1. dimension\n",
    "2. shape : give legnth of each dimension (n,p)\n",
    "\n",
    "In addition to ndim and shape, NumPy arrays have also the following attributes\n",
    "\n",
    "-size: the total number of elements in the array\n",
    "\n",
    "-dtype: the data type of the items in the array\n"
   ]
  },
  {
   "cell_type": "code",
   "execution_count": 4,
   "id": "33d35f10-e472-43a0-ba9e-890b57058e2e",
   "metadata": {},
   "outputs": [
    {
     "data": {
      "text/plain": [
       "array([1, 2, 3])"
      ]
     },
     "execution_count": 4,
     "metadata": {},
     "output_type": "execute_result"
    }
   ],
   "source": [
    "a1 = np.array([1, 2, 3])\n",
    "a1"
   ]
  },
  {
   "cell_type": "code",
   "execution_count": 5,
   "id": "a7f3e153-bfbc-47b8-933b-8b58fcc7eb7c",
   "metadata": {},
   "outputs": [
    {
     "data": {
      "text/plain": [
       "1"
      ]
     },
     "execution_count": 5,
     "metadata": {},
     "output_type": "execute_result"
    }
   ],
   "source": [
    "a1.ndim"
   ]
  },
  {
   "cell_type": "code",
   "execution_count": 6,
   "id": "f9df5b1d-89ee-4794-9d13-08fbeb0a8a29",
   "metadata": {},
   "outputs": [
    {
     "data": {
      "text/plain": [
       "(3,)"
      ]
     },
     "execution_count": 6,
     "metadata": {},
     "output_type": "execute_result"
    }
   ],
   "source": [
    "a1.shape"
   ]
  },
  {
   "cell_type": "code",
   "execution_count": 7,
   "id": "b6dea7ed-4a40-4e18-8f7a-a730258728f4",
   "metadata": {},
   "outputs": [
    {
     "data": {
      "text/plain": [
       "array([[1, 2, 3],\n",
       "       [3, 4, 5]])"
      ]
     },
     "execution_count": 7,
     "metadata": {},
     "output_type": "execute_result"
    }
   ],
   "source": [
    "a2 = np.array([[1, 2, 3], [3, 4, 5]])\n",
    "a2"
   ]
  },
  {
   "cell_type": "code",
   "execution_count": 8,
   "id": "9bcaf127-d88c-43d5-b6eb-e1daa5b7148f",
   "metadata": {},
   "outputs": [
    {
     "data": {
      "text/plain": [
       "2"
      ]
     },
     "execution_count": 8,
     "metadata": {},
     "output_type": "execute_result"
    }
   ],
   "source": [
    "a2.ndim"
   ]
  },
  {
   "cell_type": "code",
   "execution_count": 9,
   "id": "81d46f16-3e6b-4eb3-ab87-88a25f0e1a55",
   "metadata": {},
   "outputs": [
    {
     "data": {
      "text/plain": [
       "(2, 3)"
      ]
     },
     "execution_count": 9,
     "metadata": {},
     "output_type": "execute_result"
    }
   ],
   "source": [
    "a2.shape"
   ]
  },
  {
   "cell_type": "code",
   "execution_count": 11,
   "id": "8b84ccae-137c-4a94-9539-af2d08687566",
   "metadata": {},
   "outputs": [
    {
     "data": {
      "text/plain": [
       "dtype('float64')"
      ]
     },
     "execution_count": 11,
     "metadata": {},
     "output_type": "execute_result"
    }
   ],
   "source": [
    "a3 = np.array([1, 2, 3.3])\n",
    "a3.dtype"
   ]
  },
  {
   "cell_type": "code",
   "execution_count": 12,
   "id": "767ede0d-d366-4cd2-afdc-8cb9a7cdba86",
   "metadata": {},
   "outputs": [
    {
     "data": {
      "text/plain": [
       "dtype('int32')"
      ]
     },
     "execution_count": 12,
     "metadata": {},
     "output_type": "execute_result"
    }
   ],
   "source": [
    "a3 = np.array([1, 2, 3.3], dtype=int)\n",
    "a3.dtype"
   ]
  },
  {
   "cell_type": "code",
   "execution_count": 13,
   "id": "e0bd687b-0a89-48ff-846c-3e2a1a105b72",
   "metadata": {},
   "outputs": [
    {
     "data": {
      "text/plain": [
       "(3, 5)"
      ]
     },
     "execution_count": 13,
     "metadata": {},
     "output_type": "execute_result"
    }
   ],
   "source": [
    "a4 = np.array(\n",
    "    [[\"f\", \"l\", \"a\", \"k\", \"e\"], [\"s\", \"n\", \"a\", \"k\", \"e\"], [\"a\", \"w\", \"a\", \"k\", \"e\"]]\n",
    ")\n",
    "\n",
    "a4.shape"
   ]
  },
  {
   "cell_type": "code",
   "execution_count": 14,
   "id": "07df3075-00c6-4650-9c4e-fd7bce75082f",
   "metadata": {},
   "outputs": [
    {
     "data": {
      "text/plain": [
       "dtype('<U1')"
      ]
     },
     "execution_count": 14,
     "metadata": {},
     "output_type": "execute_result"
    }
   ],
   "source": [
    "a4.dtype"
   ]
  },
  {
   "cell_type": "markdown",
   "id": "e9bb656a-ebe1-4e44-b03c-860b61af308f",
   "metadata": {},
   "source": [
    "There are other useful ways to create arrays in NumPy other than from a Python list. For example, if we wanted to create an array with a sequence of numbers we could use the function arange() as follows"
   ]
  },
  {
   "cell_type": "code",
   "execution_count": 16,
   "id": "73c12ad1-6c8a-4162-8516-251dc8c92030",
   "metadata": {},
   "outputs": [
    {
     "data": {
      "text/plain": [
       "array([ 0,  1,  2,  3,  4,  5,  6,  7,  8,  9, 10, 11, 12, 13, 14])"
      ]
     },
     "execution_count": 16,
     "metadata": {},
     "output_type": "execute_result"
    }
   ],
   "source": [
    "np.arange(0, 15)"
   ]
  },
  {
   "cell_type": "code",
   "execution_count": 17,
   "id": "73fbdf5c-3491-4a96-aea2-02068b105126",
   "metadata": {},
   "outputs": [
    {
     "data": {
      "text/plain": [
       "array([ 0,  2,  4,  6,  8, 10, 12, 14])"
      ]
     },
     "execution_count": 17,
     "metadata": {},
     "output_type": "execute_result"
    }
   ],
   "source": [
    "np.arange(0, 15, 2)"
   ]
  },
  {
   "cell_type": "markdown",
   "id": "56fe9702-ff95-4ae2-9a4a-135f1c26e14d",
   "metadata": {},
   "source": [
    "Another alternative for creating a sequence of real numbers between a start and an endpoint is the function np.linspace(). The difference from np.arange() is that we specify the number of points we want as supposed to the point spacing. The points will be generated so that they are equally spaced. Here is an example:"
   ]
  },
  {
   "cell_type": "code",
   "execution_count": 18,
   "id": "16a06c29-6d28-4e4a-a4a1-e38b6c956668",
   "metadata": {},
   "outputs": [
    {
     "data": {
      "text/plain": [
       "array([  0.,  50., 100.])"
      ]
     },
     "execution_count": 18,
     "metadata": {},
     "output_type": "execute_result"
    }
   ],
   "source": [
    "np.linspace(0, 100, 3)"
   ]
  },
  {
   "cell_type": "code",
   "execution_count": 19,
   "id": "1f1835f3-905c-4d0f-9faa-abafa9947c1b",
   "metadata": {},
   "outputs": [
    {
     "data": {
      "text/plain": [
       "array([ 0.        , 33.33333333, 66.66666667])"
      ]
     },
     "execution_count": 19,
     "metadata": {},
     "output_type": "execute_result"
    }
   ],
   "source": [
    "np.linspace(0, 100, 3, endpoint=False)"
   ]
  },
  {
   "cell_type": "code",
   "execution_count": 22,
   "id": "c4faf329-d22b-42b7-b3d2-f54a58ab110e",
   "metadata": {},
   "outputs": [
    {
     "data": {
      "text/plain": [
       "array(['1', '2', '3'], dtype='<U11')"
      ]
     },
     "execution_count": 22,
     "metadata": {},
     "output_type": "execute_result"
    }
   ],
   "source": [
    "np.array([1,'2',3])\n"
   ]
  },
  {
   "cell_type": "markdown",
   "id": "dbae2393-1c51-4656-b8dd-074f863b9d63",
   "metadata": {},
   "source": [
    "## Basic Operations\n",
    "\n",
    ". We can change the shape of an array with various commands. In particular, we can use the reshape() function\n",
    "\n",
    ". We saw how with the arange() function, we can create an array and specify the range of numbers that it will contain.\n"
   ]
  },
  {
   "cell_type": "code",
   "execution_count": 23,
   "id": "a42a013c-a604-483f-8202-040578990c89",
   "metadata": {},
   "outputs": [
    {
     "data": {
      "text/plain": [
       "array([ 0,  1,  2,  3,  4,  5,  6,  7,  8,  9, 10, 11])"
      ]
     },
     "execution_count": 23,
     "metadata": {},
     "output_type": "execute_result"
    }
   ],
   "source": [
    "a = np.arange(12)\n",
    "a"
   ]
  },
  {
   "cell_type": "code",
   "execution_count": 24,
   "id": "9a38eeb4-fff8-4bf2-bae7-8254d5f02be4",
   "metadata": {},
   "outputs": [
    {
     "data": {
      "text/plain": [
       "array([[ 0,  1,  2],\n",
       "       [ 3,  4,  5],\n",
       "       [ 6,  7,  8],\n",
       "       [ 9, 10, 11]])"
      ]
     },
     "execution_count": 24,
     "metadata": {},
     "output_type": "execute_result"
    }
   ],
   "source": [
    "a.reshape(4, 3)"
   ]
  },
  {
   "cell_type": "markdown",
   "id": "e19f67ef-452e-4142-a5a2-3625d4f1fee4",
   "metadata": {},
   "source": [
    "Multi dimensionnal arry is possible : "
   ]
  },
  {
   "cell_type": "code",
   "execution_count": 25,
   "id": "e2eaf014-97ee-4a41-a066-5de467af7bd4",
   "metadata": {},
   "outputs": [
    {
     "data": {
      "text/plain": [
       "array([[[ 0,  1,  2],\n",
       "        [ 3,  4,  5]],\n",
       "\n",
       "       [[ 6,  7,  8],\n",
       "        [ 9, 10, 11]]])"
      ]
     },
     "execution_count": 25,
     "metadata": {},
     "output_type": "execute_result"
    }
   ],
   "source": [
    "a.reshape(2, 2, 3)"
   ]
  },
  {
   "cell_type": "markdown",
   "id": "bdf8b7c7-8bee-420b-92f5-1ce395aa772e",
   "metadata": {},
   "source": [
    "\n",
    "### Vectorized operations \n",
    ". + \n",
    "\n",
    ". * "
   ]
  },
  {
   "cell_type": "code",
   "execution_count": 29,
   "id": "63829562-e7e1-48e5-b208-baf122ea4932",
   "metadata": {},
   "outputs": [
    {
     "data": {
      "text/plain": [
       "array([[1, 2, 3],\n",
       "       [4, 5, 6]])"
      ]
     },
     "execution_count": 29,
     "metadata": {},
     "output_type": "execute_result"
    }
   ],
   "source": [
    "A = np.array([[1, 2, 3], [4, 5, 6]])\n",
    "B = np.array([[1, 1, 1], [2, 2, 2]])\n",
    "A"
   ]
  },
  {
   "cell_type": "code",
   "execution_count": 30,
   "id": "aa7cb94d-e117-4bd1-aa47-ab06d27e8fc1",
   "metadata": {},
   "outputs": [
    {
     "data": {
      "text/plain": [
       "array([[1, 1, 1],\n",
       "       [2, 2, 2]])"
      ]
     },
     "execution_count": 30,
     "metadata": {},
     "output_type": "execute_result"
    }
   ],
   "source": [
    "B"
   ]
  },
  {
   "cell_type": "code",
   "execution_count": 31,
   "id": "b032e77b-fcdf-482e-86b7-0999fa72d477",
   "metadata": {},
   "outputs": [
    {
     "data": {
      "text/plain": [
       "array([[ 1,  2,  3],\n",
       "       [ 8, 10, 12]])"
      ]
     },
     "execution_count": 31,
     "metadata": {},
     "output_type": "execute_result"
    }
   ],
   "source": [
    "A*B"
   ]
  },
  {
   "cell_type": "code",
   "execution_count": 33,
   "id": "c3d9d9b1-939a-4413-b3e7-303298d89654",
   "metadata": {
    "tags": []
   },
   "outputs": [
    {
     "data": {
      "text/plain": [
       "array([[2, 0],\n",
       "       [0, 4]])"
      ]
     },
     "execution_count": 33,
     "metadata": {},
     "output_type": "execute_result"
    }
   ],
   "source": [
    "A = np.array([[1, 1], [0, 1]])\n",
    "B = np.array([[2, 0], [3, 4]])\n",
    "A * B"
   ]
  },
  {
   "cell_type": "code",
   "execution_count": 34,
   "id": "ce5350df-6898-423a-9e78-a309e6db8144",
   "metadata": {},
   "outputs": [
    {
     "data": {
      "text/plain": [
       "array([[5, 4],\n",
       "       [3, 4]])"
      ]
     },
     "execution_count": 34,
     "metadata": {},
     "output_type": "execute_result"
    }
   ],
   "source": [
    "A.dot(B)"
   ]
  },
  {
   "cell_type": "markdown",
   "id": "b82a78c3-3e93-4f39-8e6c-de0fb894ed86",
   "metadata": {},
   "source": [
    "### Concatenating arrays\n"
   ]
  },
  {
   "cell_type": "code",
   "execution_count": 35,
   "id": "c8b8c413-8bee-4ddd-99f7-d237afbb1fbb",
   "metadata": {},
   "outputs": [
    {
     "data": {
      "text/plain": [
       "array([11, 22, 18,  7,  6,  1,  3,  5])"
      ]
     },
     "execution_count": 35,
     "metadata": {},
     "output_type": "execute_result"
    }
   ],
   "source": [
    "a = np.array([11, 22])\n",
    "b = np.array([18, 7, 6])\n",
    "c = np.array([1, 3, 5])\n",
    "d = np.concatenate((a, b, c))\n",
    "d"
   ]
  },
  {
   "cell_type": "code",
   "execution_count": 36,
   "id": "7c5767d4-14d4-4afb-9f48-687bc31f4de4",
   "metadata": {},
   "outputs": [],
   "source": [
    "a = np.array([[1, 2], [3, 4]])\n",
    "b = np.array([[5, 6], [7, 8]])"
   ]
  },
  {
   "cell_type": "code",
   "execution_count": 37,
   "id": "730470a9-86de-4cf0-9540-226dba8abd2b",
   "metadata": {},
   "outputs": [
    {
     "data": {
      "text/plain": [
       "array([[1, 2],\n",
       "       [3, 4],\n",
       "       [5, 6],\n",
       "       [7, 8]])"
      ]
     },
     "execution_count": 37,
     "metadata": {},
     "output_type": "execute_result"
    }
   ],
   "source": [
    "np.concatenate((a, b), axis=0)"
   ]
  },
  {
   "cell_type": "code",
   "execution_count": 39,
   "id": "b750ae39-06b3-40a6-99d3-ce74c7ee734f",
   "metadata": {},
   "outputs": [
    {
     "data": {
      "text/plain": [
       "array([[1, 2, 5, 6],\n",
       "       [3, 4, 7, 8]])"
      ]
     },
     "execution_count": 39,
     "metadata": {},
     "output_type": "execute_result"
    }
   ],
   "source": [
    "np.concatenate((a, b), axis=1)"
   ]
  },
  {
   "cell_type": "markdown",
   "id": "c4aaa300-9e75-44e1-91e0-da66333d8c61",
   "metadata": {},
   "source": [
    "## Indexing and slicing\n"
   ]
  },
  {
   "cell_type": "code",
   "execution_count": 40,
   "id": "21ff2830-285d-4588-914d-5a2b5c92e54e",
   "metadata": {},
   "outputs": [
    {
     "data": {
      "text/plain": [
       "array([[ 0,  1,  2],\n",
       "       [ 3,  4,  5],\n",
       "       [ 6,  7,  8],\n",
       "       [ 9, 10, 11]])"
      ]
     },
     "execution_count": 40,
     "metadata": {},
     "output_type": "execute_result"
    }
   ],
   "source": [
    "a = np.reshape(np.arange(12), (4, 3))\n",
    "a"
   ]
  },
  {
   "cell_type": "code",
   "execution_count": 41,
   "id": "f1557eae-e3e2-4fd3-87ff-bb8c9814315a",
   "metadata": {},
   "outputs": [
    {
     "data": {
      "text/plain": [
       "0"
      ]
     },
     "execution_count": 41,
     "metadata": {},
     "output_type": "execute_result"
    }
   ],
   "source": [
    "a[0, 0]"
   ]
  },
  {
   "cell_type": "code",
   "execution_count": 42,
   "id": "ef655ac1-80d8-45b8-9b51-947fc192911e",
   "metadata": {},
   "outputs": [
    {
     "data": {
      "text/plain": [
       "9"
      ]
     },
     "execution_count": 42,
     "metadata": {},
     "output_type": "execute_result"
    }
   ],
   "source": [
    "a[3, 0]"
   ]
  },
  {
   "cell_type": "code",
   "execution_count": 44,
   "id": "3afe5a9b-3826-4da7-8da0-695fb4a73cc5",
   "metadata": {},
   "outputs": [
    {
     "data": {
      "text/plain": [
       "2"
      ]
     },
     "execution_count": 44,
     "metadata": {},
     "output_type": "execute_result"
    }
   ],
   "source": [
    "a[0, 2]"
   ]
  },
  {
   "cell_type": "code",
   "execution_count": 45,
   "id": "cc93978b-e52c-4b8d-84d2-d7a3b6f1c723",
   "metadata": {},
   "outputs": [
    {
     "data": {
      "text/plain": [
       "array([3, 6])"
      ]
     },
     "execution_count": 45,
     "metadata": {},
     "output_type": "execute_result"
    }
   ],
   "source": [
    "a[1:3, 0]"
   ]
  },
  {
   "cell_type": "code",
   "execution_count": 46,
   "id": "784b9d22-e113-4cee-8713-d3ba122bfeb6",
   "metadata": {},
   "outputs": [
    {
     "data": {
      "text/plain": [
       "array([ 2,  5,  8, 11])"
      ]
     },
     "execution_count": 46,
     "metadata": {},
     "output_type": "execute_result"
    }
   ],
   "source": [
    "a[:, 2]"
   ]
  },
  {
   "cell_type": "markdown",
   "id": "7a347b9a-8676-43ee-a40a-a526f5f0f004",
   "metadata": {},
   "source": [
    "\n",
    "Slicing notation: the notation [i:j:k] selects the entries: i, i+k, i+2k, ...,  all the way until the last entry of this form that is smaller than j\n",
    "\n"
   ]
  },
  {
   "cell_type": "code",
   "execution_count": 47,
   "id": "00ca8d3a-0579-4b51-9a12-fc970477ea43",
   "metadata": {},
   "outputs": [
    {
     "data": {
      "text/plain": [
       "array([0, 6])"
      ]
     },
     "execution_count": 47,
     "metadata": {},
     "output_type": "execute_result"
    }
   ],
   "source": [
    "a[0:4:2, 0]"
   ]
  },
  {
   "cell_type": "markdown",
   "id": "46bee5d5-decf-48d7-a575-ab69462cfc49",
   "metadata": {},
   "source": [
    "### Views vs copies\n"
   ]
  },
  {
   "cell_type": "code",
   "execution_count": 119,
   "id": "2dcfc65c-28a0-4a03-ae0e-0f4d694ee40e",
   "metadata": {},
   "outputs": [
    {
     "data": {
      "text/plain": [
       "array([[ 5,  2,  3,  4,  5,  6],\n",
       "       [ 7,  8,  9, 10, 11, 12],\n",
       "       [13, 14, 15, 16, 17, 18],\n",
       "       [19, 20, 21, 22, 23, 24],\n",
       "       [25, 26, 27, 28, 29, 30],\n",
       "       [31, 32, 33, 34, 35, 36]])"
      ]
     },
     "execution_count": 119,
     "metadata": {},
     "output_type": "execute_result"
    }
   ],
   "source": [
    "a[0, 0] = 5\n",
    "a"
   ]
  },
  {
   "cell_type": "markdown",
   "id": "32b9ac16-815e-4d08-8d35-d423f913c5a0",
   "metadata": {},
   "source": [
    "### Exercises"
   ]
  },
  {
   "cell_type": "code",
   "execution_count": 49,
   "id": "588b5da8-5aea-448b-9ee8-e19e41f7c56e",
   "metadata": {},
   "outputs": [
    {
     "data": {
      "text/plain": [
       "200"
      ]
     },
     "execution_count": 49,
     "metadata": {},
     "output_type": "execute_result"
    }
   ],
   "source": [
    "a = np.array([1, 2, 3, 4, 5])\n",
    "b = a[1:4]\n",
    "b[0] = 200\n",
    "a[1]"
   ]
  },
  {
   "cell_type": "markdown",
   "id": "0fd3de35-2409-4c17-903d-87b15db5f6c5",
   "metadata": {},
   "source": [
    "## Exercise : slicing arrays\n",
    "\n",
    "1.Create a one-dimensional array with the numbers from 1 to 36 (included).\n"
   ]
  },
  {
   "cell_type": "code",
   "execution_count": 55,
   "id": "18efe6f9-be24-43e9-bbf2-efe87571b19b",
   "metadata": {},
   "outputs": [
    {
     "data": {
      "text/plain": [
       "array([ 1,  2,  3,  4,  5,  6,  7,  8,  9, 10, 11, 12, 13, 14, 15, 16, 17,\n",
       "       18, 19, 20, 21, 22, 23, 24, 25, 26, 27, 28, 29, 30, 31, 32, 33, 34,\n",
       "       35, 36])"
      ]
     },
     "execution_count": 55,
     "metadata": {},
     "output_type": "execute_result"
    }
   ],
   "source": [
    "a = np.arange(1,37)\n",
    "a"
   ]
  },
  {
   "cell_type": "markdown",
   "id": "cd1d898e-8d10-4bda-b1e6-ee0aed732c83",
   "metadata": {},
   "source": [
    "2.Use the reshape function to transform this into a two-dimensional array with 6 rows and 6 columns."
   ]
  },
  {
   "cell_type": "code",
   "execution_count": 57,
   "id": "b169d5e8-4925-446a-8778-3f9a0148ead3",
   "metadata": {},
   "outputs": [
    {
     "data": {
      "text/plain": [
       "array([[ 1,  2,  3,  4,  5,  6],\n",
       "       [ 7,  8,  9, 10, 11, 12],\n",
       "       [13, 14, 15, 16, 17, 18],\n",
       "       [19, 20, 21, 22, 23, 24],\n",
       "       [25, 26, 27, 28, 29, 30],\n",
       "       [31, 32, 33, 34, 35, 36]])"
      ]
     },
     "execution_count": 57,
     "metadata": {},
     "output_type": "execute_result"
    }
   ],
   "source": [
    "a = np.reshape(a, (6, 6))\n",
    "a"
   ]
  },
  {
   "cell_type": "markdown",
   "id": "20122de2-f4e4-40b8-ab87-3203a8293d83",
   "metadata": {},
   "source": [
    "3. Obtain a one-dimensional array of shape (6) containing the blue entries."
   ]
  },
  {
   "cell_type": "code",
   "execution_count": 70,
   "id": "0ac65586-7cd7-41bd-9845-42a5c86a6264",
   "metadata": {},
   "outputs": [
    {
     "data": {
      "text/plain": [
       "array([ 2,  8, 14, 20, 26, 32])"
      ]
     },
     "execution_count": 86,
     "metadata": {},
     "output_type": "execute_result"
    }
   ],
   "source": [
    "blue = a[:,1]\n",
    "blue"
   ]
  },
  {
   "cell_type": "code",
   "execution_count": 87,
   "id": "836871f4-db46-4174-b40e-db4ae8b3ea31",
   "metadata": {},
   "outputs": [
    {
     "data": {
      "text/plain": [
       "array([[ 2,  8, 14, 20, 26, 32]])"
      ]
     },
     "execution_count": 87,
     "metadata": {},
     "output_type": "execute_result"
    }
   ],
   "source": [
    "blue = np.reshape(blue,(1,6)) #useless for them shape (6) == (6,1)\n",
    "blue"
   ]
  },
  {
   "cell_type": "code",
   "execution_count": 88,
   "id": "4692482b-fb8e-4451-a5a6-d83a8511f515",
   "metadata": {},
   "outputs": [
    {
     "data": {
      "text/plain": [
       "(1, 6)"
      ]
     },
     "execution_count": 88,
     "metadata": {},
     "output_type": "execute_result"
    }
   ],
   "source": [
    "blue.shape"
   ]
  },
  {
   "cell_type": "markdown",
   "id": "f3ee46e9-b6b9-4ecf-a064-cff91bef9ee4",
   "metadata": {},
   "source": [
    "4. Obtain a two-dimensional array of shape (2,2) containing the yellow entries."
   ]
  },
  {
   "cell_type": "code",
   "execution_count": 75,
   "id": "7bb5cf17-480a-498e-a41d-5fbd97cd6135",
   "metadata": {},
   "outputs": [
    {
     "data": {
      "text/plain": [
       "array([[ 5,  6],\n",
       "       [11, 12]])"
      ]
     },
     "execution_count": 75,
     "metadata": {},
     "output_type": "execute_result"
    }
   ],
   "source": [
    "yellow = a[0:2, 4:6]\n",
    "yellow"
   ]
  },
  {
   "cell_type": "markdown",
   "id": "c1783dcb-8100-4325-bddc-86ee6d52d013",
   "metadata": {},
   "source": [
    "5. Obtain a one-dimensional array of shape (2) containing the red entries."
   ]
  },
  {
   "cell_type": "code",
   "execution_count": 91,
   "id": "ed6d32f0-d382-4dbb-a767-042964b7bef2",
   "metadata": {},
   "outputs": [
    {
     "data": {
      "text/plain": [
       "array([35, 36])"
      ]
     },
     "execution_count": 91,
     "metadata": {},
     "output_type": "execute_result"
    }
   ],
   "source": [
    "red = a[5,4:6] #a[5, 4:] work too\n",
    "red"
   ]
  },
  {
   "cell_type": "code",
   "execution_count": 96,
   "id": "25cc62bb-f3aa-4850-9dfe-d8203f621964",
   "metadata": {},
   "outputs": [
    {
     "data": {
      "text/plain": [
       "(1, 2)"
      ]
     },
     "execution_count": 96,
     "metadata": {},
     "output_type": "execute_result"
    }
   ],
   "source": [
    "red = np.reshape(red,(1,2))\n",
    "red.shape"
   ]
  },
  {
   "cell_type": "markdown",
   "id": "d3ccba81-7126-4573-b674-ab8db3314edb",
   "metadata": {},
   "source": [
    "6. Obtain a two-dimensional array of shape (2,3) containing the green entries\n"
   ]
  },
  {
   "cell_type": "code",
   "execution_count": 135,
   "id": "edfcf96a-0529-4fcf-a420-df914c5f5978",
   "metadata": {},
   "outputs": [
    {
     "data": {
      "text/plain": [
       "array([[13, 15, 17],\n",
       "       [25, 27, 29]])"
      ]
     },
     "execution_count": 135,
     "metadata": {},
     "output_type": "execute_result"
    }
   ],
   "source": [
    "a1 = np.reshape(a[2,(0,2,4)],(1,3))\n",
    "a2 = np.reshape(a[4,(0,2,4)],(1,3))\n",
    "green = np.concatenate((a1,a2), axis=0)\n",
    "green # Clever/optimize solution : a[2::2, ::2]\n"
   ]
  },
  {
   "cell_type": "markdown",
   "id": "e71d89b4-236d-489e-adce-7359b77b7f1b",
   "metadata": {},
   "source": [
    "## Boolean masking of arrays"
   ]
  },
  {
   "cell_type": "code",
   "execution_count": 138,
   "id": "fda264e2-6568-4bc9-b1f1-bb1f1a7a6dc0",
   "metadata": {},
   "outputs": [
    {
     "data": {
      "text/plain": [
       "array([[ 0,  1,  2],\n",
       "       [ 3,  4,  5],\n",
       "       [ 6,  7,  8],\n",
       "       [ 9, 10, 11]])"
      ]
     },
     "execution_count": 138,
     "metadata": {},
     "output_type": "execute_result"
    }
   ],
   "source": [
    "a = np.reshape(np.arange(12), (4, 3))\n",
    "a"
   ]
  },
  {
   "cell_type": "markdown",
   "id": "fac71ad5-89df-4bfa-872e-64f531999de4",
   "metadata": {},
   "source": [
    "We want all the value > 8 to zero"
   ]
  },
  {
   "cell_type": "code",
   "execution_count": 137,
   "id": "16ac1d72-827b-4370-b173-e2ac152ede9d",
   "metadata": {},
   "outputs": [
    {
     "data": {
      "text/plain": [
       "array([[False, False, False],\n",
       "       [False, False, False],\n",
       "       [False, False, False],\n",
       "       [ True,  True,  True]])"
      ]
     },
     "execution_count": 137,
     "metadata": {},
     "output_type": "execute_result"
    }
   ],
   "source": [
    "a>8"
   ]
  },
  {
   "cell_type": "code",
   "execution_count": 139,
   "id": "5973435f-72eb-45d7-8b94-5a83fbb29f53",
   "metadata": {},
   "outputs": [
    {
     "data": {
      "text/plain": [
       "array([[0, 1, 2],\n",
       "       [3, 4, 5],\n",
       "       [6, 7, 8],\n",
       "       [0, 0, 0]])"
      ]
     },
     "execution_count": 139,
     "metadata": {},
     "output_type": "execute_result"
    }
   ],
   "source": [
    "a[a > 8] = 0\n",
    "a"
   ]
  },
  {
   "cell_type": "markdown",
   "id": "4b7d65db-d530-4222-8f24-f13a7bb68ae0",
   "metadata": {},
   "source": [
    "## Broadcasting"
   ]
  },
  {
   "cell_type": "code",
   "execution_count": 141,
   "id": "044ee737-e9e3-424b-a70e-b3e757291fdc",
   "metadata": {},
   "outputs": [
    {
     "data": {
      "text/plain": [
       "array([10, 20, 30])"
      ]
     },
     "execution_count": 141,
     "metadata": {},
     "output_type": "execute_result"
    }
   ],
   "source": [
    "a = np.array([1, 2, 3])\n",
    "a * 10"
   ]
  },
  {
   "cell_type": "code",
   "execution_count": 143,
   "id": "7cefc324-5ee9-402c-b4be-6a1e55b9aaf0",
   "metadata": {},
   "outputs": [
    {
     "data": {
      "text/plain": [
       "array([[11, 21, 31],\n",
       "       [12, 22, 32],\n",
       "       [13, 23, 33],\n",
       "       [14, 24, 34]])"
      ]
     },
     "execution_count": 143,
     "metadata": {},
     "output_type": "execute_result"
    }
   ],
   "source": [
    "a = np.array([[1], [2], [3], [4]])\n",
    "b = np.array([10, 20, 30])\n",
    "a+b"
   ]
  },
  {
   "cell_type": "code",
   "execution_count": 144,
   "id": "5a4e2867-130d-4af9-ac2a-230fc374b92d",
   "metadata": {},
   "outputs": [
    {
     "ename": "ValueError",
     "evalue": "operands could not be broadcast together with shapes (2,3) (3,2) ",
     "output_type": "error",
     "traceback": [
      "\u001b[1;31m---------------------------------------------------------------------------\u001b[0m",
      "\u001b[1;31mValueError\u001b[0m                                Traceback (most recent call last)",
      "\u001b[1;32m~\\AppData\\Local\\Temp\\ipykernel_4256\\1212999484.py\u001b[0m in \u001b[0;36m<module>\u001b[1;34m\u001b[0m\n\u001b[1;32m----> 1\u001b[1;33m \u001b[0mnp\u001b[0m\u001b[1;33m.\u001b[0m\u001b[0marray\u001b[0m\u001b[1;33m(\u001b[0m\u001b[1;33m[\u001b[0m\u001b[1;33m[\u001b[0m\u001b[1;36m1\u001b[0m\u001b[1;33m,\u001b[0m\u001b[1;36m2\u001b[0m\u001b[1;33m,\u001b[0m\u001b[1;36m3\u001b[0m\u001b[1;33m]\u001b[0m\u001b[1;33m,\u001b[0m\u001b[1;33m[\u001b[0m\u001b[1;36m4\u001b[0m\u001b[1;33m,\u001b[0m\u001b[1;36m5\u001b[0m\u001b[1;33m,\u001b[0m\u001b[1;36m6\u001b[0m\u001b[1;33m]\u001b[0m\u001b[1;33m]\u001b[0m\u001b[1;33m)\u001b[0m \u001b[1;33m+\u001b[0m \u001b[0mnp\u001b[0m\u001b[1;33m.\u001b[0m\u001b[0marray\u001b[0m\u001b[1;33m(\u001b[0m\u001b[1;33m[\u001b[0m\u001b[1;33m[\u001b[0m\u001b[1;36m1\u001b[0m\u001b[1;33m,\u001b[0m\u001b[1;36m2\u001b[0m\u001b[1;33m]\u001b[0m\u001b[1;33m,\u001b[0m\u001b[1;33m[\u001b[0m\u001b[1;36m8\u001b[0m\u001b[1;33m,\u001b[0m\u001b[1;36m10\u001b[0m\u001b[1;33m]\u001b[0m\u001b[1;33m,\u001b[0m\u001b[1;33m[\u001b[0m\u001b[1;36m3\u001b[0m\u001b[1;33m,\u001b[0m\u001b[1;36m12\u001b[0m\u001b[1;33m]\u001b[0m\u001b[1;33m]\u001b[0m\u001b[1;33m)\u001b[0m\u001b[1;33m\u001b[0m\u001b[1;33m\u001b[0m\u001b[0m\n\u001b[0m",
      "\u001b[1;31mValueError\u001b[0m: operands could not be broadcast together with shapes (2,3) (3,2) "
     ]
    }
   ],
   "source": [
    "np.array([[1,2,3],[4,5,6]]) + np.array([[1,2],[8,10],[3,12]]) "
   ]
  },
  {
   "cell_type": "markdown",
   "id": "d0d269d1-1f87-426c-a3e0-687de249d2bf",
   "metadata": {},
   "source": [
    "Rule : \n",
    "\n",
    "1. Take the tuples giving the shape of each array.\n",
    "2. If one of the tuples is shorter (because the array has fewer axes) then pad it with 1’s from the front until it has the same size as the longer tuple.\n",
    "3. Now compare the tuples element by element and check whether at each position either (i) the entries are equal, or (ii) one of the entries is 1. If this is true for each position, then broadcasting can occur. Otherwise, broadcasting cannot occur."
   ]
  },
  {
   "cell_type": "code",
   "execution_count": 145,
   "id": "6152daf4-d806-4a4c-98e0-7fc9a90772f7",
   "metadata": {},
   "outputs": [
    {
     "data": {
      "text/plain": [
       "(4, 1)"
      ]
     },
     "execution_count": 145,
     "metadata": {},
     "output_type": "execute_result"
    }
   ],
   "source": [
    "a = np.array([[1], [2], [3], [4]])\n",
    "b = np.array([10, 20, 30])\n",
    "a.shape"
   ]
  },
  {
   "cell_type": "code",
   "execution_count": 147,
   "id": "1a14b435-903f-4ffb-b79b-22917d28d068",
   "metadata": {},
   "outputs": [
    {
     "data": {
      "text/plain": [
       "(3,)"
      ]
     },
     "execution_count": 147,
     "metadata": {},
     "output_type": "execute_result"
    }
   ],
   "source": [
    "b.shape"
   ]
  },
  {
   "cell_type": "code",
   "execution_count": 149,
   "id": "dd89d962-5bd3-4b3a-92f6-5468b724a56d",
   "metadata": {},
   "outputs": [
    {
     "ename": "ValueError",
     "evalue": "operands could not be broadcast together with shapes (2,3) (3,2) ",
     "output_type": "error",
     "traceback": [
      "\u001b[1;31m---------------------------------------------------------------------------\u001b[0m",
      "\u001b[1;31mValueError\u001b[0m                                Traceback (most recent call last)",
      "\u001b[1;32m~\\AppData\\Local\\Temp\\ipykernel_4256\\3553919051.py\u001b[0m in \u001b[0;36m<module>\u001b[1;34m\u001b[0m\n\u001b[1;32m----> 1\u001b[1;33m \u001b[0ma\u001b[0m\u001b[1;33m+\u001b[0m\u001b[0mb\u001b[0m\u001b[1;33m\u001b[0m\u001b[1;33m\u001b[0m\u001b[0m\n\u001b[0m",
      "\u001b[1;31mValueError\u001b[0m: operands could not be broadcast together with shapes (2,3) (3,2) "
     ]
    }
   ],
   "source": [
    "a+b"
   ]
  },
  {
   "cell_type": "code",
   "execution_count": 150,
   "id": "037822d5-2931-4912-88cc-e60ffc9d735a",
   "metadata": {},
   "outputs": [
    {
     "data": {
      "text/plain": [
       "(2, 3)"
      ]
     },
     "execution_count": 150,
     "metadata": {},
     "output_type": "execute_result"
    }
   ],
   "source": [
    "a = np.array([[1,2,3],[4,5,6]]) \n",
    "b = np.array([[1,2],[8,10],[3,12]]) \n",
    "a.shape"
   ]
  },
  {
   "cell_type": "code",
   "execution_count": 151,
   "id": "ae8da3cf-23a8-466a-90d0-1e32bd08c87e",
   "metadata": {},
   "outputs": [
    {
     "data": {
      "text/plain": [
       "(3, 2)"
      ]
     },
     "execution_count": 151,
     "metadata": {},
     "output_type": "execute_result"
    }
   ],
   "source": [
    "b.shape"
   ]
  },
  {
   "cell_type": "code",
   "execution_count": 154,
   "id": "f0ff64c8-1291-45d0-90c0-2295a42f6901",
   "metadata": {},
   "outputs": [
    {
     "ename": "ValueError",
     "evalue": "operands could not be broadcast together with shapes (2,3) (3,2) ",
     "output_type": "error",
     "traceback": [
      "\u001b[1;31m---------------------------------------------------------------------------\u001b[0m",
      "\u001b[1;31mValueError\u001b[0m                                Traceback (most recent call last)",
      "\u001b[1;32m~\\AppData\\Local\\Temp\\ipykernel_4256\\3507077656.py\u001b[0m in \u001b[0;36m<module>\u001b[1;34m\u001b[0m\n\u001b[1;32m----> 1\u001b[1;33m \u001b[0ma\u001b[0m\u001b[1;33m*\u001b[0m\u001b[0mb\u001b[0m\u001b[1;33m\u001b[0m\u001b[1;33m\u001b[0m\u001b[0m\n\u001b[0m",
      "\u001b[1;31mValueError\u001b[0m: operands could not be broadcast together with shapes (2,3) (3,2) "
     ]
    }
   ],
   "source": [
    "a+b"
   ]
  },
  {
   "cell_type": "code",
   "execution_count": 153,
   "id": "2228e1c2-e03a-439b-8dbc-319ebddc897c",
   "metadata": {},
   "outputs": [
    {
     "ename": "ValueError",
     "evalue": "operands could not be broadcast together with shapes (3,2) (2,3) ",
     "output_type": "error",
     "traceback": [
      "\u001b[1;31m---------------------------------------------------------------------------\u001b[0m",
      "\u001b[1;31mValueError\u001b[0m                                Traceback (most recent call last)",
      "\u001b[1;32m~\\AppData\\Local\\Temp\\ipykernel_4256\\2088952701.py\u001b[0m in \u001b[0;36m<module>\u001b[1;34m\u001b[0m\n\u001b[1;32m----> 1\u001b[1;33m \u001b[0mb\u001b[0m\u001b[1;33m+\u001b[0m\u001b[0ma\u001b[0m\u001b[1;33m\u001b[0m\u001b[1;33m\u001b[0m\u001b[0m\n\u001b[0m",
      "\u001b[1;31mValueError\u001b[0m: operands could not be broadcast together with shapes (3,2) (2,3) "
     ]
    }
   ],
   "source": []
  },
  {
   "cell_type": "code",
   "execution_count": null,
   "id": "ada52f54-0536-46f0-a800-2597788ec0f6",
   "metadata": {},
   "outputs": [],
   "source": []
  }
 ],
 "metadata": {
  "kernelspec": {
   "display_name": "Python [conda env:adsml] *",
   "language": "python",
   "name": "conda-env-adsml-py"
  },
  "language_info": {
   "codemirror_mode": {
    "name": "ipython",
    "version": 3
   },
   "file_extension": ".py",
   "mimetype": "text/x-python",
   "name": "python",
   "nbconvert_exporter": "python",
   "pygments_lexer": "ipython3",
   "version": "3.9.16"
  }
 },
 "nbformat": 4,
 "nbformat_minor": 5
}
